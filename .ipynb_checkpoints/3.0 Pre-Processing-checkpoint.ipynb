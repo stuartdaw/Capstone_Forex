{
 "cells": [
  {
   "cell_type": "markdown",
   "metadata": {},
   "source": [
    "# 3.0 Pre-Processing"
   ]
  },
  {
   "cell_type": "markdown",
   "metadata": {},
   "source": [
    "---"
   ]
  },
  {
   "cell_type": "markdown",
   "metadata": {},
   "source": [
    "# Contents\n",
    "\n",
    "- [1.0 Daily Data](#1.0-Daily-Data)\n",
    "    - [1.1 Load Data](#1.1-Load-Data)\n",
    "    - [1.2 Check Stationarity](#1.2-Check-Stationarity)\n",
    "    - [1.3 Auto Regression trends](#1.3-Auto-Regression-trends)\n",
    "        - [1.3.1 ACF](#1.3.1-ACF)\n",
    "        - [1.3.2 PACF](#1.3.2-PACF)\n",
    "    - [1.4 Check Seasonality](#1.4-Check-Seasonality)"
   ]
  },
  {
   "cell_type": "code",
   "execution_count": 1,
   "metadata": {},
   "outputs": [],
   "source": [
    "import pandas as pd\n",
    "import numpy as np\n",
    "import seaborn as sns\n",
    "import matplotlib.pyplot as plt\n",
    "%matplotlib inline\n",
    "import datetime\n",
    "import calendar\n",
    "\n",
    "from statsmodels.tsa.stattools import adfuller\n",
    "import statsmodels.api as sm  \n",
    "from statsmodels.tsa.stattools import acf, pacf\n",
    "from statsmodels.graphics.tsaplots import plot_acf, plot_pacf\n",
    "from statsmodels.tsa.seasonal import seasonal_decompose\n",
    "from pandas.plotting import lag_plot\n",
    "\n",
    "import plotly.graph_objects as go\n"
   ]
  },
  {
   "cell_type": "code",
   "execution_count": 2,
   "metadata": {},
   "outputs": [],
   "source": [
    "pd.set_option('display.max_columns', None)"
   ]
  },
  {
   "cell_type": "markdown",
   "metadata": {},
   "source": [
    "---"
   ]
  },
  {
   "cell_type": "markdown",
   "metadata": {},
   "source": [
    "# 1.0 Daily Data"
   ]
  },
  {
   "cell_type": "markdown",
   "metadata": {},
   "source": [
    "---"
   ]
  },
  {
   "cell_type": "markdown",
   "metadata": {},
   "source": [
    "## 1.1 Load Data"
   ]
  },
  {
   "cell_type": "code",
   "execution_count": 3,
   "metadata": {},
   "outputs": [],
   "source": [
    "daily_test = pd.read_csv('/Users/stuartdaw/Documents/Capstone_data/data/targets/daily_all.csv', \n",
    "                      index_col='date', parse_dates=True)"
   ]
  },
  {
   "cell_type": "code",
   "execution_count": 4,
   "metadata": {},
   "outputs": [
    {
     "data": {
      "text/plain": [
       "(4998, 33)"
      ]
     },
     "execution_count": 4,
     "metadata": {},
     "output_type": "execute_result"
    }
   ],
   "source": [
    "daily_test.shape"
   ]
  },
  {
   "cell_type": "code",
   "execution_count": 5,
   "metadata": {},
   "outputs": [
    {
     "data": {
      "text/html": [
       "<div>\n",
       "<style scoped>\n",
       "    .dataframe tbody tr th:only-of-type {\n",
       "        vertical-align: middle;\n",
       "    }\n",
       "\n",
       "    .dataframe tbody tr th {\n",
       "        vertical-align: top;\n",
       "    }\n",
       "\n",
       "    .dataframe thead th {\n",
       "        text-align: right;\n",
       "    }\n",
       "</style>\n",
       "<table border=\"1\" class=\"dataframe\">\n",
       "  <thead>\n",
       "    <tr style=\"text-align: right;\">\n",
       "      <th></th>\n",
       "      <th>open</th>\n",
       "      <th>high</th>\n",
       "      <th>low</th>\n",
       "      <th>close</th>\n",
       "      <th>marubozu</th>\n",
       "      <th>marubozu+1</th>\n",
       "      <th>marubozu-1</th>\n",
       "      <th>marubozu-2</th>\n",
       "      <th>height</th>\n",
       "      <th>av_3_height</th>\n",
       "      <th>wk_mv_av</th>\n",
       "      <th>mnth_mv_av</th>\n",
       "      <th>qtr_mv_av</th>\n",
       "      <th>day-1_open</th>\n",
       "      <th>day-2_open</th>\n",
       "      <th>day-3_open</th>\n",
       "      <th>day-1_high</th>\n",
       "      <th>day-2_high</th>\n",
       "      <th>day-3_high</th>\n",
       "      <th>day-1_low</th>\n",
       "      <th>day-2_low</th>\n",
       "      <th>day-3_low</th>\n",
       "      <th>day-1_close</th>\n",
       "      <th>day-2_close</th>\n",
       "      <th>day-3_close</th>\n",
       "      <th>day+1_open</th>\n",
       "      <th>day+1_high</th>\n",
       "      <th>day+1_low</th>\n",
       "      <th>day+1_close</th>\n",
       "      <th>day+2_high</th>\n",
       "      <th>day+3_high</th>\n",
       "      <th>target</th>\n",
       "      <th>select</th>\n",
       "    </tr>\n",
       "    <tr>\n",
       "      <th>date</th>\n",
       "      <th></th>\n",
       "      <th></th>\n",
       "      <th></th>\n",
       "      <th></th>\n",
       "      <th></th>\n",
       "      <th></th>\n",
       "      <th></th>\n",
       "      <th></th>\n",
       "      <th></th>\n",
       "      <th></th>\n",
       "      <th></th>\n",
       "      <th></th>\n",
       "      <th></th>\n",
       "      <th></th>\n",
       "      <th></th>\n",
       "      <th></th>\n",
       "      <th></th>\n",
       "      <th></th>\n",
       "      <th></th>\n",
       "      <th></th>\n",
       "      <th></th>\n",
       "      <th></th>\n",
       "      <th></th>\n",
       "      <th></th>\n",
       "      <th></th>\n",
       "      <th></th>\n",
       "      <th></th>\n",
       "      <th></th>\n",
       "      <th></th>\n",
       "      <th></th>\n",
       "      <th></th>\n",
       "      <th></th>\n",
       "      <th></th>\n",
       "    </tr>\n",
       "  </thead>\n",
       "  <tbody>\n",
       "    <tr>\n",
       "      <th>2000-05-30</th>\n",
       "      <td>0.9302</td>\n",
       "      <td>0.9302</td>\n",
       "      <td>0.9302</td>\n",
       "      <td>0.9302</td>\n",
       "      <td>0</td>\n",
       "      <td>1.0</td>\n",
       "      <td>NaN</td>\n",
       "      <td>NaN</td>\n",
       "      <td>0.0000</td>\n",
       "      <td>NaN</td>\n",
       "      <td>NaN</td>\n",
       "      <td>NaN</td>\n",
       "      <td>NaN</td>\n",
       "      <td>NaN</td>\n",
       "      <td>NaN</td>\n",
       "      <td>NaN</td>\n",
       "      <td>NaN</td>\n",
       "      <td>NaN</td>\n",
       "      <td>NaN</td>\n",
       "      <td>NaN</td>\n",
       "      <td>NaN</td>\n",
       "      <td>NaN</td>\n",
       "      <td>NaN</td>\n",
       "      <td>NaN</td>\n",
       "      <td>NaN</td>\n",
       "      <td>0.9315</td>\n",
       "      <td>0.9382</td>\n",
       "      <td>0.9151</td>\n",
       "      <td>0.9377</td>\n",
       "      <td>0.9380</td>\n",
       "      <td>0.9498</td>\n",
       "      <td>0.9498</td>\n",
       "      <td>0</td>\n",
       "    </tr>\n",
       "    <tr>\n",
       "      <th>2000-05-31</th>\n",
       "      <td>0.9315</td>\n",
       "      <td>0.9382</td>\n",
       "      <td>0.9151</td>\n",
       "      <td>0.9377</td>\n",
       "      <td>1</td>\n",
       "      <td>-1.0</td>\n",
       "      <td>0.0</td>\n",
       "      <td>NaN</td>\n",
       "      <td>0.0062</td>\n",
       "      <td>NaN</td>\n",
       "      <td>NaN</td>\n",
       "      <td>NaN</td>\n",
       "      <td>NaN</td>\n",
       "      <td>0.9302</td>\n",
       "      <td>NaN</td>\n",
       "      <td>NaN</td>\n",
       "      <td>0.9302</td>\n",
       "      <td>NaN</td>\n",
       "      <td>NaN</td>\n",
       "      <td>0.9302</td>\n",
       "      <td>NaN</td>\n",
       "      <td>NaN</td>\n",
       "      <td>0.9302</td>\n",
       "      <td>NaN</td>\n",
       "      <td>NaN</td>\n",
       "      <td>0.9376</td>\n",
       "      <td>0.9380</td>\n",
       "      <td>0.9287</td>\n",
       "      <td>0.9315</td>\n",
       "      <td>0.9498</td>\n",
       "      <td>0.9490</td>\n",
       "      <td>0.9498</td>\n",
       "      <td>1</td>\n",
       "    </tr>\n",
       "    <tr>\n",
       "      <th>2000-06-01</th>\n",
       "      <td>0.9376</td>\n",
       "      <td>0.9380</td>\n",
       "      <td>0.9287</td>\n",
       "      <td>0.9315</td>\n",
       "      <td>-1</td>\n",
       "      <td>1.0</td>\n",
       "      <td>1.0</td>\n",
       "      <td>0.0</td>\n",
       "      <td>-0.0061</td>\n",
       "      <td>0.000033</td>\n",
       "      <td>NaN</td>\n",
       "      <td>NaN</td>\n",
       "      <td>NaN</td>\n",
       "      <td>0.9315</td>\n",
       "      <td>0.9302</td>\n",
       "      <td>NaN</td>\n",
       "      <td>0.9382</td>\n",
       "      <td>0.9302</td>\n",
       "      <td>NaN</td>\n",
       "      <td>0.9151</td>\n",
       "      <td>0.9302</td>\n",
       "      <td>NaN</td>\n",
       "      <td>0.9377</td>\n",
       "      <td>0.9302</td>\n",
       "      <td>NaN</td>\n",
       "      <td>0.9313</td>\n",
       "      <td>0.9498</td>\n",
       "      <td>0.9308</td>\n",
       "      <td>0.9440</td>\n",
       "      <td>0.9490</td>\n",
       "      <td>0.9603</td>\n",
       "      <td>0.9603</td>\n",
       "      <td>1</td>\n",
       "    </tr>\n",
       "    <tr>\n",
       "      <th>2000-06-02</th>\n",
       "      <td>0.9313</td>\n",
       "      <td>0.9498</td>\n",
       "      <td>0.9308</td>\n",
       "      <td>0.9440</td>\n",
       "      <td>1</td>\n",
       "      <td>0.0</td>\n",
       "      <td>-1.0</td>\n",
       "      <td>1.0</td>\n",
       "      <td>0.0127</td>\n",
       "      <td>0.004267</td>\n",
       "      <td>NaN</td>\n",
       "      <td>NaN</td>\n",
       "      <td>NaN</td>\n",
       "      <td>0.9376</td>\n",
       "      <td>0.9315</td>\n",
       "      <td>0.9302</td>\n",
       "      <td>0.9380</td>\n",
       "      <td>0.9382</td>\n",
       "      <td>0.9302</td>\n",
       "      <td>0.9287</td>\n",
       "      <td>0.9151</td>\n",
       "      <td>0.9302</td>\n",
       "      <td>0.9315</td>\n",
       "      <td>0.9377</td>\n",
       "      <td>0.9302</td>\n",
       "      <td>0.9444</td>\n",
       "      <td>0.9490</td>\n",
       "      <td>0.9416</td>\n",
       "      <td>0.9463</td>\n",
       "      <td>0.9603</td>\n",
       "      <td>0.9631</td>\n",
       "      <td>0.9631</td>\n",
       "      <td>0</td>\n",
       "    </tr>\n",
       "    <tr>\n",
       "      <th>2000-06-05</th>\n",
       "      <td>0.9444</td>\n",
       "      <td>0.9490</td>\n",
       "      <td>0.9416</td>\n",
       "      <td>0.9463</td>\n",
       "      <td>0</td>\n",
       "      <td>1.0</td>\n",
       "      <td>1.0</td>\n",
       "      <td>-1.0</td>\n",
       "      <td>0.0019</td>\n",
       "      <td>0.002833</td>\n",
       "      <td>NaN</td>\n",
       "      <td>NaN</td>\n",
       "      <td>NaN</td>\n",
       "      <td>0.9313</td>\n",
       "      <td>0.9376</td>\n",
       "      <td>0.9315</td>\n",
       "      <td>0.9498</td>\n",
       "      <td>0.9380</td>\n",
       "      <td>0.9382</td>\n",
       "      <td>0.9308</td>\n",
       "      <td>0.9287</td>\n",
       "      <td>0.9151</td>\n",
       "      <td>0.9440</td>\n",
       "      <td>0.9315</td>\n",
       "      <td>0.9377</td>\n",
       "      <td>0.9462</td>\n",
       "      <td>0.9603</td>\n",
       "      <td>0.9456</td>\n",
       "      <td>0.9535</td>\n",
       "      <td>0.9631</td>\n",
       "      <td>0.9704</td>\n",
       "      <td>0.9704</td>\n",
       "      <td>0</td>\n",
       "    </tr>\n",
       "  </tbody>\n",
       "</table>\n",
       "</div>"
      ],
      "text/plain": [
       "              open    high     low   close  marubozu  marubozu+1  marubozu-1  \\\n",
       "date                                                                           \n",
       "2000-05-30  0.9302  0.9302  0.9302  0.9302         0         1.0         NaN   \n",
       "2000-05-31  0.9315  0.9382  0.9151  0.9377         1        -1.0         0.0   \n",
       "2000-06-01  0.9376  0.9380  0.9287  0.9315        -1         1.0         1.0   \n",
       "2000-06-02  0.9313  0.9498  0.9308  0.9440         1         0.0        -1.0   \n",
       "2000-06-05  0.9444  0.9490  0.9416  0.9463         0         1.0         1.0   \n",
       "\n",
       "            marubozu-2  height  av_3_height  wk_mv_av  mnth_mv_av  qtr_mv_av  \\\n",
       "date                                                                           \n",
       "2000-05-30         NaN  0.0000          NaN       NaN         NaN        NaN   \n",
       "2000-05-31         NaN  0.0062          NaN       NaN         NaN        NaN   \n",
       "2000-06-01         0.0 -0.0061     0.000033       NaN         NaN        NaN   \n",
       "2000-06-02         1.0  0.0127     0.004267       NaN         NaN        NaN   \n",
       "2000-06-05        -1.0  0.0019     0.002833       NaN         NaN        NaN   \n",
       "\n",
       "            day-1_open  day-2_open  day-3_open  day-1_high  day-2_high  \\\n",
       "date                                                                     \n",
       "2000-05-30         NaN         NaN         NaN         NaN         NaN   \n",
       "2000-05-31      0.9302         NaN         NaN      0.9302         NaN   \n",
       "2000-06-01      0.9315      0.9302         NaN      0.9382      0.9302   \n",
       "2000-06-02      0.9376      0.9315      0.9302      0.9380      0.9382   \n",
       "2000-06-05      0.9313      0.9376      0.9315      0.9498      0.9380   \n",
       "\n",
       "            day-3_high  day-1_low  day-2_low  day-3_low  day-1_close  \\\n",
       "date                                                                   \n",
       "2000-05-30         NaN        NaN        NaN        NaN          NaN   \n",
       "2000-05-31         NaN     0.9302        NaN        NaN       0.9302   \n",
       "2000-06-01         NaN     0.9151     0.9302        NaN       0.9377   \n",
       "2000-06-02      0.9302     0.9287     0.9151     0.9302       0.9315   \n",
       "2000-06-05      0.9382     0.9308     0.9287     0.9151       0.9440   \n",
       "\n",
       "            day-2_close  day-3_close  day+1_open  day+1_high  day+1_low  \\\n",
       "date                                                                      \n",
       "2000-05-30          NaN          NaN      0.9315      0.9382     0.9151   \n",
       "2000-05-31          NaN          NaN      0.9376      0.9380     0.9287   \n",
       "2000-06-01       0.9302          NaN      0.9313      0.9498     0.9308   \n",
       "2000-06-02       0.9377       0.9302      0.9444      0.9490     0.9416   \n",
       "2000-06-05       0.9315       0.9377      0.9462      0.9603     0.9456   \n",
       "\n",
       "            day+1_close  day+2_high  day+3_high  target  select  \n",
       "date                                                             \n",
       "2000-05-30       0.9377      0.9380      0.9498  0.9498       0  \n",
       "2000-05-31       0.9315      0.9498      0.9490  0.9498       1  \n",
       "2000-06-01       0.9440      0.9490      0.9603  0.9603       1  \n",
       "2000-06-02       0.9463      0.9603      0.9631  0.9631       0  \n",
       "2000-06-05       0.9535      0.9631      0.9704  0.9704       0  "
      ]
     },
     "execution_count": 5,
     "metadata": {},
     "output_type": "execute_result"
    }
   ],
   "source": [
    "daily_test.head()"
   ]
  },
  {
   "cell_type": "code",
   "execution_count": 6,
   "metadata": {},
   "outputs": [
    {
     "data": {
      "image/png": "[encoded data removed]",
      "text/plain": [
       "<Figure size 1080x720 with 1 Axes>"
      ]
     },
     "metadata": {
      "needs_background": "light"
     },
     "output_type": "display_data"
    }
   ],
   "source": [
    "plt.figure(figsize=(15,10))\n",
    "daily_test['close'].plot()\n",
    "plt.axhline(y=daily_test['close'].mean());"
   ]
  },
  {
   "cell_type": "code",
   "execution_count": 7,
   "metadata": {},
   "outputs": [
    {
     "data": {
      "text/plain": [
       "open             0\n",
       "high             0\n",
       "low              0\n",
       "close            0\n",
       "marubozu         0\n",
       "marubozu+1       1\n",
       "marubozu-1       1\n",
       "marubozu-2       2\n",
       "height           0\n",
       "av_3_height      2\n",
       "wk_mv_av         6\n",
       "mnth_mv_av      29\n",
       "qtr_mv_av      119\n",
       "day-1_open       1\n",
       "day-2_open       2\n",
       "day-3_open       3\n",
       "day-1_high       1\n",
       "day-2_high       2\n",
       "day-3_high       3\n",
       "day-1_low        1\n",
       "day-2_low        2\n",
       "day-3_low        3\n",
       "day-1_close      1\n",
       "day-2_close      2\n",
       "day-3_close      3\n",
       "day+1_open       1\n",
       "day+1_high       1\n",
       "day+1_low        1\n",
       "day+1_close      1\n",
       "day+2_high       2\n",
       "day+3_high       3\n",
       "target           1\n",
       "select           0\n",
       "dtype: int64"
      ]
     },
     "execution_count": 7,
     "metadata": {},
     "output_type": "execute_result"
    }
   ],
   "source": [
    "daily_test.isnull().sum()"
   ]
  },
  {
   "cell_type": "code",
   "execution_count": 8,
   "metadata": {},
   "outputs": [],
   "source": [
    "# nulls because data not available for prior time frames"
   ]
  },
  {
   "cell_type": "code",
   "execution_count": 9,
   "metadata": {},
   "outputs": [],
   "source": [
    "# check if its seasonal"
   ]
  },
  {
   "cell_type": "code",
   "execution_count": null,
   "metadata": {},
   "outputs": [],
   "source": []
  },
  {
   "cell_type": "code",
   "execution_count": null,
   "metadata": {},
   "outputs": [],
   "source": []
  },
  {
   "cell_type": "markdown",
   "metadata": {},
   "source": [
    "# 1.2 Check Stationarity"
   ]
  },
  {
   "cell_type": "code",
   "execution_count": 10,
   "metadata": {},
   "outputs": [],
   "source": [
    "# Code written by Joseph Nelson.\n",
    "\n",
    "def interpret_dftest(dftest):\n",
    "    dfoutput = pd.Series(dftest[0:2], index=['Test Statistic','p-value'])\n",
    "    return dfoutput"
   ]
  },
  {
   "cell_type": "code",
   "execution_count": 11,
   "metadata": {},
   "outputs": [
    {
     "data": {
      "text/plain": [
       "Test Statistic   -2.081027\n",
       "p-value           0.252212\n",
       "dtype: float64"
      ]
     },
     "execution_count": 11,
     "metadata": {},
     "output_type": "execute_result"
    }
   ],
   "source": [
    "interpret_dftest(adfuller(daily_test['close']))"
   ]
  },
  {
   "cell_type": "markdown",
   "metadata": {},
   "source": [
    "### Observation\n",
    "\n",
    "+ P-value shows that it is not under our 0.05 threshold so we cant reject the null hypothesis that the data is not stationary.\n",
    "\n",
    "+ Therefore we need to difference"
   ]
  },
  {
   "cell_type": "code",
   "execution_count": 12,
   "metadata": {},
   "outputs": [
    {
     "name": "stdout",
     "output_type": "stream",
     "text": [
      "Check difference of 1.\n",
      "p-value = 0.0\n",
      "Need to difference the data by d=1 to have confirm its stationary\n"
     ]
    }
   ],
   "source": [
    "# Write a for loop to find the lowest difference value d, when it meets our criteria of belown \n",
    "# the 0.05 threshold we can reject out null hypothesis and the data can be considered stationary.\n",
    "\n",
    "# Iterate through all possible differences.\n",
    "for d in range(1, 10):\n",
    "    \n",
    "    # Keep track of the result of each difference\n",
    "    print(f'Check difference of {d}.')\n",
    "    print(f'p-value = {interpret_dftest(adfuller(daily_test[\"close\"].diff(d).dropna()))[\"p-value\"]}')\n",
    "          \n",
    "    # Print succesful \n",
    "    if interpret_dftest(adfuller(daily_test['close'].diff(d).dropna()))['p-value'] < 0.05:\n",
    "        print(f'Need to difference the data by d={d} to have confirm its stationary')\n",
    "        break\n",
    "    \n",
    "    print()"
   ]
  },
  {
   "cell_type": "markdown",
   "metadata": {},
   "source": [
    "### Obsevation\n",
    "+ Need to a difference of one to become a stationary dataset"
   ]
  },
  {
   "cell_type": "markdown",
   "metadata": {},
   "source": [
    "---"
   ]
  },
  {
   "cell_type": "markdown",
   "metadata": {},
   "source": [
    "## 1.3 Auto Regression trends"
   ]
  },
  {
   "cell_type": "markdown",
   "metadata": {},
   "source": [
    "### 1.3.1 ACF"
   ]
  },
  {
   "cell_type": "markdown",
   "metadata": {},
   "source": [
    "#### AR or Autoregression\n",
    "\n",
    "+ This is where we see how much correlation the data has with itself.\n",
    "+ The AR part of the model is used for looking at long term trends\n",
    "+ I'll look at the Autocorrelation plot to see look for any significant correlation"
   ]
  },
  {
   "cell_type": "code",
   "execution_count": 32,
   "metadata": {},
   "outputs": [
    {
     "data": {
      "image/png": "[encoded data removed]",
      "text/plain": [
       "<Figure size 648x360 with 1 Axes>"
      ]
     },
     "metadata": {
      "needs_background": "light"
     },
     "output_type": "display_data"
    }
   ],
   "source": [
    "# Set figure/axes.\n",
    "fig, ax = plt.subplots(figsize=(9,5))\n",
    "\n",
    "# Generate plot.\n",
    "plot_acf(daily_test[\"close\"], lags=30, ax=ax);"
   ]
  },
  {
   "cell_type": "code",
   "execution_count": 33,
   "metadata": {},
   "outputs": [
    {
     "data": {
      "image/png": "[encoded data removed]",
      "text/plain": [
       "<Figure size 648x360 with 1 Axes>"
      ]
     },
     "metadata": {
      "needs_background": "light"
     },
     "output_type": "display_data"
    }
   ],
   "source": [
    "# Set figure/axes.\n",
    "fig, ax = plt.subplots(figsize=(9,5))\n",
    "\n",
    "# Generate plot.\n",
    "plot_acf(daily_test[\"close\"], lags=730, ax=ax);"
   ]
  },
  {
   "cell_type": "markdown",
   "metadata": {},
   "source": [
    "#### Observation\n",
    "\n",
    "+ The data is highly correlated\n",
    "+ only after about 1 year does the data become uncorrelated."
   ]
  },
  {
   "cell_type": "markdown",
   "metadata": {},
   "source": [
    "---"
   ]
  },
  {
   "cell_type": "markdown",
   "metadata": {},
   "source": [
    "### 1.3.2 PACF"
   ]
  },
  {
   "cell_type": "markdown",
   "metadata": {},
   "source": [
    "#### Partial Autocorrelation Plot\n",
    "\n",
    "+ I'll look at the Partial Autocorrelation plot\n",
    "+ This takes into account the correlation already been accounted for in the previous time step"
   ]
  },
  {
   "cell_type": "code",
   "execution_count": 15,
   "metadata": {},
   "outputs": [
    {
     "data": {
      "image/png": "[encoded data removed]",
      "text/plain": [
       "<Figure size 648x360 with 1 Axes>"
      ]
     },
     "metadata": {
      "needs_background": "light"
     },
     "output_type": "display_data"
    }
   ],
   "source": [
    "# Set figure/axes.\n",
    "fig, ax = plt.subplots(figsize=(9,5))\n",
    "\n",
    "# Generate plot.\n",
    "plot_acf(daily_test[\"close\"].diff(1).dropna(), lags=365, ax=ax);"
   ]
  },
  {
   "cell_type": "code",
   "execution_count": 34,
   "metadata": {},
   "outputs": [
    {
     "data": {
      "image/png": "[encoded data removed]",
      "text/plain": [
       "<Figure size 1152x1152 with 1 Axes>"
      ]
     },
     "metadata": {
      "needs_background": "light"
     },
     "output_type": "display_data"
    }
   ],
   "source": [
    "# 1 day  Autocorr and Partial Autocorr\n",
    "fig = plt.figure(figsize=(16,16))\n",
    "# ax1 = fig.add_subplot(211)\n",
    "# fig = plot_acf(daily_test['close'], lags=120, ax=ax1)\n",
    "ax2 = fig.add_subplot(212)\n",
    "fig = plot_pacf(daily_test['close'], lags=120, ax=ax2);\n"
   ]
  },
  {
   "cell_type": "markdown",
   "metadata": {},
   "source": [
    "#### Observation\n",
    "\n",
    "+ I would choose to have p as 1 in my model as there is sharp drop off and lag -1 has a positive value"
   ]
  },
  {
   "cell_type": "markdown",
   "metadata": {},
   "source": [
    "---"
   ]
  },
  {
   "cell_type": "markdown",
   "metadata": {},
   "source": [
    "---"
   ]
  },
  {
   "cell_type": "markdown",
   "metadata": {},
   "source": [
    "## 1.4 Check Seasonality"
   ]
  },
  {
   "cell_type": "code",
   "execution_count": null,
   "metadata": {},
   "outputs": [],
   "source": []
  },
  {
   "cell_type": "code",
   "execution_count": 16,
   "metadata": {},
   "outputs": [
    {
     "name": "stdout",
     "output_type": "stream",
     "text": [
      "Autocorrelation between day price and 1-lag close proce: 0.9989\n",
      "Autocorrelation between day price and 14-lag close price: 0.9847\n",
      "Autocorrelation between day price and 30-lag close price: 0.9657\n",
      "Autocorrelation between day price and 120-lag close price: 0.8524\n"
     ]
    }
   ],
   "source": [
    "print(f'Autocorrelation between day price and 1-lag close proce: {round(daily_test[\"close\"].autocorr(lag=1),4)}')\n",
    "print(f'Autocorrelation between day price and 14-lag close price: {round(daily_test[\"close\"].autocorr(lag=14),4)}')\n",
    "print(f'Autocorrelation between day price and 30-lag close price: {round(daily_test[\"close\"].autocorr(lag=30),4)}')\n",
    "print(f'Autocorrelation between day price and 120-lag close price: {round(daily_test[\"close\"].autocorr(lag=120),4)}')"
   ]
  },
  {
   "cell_type": "code",
   "execution_count": 35,
   "metadata": {},
   "outputs": [
    {
     "ename": "NameError",
     "evalue": "name 'daily' is not defined",
     "output_type": "error",
     "traceback": [
      "\u001b[0;31m---------------------------------------------------------------------------\u001b[0m",
      "\u001b[0;31mNameError\u001b[0m                                 Traceback (most recent call last)",
      "\u001b[0;32m<ipython-input-35-71790b53e47f>\u001b[0m in \u001b[0;36m<module>\u001b[0;34m\u001b[0m\n\u001b[0;32m----> 1\u001b[0;31m \u001b[0mdecomposition\u001b[0m \u001b[0;34m=\u001b[0m \u001b[0mseasonal_decompose\u001b[0m\u001b[0;34m(\u001b[0m\u001b[0mdaily\u001b[0m\u001b[0;34m.\u001b[0m\u001b[0mclose\u001b[0m\u001b[0;34m,\u001b[0m \u001b[0mperiod\u001b[0m\u001b[0;34m=\u001b[0m\u001b[0;36m365\u001b[0m\u001b[0;34m)\u001b[0m\u001b[0;34m\u001b[0m\u001b[0;34m\u001b[0m\u001b[0m\n\u001b[0m\u001b[1;32m      2\u001b[0m \u001b[0mdecomposition\u001b[0m\u001b[0;34m.\u001b[0m\u001b[0mplot\u001b[0m\u001b[0;34m(\u001b[0m\u001b[0;34m)\u001b[0m\u001b[0;34m;\u001b[0m\u001b[0;34m\u001b[0m\u001b[0;34m\u001b[0m\u001b[0m\n",
      "\u001b[0;31mNameError\u001b[0m: name 'daily' is not defined"
     ]
    }
   ],
   "source": [
    "decomposition = seasonal_decompose(daily.close, period=365)  \n",
    "decomposition.plot();"
   ]
  },
  {
   "cell_type": "markdown",
   "metadata": {},
   "source": [
    "---"
   ]
  },
  {
   "cell_type": "markdown",
   "metadata": {},
   "source": [
    "---"
   ]
  },
  {
   "cell_type": "markdown",
   "metadata": {},
   "source": [
    "---"
   ]
  },
  {
   "cell_type": "markdown",
   "metadata": {},
   "source": [
    "---"
   ]
  },
  {
   "cell_type": "markdown",
   "metadata": {},
   "source": [
    "---"
   ]
  },
  {
   "cell_type": "markdown",
   "metadata": {},
   "source": [
    "---"
   ]
  },
  {
   "cell_type": "markdown",
   "metadata": {},
   "source": [
    "---"
   ]
  },
  {
   "cell_type": "markdown",
   "metadata": {},
   "source": [
    "---"
   ]
  },
  {
   "cell_type": "markdown",
   "metadata": {},
   "source": [
    "---"
   ]
  }
 ],
 "metadata": {
  "kernelspec": {
   "display_name": "Python 3",
   "language": "python",
   "name": "python3"
  },
  "language_info": {
   "codemirror_mode": {
    "name": "ipython",
    "version": 3
   },
   "file_extension": ".py",
   "mimetype": "text/x-python",
   "name": "python",
   "nbconvert_exporter": "python",
   "pygments_lexer": "ipython3",
   "version": "3.7.6"
  }
 },
 "nbformat": 4,
 "nbformat_minor": 4
}
