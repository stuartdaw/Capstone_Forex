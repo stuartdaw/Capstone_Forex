{
 "cells": [
  {
   "cell_type": "markdown",
   "metadata": {},
   "source": [
    "# Modelling"
   ]
  },
  {
   "cell_type": "markdown",
   "metadata": {},
   "source": [
    "---"
   ]
  },
  {
   "cell_type": "markdown",
   "metadata": {},
   "source": [
    "# Contents\n",
    "\n",
    "- [1.0 Arima Model](#1.0-ARIMA-Model)\n",
    "- [2.0 Daily Data](#2.0-Daily-Data)\n",
    "    - [1.1 Load Data](#2.1-Load-Data)\n",
    "    - [1.2 Train Test Split](#2.2-Train-Test-Split)"
   ]
  },
  {
   "cell_type": "code",
   "execution_count": 1,
   "metadata": {},
   "outputs": [],
   "source": [
    "# !pip install pmdarima"
   ]
  },
  {
   "cell_type": "code",
   "execution_count": 2,
   "metadata": {},
   "outputs": [],
   "source": [
    "import pandas as pd\n",
    "import numpy as np\n",
    "import seaborn as sns\n",
    "import matplotlib.pyplot as plt\n",
    "%matplotlib inline\n",
    "import datetime\n",
    "import calendar\n",
    "\n",
    "from statsmodels.tsa.stattools import adfuller\n",
    "from statsmodels.tsa.seasonal import seasonal_decompose\n",
    "from statsmodels.tsa.statespace.sarimax import SARIMAX\n",
    "from statsmodels.tsa.arima_model import ARIMA, ARMA, ARMAResults, ARIMAResults\n",
    "from statsmodels.graphics.tsaplots import plot_acf, plot_pacf\n",
    "from sklearn.metrics import r2_score, mean_squared_error\n",
    "from pmdarima import auto_arima\n",
    "import plotly.graph_objects as go\n",
    "import warnings\n",
    "warnings.filterwarnings(\"ignore\")\n",
    "\n",
    "\n",
    "from sklearn.metrics import mean_squared_error\n",
    "from statsmodels.tools.eval_measures import rmse\n"
   ]
  },
  {
   "cell_type": "code",
   "execution_count": 3,
   "metadata": {},
   "outputs": [],
   "source": [
    "pd.set_option('display.max_columns', None)"
   ]
  },
  {
   "cell_type": "markdown",
   "metadata": {},
   "source": [
    "---"
   ]
  },
  {
   "cell_type": "markdown",
   "metadata": {},
   "source": [
    "# 1.0 ARIMA Model"
   ]
  },
  {
   "cell_type": "markdown",
   "metadata": {},
   "source": [
    "The Arima model has 3 components:\n",
    "\n",
    "+ Differencing Step - I - Integrated - Check for stationarity\n",
    "+ Autoregressive Piece - AR - long term trends\n",
    "+ Moving Average Piece - MA - Modelling sudden fluctuations\n",
    "\n",
    "Each part has input into the model P,D,Q. I will use the previous Dickey Fuller \n",
    "\n",
    "+ D is the order of differencing we found using the Augmented Dickey-Fuller test.\n",
    "+ P is the number of autoregressive terms in our model. PACF is used to estimate this.\n",
    "+ Q is to do with looking at the moving average.\n",
    "    + If PACF has a sharp cut off and lag-1 for the ACF is negative choose q to be the lag in the ACF before cut off.\n",
    "    + If PACF does not have a sharp cut off or lag -1 ACF is not negative choose q = 0"
   ]
  },
  {
   "cell_type": "markdown",
   "metadata": {},
   "source": [
    "Therefore based on the charts before I will use:\n",
    "    \n",
    "    + p = 1\n",
    "    + d = 1\n",
    "    + q = 0\n",
    "    \n",
    "However I will use auto_arima to help decide."
   ]
  },
  {
   "cell_type": "markdown",
   "metadata": {},
   "source": [
    "---"
   ]
  },
  {
   "cell_type": "code",
   "execution_count": 4,
   "metadata": {},
   "outputs": [],
   "source": [
    "results = {'algo':'','name':'','date':'', 'time_frame':'','success':0,'RMSE':0, 'MSE':0, 'classification':'' }"
   ]
  },
  {
   "cell_type": "markdown",
   "metadata": {},
   "source": [
    "##### 1.1 Load Data"
   ]
  },
  {
   "cell_type": "code",
   "execution_count": 5,
   "metadata": {},
   "outputs": [],
   "source": [
    "daily = pd.read_csv('/Users/stuartdaw/Documents/Capstone_data/data/resampled/daily.csv', \n",
    "                    index_col='date', parse_dates=True)"
   ]
  },
  {
   "cell_type": "code",
   "execution_count": 6,
   "metadata": {},
   "outputs": [
    {
     "data": {
      "text/plain": [
       "DatetimeIndex(['2000-11-13', '2000-11-14', '2000-11-15', '2000-11-16',\n",
       "               '2000-11-17', '2000-11-20', '2000-11-21', '2000-11-22',\n",
       "               '2000-11-23', '2000-11-24',\n",
       "               ...\n",
       "               '2019-12-11', '2019-12-12', '2019-12-13', '2019-12-16',\n",
       "               '2019-12-17', '2019-12-18', '2019-12-19', '2019-12-20',\n",
       "               '2019-12-23', '2019-12-24'],\n",
       "              dtype='datetime64[ns]', name='date', length=4921, freq=None)"
      ]
     },
     "execution_count": 6,
     "metadata": {},
     "output_type": "execute_result"
    }
   ],
   "source": [
    "daily.index"
   ]
  },
  {
   "cell_type": "code",
   "execution_count": 7,
   "metadata": {},
   "outputs": [
    {
     "data": {
      "text/plain": [
       "Index(['open', 'high', 'low', 'close', 'gold_usd', 'gold_euro', 'marubozu',\n",
       "       'marubozu+1', 'marubozu-1', 'marubozu-2', 'height', 'av_3_height',\n",
       "       'wk_mv_av', 'mnth_mv_av', 'qtr_mv_av', 'vol', 'day-1_open',\n",
       "       'day-2_open', 'day-3_open', 'day-1_high', 'day-2_high', 'day-3_high',\n",
       "       'day-1_low', 'day-2_low', 'day-3_low', 'day-1_close', 'day-2_close',\n",
       "       'day-3_close', 'day+1_open', 'day+1_high', 'day+1_low', 'day+1_close',\n",
       "       'day+2_high', 'day+3_high', 'day+4_high', 'day+5_high', 'date+5',\n",
       "       'target', 'double_height', 'select'],\n",
       "      dtype='object')"
      ]
     },
     "execution_count": 7,
     "metadata": {},
     "output_type": "execute_result"
    }
   ],
   "source": [
    "daily.columns"
   ]
  },
  {
   "cell_type": "code",
   "execution_count": 8,
   "metadata": {},
   "outputs": [],
   "source": [
    "#daily = daily.resample('B').agg({'open':'first','high':'max','low':'min', 'close':'last'})\n"
   ]
  },
  {
   "cell_type": "code",
   "execution_count": 9,
   "metadata": {},
   "outputs": [
    {
     "data": {
      "text/plain": [
       "DatetimeIndex(['2000-11-13', '2000-11-14', '2000-11-15', '2000-11-16',\n",
       "               '2000-11-17', '2000-11-20', '2000-11-21', '2000-11-22',\n",
       "               '2000-11-23', '2000-11-24',\n",
       "               ...\n",
       "               '2019-12-11', '2019-12-12', '2019-12-13', '2019-12-16',\n",
       "               '2019-12-17', '2019-12-18', '2019-12-19', '2019-12-20',\n",
       "               '2019-12-23', '2019-12-24'],\n",
       "              dtype='datetime64[ns]', name='date', length=4921, freq=None)"
      ]
     },
     "execution_count": 9,
     "metadata": {},
     "output_type": "execute_result"
    }
   ],
   "source": [
    "daily.index"
   ]
  },
  {
   "cell_type": "code",
   "execution_count": 10,
   "metadata": {},
   "outputs": [],
   "source": [
    "daily['date+5'] = pd.to_datetime(daily['date+5'])"
   ]
  },
  {
   "cell_type": "code",
   "execution_count": 11,
   "metadata": {},
   "outputs": [
    {
     "data": {
      "text/plain": [
       "Timestamp('2000-11-21 00:00:00')"
      ]
     },
     "execution_count": 11,
     "metadata": {},
     "output_type": "execute_result"
    }
   ],
   "source": [
    "daily.loc[daily.index[1],'date+5']"
   ]
  },
  {
   "cell_type": "code",
   "execution_count": 12,
   "metadata": {},
   "outputs": [
    {
     "data": {
      "text/plain": [
       "pandas._libs.tslibs.timestamps.Timestamp"
      ]
     },
     "execution_count": 12,
     "metadata": {},
     "output_type": "execute_result"
    }
   ],
   "source": [
    "type(daily['date+5'][0])"
   ]
  },
  {
   "cell_type": "code",
   "execution_count": null,
   "metadata": {},
   "outputs": [],
   "source": []
  },
  {
   "cell_type": "code",
   "execution_count": 13,
   "metadata": {},
   "outputs": [],
   "source": [
    "### Get correct hyper parameters"
   ]
  },
  {
   "cell_type": "code",
   "execution_count": 14,
   "metadata": {},
   "outputs": [
    {
     "data": {
      "text/html": [
       "<table class=\"simpletable\">\n",
       "<caption>SARIMAX Results</caption>\n",
       "<tr>\n",
       "  <th>Dep. Variable:</th>           <td>y</td>        <th>  No. Observations:  </th>    <td>4921</td>   \n",
       "</tr>\n",
       "<tr>\n",
       "  <th>Model:</th>           <td>SARIMAX(0, 1, 0)</td> <th>  Log Likelihood     </th>  <td>17044.750</td>\n",
       "</tr>\n",
       "<tr>\n",
       "  <th>Date:</th>            <td>Thu, 30 Jul 2020</td> <th>  AIC                </th> <td>-34087.501</td>\n",
       "</tr>\n",
       "<tr>\n",
       "  <th>Time:</th>                <td>18:50:49</td>     <th>  BIC                </th> <td>-34080.999</td>\n",
       "</tr>\n",
       "<tr>\n",
       "  <th>Sample:</th>                  <td>0</td>        <th>  HQIC               </th> <td>-34085.220</td>\n",
       "</tr>\n",
       "<tr>\n",
       "  <th></th>                      <td> - 4921</td>     <th>                     </th>      <td> </td>    \n",
       "</tr>\n",
       "<tr>\n",
       "  <th>Covariance Type:</th>        <td>opg</td>       <th>                     </th>      <td> </td>    \n",
       "</tr>\n",
       "</table>\n",
       "<table class=\"simpletable\">\n",
       "<tr>\n",
       "     <td></td>       <th>coef</th>     <th>std err</th>      <th>z</th>      <th>P>|z|</th>  <th>[0.025</th>    <th>0.975]</th>  \n",
       "</tr>\n",
       "<tr>\n",
       "  <th>sigma2</th> <td> 5.732e-05</td> <td> 7.53e-07</td> <td>   76.145</td> <td> 0.000</td> <td> 5.58e-05</td> <td> 5.88e-05</td>\n",
       "</tr>\n",
       "</table>\n",
       "<table class=\"simpletable\">\n",
       "<tr>\n",
       "  <th>Ljung-Box (Q):</th>          <td>30.36</td> <th>  Jarque-Bera (JB):  </th> <td>1507.98</td>\n",
       "</tr>\n",
       "<tr>\n",
       "  <th>Prob(Q):</th>                <td>0.86</td>  <th>  Prob(JB):          </th>  <td>0.00</td>  \n",
       "</tr>\n",
       "<tr>\n",
       "  <th>Heteroskedasticity (H):</th> <td>0.69</td>  <th>  Skew:              </th>  <td>0.00</td>  \n",
       "</tr>\n",
       "<tr>\n",
       "  <th>Prob(H) (two-sided):</th>    <td>0.00</td>  <th>  Kurtosis:          </th>  <td>5.71</td>  \n",
       "</tr>\n",
       "</table><br/><br/>Warnings:<br/>[1] Covariance matrix calculated using the outer product of gradients (complex-step)."
      ],
      "text/plain": [
       "<class 'statsmodels.iolib.summary.Summary'>\n",
       "\"\"\"\n",
       "                               SARIMAX Results                                \n",
       "==============================================================================\n",
       "Dep. Variable:                      y   No. Observations:                 4921\n",
       "Model:               SARIMAX(0, 1, 0)   Log Likelihood               17044.750\n",
       "Date:                Thu, 30 Jul 2020   AIC                         -34087.501\n",
       "Time:                        18:50:49   BIC                         -34080.999\n",
       "Sample:                             0   HQIC                        -34085.220\n",
       "                               - 4921                                         \n",
       "Covariance Type:                  opg                                         \n",
       "==============================================================================\n",
       "                 coef    std err          z      P>|z|      [0.025      0.975]\n",
       "------------------------------------------------------------------------------\n",
       "sigma2      5.732e-05   7.53e-07     76.145      0.000    5.58e-05    5.88e-05\n",
       "===================================================================================\n",
       "Ljung-Box (Q):                       30.36   Jarque-Bera (JB):              1507.98\n",
       "Prob(Q):                              0.86   Prob(JB):                         0.00\n",
       "Heteroskedasticity (H):               0.69   Skew:                             0.00\n",
       "Prob(H) (two-sided):                  0.00   Kurtosis:                         5.71\n",
       "===================================================================================\n",
       "\n",
       "Warnings:\n",
       "[1] Covariance matrix calculated using the outer product of gradients (complex-step).\n",
       "\"\"\""
      ]
     },
     "execution_count": 14,
     "metadata": {},
     "output_type": "execute_result"
    }
   ],
   "source": [
    "## Arima\n",
    "auto_arima(daily['close'].dropna(), seasonal=False).summary()"
   ]
  },
  {
   "cell_type": "markdown",
   "metadata": {},
   "source": [
    "---"
   ]
  },
  {
   "cell_type": "markdown",
   "metadata": {},
   "source": [
    "## 1.1 Get patterns"
   ]
  },
  {
   "cell_type": "code",
   "execution_count": 15,
   "metadata": {},
   "outputs": [],
   "source": [
    "daily_pattern = pd.read_csv('/Users/stuartdaw/Documents/Capstone_data/data/targets/daily_pattern.csv', \n",
    "                           parse_dates=True)"
   ]
  },
  {
   "cell_type": "code",
   "execution_count": 16,
   "metadata": {},
   "outputs": [],
   "source": [
    "daily_pattern['pattern_end'] = pd.to_datetime(daily_pattern['pattern_end'])"
   ]
  },
  {
   "cell_type": "code",
   "execution_count": 17,
   "metadata": {},
   "outputs": [
    {
     "data": {
      "text/plain": [
       "pattern_end   2001-04-04\n",
       "Name: 1, dtype: datetime64[ns]"
      ]
     },
     "execution_count": 17,
     "metadata": {},
     "output_type": "execute_result"
    }
   ],
   "source": [
    "daily_pattern.loc[1]"
   ]
  },
  {
   "cell_type": "code",
   "execution_count": 18,
   "metadata": {
    "scrolled": false
   },
   "outputs": [
    {
     "data": {
      "text/plain": [
       "62"
      ]
     },
     "execution_count": 18,
     "metadata": {},
     "output_type": "execute_result"
    }
   ],
   "source": [
    "len(daily_pattern)"
   ]
  },
  {
   "cell_type": "markdown",
   "metadata": {},
   "source": [
    "---"
   ]
  },
  {
   "cell_type": "code",
   "execution_count": 19,
   "metadata": {},
   "outputs": [],
   "source": [
    "def create_train_test_split(date, time_series, model_info):\n",
    "    test_end_date = time_series.loc[date,'date+5']\n",
    "    \n",
    "    train_test = time_series.loc[time_series.index <= test_end_date]\n",
    "  \n",
    "    target_value = time_series.loc[time_series.index == date,'double_height'].item()\n",
    "    \n",
    "    train_test.insert(0, 'target_price', target_value)\n",
    "    \n",
    "    model_info['signal'] = time_series.loc[date,'marubozu']\n",
    "    \n",
    "    train_test.insert(0, 'signal', model_info['signal'])\n",
    "    \n",
    "    model_info['start'] = len(train_test)-5\n",
    "    model_info['end'] = len(train_test)-1\n",
    "    \n",
    "    model_info['train'] = train_test.iloc[:model_info['start']]\n",
    "    model_info['test'] = train_test.iloc[model_info['start']:]\n",
    "\n",
    "    return model_info"
   ]
  },
  {
   "cell_type": "code",
   "execution_count": 28,
   "metadata": {},
   "outputs": [],
   "source": [
    "def train_arima(model_info, p=0, d=1, q=0):\n",
    "#     exog=model_info['train']['wk_mv_av']\n",
    "    \n",
    "    exog = np.column_stack([model_info['train']['mnth_mv_av'], \n",
    "                            model_info['train']['wk_mv_av'],\n",
    "                            model_info['train']['vol'],\n",
    "                            model_info['train']['gold_euro'],\n",
    "                            model_info['train']['gold_usd']])\n",
    "    \n",
    "    if model_info['signal'] == -1:\n",
    "        model = ARIMA(model_info['train']['low'], exog=exog, order=(p,d,q))\n",
    "    else:\n",
    "        model = ARIMA(model_info['train']['high'], exog=exog, order=(p,d,q))\n",
    "\n",
    "    results = model.fit()\n",
    "    predictions = results.predict(start=model_info['start'], \n",
    "                                  end=model_info['end'], exog=exog,\n",
    "                                  dynamic=True, \n",
    "                                  typ='levels').rename('ARIMA-0-1-0 Predictions')\n",
    "    \n",
    "    return results, predictions"
   ]
  },
  {
   "cell_type": "code",
   "execution_count": 29,
   "metadata": {},
   "outputs": [],
   "source": [
    "def meet_threshold(row):\n",
    "    if row['signal'] == -1 and row['low'] <= row['target_price']:\n",
    "        return -1\n",
    "    elif row['signal'] == 1 and row['high'] >= row['target_price']:\n",
    "#         print(f\"row high: {row['high']} >= row dbl height: {row['target_price']}\" )\n",
    "        return 1    \n",
    "    else:\n",
    "        return 0"
   ]
  },
  {
   "cell_type": "code",
   "execution_count": 30,
   "metadata": {},
   "outputs": [],
   "source": [
    "def ml_decision(row):\n",
    "    if row['direction'] == -1 and row['preds'] <= row['target_price']:\n",
    "        return -1\n",
    "    elif row['direction'] == 1 and row['preds'] >= row['target_price']:\n",
    "        print(f\"preds: {row['preds']} >= row target: {row['target_price']}\" )\n",
    "        return 1    \n",
    "    else:\n",
    "        return 0"
   ]
  },
  {
   "cell_type": "code",
   "execution_count": 31,
   "metadata": {},
   "outputs": [],
   "source": [
    "def create_results_outcomes_dataframe(test, predictions):    \n",
    "    outcomes = pd.DataFrame()\n",
    "    outcomes['low'] = test['low']\n",
    "    outcomes['high'] = test['high']\n",
    "    outcomes['preds'] = predictions.values\n",
    "    outcomes['target_price'] = test['target_price']\n",
    "    outcomes['direction'] = test['signal']\n",
    "    outcomes['correct_call'] = test.apply(meet_threshold, axis=1)\n",
    "\n",
    "    return outcomes"
   ]
  },
  {
   "cell_type": "code",
   "execution_count": 32,
   "metadata": {},
   "outputs": [],
   "source": [
    "def print_chart(outcomes):\n",
    "    if model_info['signal'] == -1:\n",
    "        outcomes['low'].plot(legend=False, figsize=(12,8))\n",
    "    else:\n",
    "        outcomes['high'].plot(legend=False, figsize=(12,8))\n",
    "\n",
    "    outcomes['preds'].plot(legend=False);\n",
    "    outcomes['target_price'].plot(legend=False);"
   ]
  },
  {
   "cell_type": "code",
   "execution_count": 33,
   "metadata": {},
   "outputs": [],
   "source": [
    "def get_results(model_info):\n",
    "        \n",
    "    if model_info['signal'] == -1:\n",
    "        mse = mean_squared_error(model_info['test']['low'], predictions)\n",
    "        rmse_res = rmse(model_info['test']['low'], predictions)\n",
    "    else:\n",
    "        mse = mean_squared_error(model_info['test']['high'], predictions)\n",
    "        rmse_res = rmse(model_info['test']['high'], predictions)       \n",
    "    \n",
    "    return rmse_res, mse"
   ]
  },
  {
   "cell_type": "code",
   "execution_count": 34,
   "metadata": {},
   "outputs": [],
   "source": [
    "def classify(outcomes):\n",
    "    \n",
    "    if max(outcomes['direction']) == 1:\n",
    "        \n",
    "        if max(outcomes['correct_call']) == 0 and max(outcomes['ml_correct_call']) == 0:\n",
    "            return 'tn'\n",
    "        elif max(outcomes['correct_call']) == 1 and max(outcomes['ml_correct_call']) == 1:\n",
    "            return 'tp'\n",
    "        elif max(outcomes['correct_call']) == 0 and max(outcomes['ml_correct_call']) == 1:\n",
    "            return 'fp'\n",
    "        elif max(outcomes['correct_call']) == 1 and max(outcomes['ml_correct_call']) == 0:\n",
    "            return 'fn'\n",
    "        \n",
    "    elif max(outcomes['direction']) == -1:\n",
    "        \n",
    "        if min(outcomes['correct_call']) == 0 and min(outcomes['ml_correct_call']) == 0:\n",
    "            return 'tn'\n",
    "        elif min(outcomes['correct_call']) == -1 and min(outcomes['ml_correct_call']) == -1:\n",
    "            return 'tp'\n",
    "        elif min(outcomes['correct_call']) == 0 and min(outcomes['ml_correct_call']) == -1:\n",
    "            return 'fp'\n",
    "        elif min(outcomes['correct_call']) == -1 and min(outcomes['ml_correct_call']) == 0:\n",
    "            return 'fn'\n",
    "        \n",
    "    else:\n",
    "        return 'ERROR'\n",
    "    "
   ]
  },
  {
   "cell_type": "code",
   "execution_count": 35,
   "metadata": {
    "scrolled": false
   },
   "outputs": [
    {
     "name": "stdout",
     "output_type": "stream",
     "text": [
      "preds: 1.2788030649057065 >= row target: 1.2782\n",
      "preds: 1.3868732662961174 >= row target: 1.3856000000000002\n",
      "preds: 1.3877758054986098 >= row target: 1.3856000000000002\n",
      "preds: 1.3887601283907973 >= row target: 1.3856000000000002\n",
      "preds: 1.4800363559627816 >= row target: 1.4794000000000005\n",
      "preds: 1.4811923004351535 >= row target: 1.4794000000000005\n",
      "preds: 1.4307549250460312 >= row target: 1.4304\n",
      "preds: 1.43239300115302 >= row target: 1.4304\n",
      "preds: 1.4340548757205738 >= row target: 1.4304\n",
      "preds: 1.442156101505846 >= row target: 1.4421\n",
      "preds: 1.4437905539221134 >= row target: 1.4421\n",
      "preds: 1.4454485587616355 >= row target: 1.4421\n",
      "preds: 1.4438188351949854 >= row target: 1.4425\n",
      "preds: 1.445321700463376 >= row target: 1.4425\n",
      "preds: 1.3768960328153144 >= row target: 1.3764999999999998\n",
      "preds: 1.241150091389951 >= row target: 1.2373\n",
      "preds: 1.2426754765149177 >= row target: 1.2373\n",
      "preds: 1.2442587533421177 >= row target: 1.2373\n",
      "preds: 1.2456695058671763 >= row target: 1.2373\n",
      "preds: 1.2470885262014817 >= row target: 1.2373\n",
      "preds: 1.4063786088807744 >= row target: 1.4051000000000002\n",
      "preds: 1.4075969357843847 >= row target: 1.4064\n",
      "preds: 1.4474150078720218 >= row target: 1.4466\n",
      "preds: 1.4490487345253908 >= row target: 1.4466\n",
      "preds: 1.450704088952869 >= row target: 1.4466\n",
      "preds: 1.2866422605270325 >= row target: 1.28657\n",
      "preds: 1.2184692508341322 >= row target: 1.2184399999999995\n",
      "preds: 1.220217323757264 >= row target: 1.2184399999999995\n",
      "preds: 1.2219896313937986 >= row target: 1.2184399999999995\n",
      "preds: 1.2236384632523554 >= row target: 1.2184399999999995\n",
      "preds: 1.2253186178593367 >= row target: 1.2184399999999995\n",
      "preds: 1.3007276069587879 >= row target: 1.29926\n",
      "preds: 1.3024417873280925 >= row target: 1.29926\n",
      "preds: 1.3041897188124385 >= row target: 1.29926\n",
      "preds: 1.3344553731719957 >= row target: 1.3331100000000002\n",
      "preds: 1.3361618775407977 >= row target: 1.3331100000000002\n",
      "preds: 1.3378997150597043 >= row target: 1.3331100000000002\n",
      "preds: 1.0909500365498848 >= row target: 1.0897599999999996\n",
      "preds: 1.1387006956940307 >= row target: 1.1382499999999998\n",
      "preds: 1.140395759512872 >= row target: 1.1382499999999998\n",
      "preds: 1.1421122439976699 >= row target: 1.1382499999999998\n"
     ]
    }
   ],
   "source": [
    "count = 0\n",
    "\n",
    "model_info = {\"train\":None,\"test\":None,\"start\":None,\"end\":None,\"signal\":None}\n",
    "arima_results = []\n",
    "\n",
    "for match in daily_pattern['pattern_end']:\n",
    "    \n",
    "    results_dict = {'name':None,'pattern':None,'date':None,\n",
    "                   'time_frame':None,'RMSE':None,\n",
    "                   'MSE':None, 'classification':None}\n",
    "    \n",
    "    results_dict['name'] = 'arima-0-1-0' + str(match)\n",
    "    results_dict['strategy'] = 'Maribozu'\n",
    "    results_dict['time_frame'] = 'daily'\n",
    "    \n",
    "#     if count <= 10:\n",
    "#         count+=1\n",
    "    model_info = create_train_test_split(match, daily, model_info)\n",
    "\n",
    "    if len(model_info['train']) < 10:\n",
    "        continue\n",
    "\n",
    "#     print(f\"len wk_av: {len(model_info['train']['wk_mv_av'])}, shape: {model_info['train']['wk_mv_av'].shape}\")   \n",
    "#     print(f\"len low: {len(model_info['train']['low'])}, shape: {model_info['train']['low'].shape}\")   \n",
    "\n",
    "    results, predictions = train_arima(model_info)\n",
    "\n",
    "    outcomes = create_results_outcomes_dataframe(model_info['test'], predictions)\n",
    "    outcomes['ml_correct_call'] = outcomes.apply(ml_decision, axis=1)\n",
    "\n",
    "#     print(outcomes.head())\n",
    "#     print_chart(outcomes)\n",
    "\n",
    "    results_dict['RMSE'], results_dict['MSE'] = get_results(model_info)\n",
    "    results_dict['classification'] = classify(outcomes)\n",
    "\n",
    "    arima_results.append(results_dict)\n",
    "\n"
   ]
  },
  {
   "cell_type": "code",
   "execution_count": 36,
   "metadata": {},
   "outputs": [
    {
     "data": {
      "text/plain": [
       "[{'name': 'arima-0-1-02001-02-08 00:00:00',\n",
       "  'pattern': None,\n",
       "  'date': None,\n",
       "  'time_frame': 'daily',\n",
       "  'RMSE': 0.006971616737024272,\n",
       "  'MSE': 4.860343992795697e-05,\n",
       "  'classification': 'fn',\n",
       "  'strategy': 'Maribozu'},\n",
       " {'name': 'arima-0-1-02001-04-04 00:00:00',\n",
       "  'pattern': None,\n",
       "  'date': None,\n",
       "  'time_frame': 'daily',\n",
       "  'RMSE': 0.006432884953439646,\n",
       "  'MSE': 4.138200882419019e-05,\n",
       "  'classification': 'tn',\n",
       "  'strategy': 'Maribozu'},\n",
       " {'name': 'arima-0-1-02001-04-09 00:00:00',\n",
       "  'pattern': None,\n",
       "  'date': None,\n",
       "  'time_frame': 'daily',\n",
       "  'RMSE': 0.007587544746477939,\n",
       "  'MSE': 5.757083527980498e-05,\n",
       "  'classification': 'tp',\n",
       "  'strategy': 'Maribozu'},\n",
       " {'name': 'arima-0-1-02001-08-20 00:00:00',\n",
       "  'pattern': None,\n",
       "  'date': None,\n",
       "  'time_frame': 'daily',\n",
       "  'RMSE': 0.0031454077646916375,\n",
       "  'MSE': 9.893590006182445e-06,\n",
       "  'classification': 'fp',\n",
       "  'strategy': 'Maribozu'},\n",
       " {'name': 'arima-0-1-02002-02-20 00:00:00',\n",
       "  'pattern': None,\n",
       "  'date': None,\n",
       "  'time_frame': 'daily',\n",
       "  'RMSE': 0.0019132379508665605,\n",
       "  'MSE': 3.6604794566360755e-06,\n",
       "  'classification': 'tp',\n",
       "  'strategy': 'Maribozu'},\n",
       " {'name': 'arima-0-1-02002-11-11 00:00:00',\n",
       "  'pattern': None,\n",
       "  'date': None,\n",
       "  'time_frame': 'daily',\n",
       "  'RMSE': 0.00400875401736795,\n",
       "  'MSE': 1.6070108771763678e-05,\n",
       "  'classification': 'fn',\n",
       "  'strategy': 'Maribozu'},\n",
       " {'name': 'arima-0-1-02003-08-11 00:00:00',\n",
       "  'pattern': None,\n",
       "  'date': None,\n",
       "  'time_frame': 'daily',\n",
       "  'RMSE': 0.009330476331047078,\n",
       "  'MSE': 8.705778856422973e-05,\n",
       "  'classification': 'tn',\n",
       "  'strategy': 'Maribozu'},\n",
       " {'name': 'arima-0-1-02004-01-28 00:00:00',\n",
       "  'pattern': None,\n",
       "  'date': None,\n",
       "  'time_frame': 'daily',\n",
       "  'RMSE': 0.006133705637714016,\n",
       "  'MSE': 3.7622344850124707e-05,\n",
       "  'classification': 'tn',\n",
       "  'strategy': 'Maribozu'},\n",
       " {'name': 'arima-0-1-02004-03-01 00:00:00',\n",
       "  'pattern': None,\n",
       "  'date': None,\n",
       "  'time_frame': 'daily',\n",
       "  'RMSE': 0.028035439802848904,\n",
       "  'MSE': 0.0007859858849391646,\n",
       "  'classification': 'fn',\n",
       "  'strategy': 'Maribozu'},\n",
       " {'name': 'arima-0-1-02004-11-19 00:00:00',\n",
       "  'pattern': None,\n",
       "  'date': None,\n",
       "  'time_frame': 'daily',\n",
       "  'RMSE': 0.014403613992905063,\n",
       "  'MSE': 0.0002074640960566105,\n",
       "  'classification': 'fn',\n",
       "  'strategy': 'Maribozu'},\n",
       " {'name': 'arima-0-1-02005-01-13 00:00:00',\n",
       "  'pattern': None,\n",
       "  'date': None,\n",
       "  'time_frame': 'daily',\n",
       "  'RMSE': 0.014969617945635965,\n",
       "  'MSE': 0.00022408946143830634,\n",
       "  'classification': 'fn',\n",
       "  'strategy': 'Maribozu'},\n",
       " {'name': 'arima-0-1-02005-06-24 00:00:00',\n",
       "  'pattern': None,\n",
       "  'date': None,\n",
       "  'time_frame': 'daily',\n",
       "  'RMSE': 0.011009299837057332,\n",
       "  'MSE': 0.00012120468290223059,\n",
       "  'classification': 'tn',\n",
       "  'strategy': 'Maribozu'},\n",
       " {'name': 'arima-0-1-02005-11-14 00:00:00',\n",
       "  'pattern': None,\n",
       "  'date': None,\n",
       "  'time_frame': 'daily',\n",
       "  'RMSE': 0.004131556284074533,\n",
       "  'MSE': 1.7069757328475758e-05,\n",
       "  'classification': 'tn',\n",
       "  'strategy': 'Maribozu'},\n",
       " {'name': 'arima-0-1-02006-03-24 00:00:00',\n",
       "  'pattern': None,\n",
       "  'date': None,\n",
       "  'time_frame': 'daily',\n",
       "  'RMSE': 0.0040362493832915795,\n",
       "  'MSE': 1.6291309084121653e-05,\n",
       "  'classification': 'fn',\n",
       "  'strategy': 'Maribozu'},\n",
       " {'name': 'arima-0-1-02006-03-31 00:00:00',\n",
       "  'pattern': None,\n",
       "  'date': None,\n",
       "  'time_frame': 'daily',\n",
       "  'RMSE': 0.0073417174460197335,\n",
       "  'MSE': 5.390081505719052e-05,\n",
       "  'classification': 'tn',\n",
       "  'strategy': 'Maribozu'},\n",
       " {'name': 'arima-0-1-02006-04-12 00:00:00',\n",
       "  'pattern': None,\n",
       "  'date': None,\n",
       "  'time_frame': 'daily',\n",
       "  'RMSE': 0.009111277753545262,\n",
       "  'MSE': 8.301538230224878e-05,\n",
       "  'classification': 'tn',\n",
       "  'strategy': 'Maribozu'},\n",
       " {'name': 'arima-0-1-02006-08-02 00:00:00',\n",
       "  'pattern': None,\n",
       "  'date': None,\n",
       "  'time_frame': 'daily',\n",
       "  'RMSE': 0.0017205643659911048,\n",
       "  'MSE': 2.9603417375183727e-06,\n",
       "  'classification': 'tn',\n",
       "  'strategy': 'Maribozu'},\n",
       " {'name': 'arima-0-1-02006-09-18 00:00:00',\n",
       "  'pattern': None,\n",
       "  'date': None,\n",
       "  'time_frame': 'daily',\n",
       "  'RMSE': 0.003321954030717912,\n",
       "  'MSE': 1.1035378582202983e-05,\n",
       "  'classification': 'tp',\n",
       "  'strategy': 'Maribozu'},\n",
       " {'name': 'arima-0-1-02007-03-22 00:00:00',\n",
       "  'pattern': None,\n",
       "  'date': None,\n",
       "  'time_frame': 'daily',\n",
       "  'RMSE': 0.006166719145079454,\n",
       "  'MSE': 3.802842501428947e-05,\n",
       "  'classification': 'tn',\n",
       "  'strategy': 'Maribozu'},\n",
       " {'name': 'arima-0-1-02007-08-08 00:00:00',\n",
       "  'pattern': None,\n",
       "  'date': None,\n",
       "  'time_frame': 'daily',\n",
       "  'RMSE': 0.02204978737706313,\n",
       "  'MSE': 0.00048619312337369245,\n",
       "  'classification': 'fp',\n",
       "  'strategy': 'Maribozu'},\n",
       " {'name': 'arima-0-1-02007-12-12 00:00:00',\n",
       "  'pattern': None,\n",
       "  'date': None,\n",
       "  'time_frame': 'daily',\n",
       "  'RMSE': 0.028626221528217397,\n",
       "  'MSE': 0.0008194605589825772,\n",
       "  'classification': 'fp',\n",
       "  'strategy': 'Maribozu'},\n",
       " {'name': 'arima-0-1-02008-06-09 00:00:00',\n",
       "  'pattern': None,\n",
       "  'date': None,\n",
       "  'time_frame': 'daily',\n",
       "  'RMSE': 0.02258260654726506,\n",
       "  'MSE': 0.0005099741184685788,\n",
       "  'classification': 'fn',\n",
       "  'strategy': 'Maribozu'},\n",
       " {'name': 'arima-0-1-02008-06-19 00:00:00',\n",
       "  'pattern': None,\n",
       "  'date': None,\n",
       "  'time_frame': 'daily',\n",
       "  'RMSE': 0.004662515088509249,\n",
       "  'MSE': 2.1739046950576412e-05,\n",
       "  'classification': 'tn',\n",
       "  'strategy': 'Maribozu'},\n",
       " {'name': 'arima-0-1-02009-03-04 00:00:00',\n",
       "  'pattern': None,\n",
       "  'date': None,\n",
       "  'time_frame': 'daily',\n",
       "  'RMSE': 0.008041481222527763,\n",
       "  'MSE': 6.46654202522666e-05,\n",
       "  'classification': 'fn',\n",
       "  'strategy': 'Maribozu'},\n",
       " {'name': 'arima-0-1-02009-06-03 00:00:00',\n",
       "  'pattern': None,\n",
       "  'date': None,\n",
       "  'time_frame': 'daily',\n",
       "  'RMSE': 0.027018953696444588,\n",
       "  'MSE': 0.0007300238588506167,\n",
       "  'classification': 'fn',\n",
       "  'strategy': 'Maribozu'},\n",
       " {'name': 'arima-0-1-02009-06-30 00:00:00',\n",
       "  'pattern': None,\n",
       "  'date': None,\n",
       "  'time_frame': 'daily',\n",
       "  'RMSE': 0.014364063004343874,\n",
       "  'MSE': 0.00020632630599276038,\n",
       "  'classification': 'fn',\n",
       "  'strategy': 'Maribozu'},\n",
       " {'name': 'arima-0-1-02009-07-24 00:00:00',\n",
       "  'pattern': None,\n",
       "  'date': None,\n",
       "  'time_frame': 'daily',\n",
       "  'RMSE': 0.010283510815531412,\n",
       "  'MSE': 0.00010575059469315154,\n",
       "  'classification': 'tp',\n",
       "  'strategy': 'Maribozu'},\n",
       " {'name': 'arima-0-1-02009-08-31 00:00:00',\n",
       "  'pattern': None,\n",
       "  'date': None,\n",
       "  'time_frame': 'daily',\n",
       "  'RMSE': 0.008664423278468869,\n",
       "  'MSE': 7.507223074847323e-05,\n",
       "  'classification': 'fp',\n",
       "  'strategy': 'Maribozu'},\n",
       " {'name': 'arima-0-1-02009-12-30 00:00:00',\n",
       "  'pattern': None,\n",
       "  'date': None,\n",
       "  'time_frame': 'daily',\n",
       "  'RMSE': 0.004562884739820117,\n",
       "  'MSE': 2.0819917148883296e-05,\n",
       "  'classification': 'tp',\n",
       "  'strategy': 'Maribozu'},\n",
       " {'name': 'arima-0-1-02010-03-05 00:00:00',\n",
       "  'pattern': None,\n",
       "  'date': None,\n",
       "  'time_frame': 'daily',\n",
       "  'RMSE': 0.00588964313550769,\n",
       "  'MSE': 3.468789626363285e-05,\n",
       "  'classification': 'tp',\n",
       "  'strategy': 'Maribozu'},\n",
       " {'name': 'arima-0-1-02010-04-13 00:00:00',\n",
       "  'pattern': None,\n",
       "  'date': None,\n",
       "  'time_frame': 'daily',\n",
       "  'RMSE': 0.015922886281169526,\n",
       "  'MSE': 0.00025353830752305665,\n",
       "  'classification': 'tn',\n",
       "  'strategy': 'Maribozu'},\n",
       " {'name': 'arima-0-1-02010-05-27 00:00:00',\n",
       "  'pattern': None,\n",
       "  'date': None,\n",
       "  'time_frame': 'daily',\n",
       "  'RMSE': 0.011165748790983402,\n",
       "  'MSE': 0.0001246739460633473,\n",
       "  'classification': 'tp',\n",
       "  'strategy': 'Maribozu'},\n",
       " {'name': 'arima-0-1-02010-10-12 00:00:00',\n",
       "  'pattern': None,\n",
       "  'date': None,\n",
       "  'time_frame': 'daily',\n",
       "  'RMSE': 0.010066410075684484,\n",
       "  'MSE': 0.0001013326118118421,\n",
       "  'classification': 'tp',\n",
       "  'strategy': 'Maribozu'},\n",
       " {'name': 'arima-0-1-02010-10-20 00:00:00',\n",
       "  'pattern': None,\n",
       "  'date': None,\n",
       "  'time_frame': 'daily',\n",
       "  'RMSE': 0.01089429411664714,\n",
       "  'MSE': 0.00011868564430001249,\n",
       "  'classification': 'tp',\n",
       "  'strategy': 'Maribozu'},\n",
       " {'name': 'arima-0-1-02010-11-15 00:00:00',\n",
       "  'pattern': None,\n",
       "  'date': None,\n",
       "  'time_frame': 'daily',\n",
       "  'RMSE': 0.009707964172889457,\n",
       "  'MSE': 9.42445683821053e-05,\n",
       "  'classification': 'fn',\n",
       "  'strategy': 'Maribozu'},\n",
       " {'name': 'arima-0-1-02010-12-28 00:00:00',\n",
       "  'pattern': None,\n",
       "  'date': None,\n",
       "  'time_frame': 'daily',\n",
       "  'RMSE': 0.009900729904604328,\n",
       "  'MSE': 9.80244526439264e-05,\n",
       "  'classification': 'tn',\n",
       "  'strategy': 'Maribozu'},\n",
       " {'name': 'arima-0-1-02011-04-11 00:00:00',\n",
       "  'pattern': None,\n",
       "  'date': None,\n",
       "  'time_frame': 'daily',\n",
       "  'RMSE': 0.014813004175323689,\n",
       "  'MSE': 0.00021942509269815705,\n",
       "  'classification': 'fn',\n",
       "  'strategy': 'Maribozu'},\n",
       " {'name': 'arima-0-1-02011-05-10 00:00:00',\n",
       "  'pattern': None,\n",
       "  'date': None,\n",
       "  'time_frame': 'daily',\n",
       "  'RMSE': 0.0179716503831407,\n",
       "  'MSE': 0.00032298021749384124,\n",
       "  'classification': 'fp',\n",
       "  'strategy': 'Maribozu'},\n",
       " {'name': 'arima-0-1-02011-07-04 00:00:00',\n",
       "  'pattern': None,\n",
       "  'date': None,\n",
       "  'time_frame': 'daily',\n",
       "  'RMSE': 0.03627904584838951,\n",
       "  'MSE': 0.0013161691676695478,\n",
       "  'classification': 'fn',\n",
       "  'strategy': 'Maribozu'},\n",
       " {'name': 'arima-0-1-02011-08-10 00:00:00',\n",
       "  'pattern': None,\n",
       "  'date': None,\n",
       "  'time_frame': 'daily',\n",
       "  'RMSE': 0.010065045022069485,\n",
       "  'MSE': 0.00010130513129628573,\n",
       "  'classification': 'tn',\n",
       "  'strategy': 'Maribozu'},\n",
       " {'name': 'arima-0-1-02011-09-26 00:00:00',\n",
       "  'pattern': None,\n",
       "  'date': None,\n",
       "  'time_frame': 'daily',\n",
       "  'RMSE': 0.013679459951152136,\n",
       "  'MSE': 0.0001871276245551752,\n",
       "  'classification': 'fn',\n",
       "  'strategy': 'Maribozu'},\n",
       " {'name': 'arima-0-1-02012-01-09 00:00:00',\n",
       "  'pattern': None,\n",
       "  'date': None,\n",
       "  'time_frame': 'daily',\n",
       "  'RMSE': 0.006158061993754647,\n",
       "  'MSE': 3.7921727518925466e-05,\n",
       "  'classification': 'tp',\n",
       "  'strategy': 'Maribozu'},\n",
       " {'name': 'arima-0-1-02012-07-25 00:00:00',\n",
       "  'pattern': None,\n",
       "  'date': None,\n",
       "  'time_frame': 'daily',\n",
       "  'RMSE': 0.012413992947976338,\n",
       "  'MSE': 0.00015410722091240627,\n",
       "  'classification': 'tp',\n",
       "  'strategy': 'Maribozu'},\n",
       " {'name': 'arima-0-1-02012-12-05 00:00:00',\n",
       "  'pattern': None,\n",
       "  'date': None,\n",
       "  'time_frame': 'daily',\n",
       "  'RMSE': 0.016953546200072767,\n",
       "  'MSE': 0.0002874227287580018,\n",
       "  'classification': 'fn',\n",
       "  'strategy': 'Maribozu'},\n",
       " {'name': 'arima-0-1-02013-05-23 00:00:00',\n",
       "  'pattern': None,\n",
       "  'date': None,\n",
       "  'time_frame': 'daily',\n",
       "  'RMSE': 0.004052096992335877,\n",
       "  'MSE': 1.6419490035297466e-05,\n",
       "  'classification': 'tp',\n",
       "  'strategy': 'Maribozu'},\n",
       " {'name': 'arima-0-1-02013-08-02 00:00:00',\n",
       "  'pattern': None,\n",
       "  'date': None,\n",
       "  'time_frame': 'daily',\n",
       "  'RMSE': 0.001811892742619997,\n",
       "  'MSE': 3.2829553107590144e-06,\n",
       "  'classification': 'tp',\n",
       "  'strategy': 'Maribozu'},\n",
       " {'name': 'arima-0-1-02014-09-19 00:00:00',\n",
       "  'pattern': None,\n",
       "  'date': None,\n",
       "  'time_frame': 'daily',\n",
       "  'RMSE': 0.015036492529535206,\n",
       "  'MSE': 0.00022609610759076804,\n",
       "  'classification': 'fn',\n",
       "  'strategy': 'Maribozu'},\n",
       " {'name': 'arima-0-1-02014-12-11 00:00:00',\n",
       "  'pattern': None,\n",
       "  'date': None,\n",
       "  'time_frame': 'daily',\n",
       "  'RMSE': 0.010026639006882717,\n",
       "  'MSE': 0.00010053348977434205,\n",
       "  'classification': 'fn',\n",
       "  'strategy': 'Maribozu'},\n",
       " {'name': 'arima-0-1-02015-02-05 00:00:00',\n",
       "  'pattern': None,\n",
       "  'date': None,\n",
       "  'time_frame': 'daily',\n",
       "  'RMSE': 0.01698230308528201,\n",
       "  'MSE': 0.00028839861808037896,\n",
       "  'classification': 'tn',\n",
       "  'strategy': 'Maribozu'},\n",
       " {'name': 'arima-0-1-02015-06-29 00:00:00',\n",
       "  'pattern': None,\n",
       "  'date': None,\n",
       "  'time_frame': 'daily',\n",
       "  'RMSE': 0.01931430904924956,\n",
       "  'MSE': 0.0003730425340499235,\n",
       "  'classification': 'tn',\n",
       "  'strategy': 'Maribozu'},\n",
       " {'name': 'arima-0-1-02016-01-06 00:00:00',\n",
       "  'pattern': None,\n",
       "  'date': None,\n",
       "  'time_frame': 'daily',\n",
       "  'RMSE': 0.00718481821647684,\n",
       "  'MSE': 5.1621612803817435e-05,\n",
       "  'classification': 'tp',\n",
       "  'strategy': 'Maribozu'},\n",
       " {'name': 'arima-0-1-02016-01-20 00:00:00',\n",
       "  'pattern': None,\n",
       "  'date': None,\n",
       "  'time_frame': 'daily',\n",
       "  'RMSE': 0.010808759354932921,\n",
       "  'MSE': 0.00011682927879284992,\n",
       "  'classification': 'fn',\n",
       "  'strategy': 'Maribozu'},\n",
       " {'name': 'arima-0-1-02016-08-22 00:00:00',\n",
       "  'pattern': None,\n",
       "  'date': None,\n",
       "  'time_frame': 'daily',\n",
       "  'RMSE': 0.011110930790189115,\n",
       "  'MSE': 0.00012345278302437252,\n",
       "  'classification': 'fp',\n",
       "  'strategy': 'Maribozu'},\n",
       " {'name': 'arima-0-1-02017-01-06 00:00:00',\n",
       "  'pattern': None,\n",
       "  'date': None,\n",
       "  'time_frame': 'daily',\n",
       "  'RMSE': 0.0054902498842623795,\n",
       "  'MSE': 3.0142843791643067e-05,\n",
       "  'classification': 'fn',\n",
       "  'strategy': 'Maribozu'},\n",
       " {'name': 'arima-0-1-02017-01-18 00:00:00',\n",
       "  'pattern': None,\n",
       "  'date': None,\n",
       "  'time_frame': 'daily',\n",
       "  'RMSE': 0.00329828051846434,\n",
       "  'MSE': 1.0878654378481394e-05,\n",
       "  'classification': 'tn',\n",
       "  'strategy': 'Maribozu'},\n",
       " {'name': 'arima-0-1-02017-02-17 00:00:00',\n",
       "  'pattern': None,\n",
       "  'date': None,\n",
       "  'time_frame': 'daily',\n",
       "  'RMSE': 0.012203167912999078,\n",
       "  'MSE': 0.00014891730711285027,\n",
       "  'classification': 'fn',\n",
       "  'strategy': 'Maribozu'},\n",
       " {'name': 'arima-0-1-02018-06-26 00:00:00',\n",
       "  'pattern': None,\n",
       "  'date': None,\n",
       "  'time_frame': 'daily',\n",
       "  'RMSE': 0.010795299400468451,\n",
       "  'MSE': 0.00011653848914575449,\n",
       "  'classification': 'fn',\n",
       "  'strategy': 'Maribozu'},\n",
       " {'name': 'arima-0-1-02018-09-14 00:00:00',\n",
       "  'pattern': None,\n",
       "  'date': None,\n",
       "  'time_frame': 'daily',\n",
       "  'RMSE': 0.0017799091186183605,\n",
       "  'MSE': 3.1680764705407884e-06,\n",
       "  'classification': 'tn',\n",
       "  'strategy': 'Maribozu'},\n",
       " {'name': 'arima-0-1-02018-10-22 00:00:00',\n",
       "  'pattern': None,\n",
       "  'date': None,\n",
       "  'time_frame': 'daily',\n",
       "  'RMSE': 0.014179115762281059,\n",
       "  'MSE': 0.00020104732380016717,\n",
       "  'classification': 'fn',\n",
       "  'strategy': 'Maribozu'},\n",
       " {'name': 'arima-0-1-02018-12-10 00:00:00',\n",
       "  'pattern': None,\n",
       "  'date': None,\n",
       "  'time_frame': 'daily',\n",
       "  'RMSE': 0.010204494145608152,\n",
       "  'MSE': 0.00010413170076775105,\n",
       "  'classification': 'fn',\n",
       "  'strategy': 'Maribozu'},\n",
       " {'name': 'arima-0-1-02019-01-31 00:00:00',\n",
       "  'pattern': None,\n",
       "  'date': None,\n",
       "  'time_frame': 'daily',\n",
       "  'RMSE': 0.011928538146271902,\n",
       "  'MSE': 0.0001422900223070639,\n",
       "  'classification': 'fn',\n",
       "  'strategy': 'Maribozu'},\n",
       " {'name': 'arima-0-1-02019-02-13 00:00:00',\n",
       "  'pattern': None,\n",
       "  'date': None,\n",
       "  'time_frame': 'daily',\n",
       "  'RMSE': 0.00298732692988789,\n",
       "  'MSE': 8.924122186033407e-06,\n",
       "  'classification': 'tn',\n",
       "  'strategy': 'Maribozu'}]"
      ]
     },
     "execution_count": 36,
     "metadata": {},
     "output_type": "execute_result"
    }
   ],
   "source": [
    "arima_results"
   ]
  },
  {
   "cell_type": "code",
   "execution_count": 37,
   "metadata": {},
   "outputs": [],
   "source": [
    "def create_cm(arima_results):\n",
    "    \n",
    "    res_cm = [[0,0],\n",
    "              [0,0]]\n",
    "    \n",
    "    for result in arima_results:\n",
    "        res = result['classification']\n",
    "        \n",
    "        if res == 'tp':\n",
    "            res_cm[0][0] += 1\n",
    "        elif res == 'fp':\n",
    "            res_cm[0][1] += 1\n",
    "        elif res == 'fn':\n",
    "            res_cm[1][0] += 1\n",
    "        elif res == 'tn':\n",
    "            res_cm[1][1] += 1\n",
    "    \n",
    "    return res_cm"
   ]
  },
  {
   "cell_type": "code",
   "execution_count": 38,
   "metadata": {},
   "outputs": [],
   "source": [
    "cm = create_cm(arima_results)"
   ]
  },
  {
   "cell_type": "code",
   "execution_count": 39,
   "metadata": {},
   "outputs": [
    {
     "data": {
      "text/html": [
       "<div>\n",
       "<style scoped>\n",
       "    .dataframe tbody tr th:only-of-type {\n",
       "        vertical-align: middle;\n",
       "    }\n",
       "\n",
       "    .dataframe tbody tr th {\n",
       "        vertical-align: top;\n",
       "    }\n",
       "\n",
       "    .dataframe thead th {\n",
       "        text-align: right;\n",
       "    }\n",
       "</style>\n",
       "<table border=\"1\" class=\"dataframe\">\n",
       "  <thead>\n",
       "    <tr style=\"text-align: right;\">\n",
       "      <th></th>\n",
       "      <th>pred_success</th>\n",
       "      <th>pred_non_success</th>\n",
       "    </tr>\n",
       "  </thead>\n",
       "  <tbody>\n",
       "    <tr>\n",
       "      <th>actual success</th>\n",
       "      <td>14</td>\n",
       "      <td>6</td>\n",
       "    </tr>\n",
       "    <tr>\n",
       "      <th>actual non_success</th>\n",
       "      <td>24</td>\n",
       "      <td>18</td>\n",
       "    </tr>\n",
       "  </tbody>\n",
       "</table>\n",
       "</div>"
      ],
      "text/plain": [
       "                    pred_success  pred_non_success\n",
       "actual success                14                 6\n",
       "actual non_success            24                18"
      ]
     },
     "execution_count": 39,
     "metadata": {},
     "output_type": "execute_result"
    }
   ],
   "source": [
    "cm_df = pd.DataFrame(cm, columns=['pred_success', 'pred_non_success'], index=['actual success', 'actual non_success'])\n",
    "cm_df"
   ]
  },
  {
   "cell_type": "code",
   "execution_count": null,
   "metadata": {},
   "outputs": [],
   "source": []
  },
  {
   "cell_type": "code",
   "execution_count": null,
   "metadata": {},
   "outputs": [],
   "source": []
  },
  {
   "cell_type": "code",
   "execution_count": null,
   "metadata": {},
   "outputs": [],
   "source": []
  },
  {
   "cell_type": "code",
   "execution_count": null,
   "metadata": {},
   "outputs": [],
   "source": []
  },
  {
   "cell_type": "code",
   "execution_count": null,
   "metadata": {},
   "outputs": [],
   "source": []
  },
  {
   "cell_type": "code",
   "execution_count": null,
   "metadata": {},
   "outputs": [],
   "source": []
  },
  {
   "cell_type": "code",
   "execution_count": null,
   "metadata": {},
   "outputs": [],
   "source": []
  },
  {
   "cell_type": "code",
   "execution_count": null,
   "metadata": {},
   "outputs": [],
   "source": []
  },
  {
   "cell_type": "code",
   "execution_count": null,
   "metadata": {},
   "outputs": [],
   "source": []
  },
  {
   "cell_type": "code",
   "execution_count": null,
   "metadata": {},
   "outputs": [],
   "source": []
  },
  {
   "cell_type": "code",
   "execution_count": null,
   "metadata": {},
   "outputs": [],
   "source": []
  },
  {
   "cell_type": "code",
   "execution_count": null,
   "metadata": {},
   "outputs": [],
   "source": []
  },
  {
   "cell_type": "code",
   "execution_count": null,
   "metadata": {},
   "outputs": [],
   "source": []
  },
  {
   "cell_type": "code",
   "execution_count": null,
   "metadata": {},
   "outputs": [],
   "source": []
  },
  {
   "cell_type": "code",
   "execution_count": null,
   "metadata": {},
   "outputs": [],
   "source": []
  },
  {
   "cell_type": "code",
   "execution_count": null,
   "metadata": {},
   "outputs": [],
   "source": []
  },
  {
   "cell_type": "code",
   "execution_count": null,
   "metadata": {},
   "outputs": [],
   "source": []
  },
  {
   "cell_type": "markdown",
   "metadata": {},
   "source": [
    "## 1.2 Train Test Split"
   ]
  },
  {
   "cell_type": "code",
   "execution_count": null,
   "metadata": {},
   "outputs": [],
   "source": [
    "type(daily.loc[daily.index == daily_pattern.loc[10]['pattern_end']].index[0])"
   ]
  },
  {
   "cell_type": "code",
   "execution_count": null,
   "metadata": {},
   "outputs": [],
   "source": [
    "daily.loc[daily.index == daily_pattern.loc[10]['pattern_end']].index[0]"
   ]
  },
  {
   "cell_type": "code",
   "execution_count": null,
   "metadata": {},
   "outputs": [],
   "source": []
  },
  {
   "cell_type": "code",
   "execution_count": null,
   "metadata": {},
   "outputs": [],
   "source": []
  },
  {
   "cell_type": "code",
   "execution_count": null,
   "metadata": {},
   "outputs": [],
   "source": [
    "daily_pattern.index"
   ]
  },
  {
   "cell_type": "code",
   "execution_count": null,
   "metadata": {},
   "outputs": [],
   "source": [
    "# Test 1 date out\n",
    "curr_pattern = daily.loc[daily.index == daily_pattern.loc[10]['pattern_end']].index[0]\n",
    "curr_pattern"
   ]
  },
  {
   "cell_type": "code",
   "execution_count": null,
   "metadata": {},
   "outputs": [],
   "source": [
    "daily.index"
   ]
  },
  {
   "cell_type": "code",
   "execution_count": null,
   "metadata": {},
   "outputs": [],
   "source": [
    "test_end_date = daily.loc[daily.loc[daily.index == daily_pattern.loc[10]['pattern_end']].index[0],'date+5']\n",
    "test_end_date"
   ]
  },
  {
   "cell_type": "code",
   "execution_count": null,
   "metadata": {},
   "outputs": [],
   "source": [
    "# daily.loc[daily.index == curr_pattern]"
   ]
  },
  {
   "cell_type": "code",
   "execution_count": null,
   "metadata": {},
   "outputs": [],
   "source": [
    "train_test = daily.loc[daily.index <= test_end_date]\n",
    "# train_test = daily.loc[daily.index <= '2004-2-28 00:00:00']"
   ]
  },
  {
   "cell_type": "code",
   "execution_count": null,
   "metadata": {},
   "outputs": [],
   "source": [
    "# daily.loc[daily.index <= end_date]"
   ]
  },
  {
   "cell_type": "code",
   "execution_count": null,
   "metadata": {},
   "outputs": [],
   "source": [
    "# daily.loc[daily.index == daily_pattern.loc[10]['pattern_end'],'double_height']"
   ]
  },
  {
   "cell_type": "code",
   "execution_count": null,
   "metadata": {},
   "outputs": [],
   "source": [
    "target_value = daily.loc[daily.index == daily_pattern.loc[10,'pattern_end'],'double_height'].item()\n",
    "target_value"
   ]
  },
  {
   "cell_type": "code",
   "execution_count": null,
   "metadata": {},
   "outputs": [],
   "source": [
    "# def choose_exit_price(row, target_price, signal=-1):\n",
    "#     if signal == -1:\n",
    "#         return target_price\n",
    "# #         return row['close'] - (row['height'] * 1)\n",
    "#     else:\n",
    "#         return target_price\n",
    "\n",
    "# #         return row['close'] + (row['height'] * 1)"
   ]
  },
  {
   "cell_type": "code",
   "execution_count": null,
   "metadata": {},
   "outputs": [],
   "source": [
    "train_test"
   ]
  },
  {
   "cell_type": "code",
   "execution_count": null,
   "metadata": {},
   "outputs": [],
   "source": [
    "# train_test['double_height'] = train_test.apply(choose_exit_price, axis=1)\n",
    "# train_test['double_height'] = daily.loc[daily.index == daily_pattern.loc[10,'pattern_end'],'double_height'].item()\n",
    "#train_test.loc['double_height'] = [target_value for x in train_test.loc[:,['double_height']]]\n",
    "train_test.insert(0, 'target_price', target_value)\n",
    "# train_test.insert(0, 'signal', signal)"
   ]
  },
  {
   "cell_type": "code",
   "execution_count": null,
   "metadata": {},
   "outputs": [],
   "source": [
    "signal = daily.loc[daily.index == daily_pattern.loc[10,'pattern_end'],'marubozu'].item()\n",
    "signal"
   ]
  },
  {
   "cell_type": "code",
   "execution_count": null,
   "metadata": {},
   "outputs": [],
   "source": [
    "train_test.head()"
   ]
  },
  {
   "cell_type": "code",
   "execution_count": null,
   "metadata": {
    "scrolled": true
   },
   "outputs": [],
   "source": [
    "[signal] * (len(train_test)-1)"
   ]
  },
  {
   "cell_type": "code",
   "execution_count": null,
   "metadata": {},
   "outputs": [],
   "source": [
    "#train_test.loc[:,['signal']] = [signal] * (len(train_test))\n",
    "# train_test.loc[:,['signal']] = [signal]\n",
    "# df.insert(0, 'A', 'foo')\n",
    "train_test.insert(0, 'signal', signal)"
   ]
  },
  {
   "cell_type": "code",
   "execution_count": null,
   "metadata": {},
   "outputs": [],
   "source": [
    "train_test.tail(6)"
   ]
  },
  {
   "cell_type": "code",
   "execution_count": null,
   "metadata": {},
   "outputs": [],
   "source": [
    "# start=len(train)\n",
    "# end=len(train)+len(test)-1\n",
    "start = len(train_test)-5\n",
    "end = len(train_test)-1\n",
    "start, end"
   ]
  },
  {
   "cell_type": "code",
   "execution_count": null,
   "metadata": {},
   "outputs": [],
   "source": [
    "# Set for testing\n",
    "train = train_test.iloc[:start]\n",
    "test = train_test.iloc[start:]"
   ]
  },
  {
   "cell_type": "code",
   "execution_count": null,
   "metadata": {},
   "outputs": [],
   "source": [
    "test.head()"
   ]
  },
  {
   "cell_type": "code",
   "execution_count": null,
   "metadata": {},
   "outputs": [],
   "source": [
    "def train_test_plot(train, test):\n",
    "    plt.figure(figsize=(16, 8))\n",
    "    plt.plot(train, c='blue')\n",
    "    plt.plot(test, c='orange');"
   ]
  },
  {
   "cell_type": "code",
   "execution_count": null,
   "metadata": {},
   "outputs": [],
   "source": [
    "# This plot confirms that our train test split makes sense\n",
    "train_test_plot(train['close'], test['close'])"
   ]
  },
  {
   "cell_type": "code",
   "execution_count": null,
   "metadata": {},
   "outputs": [],
   "source": [
    "auto_arima(daily['close'].dropna(), seasonal=False).summary()"
   ]
  },
  {
   "cell_type": "code",
   "execution_count": null,
   "metadata": {},
   "outputs": [],
   "source": [
    "train"
   ]
  },
  {
   "cell_type": "code",
   "execution_count": null,
   "metadata": {},
   "outputs": [],
   "source": [
    "model = ARIMA(train['low'], order=(0,1,0))\n",
    "results = model.fit()\n",
    "results.summary()"
   ]
  },
  {
   "cell_type": "code",
   "execution_count": null,
   "metadata": {
    "scrolled": true
   },
   "outputs": [],
   "source": [
    "predictions = results.predict(start=start, end=end, dynamic=False, typ='levels').rename('ARIMA-0-1-0 Predictions')"
   ]
  },
  {
   "cell_type": "code",
   "execution_count": null,
   "metadata": {},
   "outputs": [],
   "source": [
    "predictions.values"
   ]
  },
  {
   "cell_type": "code",
   "execution_count": null,
   "metadata": {},
   "outputs": [],
   "source": [
    "type(predictions)"
   ]
  },
  {
   "cell_type": "code",
   "execution_count": null,
   "metadata": {},
   "outputs": [],
   "source": [
    "def justified(row):\n",
    "    \n",
    "    if row['signal'] == -1 and row['low'] <= row['double_height']:\n",
    "        return 1\n",
    "    elif row['signal'] == 1 and row['high'] >= row['double_height']:\n",
    "        return 1    \n",
    "    else:\n",
    "        return 0"
   ]
  },
  {
   "cell_type": "code",
   "execution_count": null,
   "metadata": {},
   "outputs": [],
   "source": [
    "outcomes = pd.DataFrame()\n",
    "outcomes['low'] = test['low']\n",
    "outcomes['high'] = test['high']\n",
    "\n",
    "outcomes['preds'] = predictions.values\n",
    "outcomes['target_price'] = test['target_price']\n",
    "# outcomes['direction'] = test['signal']\n",
    "outcomes['signal_match'] = test.apply(justified, axis=1)\n",
    "\n",
    "#daily_pre['double_height'] = daily_pre.apply(choose_exit_price, axis=1)\n",
    "# outcomes.append(predictions, ignore_index=True)\n",
    "outcomes"
   ]
  },
  {
   "cell_type": "code",
   "execution_count": null,
   "metadata": {},
   "outputs": [],
   "source": [
    "# predictions['date']  = test.index\n",
    "#predictions.reset_index(test.index)"
   ]
  },
  {
   "cell_type": "code",
   "execution_count": null,
   "metadata": {},
   "outputs": [],
   "source": [
    "# predictions.reindex(test.index)"
   ]
  },
  {
   "cell_type": "code",
   "execution_count": null,
   "metadata": {},
   "outputs": [],
   "source": [
    "type(predictions)"
   ]
  },
  {
   "cell_type": "code",
   "execution_count": null,
   "metadata": {},
   "outputs": [],
   "source": [
    "test.head()['close'].isnull().sum()"
   ]
  },
  {
   "cell_type": "code",
   "execution_count": null,
   "metadata": {},
   "outputs": [],
   "source": [
    "train.head()['close'].isnull().sum()"
   ]
  },
  {
   "cell_type": "code",
   "execution_count": null,
   "metadata": {},
   "outputs": [],
   "source": [
    "outcomes['low'].plot(legend=True, figsize=(12,8))\n",
    "outcomes['preds'].plot(legend=True);\n",
    "outcomes['target_price'].plot(legend=True);\n",
    "\n",
    "# predictions.plot(legend=True)"
   ]
  },
  {
   "cell_type": "code",
   "execution_count": null,
   "metadata": {},
   "outputs": [],
   "source": [
    "\n",
    "error = mean_squared_error(test['close'], predictions)\n",
    "print(f'ARIMA(0,1,0) MSE Error: {error:11.10}')\n",
    "\n",
    "\n",
    "error = rmse(test['close'], predictions)\n",
    "print(f'ARIMA(0,1,0) RMSE Error: {error:11.10}')"
   ]
  },
  {
   "cell_type": "code",
   "execution_count": null,
   "metadata": {},
   "outputs": [],
   "source": [
    "results = {'algo':'','name':'','date':'', 'time_frame':'','success':'','RMSE':'', 'MSE':'', 'classification':'' }\n"
   ]
  },
  {
   "cell_type": "code",
   "execution_count": null,
   "metadata": {},
   "outputs": [],
   "source": [
    "daily.columns"
   ]
  },
  {
   "cell_type": "markdown",
   "metadata": {},
   "source": [
    "---"
   ]
  },
  {
   "cell_type": "markdown",
   "metadata": {},
   "source": [
    "# SARIMAX\n"
   ]
  },
  {
   "cell_type": "code",
   "execution_count": null,
   "metadata": {},
   "outputs": [],
   "source": [
    "# daily = daily.resample('B').agg({'open':'first','high':'max',\n",
    "#                                         'low':'min', 'close':'last'})"
   ]
  },
  {
   "cell_type": "code",
   "execution_count": null,
   "metadata": {},
   "outputs": [],
   "source": [
    "daily.index"
   ]
  },
  {
   "cell_type": "code",
   "execution_count": null,
   "metadata": {},
   "outputs": [],
   "source": [
    "daily['close'].dropna(inplace=True)"
   ]
  },
  {
   "cell_type": "code",
   "execution_count": null,
   "metadata": {},
   "outputs": [],
   "source": [
    "result = seasonal_decompose(daily['close'], model='add', period=400 )\n",
    "result.plot();"
   ]
  },
  {
   "cell_type": "code",
   "execution_count": null,
   "metadata": {},
   "outputs": [],
   "source": [
    "%%time\n",
    "auto_arima(daily['close'], seasonal=True, maxiter=10000).summary()"
   ]
  },
  {
   "cell_type": "code",
   "execution_count": null,
   "metadata": {},
   "outputs": [],
   "source": [
    "model = SARIMAX(train['close'], order=(0,1,0), seasonal_order=(1,0,1,12))"
   ]
  },
  {
   "cell_type": "code",
   "execution_count": null,
   "metadata": {},
   "outputs": [],
   "source": [
    "len(train)"
   ]
  },
  {
   "cell_type": "code",
   "execution_count": null,
   "metadata": {},
   "outputs": [],
   "source": [
    "train.columns"
   ]
  },
  {
   "cell_type": "code",
   "execution_count": null,
   "metadata": {},
   "outputs": [],
   "source": [
    "# Starting MSE and (P, D, Q).\n",
    "mse = 99 * (10 ** 16)\n",
    "final_P = 0\n",
    "final_D = 0\n",
    "final_Q = 0\n",
    "\n",
    "for P in range(3):\n",
    "    for Q in range(3):\n",
    "        for D in range(3):\n",
    "            try:\n",
    "                # Instantiate SARIMA model.\n",
    "                sarima = SARIMAX(endog = train['close'],\n",
    "                                 order = (0, 1, 0),              # (p, d, q)\n",
    "                                 seasonal_order = (P, D, Q, 12)) # (P, D, Q, S)\n",
    "\n",
    "                # Fit SARIMA model.\n",
    "                model = sarima.fit()\n",
    "\n",
    "                # Generate predictions based on training set.\n",
    "                # Start at time period 0 and end at 1028.\n",
    "                preds = model.predict(start=0, end=1028)\n",
    "\n",
    "                # Evaluate predictions.\n",
    "                print(f'The MSE for (1, 0, 0)x({P},{D},{Q},12) is: {mean_squared_error(train[\"close\"], preds)}')\n",
    "                \n",
    "                # Save for final report.\n",
    "                if mse > mean_squared_error(train['close'], preds):\n",
    "                    mse = mean_squared_error(train['close'], preds)\n",
    "                    final_P = P\n",
    "                    final_D = D\n",
    "                    final_Q = Q\n",
    "                \n",
    "            except:\n",
    "                print(f\"p: {P}, D: {D}, Q: {Q}\")\n",
    "                pass\n",
    "\n",
    "print(f'Our model that minimizes MSE on the training data is the SARIMA(1, 0, 0)x({final_P},{final_D},{final_Q},420).')\n",
    "print(f'This model has an MSE of {mse}.')"
   ]
  },
  {
   "cell_type": "code",
   "execution_count": null,
   "metadata": {},
   "outputs": [],
   "source": []
  },
  {
   "cell_type": "code",
   "execution_count": null,
   "metadata": {},
   "outputs": [],
   "source": []
  },
  {
   "cell_type": "code",
   "execution_count": null,
   "metadata": {},
   "outputs": [],
   "source": []
  }
 ],
 "metadata": {
  "kernelspec": {
   "display_name": "Python 3",
   "language": "python",
   "name": "python3"
  },
  "language_info": {
   "codemirror_mode": {
    "name": "ipython",
    "version": 3
   },
   "file_extension": ".py",
   "mimetype": "text/x-python",
   "name": "python",
   "nbconvert_exporter": "python",
   "pygments_lexer": "ipython3",
   "version": "3.7.6"
  }
 },
 "nbformat": 4,
 "nbformat_minor": 4
}
