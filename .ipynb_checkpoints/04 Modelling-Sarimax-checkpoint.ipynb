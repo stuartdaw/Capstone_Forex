{
 "cells": [
  {
   "cell_type": "markdown",
   "metadata": {},
   "source": [
    "# Modelling"
   ]
  },
  {
   "cell_type": "markdown",
   "metadata": {},
   "source": [
    "---"
   ]
  },
  {
   "cell_type": "markdown",
   "metadata": {},
   "source": [
    "# Contents\n",
    "\n",
    "- [1.0 Arima Model](#1.0-ARIMA-Model)\n",
    "- [2.0 Daily Data](#2.0-Daily-Data)\n",
    "    - [1.1 Load Data](#2.1-Load-Data)\n",
    "    - [1.2 Train Test Split](#2.2-Train-Test-Split)"
   ]
  },
  {
   "cell_type": "code",
   "execution_count": 1,
   "metadata": {},
   "outputs": [],
   "source": [
    "# !pip install pmdarima"
   ]
  },
  {
   "cell_type": "code",
   "execution_count": 2,
   "metadata": {},
   "outputs": [],
   "source": [
    "import pandas as pd\n",
    "import numpy as np\n",
    "import seaborn as sns\n",
    "import matplotlib.pyplot as plt\n",
    "%matplotlib inline\n",
    "import datetime\n",
    "import calendar\n",
    "\n",
    "from statsmodels.tsa.stattools import adfuller\n",
    "from statsmodels.tsa.seasonal import seasonal_decompose\n",
    "from statsmodels.tsa.statespace.sarimax import SARIMAX\n",
    "from statsmodels.tsa.arima_model import ARIMA, ARMA, ARMAResults, ARIMAResults\n",
    "from statsmodels.graphics.tsaplots import plot_acf, plot_pacf\n",
    "from sklearn.metrics import r2_score, mean_squared_error\n",
    "from pmdarima import auto_arima\n",
    "import plotly.graph_objects as go\n",
    "import warnings\n",
    "#warnings.filterwarnings(\"ignore\")\n",
    "\n",
    "\n",
    "from sklearn.metrics import mean_squared_error\n",
    "from statsmodels.tools.eval_measures import rmse\n"
   ]
  },
  {
   "cell_type": "code",
   "execution_count": 3,
   "metadata": {},
   "outputs": [],
   "source": [
    "pd.set_option('display.max_columns', None)"
   ]
  },
  {
   "cell_type": "markdown",
   "metadata": {},
   "source": [
    "---"
   ]
  },
  {
   "cell_type": "markdown",
   "metadata": {},
   "source": [
    "# 1.0 ARIMA Model"
   ]
  },
  {
   "cell_type": "markdown",
   "metadata": {},
   "source": [
    "The Arima model has 3 components:\n",
    "\n",
    "+ Differencing Step - I - Integrated - Check for stationarity\n",
    "+ Autoregressive Piece - AR - long term trends\n",
    "+ Moving Average Piece - MA - Modelling sudden fluctuations\n",
    "\n",
    "Each part has input into the model P,D,Q. I will use the previous Dickey Fuller \n",
    "\n",
    "+ D is the order of differencing we found using the Augmented Dickey-Fuller test.\n",
    "+ P is the number of autoregressive terms in our model. PACF is used to estimate this.\n",
    "+ Q is to do with looking at the moving average.\n",
    "    + If PACF has a sharp cut off and lag-1 for the ACF is negative choose q to be the lag in the ACF before cut off.\n",
    "    + If PACF does not have a sharp cut off or lag -1 ACF is not negative choose q = 0"
   ]
  },
  {
   "cell_type": "markdown",
   "metadata": {},
   "source": [
    "Therefore based on the charts before I will use:\n",
    "    \n",
    "    + p = 1\n",
    "    + d = 1\n",
    "    + q = 0\n",
    "    \n",
    "However I will use auto_arima to help decide."
   ]
  },
  {
   "cell_type": "markdown",
   "metadata": {},
   "source": [
    "---"
   ]
  },
  {
   "cell_type": "code",
   "execution_count": 4,
   "metadata": {},
   "outputs": [],
   "source": [
    "results = {'algo':'','name':'','date':'', 'time_frame':'','success':0,'RMSE':0, 'MSE':0, 'classification':'' }"
   ]
  },
  {
   "cell_type": "markdown",
   "metadata": {},
   "source": [
    "##### 1.1 Load Data"
   ]
  },
  {
   "cell_type": "code",
   "execution_count": 5,
   "metadata": {},
   "outputs": [],
   "source": [
    "daily = pd.read_csv('/Users/stuartdaw/Documents/Capstone_data/data/resampled/daily.csv', \n",
    "                    index_col='date', parse_dates=True)"
   ]
  },
  {
   "cell_type": "code",
   "execution_count": 6,
   "metadata": {},
   "outputs": [
    {
     "data": {
      "text/plain": [
       "DatetimeIndex(['2000-05-30', '2000-05-31', '2000-06-01', '2000-06-02',\n",
       "               '2000-06-05', '2000-06-06', '2000-06-07', '2000-06-08',\n",
       "               '2000-06-09', '2000-06-12',\n",
       "               ...\n",
       "               '2019-12-18', '2019-12-19', '2019-12-20', '2019-12-23',\n",
       "               '2019-12-24', '2019-12-25', '2019-12-26', '2019-12-27',\n",
       "               '2019-12-30', '2019-12-31'],\n",
       "              dtype='datetime64[ns]', name='date', length=5045, freq=None)"
      ]
     },
     "execution_count": 6,
     "metadata": {},
     "output_type": "execute_result"
    }
   ],
   "source": [
    "daily.index"
   ]
  },
  {
   "cell_type": "code",
   "execution_count": 7,
   "metadata": {},
   "outputs": [
    {
     "data": {
      "text/plain": [
       "Index(['open', 'high', 'low', 'close', 'marubozu', 'marubozu+1', 'marubozu-1',\n",
       "       'marubozu-2', 'height', 'av_3_height', 'wk_mv_av', 'mnth_mv_av',\n",
       "       'qtr_mv_av', 'day-1_open', 'day-2_open', 'day-3_open', 'day-1_high',\n",
       "       'day-2_high', 'day-3_high', 'day-1_low', 'day-2_low', 'day-3_low',\n",
       "       'day-1_close', 'day-2_close', 'day-3_close', 'day+1_open', 'day+1_high',\n",
       "       'day+1_low', 'day+1_close', 'day+2_high', 'day+3_high', 'day+4_high',\n",
       "       'day+5_high', 'date+5', 'target', 'double_height', 'select'],\n",
       "      dtype='object')"
      ]
     },
     "execution_count": 7,
     "metadata": {},
     "output_type": "execute_result"
    }
   ],
   "source": [
    "daily.columns"
   ]
  },
  {
   "cell_type": "code",
   "execution_count": 8,
   "metadata": {},
   "outputs": [],
   "source": [
    "#daily = daily.resample('B').agg({'open':'first','high':'max','low':'min', 'close':'last'})\n"
   ]
  },
  {
   "cell_type": "code",
   "execution_count": 9,
   "metadata": {},
   "outputs": [
    {
     "data": {
      "text/plain": [
       "DatetimeIndex(['2000-05-30', '2000-05-31', '2000-06-01', '2000-06-02',\n",
       "               '2000-06-05', '2000-06-06', '2000-06-07', '2000-06-08',\n",
       "               '2000-06-09', '2000-06-12',\n",
       "               ...\n",
       "               '2019-12-18', '2019-12-19', '2019-12-20', '2019-12-23',\n",
       "               '2019-12-24', '2019-12-25', '2019-12-26', '2019-12-27',\n",
       "               '2019-12-30', '2019-12-31'],\n",
       "              dtype='datetime64[ns]', name='date', length=5045, freq=None)"
      ]
     },
     "execution_count": 9,
     "metadata": {},
     "output_type": "execute_result"
    }
   ],
   "source": [
    "daily.index"
   ]
  },
  {
   "cell_type": "code",
   "execution_count": 10,
   "metadata": {},
   "outputs": [],
   "source": [
    "daily['date+5'] = pd.to_datetime(daily['date+5'])"
   ]
  },
  {
   "cell_type": "code",
   "execution_count": 11,
   "metadata": {},
   "outputs": [
    {
     "data": {
      "text/plain": [
       "Timestamp('2000-06-07 00:00:00')"
      ]
     },
     "execution_count": 11,
     "metadata": {},
     "output_type": "execute_result"
    }
   ],
   "source": [
    "daily.loc[daily.index[1],'date+5']"
   ]
  },
  {
   "cell_type": "code",
   "execution_count": 12,
   "metadata": {},
   "outputs": [
    {
     "data": {
      "text/plain": [
       "pandas._libs.tslibs.timestamps.Timestamp"
      ]
     },
     "execution_count": 12,
     "metadata": {},
     "output_type": "execute_result"
    }
   ],
   "source": [
    "type(daily['date+5'][0])"
   ]
  },
  {
   "cell_type": "code",
   "execution_count": null,
   "metadata": {},
   "outputs": [],
   "source": []
  },
  {
   "cell_type": "code",
   "execution_count": null,
   "metadata": {},
   "outputs": [],
   "source": []
  },
  {
   "cell_type": "markdown",
   "metadata": {},
   "source": [
    "---"
   ]
  },
  {
   "cell_type": "markdown",
   "metadata": {},
   "source": [
    "## 1.1 Get patterns"
   ]
  },
  {
   "cell_type": "code",
   "execution_count": 13,
   "metadata": {},
   "outputs": [],
   "source": [
    "daily_pattern = pd.read_csv('/Users/stuartdaw/Documents/Capstone_data/data/targets/daily_pattern.csv', \n",
    "                           parse_dates=True)"
   ]
  },
  {
   "cell_type": "code",
   "execution_count": 14,
   "metadata": {},
   "outputs": [],
   "source": [
    "daily_pattern['pattern_end'] = pd.to_datetime(daily_pattern['pattern_end'])"
   ]
  },
  {
   "cell_type": "code",
   "execution_count": 15,
   "metadata": {},
   "outputs": [
    {
     "data": {
      "text/plain": [
       "pattern_end   2000-10-10\n",
       "Name: 1, dtype: datetime64[ns]"
      ]
     },
     "execution_count": 15,
     "metadata": {},
     "output_type": "execute_result"
    }
   ],
   "source": [
    "daily_pattern.loc[1]"
   ]
  },
  {
   "cell_type": "code",
   "execution_count": 16,
   "metadata": {
    "scrolled": false
   },
   "outputs": [
    {
     "data": {
      "text/plain": [
       "65"
      ]
     },
     "execution_count": 16,
     "metadata": {},
     "output_type": "execute_result"
    }
   ],
   "source": [
    "len(daily_pattern)"
   ]
  },
  {
   "cell_type": "markdown",
   "metadata": {},
   "source": [
    "---"
   ]
  },
  {
   "cell_type": "code",
   "execution_count": 22,
   "metadata": {},
   "outputs": [],
   "source": [
    "def create_train_test_split(date, time_series, model_info):\n",
    "#     print(f\"dat: {date}\")\n",
    "    test_end_date = time_series.loc[date,'date+5']\n",
    "#     print(f\"*{test_end_date}*\")\n",
    "    \n",
    "    train_test = time_series.loc[time_series.index <= test_end_date]\n",
    "#     print(f\"len tt: {len(train_test)}\")\n",
    "  \n",
    "    target_value = time_series.loc[time_series.index == date,'double_height'].item()\n",
    "#     print(f\"tv: {target_value}\")\n",
    "    \n",
    "    train_test.insert(0, 'target_price', target_value)\n",
    "    \n",
    "    model_info['signal'] = time_series.loc[date,'marubozu']\n",
    "#     print(f\"signal: {signal}\")\n",
    "    \n",
    "    train_test.insert(0, 'signal', model_info['signal'])\n",
    "    \n",
    "    model_info['start'] = len(train_test)-5\n",
    "    model_info['end'] = len(train_test)-1\n",
    "#     print(f\"start: {start}, end: {end}\")\n",
    "    \n",
    "    model_info['train'] = train_test.iloc[:model_info['start']]\n",
    "    model_info['test'] = train_test.iloc[model_info['start']:]\n",
    "\n",
    "    return model_info"
   ]
  },
  {
   "cell_type": "code",
   "execution_count": 23,
   "metadata": {},
   "outputs": [],
   "source": [
    "def train_arima(model_info, p=0, d=1, q=0):\n",
    "    \n",
    "    if model_info['signal'] == -1:\n",
    "        model = ARIMA(model_info['train']['low'], order=(p,d,q))\n",
    "    else:\n",
    "        model = ARIMA(model_info['train']['high'], order=(p,d,q))\n",
    "\n",
    "    results = model.fit()\n",
    "    predictions = results.predict(start=model_info['start'], \n",
    "                                  end=model_info['end'], \n",
    "                                  dynamic=False, \n",
    "                                  typ='levels').rename('ARIMA-0-1-0 Predictions')\n",
    "    \n",
    "    return results, predictions"
   ]
  },
  {
   "cell_type": "code",
   "execution_count": 63,
   "metadata": {},
   "outputs": [],
   "source": [
    "def meet_threshold(row):\n",
    "    if row['signal'] == -1 and row['low'] <= row['double_height']:\n",
    "        return -1\n",
    "    elif row['signal'] == 1 and row['high'] >= row['double_height']:\n",
    "        return 1    \n",
    "    else:\n",
    "        return 0"
   ]
  },
  {
   "cell_type": "code",
   "execution_count": 64,
   "metadata": {},
   "outputs": [],
   "source": [
    "def create_results_outcomes_dataframe(test, predictions):    \n",
    "    outcomes = pd.DataFrame()\n",
    "    outcomes['low'] = test['low']\n",
    "    outcomes['high'] = test['high']\n",
    "    outcomes['preds'] = predictions.values\n",
    "    outcomes['target_price'] = test['target_price']\n",
    "    outcomes['direction'] = test['signal']\n",
    "    outcomes['correct_call'] = test.apply(meet_threshold, axis=1)\n",
    "    \n",
    "    return outcomes"
   ]
  },
  {
   "cell_type": "code",
   "execution_count": 65,
   "metadata": {},
   "outputs": [],
   "source": [
    "def print_chart(outcomes):\n",
    "    if model_info['signal'] == -1:\n",
    "        outcomes['low'].plot(legend=False, figsize=(12,8))\n",
    "    else:\n",
    "        outcomes['high'].plot(legend=False, figsize=(12,8))\n",
    "\n",
    "    outcomes['preds'].plot(legend=False);\n",
    "    outcomes['target_price'].plot(legend=False);"
   ]
  },
  {
   "cell_type": "code",
   "execution_count": 66,
   "metadata": {},
   "outputs": [],
   "source": [
    "def get_results(model_info):\n",
    "        \n",
    "    if model_info['signal'] == -1:\n",
    "        mse = mean_squared_error(model_info['test']['low'], predictions)\n",
    "        rmse_res = rmse(model_info['test']['low'], predictions)\n",
    "    else:\n",
    "        mse = mean_squared_error(model_info['test']['high'], predictions)\n",
    "        rmse_res = rmse(model_info['test']['high'], predictions)       \n",
    "    \n",
    "    return rmse_res, mse"
   ]
  },
  {
   "cell_type": "code",
   "execution_count": 67,
   "metadata": {},
   "outputs": [],
   "source": [
    "def classify(outcomes):\n",
    "    \n",
    "    if outcomes['correct_call'] == 1 & outcomes['signal'] == 1:\n",
    "        if est > outcomes['target_price']:\n",
    "            return 'tp'\n",
    "    elif outcomes['correct_call'] == 1 & outcomes['signal'] == -1:\n",
    "        if est < outcomes['target_price']:\n",
    "            return 'tp'\n",
    "    "
   ]
  },
  {
   "cell_type": "code",
   "execution_count": 68,
   "metadata": {
    "scrolled": false
   },
   "outputs": [
    {
     "name": "stderr",
     "output_type": "stream",
     "text": [
      "/Users/stuartdaw/anaconda3/lib/python3.7/site-packages/statsmodels/tsa/base/tsa_model.py:162: ValueWarning: No frequency information was provided, so inferred frequency B will be used.\n",
      "  % freq, ValueWarning)\n",
      "/Users/stuartdaw/anaconda3/lib/python3.7/site-packages/statsmodels/tsa/base/tsa_model.py:162: ValueWarning: No frequency information was provided, so inferred frequency B will be used.\n",
      "  % freq, ValueWarning)\n",
      "/Users/stuartdaw/anaconda3/lib/python3.7/site-packages/statsmodels/tsa/base/tsa_model.py:162: ValueWarning: No frequency information was provided, so inferred frequency B will be used.\n",
      "  % freq, ValueWarning)\n",
      "/Users/stuartdaw/anaconda3/lib/python3.7/site-packages/statsmodels/tsa/base/tsa_model.py:162: ValueWarning: No frequency information was provided, so inferred frequency B will be used.\n",
      "  % freq, ValueWarning)\n",
      "/Users/stuartdaw/anaconda3/lib/python3.7/site-packages/statsmodels/tsa/base/tsa_model.py:218: ValueWarning: A date index has been provided, but it has no associated frequency information and so will be ignored when e.g. forecasting.\n",
      "  ' ignored when e.g. forecasting.', ValueWarning)\n",
      "/Users/stuartdaw/anaconda3/lib/python3.7/site-packages/statsmodels/tsa/base/tsa_model.py:218: ValueWarning: A date index has been provided, but it has no associated frequency information and so will be ignored when e.g. forecasting.\n",
      "  ' ignored when e.g. forecasting.', ValueWarning)\n",
      "/Users/stuartdaw/anaconda3/lib/python3.7/site-packages/statsmodels/tsa/base/tsa_model.py:583: ValueWarning: No supported index is available. Prediction results will be given with an integer index beginning at `start`.\n",
      "  ValueWarning)\n",
      "/Users/stuartdaw/anaconda3/lib/python3.7/site-packages/statsmodels/tsa/base/tsa_model.py:583: ValueWarning: No supported index is available. Prediction results will be given with an integer index beginning at `start`.\n",
      "  ValueWarning)\n",
      "/Users/stuartdaw/anaconda3/lib/python3.7/site-packages/statsmodels/tsa/base/tsa_model.py:218: ValueWarning: A date index has been provided, but it has no associated frequency information and so will be ignored when e.g. forecasting.\n",
      "  ' ignored when e.g. forecasting.', ValueWarning)\n",
      "/Users/stuartdaw/anaconda3/lib/python3.7/site-packages/statsmodels/tsa/base/tsa_model.py:218: ValueWarning: A date index has been provided, but it has no associated frequency information and so will be ignored when e.g. forecasting.\n",
      "  ' ignored when e.g. forecasting.', ValueWarning)\n",
      "/Users/stuartdaw/anaconda3/lib/python3.7/site-packages/statsmodels/tsa/base/tsa_model.py:583: ValueWarning: No supported index is available. Prediction results will be given with an integer index beginning at `start`.\n",
      "  ValueWarning)\n",
      "/Users/stuartdaw/anaconda3/lib/python3.7/site-packages/statsmodels/tsa/base/tsa_model.py:583: ValueWarning: No supported index is available. Prediction results will be given with an integer index beginning at `start`.\n",
      "  ValueWarning)\n",
      "/Users/stuartdaw/anaconda3/lib/python3.7/site-packages/statsmodels/tsa/base/tsa_model.py:218: ValueWarning: A date index has been provided, but it has no associated frequency information and so will be ignored when e.g. forecasting.\n",
      "  ' ignored when e.g. forecasting.', ValueWarning)\n",
      "/Users/stuartdaw/anaconda3/lib/python3.7/site-packages/statsmodels/tsa/base/tsa_model.py:218: ValueWarning: A date index has been provided, but it has no associated frequency information and so will be ignored when e.g. forecasting.\n",
      "  ' ignored when e.g. forecasting.', ValueWarning)\n",
      "/Users/stuartdaw/anaconda3/lib/python3.7/site-packages/statsmodels/tsa/base/tsa_model.py:583: ValueWarning: No supported index is available. Prediction results will be given with an integer index beginning at `start`.\n",
      "  ValueWarning)\n",
      "/Users/stuartdaw/anaconda3/lib/python3.7/site-packages/statsmodels/tsa/base/tsa_model.py:583: ValueWarning: No supported index is available. Prediction results will be given with an integer index beginning at `start`.\n",
      "  ValueWarning)\n",
      "/Users/stuartdaw/anaconda3/lib/python3.7/site-packages/statsmodels/tsa/base/tsa_model.py:218: ValueWarning: A date index has been provided, but it has no associated frequency information and so will be ignored when e.g. forecasting.\n",
      "  ' ignored when e.g. forecasting.', ValueWarning)\n",
      "/Users/stuartdaw/anaconda3/lib/python3.7/site-packages/statsmodels/tsa/base/tsa_model.py:218: ValueWarning: A date index has been provided, but it has no associated frequency information and so will be ignored when e.g. forecasting.\n",
      "  ' ignored when e.g. forecasting.', ValueWarning)\n",
      "/Users/stuartdaw/anaconda3/lib/python3.7/site-packages/statsmodels/tsa/base/tsa_model.py:583: ValueWarning: No supported index is available. Prediction results will be given with an integer index beginning at `start`.\n",
      "  ValueWarning)\n",
      "/Users/stuartdaw/anaconda3/lib/python3.7/site-packages/statsmodels/tsa/base/tsa_model.py:583: ValueWarning: No supported index is available. Prediction results will be given with an integer index beginning at `start`.\n",
      "  ValueWarning)\n",
      "/Users/stuartdaw/anaconda3/lib/python3.7/site-packages/statsmodels/tsa/base/tsa_model.py:218: ValueWarning: A date index has been provided, but it has no associated frequency information and so will be ignored when e.g. forecasting.\n",
      "  ' ignored when e.g. forecasting.', ValueWarning)\n",
      "/Users/stuartdaw/anaconda3/lib/python3.7/site-packages/statsmodels/tsa/base/tsa_model.py:218: ValueWarning: A date index has been provided, but it has no associated frequency information and so will be ignored when e.g. forecasting.\n",
      "  ' ignored when e.g. forecasting.', ValueWarning)\n",
      "/Users/stuartdaw/anaconda3/lib/python3.7/site-packages/statsmodels/tsa/base/tsa_model.py:583: ValueWarning: No supported index is available. Prediction results will be given with an integer index beginning at `start`.\n",
      "  ValueWarning)\n",
      "/Users/stuartdaw/anaconda3/lib/python3.7/site-packages/statsmodels/tsa/base/tsa_model.py:583: ValueWarning: No supported index is available. Prediction results will be given with an integer index beginning at `start`.\n",
      "  ValueWarning)\n",
      "/Users/stuartdaw/anaconda3/lib/python3.7/site-packages/statsmodels/tsa/base/tsa_model.py:218: ValueWarning: A date index has been provided, but it has no associated frequency information and so will be ignored when e.g. forecasting.\n",
      "  ' ignored when e.g. forecasting.', ValueWarning)\n",
      "/Users/stuartdaw/anaconda3/lib/python3.7/site-packages/statsmodels/tsa/base/tsa_model.py:218: ValueWarning: A date index has been provided, but it has no associated frequency information and so will be ignored when e.g. forecasting.\n",
      "  ' ignored when e.g. forecasting.', ValueWarning)\n"
     ]
    },
    {
     "name": "stdout",
     "output_type": "stream",
     "text": [
      "               low    high     preds  target_price  direction  correct_call\n",
      "date                                                                       \n",
      "2000-10-11  0.8644  0.8764  0.874116        0.8785          1             1\n",
      "2000-10-12  0.8597  0.8682  0.873532        0.8785          1             1\n",
      "2000-10-13  0.8530  0.8660  0.872947        0.8785          1             1\n",
      "2000-10-16  0.8462  0.8557  0.872363        0.8785          1             1\n",
      "2000-10-17  0.8480  0.8565  0.871779        0.8785          1             0\n",
      "               low    high     preds  target_price  direction  correct_call\n",
      "date                                                                       \n",
      "2000-10-20  0.8351  0.8475  0.847901        0.8543          1             1\n",
      "2000-10-23  0.8345  0.8426  0.847102        0.8543          1             1\n",
      "2000-10-24  0.8349  0.8400  0.846303        0.8543          1             1\n",
      "2000-10-25  0.8249  0.8389  0.845504        0.8543          1             1\n",
      "2000-10-26  0.8229  0.8325  0.844705        0.8543          1             1\n",
      "               low    high     preds  target_price  direction  correct_call\n",
      "date                                                                       \n",
      "2001-02-09  0.9135  0.9291  0.915214        0.9085         -1            -1\n",
      "2001-02-12  0.9272  0.9332  0.915129        0.9085         -1            -1\n",
      "2001-02-13  0.9174  0.9313  0.915043        0.9085         -1             0\n",
      "2001-02-14  0.9170  0.9222  0.914957        0.9085         -1             0\n",
      "2001-02-15  0.9029  0.9198  0.914872        0.9085         -1             0\n",
      "               low    high     preds  target_price  direction  correct_call\n",
      "date                                                                       \n",
      "2001-04-05  0.8943  0.9091  0.907896        0.9166          1             1\n",
      "2001-04-06  0.8927  0.9051  0.907792        0.9166          1             0\n",
      "2001-04-09  0.8947  0.9051  0.907687        0.9166          1             1\n",
      "2001-04-10  0.8868  0.8995  0.907583        0.9166          1             1\n",
      "2001-04-11  0.8814  0.8918  0.907479        0.9166          1             1\n",
      "               low    high     preds  target_price  direction  correct_call\n",
      "date                                                                       \n",
      "2001-04-10  0.8868  0.8995  0.894536        0.8895         -1             0\n",
      "2001-04-11  0.8814  0.8918  0.894371        0.8895         -1            -1\n",
      "2001-04-12  0.8840  0.8946  0.894207        0.8895         -1            -1\n",
      "2001-04-13  0.8891  0.8933  0.894043        0.8895         -1             0\n",
      "2001-04-16  0.8834  0.8895  0.893878        0.8895         -1            -1\n",
      "               low    high     preds  target_price  direction  correct_call\n",
      "date                                                                       \n",
      "2001-08-21  0.9082  0.9185  0.911239        0.9074         -1            -1\n",
      "2001-08-22  0.9123  0.9242  0.911178        0.9074         -1             0\n",
      "2001-08-23  0.9101  0.9170  0.911118        0.9074         -1            -1\n",
      "2001-08-24  0.9078  0.9169  0.911057        0.9074         -1             0\n",
      "2001-08-27  0.9087  0.9125  0.910996        0.9074         -1            -1\n",
      "               low    high     preds  target_price  direction  correct_call\n",
      "date                                                                       \n",
      "2002-02-21  0.8683  0.8721  0.868753        0.8649         -1            -1\n",
      "2002-02-22  0.8683  0.8779  0.868605        0.8649         -1            -1\n",
      "2002-02-25  0.8690  0.8755  0.868458        0.8649         -1             0\n",
      "2002-02-26  0.8618  0.8725  0.868311        0.8649         -1             0\n",
      "2002-02-27  0.8627  0.8671  0.868163        0.8649         -1            -1\n",
      "               low    high     preds  target_price  direction  correct_call\n",
      "date                                                                       \n",
      "2002-11-12  1.0070  1.0138  1.008634        1.0033         -1            -1\n",
      "2002-11-13  1.0048  1.0140  1.008769        1.0033         -1             0\n",
      "2002-11-14  1.0024  1.0101  1.008903        1.0033         -1             0\n",
      "2002-11-15  1.0016  1.0120  1.009037        1.0033         -1            -1\n",
      "2002-11-18  1.0065  1.0114  1.009172        1.0033         -1            -1\n",
      "               low    high     preds  target_price  direction  correct_call\n",
      "date                                                                       \n",
      "2003-08-07  1.1323  1.1418  1.143075        1.1442          1             1\n",
      "2003-08-08  1.1270  1.1381  1.143349        1.1442          1             1\n",
      "2003-08-11  1.1267  1.1382  1.143624        1.1442          1             0\n",
      "2003-08-15  1.1229  1.1273  1.143899        1.1442          1             1\n",
      "2003-08-18  1.1119  1.1245  1.144173        1.1442          1             1\n",
      "               low    high     preds  target_price  direction  correct_call\n",
      "date                                                                       \n",
      "2004-01-29  1.2365  1.2562  1.241547        1.2325         -1            -1\n",
      "2004-01-30  1.2353  1.2494  1.241895        1.2325         -1            -1\n",
      "2004-02-02  1.2394  1.2481  1.242242        1.2325         -1            -1\n",
      "2004-02-03  1.2467  1.2601  1.242590        1.2325         -1            -1\n",
      "2004-02-04  1.2496  1.2564  1.242937        1.2325         -1            -1\n"
     ]
    },
    {
     "name": "stderr",
     "output_type": "stream",
     "text": [
      "/Users/stuartdaw/anaconda3/lib/python3.7/site-packages/statsmodels/tsa/base/tsa_model.py:583: ValueWarning: No supported index is available. Prediction results will be given with an integer index beginning at `start`.\n",
      "  ValueWarning)\n",
      "/Users/stuartdaw/anaconda3/lib/python3.7/site-packages/statsmodels/tsa/base/tsa_model.py:583: ValueWarning: No supported index is available. Prediction results will be given with an integer index beginning at `start`.\n",
      "  ValueWarning)\n",
      "/Users/stuartdaw/anaconda3/lib/python3.7/site-packages/statsmodels/tsa/base/tsa_model.py:218: ValueWarning: A date index has been provided, but it has no associated frequency information and so will be ignored when e.g. forecasting.\n",
      "  ' ignored when e.g. forecasting.', ValueWarning)\n",
      "/Users/stuartdaw/anaconda3/lib/python3.7/site-packages/statsmodels/tsa/base/tsa_model.py:218: ValueWarning: A date index has been provided, but it has no associated frequency information and so will be ignored when e.g. forecasting.\n",
      "  ' ignored when e.g. forecasting.', ValueWarning)\n",
      "/Users/stuartdaw/anaconda3/lib/python3.7/site-packages/statsmodels/tsa/base/tsa_model.py:583: ValueWarning: No supported index is available. Prediction results will be given with an integer index beginning at `start`.\n",
      "  ValueWarning)\n",
      "/Users/stuartdaw/anaconda3/lib/python3.7/site-packages/statsmodels/tsa/base/tsa_model.py:583: ValueWarning: No supported index is available. Prediction results will be given with an integer index beginning at `start`.\n",
      "  ValueWarning)\n",
      "/Users/stuartdaw/anaconda3/lib/python3.7/site-packages/statsmodels/tsa/base/tsa_model.py:218: ValueWarning: A date index has been provided, but it has no associated frequency information and so will be ignored when e.g. forecasting.\n",
      "  ' ignored when e.g. forecasting.', ValueWarning)\n",
      "/Users/stuartdaw/anaconda3/lib/python3.7/site-packages/statsmodels/tsa/base/tsa_model.py:218: ValueWarning: A date index has been provided, but it has no associated frequency information and so will be ignored when e.g. forecasting.\n",
      "  ' ignored when e.g. forecasting.', ValueWarning)\n",
      "/Users/stuartdaw/anaconda3/lib/python3.7/site-packages/statsmodels/tsa/base/tsa_model.py:583: ValueWarning: No supported index is available. Prediction results will be given with an integer index beginning at `start`.\n",
      "  ValueWarning)\n",
      "/Users/stuartdaw/anaconda3/lib/python3.7/site-packages/statsmodels/tsa/base/tsa_model.py:583: ValueWarning: No supported index is available. Prediction results will be given with an integer index beginning at `start`.\n",
      "  ValueWarning)\n"
     ]
    }
   ],
   "source": [
    "count = 0\n",
    "\n",
    "model_info = {\"train\":None,\"test\":None,\"start\":None,\"end\":None,\"signal\":None}\n",
    "arima_results = []\n",
    "\n",
    "for match in daily_pattern['pattern_end']:\n",
    "    \n",
    "    results_dict = {'name':None,'pattern':None,'date':None,\n",
    "                   'time_frame':None,'success':None,'RMSE':None,\n",
    "                   'MSE':None, 'classification':None}\n",
    "    \n",
    "    results_dict['name'] = 'arima-0-1-0' + str(match)\n",
    "    results_dict['strategy'] = 'Maribozu'\n",
    "    results_dict['time_frame'] = 'daily'\n",
    "    \n",
    "    if count <= 10:\n",
    "        count+=1\n",
    "        model_info = create_train_test_split(match, daily, model_info)\n",
    "        \n",
    "        if len(model_info['train']) < 10:\n",
    "            continue\n",
    "        \n",
    "        results, predictions = train_arima(model_info)\n",
    "                \n",
    "        outcomes = create_results_outcomes_dataframe(model_info['test'], predictions)\n",
    "        print(outcomes.head())\n",
    "#         print_chart(outcomes)\n",
    "\n",
    "        results_dict['RMSE'], results_dict['MSE'] = get_results(model_info)\n",
    "#         results_dict['success'] = classify(outcomes)\n",
    "\n"
   ]
  },
  {
   "cell_type": "code",
   "execution_count": null,
   "metadata": {},
   "outputs": [],
   "source": []
  },
  {
   "cell_type": "code",
   "execution_count": null,
   "metadata": {},
   "outputs": [],
   "source": []
  },
  {
   "cell_type": "code",
   "execution_count": null,
   "metadata": {},
   "outputs": [],
   "source": []
  },
  {
   "cell_type": "code",
   "execution_count": null,
   "metadata": {},
   "outputs": [],
   "source": []
  },
  {
   "cell_type": "code",
   "execution_count": null,
   "metadata": {},
   "outputs": [],
   "source": []
  },
  {
   "cell_type": "code",
   "execution_count": null,
   "metadata": {},
   "outputs": [],
   "source": []
  },
  {
   "cell_type": "code",
   "execution_count": null,
   "metadata": {},
   "outputs": [],
   "source": []
  },
  {
   "cell_type": "code",
   "execution_count": null,
   "metadata": {},
   "outputs": [],
   "source": []
  },
  {
   "cell_type": "code",
   "execution_count": null,
   "metadata": {},
   "outputs": [],
   "source": []
  },
  {
   "cell_type": "code",
   "execution_count": null,
   "metadata": {},
   "outputs": [],
   "source": []
  },
  {
   "cell_type": "code",
   "execution_count": null,
   "metadata": {},
   "outputs": [],
   "source": []
  },
  {
   "cell_type": "code",
   "execution_count": null,
   "metadata": {},
   "outputs": [],
   "source": []
  },
  {
   "cell_type": "code",
   "execution_count": null,
   "metadata": {},
   "outputs": [],
   "source": []
  },
  {
   "cell_type": "code",
   "execution_count": null,
   "metadata": {},
   "outputs": [],
   "source": []
  },
  {
   "cell_type": "code",
   "execution_count": null,
   "metadata": {},
   "outputs": [],
   "source": []
  },
  {
   "cell_type": "code",
   "execution_count": null,
   "metadata": {},
   "outputs": [],
   "source": []
  },
  {
   "cell_type": "code",
   "execution_count": null,
   "metadata": {},
   "outputs": [],
   "source": []
  },
  {
   "cell_type": "code",
   "execution_count": null,
   "metadata": {},
   "outputs": [],
   "source": []
  },
  {
   "cell_type": "code",
   "execution_count": null,
   "metadata": {},
   "outputs": [],
   "source": []
  },
  {
   "cell_type": "code",
   "execution_count": null,
   "metadata": {},
   "outputs": [],
   "source": []
  },
  {
   "cell_type": "code",
   "execution_count": null,
   "metadata": {},
   "outputs": [],
   "source": []
  },
  {
   "cell_type": "markdown",
   "metadata": {},
   "source": [
    "## 1.2 Train Test Split"
   ]
  },
  {
   "cell_type": "code",
   "execution_count": null,
   "metadata": {},
   "outputs": [],
   "source": [
    "type(daily.loc[daily.index == daily_pattern.loc[10]['pattern_end']].index[0])"
   ]
  },
  {
   "cell_type": "code",
   "execution_count": null,
   "metadata": {},
   "outputs": [],
   "source": [
    "daily.loc[daily.index == daily_pattern.loc[10]['pattern_end']].index[0]"
   ]
  },
  {
   "cell_type": "code",
   "execution_count": null,
   "metadata": {},
   "outputs": [],
   "source": []
  },
  {
   "cell_type": "code",
   "execution_count": null,
   "metadata": {},
   "outputs": [],
   "source": []
  },
  {
   "cell_type": "code",
   "execution_count": null,
   "metadata": {},
   "outputs": [],
   "source": [
    "daily_pattern.index"
   ]
  },
  {
   "cell_type": "code",
   "execution_count": null,
   "metadata": {},
   "outputs": [],
   "source": [
    "# Test 1 date out\n",
    "curr_pattern = daily.loc[daily.index == daily_pattern.loc[10]['pattern_end']].index[0]\n",
    "curr_pattern"
   ]
  },
  {
   "cell_type": "code",
   "execution_count": null,
   "metadata": {},
   "outputs": [],
   "source": [
    "daily.index"
   ]
  },
  {
   "cell_type": "code",
   "execution_count": null,
   "metadata": {},
   "outputs": [],
   "source": [
    "test_end_date = daily.loc[daily.loc[daily.index == daily_pattern.loc[10]['pattern_end']].index[0],'date+5']\n",
    "test_end_date"
   ]
  },
  {
   "cell_type": "code",
   "execution_count": null,
   "metadata": {},
   "outputs": [],
   "source": [
    "# daily.loc[daily.index == curr_pattern]"
   ]
  },
  {
   "cell_type": "code",
   "execution_count": null,
   "metadata": {},
   "outputs": [],
   "source": [
    "train_test = daily.loc[daily.index <= test_end_date]\n",
    "# train_test = daily.loc[daily.index <= '2004-2-28 00:00:00']"
   ]
  },
  {
   "cell_type": "code",
   "execution_count": null,
   "metadata": {},
   "outputs": [],
   "source": [
    "# daily.loc[daily.index <= end_date]"
   ]
  },
  {
   "cell_type": "code",
   "execution_count": null,
   "metadata": {},
   "outputs": [],
   "source": [
    "# daily.loc[daily.index == daily_pattern.loc[10]['pattern_end'],'double_height']"
   ]
  },
  {
   "cell_type": "code",
   "execution_count": null,
   "metadata": {},
   "outputs": [],
   "source": [
    "target_value = daily.loc[daily.index == daily_pattern.loc[10,'pattern_end'],'double_height'].item()\n",
    "target_value"
   ]
  },
  {
   "cell_type": "code",
   "execution_count": null,
   "metadata": {},
   "outputs": [],
   "source": [
    "# def choose_exit_price(row, target_price, signal=-1):\n",
    "#     if signal == -1:\n",
    "#         return target_price\n",
    "# #         return row['close'] - (row['height'] * 1)\n",
    "#     else:\n",
    "#         return target_price\n",
    "\n",
    "# #         return row['close'] + (row['height'] * 1)"
   ]
  },
  {
   "cell_type": "code",
   "execution_count": null,
   "metadata": {},
   "outputs": [],
   "source": [
    "train_test"
   ]
  },
  {
   "cell_type": "code",
   "execution_count": null,
   "metadata": {},
   "outputs": [],
   "source": [
    "# train_test['double_height'] = train_test.apply(choose_exit_price, axis=1)\n",
    "# train_test['double_height'] = daily.loc[daily.index == daily_pattern.loc[10,'pattern_end'],'double_height'].item()\n",
    "#train_test.loc['double_height'] = [target_value for x in train_test.loc[:,['double_height']]]\n",
    "train_test.insert(0, 'target_price', target_value)\n",
    "# train_test.insert(0, 'signal', signal)"
   ]
  },
  {
   "cell_type": "code",
   "execution_count": null,
   "metadata": {},
   "outputs": [],
   "source": [
    "signal = daily.loc[daily.index == daily_pattern.loc[10,'pattern_end'],'marubozu'].item()\n",
    "signal"
   ]
  },
  {
   "cell_type": "code",
   "execution_count": null,
   "metadata": {},
   "outputs": [],
   "source": [
    "train_test.head()"
   ]
  },
  {
   "cell_type": "code",
   "execution_count": null,
   "metadata": {
    "scrolled": true
   },
   "outputs": [],
   "source": [
    "[signal] * (len(train_test)-1)"
   ]
  },
  {
   "cell_type": "code",
   "execution_count": null,
   "metadata": {},
   "outputs": [],
   "source": [
    "#train_test.loc[:,['signal']] = [signal] * (len(train_test))\n",
    "# train_test.loc[:,['signal']] = [signal]\n",
    "# df.insert(0, 'A', 'foo')\n",
    "train_test.insert(0, 'signal', signal)"
   ]
  },
  {
   "cell_type": "code",
   "execution_count": null,
   "metadata": {},
   "outputs": [],
   "source": [
    "train_test.tail(6)"
   ]
  },
  {
   "cell_type": "code",
   "execution_count": null,
   "metadata": {},
   "outputs": [],
   "source": [
    "# start=len(train)\n",
    "# end=len(train)+len(test)-1\n",
    "start = len(train_test)-5\n",
    "end = len(train_test)-1\n",
    "start, end"
   ]
  },
  {
   "cell_type": "code",
   "execution_count": null,
   "metadata": {},
   "outputs": [],
   "source": [
    "# Set for testing\n",
    "train = train_test.iloc[:start]\n",
    "test = train_test.iloc[start:]"
   ]
  },
  {
   "cell_type": "code",
   "execution_count": null,
   "metadata": {},
   "outputs": [],
   "source": [
    "test.head()"
   ]
  },
  {
   "cell_type": "code",
   "execution_count": null,
   "metadata": {},
   "outputs": [],
   "source": [
    "def train_test_plot(train, test):\n",
    "    plt.figure(figsize=(16, 8))\n",
    "    plt.plot(train, c='blue')\n",
    "    plt.plot(test, c='orange');"
   ]
  },
  {
   "cell_type": "code",
   "execution_count": null,
   "metadata": {},
   "outputs": [],
   "source": [
    "# This plot confirms that our train test split makes sense\n",
    "train_test_plot(train['close'], test['close'])"
   ]
  },
  {
   "cell_type": "code",
   "execution_count": null,
   "metadata": {},
   "outputs": [],
   "source": [
    "auto_arima(daily['close'].dropna(), seasonal=False).summary()"
   ]
  },
  {
   "cell_type": "code",
   "execution_count": null,
   "metadata": {},
   "outputs": [],
   "source": [
    "train"
   ]
  },
  {
   "cell_type": "code",
   "execution_count": null,
   "metadata": {},
   "outputs": [],
   "source": [
    "model = ARIMA(train['low'], order=(0,1,0))\n",
    "results = model.fit()\n",
    "results.summary()"
   ]
  },
  {
   "cell_type": "code",
   "execution_count": null,
   "metadata": {
    "scrolled": true
   },
   "outputs": [],
   "source": [
    "predictions = results.predict(start=start, end=end, dynamic=False, typ='levels').rename('ARIMA-0-1-0 Predictions')"
   ]
  },
  {
   "cell_type": "code",
   "execution_count": null,
   "metadata": {},
   "outputs": [],
   "source": [
    "predictions.values"
   ]
  },
  {
   "cell_type": "code",
   "execution_count": null,
   "metadata": {},
   "outputs": [],
   "source": [
    "type(predictions)"
   ]
  },
  {
   "cell_type": "code",
   "execution_count": null,
   "metadata": {},
   "outputs": [],
   "source": [
    "def justified(row):\n",
    "    \n",
    "    if row['signal'] == -1 and row['low'] <= row['double_height']:\n",
    "        return 1\n",
    "    elif row['signal'] == 1 and row['high'] >= row['double_height']:\n",
    "        return 1    \n",
    "    else:\n",
    "        return 0"
   ]
  },
  {
   "cell_type": "code",
   "execution_count": null,
   "metadata": {},
   "outputs": [],
   "source": [
    "outcomes = pd.DataFrame()\n",
    "outcomes['low'] = test['low']\n",
    "outcomes['high'] = test['high']\n",
    "\n",
    "outcomes['preds'] = predictions.values\n",
    "outcomes['target_price'] = test['target_price']\n",
    "# outcomes['direction'] = test['signal']\n",
    "outcomes['signal_match'] = test.apply(justified, axis=1)\n",
    "\n",
    "#daily_pre['double_height'] = daily_pre.apply(choose_exit_price, axis=1)\n",
    "# outcomes.append(predictions, ignore_index=True)\n",
    "outcomes"
   ]
  },
  {
   "cell_type": "code",
   "execution_count": null,
   "metadata": {},
   "outputs": [],
   "source": [
    "# predictions['date']  = test.index\n",
    "#predictions.reset_index(test.index)"
   ]
  },
  {
   "cell_type": "code",
   "execution_count": null,
   "metadata": {},
   "outputs": [],
   "source": [
    "# predictions.reindex(test.index)"
   ]
  },
  {
   "cell_type": "code",
   "execution_count": null,
   "metadata": {},
   "outputs": [],
   "source": [
    "type(predictions)"
   ]
  },
  {
   "cell_type": "code",
   "execution_count": null,
   "metadata": {},
   "outputs": [],
   "source": [
    "test.head()['close'].isnull().sum()"
   ]
  },
  {
   "cell_type": "code",
   "execution_count": null,
   "metadata": {},
   "outputs": [],
   "source": [
    "train.head()['close'].isnull().sum()"
   ]
  },
  {
   "cell_type": "code",
   "execution_count": null,
   "metadata": {},
   "outputs": [],
   "source": [
    "outcomes['low'].plot(legend=True, figsize=(12,8))\n",
    "outcomes['preds'].plot(legend=True);\n",
    "outcomes['target_price'].plot(legend=True);\n",
    "\n",
    "# predictions.plot(legend=True)"
   ]
  },
  {
   "cell_type": "code",
   "execution_count": null,
   "metadata": {},
   "outputs": [],
   "source": [
    "\n",
    "error = mean_squared_error(test['close'], predictions)\n",
    "print(f'ARIMA(0,1,0) MSE Error: {error:11.10}')\n",
    "\n",
    "\n",
    "error = rmse(test['close'], predictions)\n",
    "print(f'ARIMA(0,1,0) RMSE Error: {error:11.10}')"
   ]
  },
  {
   "cell_type": "code",
   "execution_count": null,
   "metadata": {},
   "outputs": [],
   "source": [
    "results = {'algo':'','name':'','date':'', 'time_frame':'','success':'','RMSE':'', 'MSE':'', 'classification':'' }\n"
   ]
  },
  {
   "cell_type": "code",
   "execution_count": null,
   "metadata": {},
   "outputs": [],
   "source": [
    "daily.columns"
   ]
  },
  {
   "cell_type": "markdown",
   "metadata": {},
   "source": [
    "---"
   ]
  },
  {
   "cell_type": "markdown",
   "metadata": {},
   "source": [
    "# SARIMAX\n"
   ]
  },
  {
   "cell_type": "code",
   "execution_count": null,
   "metadata": {},
   "outputs": [],
   "source": [
    "# daily = daily.resample('B').agg({'open':'first','high':'max',\n",
    "#                                         'low':'min', 'close':'last'})"
   ]
  },
  {
   "cell_type": "code",
   "execution_count": null,
   "metadata": {},
   "outputs": [],
   "source": [
    "daily.index"
   ]
  },
  {
   "cell_type": "code",
   "execution_count": null,
   "metadata": {},
   "outputs": [],
   "source": [
    "daily['close'].dropna(inplace=True)"
   ]
  },
  {
   "cell_type": "code",
   "execution_count": null,
   "metadata": {},
   "outputs": [],
   "source": [
    "result = seasonal_decompose(daily['close'], model='add', period=400 )\n",
    "result.plot();"
   ]
  },
  {
   "cell_type": "code",
   "execution_count": null,
   "metadata": {},
   "outputs": [],
   "source": [
    "%%time\n",
    "auto_arima(daily['close'], seasonal=True, maxiter=10000).summary()"
   ]
  },
  {
   "cell_type": "code",
   "execution_count": null,
   "metadata": {},
   "outputs": [],
   "source": [
    "model = SARIMAX(train['close'], order=(0,1,0), seasonal_order=(1,0,1,12))"
   ]
  },
  {
   "cell_type": "code",
   "execution_count": null,
   "metadata": {},
   "outputs": [],
   "source": []
  },
  {
   "cell_type": "code",
   "execution_count": null,
   "metadata": {},
   "outputs": [],
   "source": []
  },
  {
   "cell_type": "code",
   "execution_count": null,
   "metadata": {},
   "outputs": [],
   "source": []
  },
  {
   "cell_type": "code",
   "execution_count": null,
   "metadata": {},
   "outputs": [],
   "source": []
  }
 ],
 "metadata": {
  "kernelspec": {
   "display_name": "Python 3",
   "language": "python",
   "name": "python3"
  },
  "language_info": {
   "codemirror_mode": {
    "name": "ipython",
    "version": 3
   },
   "file_extension": ".py",
   "mimetype": "text/x-python",
   "name": "python",
   "nbconvert_exporter": "python",
   "pygments_lexer": "ipython3",
   "version": "3.7.6"
  }
 },
 "nbformat": 4,
 "nbformat_minor": 4
}
