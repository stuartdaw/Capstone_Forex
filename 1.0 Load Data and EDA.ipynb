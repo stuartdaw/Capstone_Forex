{
 "cells": [
  {
   "cell_type": "markdown",
   "metadata": {},
   "source": [
    "# 1.0 Load Data and EDA"
   ]
  },
  {
   "cell_type": "markdown",
   "metadata": {},
   "source": [
    "### Work book summary\n",
    "\n",
    "In this workbook:\n",
    "+ The forex and gold prices are loaded\n",
    "+ "
   ]
  },
  {
   "cell_type": "code",
   "execution_count": 1,
   "metadata": {},
   "outputs": [],
   "source": [
    "import pandas as pd\n",
    "import numpy as np\n",
    "import seaborn as sns\n",
    "import matplotlib.pyplot as plt\n",
    "%matplotlib inline\n",
    "import datetime\n",
    "import calendar"
   ]
  },
  {
   "cell_type": "markdown",
   "metadata": {},
   "source": [
    "---"
   ]
  },
  {
   "cell_type": "markdown",
   "metadata": {},
   "source": [
    "### Contents:\n",
    "- [1.0 Data Source](#1.0-Data-Source)\n",
    "- [2.0 Data Import](#2.0-Data-Import)\n",
    "- [3.0 EDA Forex](#3.0-EDA-Forex)\n",
    "    - [3.1 Summary Statistics](#3.1-Summary-Statistics)\n",
    "    - [3.2 Investigate Outliers](#3.2-Investigate-Outliers)\n",
    "    - [3.3 Plot Distributions](#3.3-Plot-Distributions)\n",
    "    - [3.4 Check Seasonality](#3.4-Check-Seasonality)\n",
    "- [4.0 EDA Gold](#4.0-EDA-Gold)"
   ]
  },
  {
   "cell_type": "markdown",
   "metadata": {},
   "source": [
    "---"
   ]
  },
  {
   "cell_type": "markdown",
   "metadata": {},
   "source": [
    "# 1.0 Data Source\n",
    "\n",
    "The EUR/USD data came from the following web page - [FOREX data](https://www.histdata.com/).\n",
    "    + The prices date from 2000 and 2019\n",
    "\n",
    "The gold data came from the world gold council website - [Gold Data](https://www.gold.org/goldhub/data/gold-prices)\n",
    "    + The data covers the forex time frame\n"
   ]
  },
  {
   "cell_type": "markdown",
   "metadata": {},
   "source": [
    "---"
   ]
  },
  {
   "cell_type": "markdown",
   "metadata": {},
   "source": [
    "# 2.0 Load Data"
   ]
  },
  {
   "cell_type": "markdown",
   "metadata": {},
   "source": [
    "---"
   ]
  },
  {
   "cell_type": "code",
   "execution_count": 2,
   "metadata": {},
   "outputs": [],
   "source": [
    "# Column Names\n",
    "header_list = ['date','open','high','low','close','misc']"
   ]
  },
  {
   "cell_type": "code",
   "execution_count": 3,
   "metadata": {},
   "outputs": [],
   "source": [
    "# Pull back data for \n",
    "for i in range(2000,2020):\n",
    "    if i == 2000:\n",
    "        eur_usd = pd.read_csv('/Users/stuartdaw/Documents/Capstone_data/data/csv/EURUSD_' + str(i) + '.csv', \n",
    "                              parse_dates=True, names=header_list, index_col='date')\n",
    "    else:\n",
    "        df = pd.read_csv('/Users/stuartdaw/Documents/Capstone_data/data/csv/EURUSD_' + str(i) + '.csv', \n",
    "                         parse_dates=True, names=header_list, index_col='date')\n",
    "        eur_usd = pd.concat([eur_usd, df])"
   ]
  },
  {
   "cell_type": "markdown",
   "metadata": {},
   "source": [
    "---"
   ]
  },
  {
   "cell_type": "markdown",
   "metadata": {},
   "source": [
    "# 3.0 EDA Forex"
   ]
  },
  {
   "cell_type": "markdown",
   "metadata": {},
   "source": [
    "## 3.1 Summary Statistics"
   ]
  },
  {
   "cell_type": "code",
   "execution_count": 4,
   "metadata": {},
   "outputs": [
    {
     "data": {
      "text/html": [
       "<div>\n",
       "<style scoped>\n",
       "    .dataframe tbody tr th:only-of-type {\n",
       "        vertical-align: middle;\n",
       "    }\n",
       "\n",
       "    .dataframe tbody tr th {\n",
       "        vertical-align: top;\n",
       "    }\n",
       "\n",
       "    .dataframe thead th {\n",
       "        text-align: right;\n",
       "    }\n",
       "</style>\n",
       "<table border=\"1\" class=\"dataframe\">\n",
       "  <thead>\n",
       "    <tr style=\"text-align: right;\">\n",
       "      <th></th>\n",
       "      <th>open</th>\n",
       "      <th>high</th>\n",
       "      <th>low</th>\n",
       "      <th>close</th>\n",
       "      <th>misc</th>\n",
       "    </tr>\n",
       "    <tr>\n",
       "      <th>date</th>\n",
       "      <th></th>\n",
       "      <th></th>\n",
       "      <th></th>\n",
       "      <th></th>\n",
       "      <th></th>\n",
       "    </tr>\n",
       "  </thead>\n",
       "  <tbody>\n",
       "    <tr>\n",
       "      <th>2000-05-30 17:27:00</th>\n",
       "      <td>0.9302</td>\n",
       "      <td>0.9302</td>\n",
       "      <td>0.9302</td>\n",
       "      <td>0.9302</td>\n",
       "      <td>0.0</td>\n",
       "    </tr>\n",
       "    <tr>\n",
       "      <th>2000-05-31 00:50:00</th>\n",
       "      <td>0.9315</td>\n",
       "      <td>0.9315</td>\n",
       "      <td>0.9315</td>\n",
       "      <td>0.9315</td>\n",
       "      <td>0.0</td>\n",
       "    </tr>\n",
       "    <tr>\n",
       "      <th>2000-05-31 00:51:00</th>\n",
       "      <td>0.9315</td>\n",
       "      <td>0.9315</td>\n",
       "      <td>0.9315</td>\n",
       "      <td>0.9315</td>\n",
       "      <td>0.0</td>\n",
       "    </tr>\n",
       "    <tr>\n",
       "      <th>2000-05-31 00:55:00</th>\n",
       "      <td>0.9317</td>\n",
       "      <td>0.9317</td>\n",
       "      <td>0.9317</td>\n",
       "      <td>0.9317</td>\n",
       "      <td>0.0</td>\n",
       "    </tr>\n",
       "    <tr>\n",
       "      <th>2000-05-31 01:01:00</th>\n",
       "      <td>0.9318</td>\n",
       "      <td>0.9318</td>\n",
       "      <td>0.9318</td>\n",
       "      <td>0.9318</td>\n",
       "      <td>0.0</td>\n",
       "    </tr>\n",
       "  </tbody>\n",
       "</table>\n",
       "</div>"
      ],
      "text/plain": [
       "                       open    high     low   close  misc\n",
       "date                                                     \n",
       "2000-05-30 17:27:00  0.9302  0.9302  0.9302  0.9302   0.0\n",
       "2000-05-31 00:50:00  0.9315  0.9315  0.9315  0.9315   0.0\n",
       "2000-05-31 00:51:00  0.9315  0.9315  0.9315  0.9315   0.0\n",
       "2000-05-31 00:55:00  0.9317  0.9317  0.9317  0.9317   0.0\n",
       "2000-05-31 01:01:00  0.9318  0.9318  0.9318  0.9318   0.0"
      ]
     },
     "execution_count": 4,
     "metadata": {},
     "output_type": "execute_result"
    }
   ],
   "source": [
    "# Check head and tail\n",
    "eur_usd.head()"
   ]
  },
  {
   "cell_type": "code",
   "execution_count": 5,
   "metadata": {},
   "outputs": [
    {
     "data": {
      "text/html": [
       "<div>\n",
       "<style scoped>\n",
       "    .dataframe tbody tr th:only-of-type {\n",
       "        vertical-align: middle;\n",
       "    }\n",
       "\n",
       "    .dataframe tbody tr th {\n",
       "        vertical-align: top;\n",
       "    }\n",
       "\n",
       "    .dataframe thead th {\n",
       "        text-align: right;\n",
       "    }\n",
       "</style>\n",
       "<table border=\"1\" class=\"dataframe\">\n",
       "  <thead>\n",
       "    <tr style=\"text-align: right;\">\n",
       "      <th></th>\n",
       "      <th>open</th>\n",
       "      <th>high</th>\n",
       "      <th>low</th>\n",
       "      <th>close</th>\n",
       "      <th>misc</th>\n",
       "    </tr>\n",
       "    <tr>\n",
       "      <th>date</th>\n",
       "      <th></th>\n",
       "      <th></th>\n",
       "      <th></th>\n",
       "      <th></th>\n",
       "      <th></th>\n",
       "    </tr>\n",
       "  </thead>\n",
       "  <tbody>\n",
       "    <tr>\n",
       "      <th>2019-12-31 16:55:00</th>\n",
       "      <td>1.12117</td>\n",
       "      <td>1.12118</td>\n",
       "      <td>1.12115</td>\n",
       "      <td>1.12118</td>\n",
       "      <td>0.0</td>\n",
       "    </tr>\n",
       "    <tr>\n",
       "      <th>2019-12-31 16:56:00</th>\n",
       "      <td>1.12118</td>\n",
       "      <td>1.12120</td>\n",
       "      <td>1.12115</td>\n",
       "      <td>1.12115</td>\n",
       "      <td>0.0</td>\n",
       "    </tr>\n",
       "    <tr>\n",
       "      <th>2019-12-31 16:57:00</th>\n",
       "      <td>1.12115</td>\n",
       "      <td>1.12115</td>\n",
       "      <td>1.12105</td>\n",
       "      <td>1.12105</td>\n",
       "      <td>0.0</td>\n",
       "    </tr>\n",
       "    <tr>\n",
       "      <th>2019-12-31 16:58:00</th>\n",
       "      <td>1.12105</td>\n",
       "      <td>1.12110</td>\n",
       "      <td>1.12099</td>\n",
       "      <td>1.12099</td>\n",
       "      <td>0.0</td>\n",
       "    </tr>\n",
       "    <tr>\n",
       "      <th>2019-12-31 16:59:00</th>\n",
       "      <td>1.12099</td>\n",
       "      <td>1.12115</td>\n",
       "      <td>1.12076</td>\n",
       "      <td>1.12076</td>\n",
       "      <td>0.0</td>\n",
       "    </tr>\n",
       "  </tbody>\n",
       "</table>\n",
       "</div>"
      ],
      "text/plain": [
       "                        open     high      low    close  misc\n",
       "date                                                         \n",
       "2019-12-31 16:55:00  1.12117  1.12118  1.12115  1.12118   0.0\n",
       "2019-12-31 16:56:00  1.12118  1.12120  1.12115  1.12115   0.0\n",
       "2019-12-31 16:57:00  1.12115  1.12115  1.12105  1.12105   0.0\n",
       "2019-12-31 16:58:00  1.12105  1.12110  1.12099  1.12099   0.0\n",
       "2019-12-31 16:59:00  1.12099  1.12115  1.12076  1.12076   0.0"
      ]
     },
     "execution_count": 5,
     "metadata": {},
     "output_type": "execute_result"
    }
   ],
   "source": [
    "eur_usd.tail()"
   ]
  },
  {
   "cell_type": "code",
   "execution_count": 6,
   "metadata": {},
   "outputs": [
    {
     "data": {
      "text/plain": [
       "(6539013, 5)"
      ]
     },
     "execution_count": 6,
     "metadata": {},
     "output_type": "execute_result"
    }
   ],
   "source": [
    "# Check Shape\n",
    "eur_usd.shape"
   ]
  },
  {
   "cell_type": "code",
   "execution_count": 7,
   "metadata": {},
   "outputs": [],
   "source": [
    "# eur_usd.loc[eur_usd.index == '25/12/2019']"
   ]
  },
  {
   "cell_type": "code",
   "execution_count": 8,
   "metadata": {},
   "outputs": [
    {
     "data": {
      "text/plain": [
       "open     0\n",
       "high     0\n",
       "low      0\n",
       "close    0\n",
       "misc     0\n",
       "dtype: int64"
      ]
     },
     "execution_count": 8,
     "metadata": {},
     "output_type": "execute_result"
    }
   ],
   "source": [
    "# Check for any errors\n",
    "eur_usd.isnull().sum()"
   ]
  },
  {
   "cell_type": "code",
   "execution_count": 9,
   "metadata": {},
   "outputs": [],
   "source": [
    "# eur_usd.loc[eur_usd.isnull().index]"
   ]
  },
  {
   "cell_type": "code",
   "execution_count": 10,
   "metadata": {},
   "outputs": [
    {
     "data": {
      "text/plain": [
       "open     float64\n",
       "high     float64\n",
       "low      float64\n",
       "close    float64\n",
       "misc     float64\n",
       "dtype: object"
      ]
     },
     "execution_count": 10,
     "metadata": {},
     "output_type": "execute_result"
    }
   ],
   "source": [
    "# Check data types\n",
    "eur_usd.dtypes"
   ]
  },
  {
   "cell_type": "markdown",
   "metadata": {},
   "source": [
    "#### All are float values"
   ]
  },
  {
   "cell_type": "code",
   "execution_count": 11,
   "metadata": {},
   "outputs": [
    {
     "data": {
      "text/html": [
       "<div>\n",
       "<style scoped>\n",
       "    .dataframe tbody tr th:only-of-type {\n",
       "        vertical-align: middle;\n",
       "    }\n",
       "\n",
       "    .dataframe tbody tr th {\n",
       "        vertical-align: top;\n",
       "    }\n",
       "\n",
       "    .dataframe thead th {\n",
       "        text-align: right;\n",
       "    }\n",
       "</style>\n",
       "<table border=\"1\" class=\"dataframe\">\n",
       "  <thead>\n",
       "    <tr style=\"text-align: right;\">\n",
       "      <th></th>\n",
       "      <th>open</th>\n",
       "      <th>high</th>\n",
       "      <th>low</th>\n",
       "      <th>close</th>\n",
       "      <th>misc</th>\n",
       "    </tr>\n",
       "  </thead>\n",
       "  <tbody>\n",
       "    <tr>\n",
       "      <th>count</th>\n",
       "      <td>6.539013e+06</td>\n",
       "      <td>6.539013e+06</td>\n",
       "      <td>6.539013e+06</td>\n",
       "      <td>6.539013e+06</td>\n",
       "      <td>6539013.0</td>\n",
       "    </tr>\n",
       "    <tr>\n",
       "      <th>mean</th>\n",
       "      <td>1.228013e+00</td>\n",
       "      <td>1.228118e+00</td>\n",
       "      <td>1.227910e+00</td>\n",
       "      <td>1.228014e+00</td>\n",
       "      <td>0.0</td>\n",
       "    </tr>\n",
       "    <tr>\n",
       "      <th>std</th>\n",
       "      <td>7.831060e-01</td>\n",
       "      <td>7.831092e-01</td>\n",
       "      <td>7.831029e-01</td>\n",
       "      <td>7.831061e-01</td>\n",
       "      <td>0.0</td>\n",
       "    </tr>\n",
       "    <tr>\n",
       "      <th>min</th>\n",
       "      <td>-1.000000e-04</td>\n",
       "      <td>-1.000000e-04</td>\n",
       "      <td>-1.000000e-04</td>\n",
       "      <td>-1.000000e-04</td>\n",
       "      <td>0.0</td>\n",
       "    </tr>\n",
       "    <tr>\n",
       "      <th>25%</th>\n",
       "      <td>1.123140e+00</td>\n",
       "      <td>1.123230e+00</td>\n",
       "      <td>1.123060e+00</td>\n",
       "      <td>1.123140e+00</td>\n",
       "      <td>0.0</td>\n",
       "    </tr>\n",
       "    <tr>\n",
       "      <th>50%</th>\n",
       "      <td>1.236500e+00</td>\n",
       "      <td>1.236600e+00</td>\n",
       "      <td>1.236400e+00</td>\n",
       "      <td>1.236500e+00</td>\n",
       "      <td>0.0</td>\n",
       "    </tr>\n",
       "    <tr>\n",
       "      <th>75%</th>\n",
       "      <td>1.336480e+00</td>\n",
       "      <td>1.336570e+00</td>\n",
       "      <td>1.336390e+00</td>\n",
       "      <td>1.336480e+00</td>\n",
       "      <td>0.0</td>\n",
       "    </tr>\n",
       "    <tr>\n",
       "      <th>max</th>\n",
       "      <td>1.965000e+03</td>\n",
       "      <td>1.965000e+03</td>\n",
       "      <td>1.965000e+03</td>\n",
       "      <td>1.965000e+03</td>\n",
       "      <td>0.0</td>\n",
       "    </tr>\n",
       "  </tbody>\n",
       "</table>\n",
       "</div>"
      ],
      "text/plain": [
       "               open          high           low         close       misc\n",
       "count  6.539013e+06  6.539013e+06  6.539013e+06  6.539013e+06  6539013.0\n",
       "mean   1.228013e+00  1.228118e+00  1.227910e+00  1.228014e+00        0.0\n",
       "std    7.831060e-01  7.831092e-01  7.831029e-01  7.831061e-01        0.0\n",
       "min   -1.000000e-04 -1.000000e-04 -1.000000e-04 -1.000000e-04        0.0\n",
       "25%    1.123140e+00  1.123230e+00  1.123060e+00  1.123140e+00        0.0\n",
       "50%    1.236500e+00  1.236600e+00  1.236400e+00  1.236500e+00        0.0\n",
       "75%    1.336480e+00  1.336570e+00  1.336390e+00  1.336480e+00        0.0\n",
       "max    1.965000e+03  1.965000e+03  1.965000e+03  1.965000e+03        0.0"
      ]
     },
     "execution_count": 11,
     "metadata": {},
     "output_type": "execute_result"
    }
   ],
   "source": [
    "# Look at the statistics\n",
    "eur_usd.describe()"
   ]
  },
  {
   "cell_type": "markdown",
   "metadata": {},
   "source": [
    "## Observations\n",
    "\n",
    "+ There appears to be some errors as negative pricing for minimium price looks wrong\n",
    "\n",
    "+ The standard deviation is consistent across all for Open, High, Low and close columns which is as expected and is around  0.78 \n",
    "\n",
    "+ The trading high and mean both look sensible given checking against external sources such as [xe.com](https://www.xe.com/currencycharts/?from=EUR&to=USD)"
   ]
  },
  {
   "cell_type": "markdown",
   "metadata": {},
   "source": [
    "## 3.2 Investigate Outliers"
   ]
  },
  {
   "cell_type": "code",
   "execution_count": 12,
   "metadata": {},
   "outputs": [
    {
     "data": {
      "text/html": [
       "<div>\n",
       "<style scoped>\n",
       "    .dataframe tbody tr th:only-of-type {\n",
       "        vertical-align: middle;\n",
       "    }\n",
       "\n",
       "    .dataframe tbody tr th {\n",
       "        vertical-align: top;\n",
       "    }\n",
       "\n",
       "    .dataframe thead th {\n",
       "        text-align: right;\n",
       "    }\n",
       "</style>\n",
       "<table border=\"1\" class=\"dataframe\">\n",
       "  <thead>\n",
       "    <tr style=\"text-align: right;\">\n",
       "      <th></th>\n",
       "      <th>open</th>\n",
       "      <th>high</th>\n",
       "      <th>low</th>\n",
       "      <th>close</th>\n",
       "      <th>misc</th>\n",
       "    </tr>\n",
       "    <tr>\n",
       "      <th>date</th>\n",
       "      <th></th>\n",
       "      <th></th>\n",
       "      <th></th>\n",
       "      <th></th>\n",
       "      <th></th>\n",
       "    </tr>\n",
       "  </thead>\n",
       "  <tbody>\n",
       "    <tr>\n",
       "      <th>2001-09-11 20:12:00</th>\n",
       "      <td>-0.0001</td>\n",
       "      <td>-0.0001</td>\n",
       "      <td>-0.0001</td>\n",
       "      <td>-0.0001</td>\n",
       "      <td>0.0</td>\n",
       "    </tr>\n",
       "  </tbody>\n",
       "</table>\n",
       "</div>"
      ],
      "text/plain": [
       "                       open    high     low   close  misc\n",
       "date                                                     \n",
       "2001-09-11 20:12:00 -0.0001 -0.0001 -0.0001 -0.0001   0.0"
      ]
     },
     "execution_count": 12,
     "metadata": {},
     "output_type": "execute_result"
    }
   ],
   "source": [
    "eur_usd.loc[(eur_usd['open'] < 0) | (eur_usd['high'] < 0) |(eur_usd['low'] < 0) | (eur_usd['close'] < 0)]"
   ]
  },
  {
   "cell_type": "code",
   "execution_count": 13,
   "metadata": {},
   "outputs": [
    {
     "data": {
      "text/html": [
       "<div>\n",
       "<style scoped>\n",
       "    .dataframe tbody tr th:only-of-type {\n",
       "        vertical-align: middle;\n",
       "    }\n",
       "\n",
       "    .dataframe tbody tr th {\n",
       "        vertical-align: top;\n",
       "    }\n",
       "\n",
       "    .dataframe thead th {\n",
       "        text-align: right;\n",
       "    }\n",
       "</style>\n",
       "<table border=\"1\" class=\"dataframe\">\n",
       "  <thead>\n",
       "    <tr style=\"text-align: right;\">\n",
       "      <th></th>\n",
       "      <th>open</th>\n",
       "      <th>high</th>\n",
       "      <th>low</th>\n",
       "      <th>close</th>\n",
       "      <th>misc</th>\n",
       "    </tr>\n",
       "    <tr>\n",
       "      <th>date</th>\n",
       "      <th></th>\n",
       "      <th></th>\n",
       "      <th></th>\n",
       "      <th></th>\n",
       "      <th></th>\n",
       "    </tr>\n",
       "  </thead>\n",
       "  <tbody>\n",
       "    <tr>\n",
       "      <th>2001-06-07 23:32:00</th>\n",
       "      <td>1965.0001</td>\n",
       "      <td>1965.0001</td>\n",
       "      <td>1965.0001</td>\n",
       "      <td>1965.0001</td>\n",
       "      <td>0.0</td>\n",
       "    </tr>\n",
       "  </tbody>\n",
       "</table>\n",
       "</div>"
      ],
      "text/plain": [
       "                          open       high        low      close  misc\n",
       "date                                                                 \n",
       "2001-06-07 23:32:00  1965.0001  1965.0001  1965.0001  1965.0001   0.0"
      ]
     },
     "execution_count": 13,
     "metadata": {},
     "output_type": "execute_result"
    }
   ],
   "source": [
    "eur_usd.loc[(eur_usd['open'] > 100) | (eur_usd['high'] > 100) |(eur_usd['low'] > 100) | (eur_usd['close']  > 100)]"
   ]
  },
  {
   "cell_type": "markdown",
   "metadata": {},
   "source": [
    "#### Investigate outliers and cross cheeck from different online sources\n",
    "\n",
    "+ First one looks like an error\n",
    "+ Second one looks wrong even if decimal place is corrected.\n",
    "\n",
    "As this is such a small proportion of the dataset and the time periods will be grouped together I will remove as it will have no effect.\n",
    "\n"
   ]
  },
  {
   "cell_type": "code",
   "execution_count": 14,
   "metadata": {},
   "outputs": [],
   "source": [
    "# Drop 2 rows\n",
    "eur_usd.drop(eur_usd.loc[(eur_usd['open'] < 0) | (eur_usd['high'] < 0) \n",
    "                         |(eur_usd['low'] < 0) | (eur_usd['close'] < 0)].index, inplace=True)"
   ]
  },
  {
   "cell_type": "code",
   "execution_count": 15,
   "metadata": {},
   "outputs": [],
   "source": [
    "eur_usd.drop(eur_usd.loc[(eur_usd['open'] > 100) | (eur_usd['high'] > 100) \n",
    "                         |(eur_usd['low'] > 100) | (eur_usd['close']  > 100)].index, inplace=True) \n"
   ]
  },
  {
   "cell_type": "code",
   "execution_count": 16,
   "metadata": {},
   "outputs": [],
   "source": [
    "# drop 'misc' columns as there is nothing there\n",
    "eur_usd.drop(columns='misc', inplace=True)"
   ]
  },
  {
   "cell_type": "code",
   "execution_count": 17,
   "metadata": {},
   "outputs": [
    {
     "data": {
      "text/html": [
       "<div>\n",
       "<style scoped>\n",
       "    .dataframe tbody tr th:only-of-type {\n",
       "        vertical-align: middle;\n",
       "    }\n",
       "\n",
       "    .dataframe tbody tr th {\n",
       "        vertical-align: top;\n",
       "    }\n",
       "\n",
       "    .dataframe thead th {\n",
       "        text-align: right;\n",
       "    }\n",
       "</style>\n",
       "<table border=\"1\" class=\"dataframe\">\n",
       "  <thead>\n",
       "    <tr style=\"text-align: right;\">\n",
       "      <th></th>\n",
       "      <th>open</th>\n",
       "      <th>high</th>\n",
       "      <th>low</th>\n",
       "      <th>close</th>\n",
       "    </tr>\n",
       "    <tr>\n",
       "      <th>date</th>\n",
       "      <th></th>\n",
       "      <th></th>\n",
       "      <th></th>\n",
       "      <th></th>\n",
       "    </tr>\n",
       "  </thead>\n",
       "  <tbody>\n",
       "    <tr>\n",
       "      <th>2000-05-30 17:27:00</th>\n",
       "      <td>0.9302</td>\n",
       "      <td>0.9302</td>\n",
       "      <td>0.9302</td>\n",
       "      <td>0.9302</td>\n",
       "    </tr>\n",
       "    <tr>\n",
       "      <th>2000-05-31 00:50:00</th>\n",
       "      <td>0.9315</td>\n",
       "      <td>0.9315</td>\n",
       "      <td>0.9315</td>\n",
       "      <td>0.9315</td>\n",
       "    </tr>\n",
       "    <tr>\n",
       "      <th>2000-05-31 00:51:00</th>\n",
       "      <td>0.9315</td>\n",
       "      <td>0.9315</td>\n",
       "      <td>0.9315</td>\n",
       "      <td>0.9315</td>\n",
       "    </tr>\n",
       "    <tr>\n",
       "      <th>2000-05-31 00:55:00</th>\n",
       "      <td>0.9317</td>\n",
       "      <td>0.9317</td>\n",
       "      <td>0.9317</td>\n",
       "      <td>0.9317</td>\n",
       "    </tr>\n",
       "    <tr>\n",
       "      <th>2000-05-31 01:01:00</th>\n",
       "      <td>0.9318</td>\n",
       "      <td>0.9318</td>\n",
       "      <td>0.9318</td>\n",
       "      <td>0.9318</td>\n",
       "    </tr>\n",
       "  </tbody>\n",
       "</table>\n",
       "</div>"
      ],
      "text/plain": [
       "                       open    high     low   close\n",
       "date                                               \n",
       "2000-05-30 17:27:00  0.9302  0.9302  0.9302  0.9302\n",
       "2000-05-31 00:50:00  0.9315  0.9315  0.9315  0.9315\n",
       "2000-05-31 00:51:00  0.9315  0.9315  0.9315  0.9315\n",
       "2000-05-31 00:55:00  0.9317  0.9317  0.9317  0.9317\n",
       "2000-05-31 01:01:00  0.9318  0.9318  0.9318  0.9318"
      ]
     },
     "execution_count": 17,
     "metadata": {},
     "output_type": "execute_result"
    }
   ],
   "source": [
    "# check its complete\n",
    "eur_usd.head()"
   ]
  },
  {
   "cell_type": "code",
   "execution_count": 18,
   "metadata": {},
   "outputs": [
    {
     "data": {
      "text/plain": [
       "(6539011, 4)"
      ]
     },
     "execution_count": 18,
     "metadata": {},
     "output_type": "execute_result"
    }
   ],
   "source": [
    "# See shape\n",
    "eur_usd.shape"
   ]
  },
  {
   "cell_type": "code",
   "execution_count": 19,
   "metadata": {},
   "outputs": [
    {
     "data": {
      "text/plain": [
       "open     0\n",
       "high     0\n",
       "low      0\n",
       "close    0\n",
       "dtype: int64"
      ]
     },
     "execution_count": 19,
     "metadata": {},
     "output_type": "execute_result"
    }
   ],
   "source": [
    "# Check for missing data\n",
    "eur_usd.isnull().sum()"
   ]
  },
  {
   "cell_type": "code",
   "execution_count": 20,
   "metadata": {},
   "outputs": [
    {
     "data": {
      "text/html": [
       "<div>\n",
       "<style scoped>\n",
       "    .dataframe tbody tr th:only-of-type {\n",
       "        vertical-align: middle;\n",
       "    }\n",
       "\n",
       "    .dataframe tbody tr th {\n",
       "        vertical-align: top;\n",
       "    }\n",
       "\n",
       "    .dataframe thead th {\n",
       "        text-align: right;\n",
       "    }\n",
       "</style>\n",
       "<table border=\"1\" class=\"dataframe\">\n",
       "  <thead>\n",
       "    <tr style=\"text-align: right;\">\n",
       "      <th></th>\n",
       "      <th>open</th>\n",
       "      <th>high</th>\n",
       "      <th>low</th>\n",
       "      <th>close</th>\n",
       "    </tr>\n",
       "  </thead>\n",
       "  <tbody>\n",
       "    <tr>\n",
       "      <th>count</th>\n",
       "      <td>6.539011e+06</td>\n",
       "      <td>6.539011e+06</td>\n",
       "      <td>6.539011e+06</td>\n",
       "      <td>6.539011e+06</td>\n",
       "    </tr>\n",
       "    <tr>\n",
       "      <th>mean</th>\n",
       "      <td>1.227713e+00</td>\n",
       "      <td>1.227818e+00</td>\n",
       "      <td>1.227610e+00</td>\n",
       "      <td>1.227714e+00</td>\n",
       "    </tr>\n",
       "    <tr>\n",
       "      <th>std</th>\n",
       "      <td>1.533031e-01</td>\n",
       "      <td>1.533198e-01</td>\n",
       "      <td>1.532871e-01</td>\n",
       "      <td>1.533035e-01</td>\n",
       "    </tr>\n",
       "    <tr>\n",
       "      <th>min</th>\n",
       "      <td>8.232000e-01</td>\n",
       "      <td>8.234000e-01</td>\n",
       "      <td>8.229000e-01</td>\n",
       "      <td>8.233000e-01</td>\n",
       "    </tr>\n",
       "    <tr>\n",
       "      <th>25%</th>\n",
       "      <td>1.123140e+00</td>\n",
       "      <td>1.123230e+00</td>\n",
       "      <td>1.123060e+00</td>\n",
       "      <td>1.123140e+00</td>\n",
       "    </tr>\n",
       "    <tr>\n",
       "      <th>50%</th>\n",
       "      <td>1.236500e+00</td>\n",
       "      <td>1.236600e+00</td>\n",
       "      <td>1.236400e+00</td>\n",
       "      <td>1.236500e+00</td>\n",
       "    </tr>\n",
       "    <tr>\n",
       "      <th>75%</th>\n",
       "      <td>1.336480e+00</td>\n",
       "      <td>1.336570e+00</td>\n",
       "      <td>1.336390e+00</td>\n",
       "      <td>1.336480e+00</td>\n",
       "    </tr>\n",
       "    <tr>\n",
       "      <th>max</th>\n",
       "      <td>1.603600e+00</td>\n",
       "      <td>1.604100e+00</td>\n",
       "      <td>1.603200e+00</td>\n",
       "      <td>1.603800e+00</td>\n",
       "    </tr>\n",
       "  </tbody>\n",
       "</table>\n",
       "</div>"
      ],
      "text/plain": [
       "               open          high           low         close\n",
       "count  6.539011e+06  6.539011e+06  6.539011e+06  6.539011e+06\n",
       "mean   1.227713e+00  1.227818e+00  1.227610e+00  1.227714e+00\n",
       "std    1.533031e-01  1.533198e-01  1.532871e-01  1.533035e-01\n",
       "min    8.232000e-01  8.234000e-01  8.229000e-01  8.233000e-01\n",
       "25%    1.123140e+00  1.123230e+00  1.123060e+00  1.123140e+00\n",
       "50%    1.236500e+00  1.236600e+00  1.236400e+00  1.236500e+00\n",
       "75%    1.336480e+00  1.336570e+00  1.336390e+00  1.336480e+00\n",
       "max    1.603600e+00  1.604100e+00  1.603200e+00  1.603800e+00"
      ]
     },
     "execution_count": 20,
     "metadata": {},
     "output_type": "execute_result"
    }
   ],
   "source": [
    "# Recheck the statistics after the changes\n",
    "eur_usd.describe()"
   ]
  },
  {
   "cell_type": "markdown",
   "metadata": {},
   "source": [
    "#### Now they all look within range"
   ]
  },
  {
   "cell_type": "code",
   "execution_count": 21,
   "metadata": {},
   "outputs": [
    {
     "data": {
      "image/png": "[encoded data removed]",
      "text/plain": [
       "<Figure size 1440x1008 with 1 Axes>"
      ]
     },
     "metadata": {
      "needs_background": "light"
     },
     "output_type": "display_data"
    }
   ],
   "source": [
    "# Plot violin charts to see the distibutions and spread of data\n",
    "plt.subplots(figsize=(20,14))\n",
    "\n",
    "# By year\n",
    "ax1 = plt.subplot(2,1,1)\n",
    "sns.violinplot(x=eur_usd.index.year, y='open', data=eur_usd).set_xlabel('year', size=14)\n",
    "plt.title('Distribution by year', size=16)\n",
    "plt.xticks(size=14);\n"
   ]
  },
  {
   "cell_type": "markdown",
   "metadata": {},
   "source": [
    "The Violn plot shows the distrbution of the prices each year. The distribution shows that each year has different spread or deviation of prices. This is caused by the volatiilty in the market and you can see in 2008 and 2009 tall thin distributions. This was due to the financial crisis. 2019 looks almost like its formaing a normal distribution and the price stayed stable throughout the year.\n",
    "\n",
    "The yearly plots look like a series of normal distributions stuck together. This is due to the prices moving and then staying still and trading within a range before more significant news movs the mean again."
   ]
  },
  {
   "cell_type": "code",
   "execution_count": 22,
   "metadata": {
    "scrolled": false
   },
   "outputs": [
    {
     "data": {
      "text/plain": [
       "Text(0, 0.5, 'all data')"
      ]
     },
     "execution_count": 22,
     "metadata": {},
     "output_type": "execute_result"
    },
    {
     "data": {
      "image/png": "[encoded data removed]",
      "text/plain": [
       "<Figure size 1440x1008 with 1 Axes>"
      ]
     },
     "metadata": {
      "needs_background": "light"
     },
     "output_type": "display_data"
    }
   ],
   "source": [
    "# Plot violin charts to see the distibutions and spread of data all together\n",
    "plt.subplots(figsize=(20,14))\n",
    "\n",
    "ax = sns.violinplot(x=eur_usd[\"open\"])\n",
    "plt.title('2000 -2019 Distribution', size=16)\n",
    "plt.xlabel('eur/usd prices',size=16);\n",
    "plt.ylabel('all data',size=16)"
   ]
  },
  {
   "cell_type": "markdown",
   "metadata": {},
   "source": [
    "#### Observations\n",
    "\n",
    "All the data together hasnt formed a normal distribution but is looks like its starting to. It doesnt have an extreme skew. It still currently looks like mulitple distributions stuck together."
   ]
  },
  {
   "cell_type": "markdown",
   "metadata": {},
   "source": [
    "## Check for seasonality"
   ]
  },
  {
   "cell_type": "code",
   "execution_count": 23,
   "metadata": {},
   "outputs": [],
   "source": [
    "# Create useful date features\n",
    "eur_usd['year'] = eur_usd.index.year\n",
    "eur_usd['month'] = eur_usd.index.month\n",
    "eur_usd['day'] = eur_usd.index.day"
   ]
  },
  {
   "cell_type": "code",
   "execution_count": 24,
   "metadata": {},
   "outputs": [
    {
     "data": {
      "text/html": [
       "<div>\n",
       "<style scoped>\n",
       "    .dataframe tbody tr th:only-of-type {\n",
       "        vertical-align: middle;\n",
       "    }\n",
       "\n",
       "    .dataframe tbody tr th {\n",
       "        vertical-align: top;\n",
       "    }\n",
       "\n",
       "    .dataframe thead th {\n",
       "        text-align: right;\n",
       "    }\n",
       "</style>\n",
       "<table border=\"1\" class=\"dataframe\">\n",
       "  <thead>\n",
       "    <tr style=\"text-align: right;\">\n",
       "      <th></th>\n",
       "      <th>open</th>\n",
       "      <th>high</th>\n",
       "      <th>low</th>\n",
       "      <th>close</th>\n",
       "      <th>year</th>\n",
       "      <th>month</th>\n",
       "      <th>day</th>\n",
       "    </tr>\n",
       "    <tr>\n",
       "      <th>date</th>\n",
       "      <th></th>\n",
       "      <th></th>\n",
       "      <th></th>\n",
       "      <th></th>\n",
       "      <th></th>\n",
       "      <th></th>\n",
       "      <th></th>\n",
       "    </tr>\n",
       "  </thead>\n",
       "  <tbody>\n",
       "    <tr>\n",
       "      <th>2000-05-30 17:27:00</th>\n",
       "      <td>0.9302</td>\n",
       "      <td>0.9302</td>\n",
       "      <td>0.9302</td>\n",
       "      <td>0.9302</td>\n",
       "      <td>2000</td>\n",
       "      <td>5</td>\n",
       "      <td>30</td>\n",
       "    </tr>\n",
       "    <tr>\n",
       "      <th>2000-05-31 00:50:00</th>\n",
       "      <td>0.9315</td>\n",
       "      <td>0.9315</td>\n",
       "      <td>0.9315</td>\n",
       "      <td>0.9315</td>\n",
       "      <td>2000</td>\n",
       "      <td>5</td>\n",
       "      <td>31</td>\n",
       "    </tr>\n",
       "    <tr>\n",
       "      <th>2000-05-31 00:51:00</th>\n",
       "      <td>0.9315</td>\n",
       "      <td>0.9315</td>\n",
       "      <td>0.9315</td>\n",
       "      <td>0.9315</td>\n",
       "      <td>2000</td>\n",
       "      <td>5</td>\n",
       "      <td>31</td>\n",
       "    </tr>\n",
       "    <tr>\n",
       "      <th>2000-05-31 00:55:00</th>\n",
       "      <td>0.9317</td>\n",
       "      <td>0.9317</td>\n",
       "      <td>0.9317</td>\n",
       "      <td>0.9317</td>\n",
       "      <td>2000</td>\n",
       "      <td>5</td>\n",
       "      <td>31</td>\n",
       "    </tr>\n",
       "    <tr>\n",
       "      <th>2000-05-31 01:01:00</th>\n",
       "      <td>0.9318</td>\n",
       "      <td>0.9318</td>\n",
       "      <td>0.9318</td>\n",
       "      <td>0.9318</td>\n",
       "      <td>2000</td>\n",
       "      <td>5</td>\n",
       "      <td>31</td>\n",
       "    </tr>\n",
       "  </tbody>\n",
       "</table>\n",
       "</div>"
      ],
      "text/plain": [
       "                       open    high     low   close  year  month  day\n",
       "date                                                                 \n",
       "2000-05-30 17:27:00  0.9302  0.9302  0.9302  0.9302  2000      5   30\n",
       "2000-05-31 00:50:00  0.9315  0.9315  0.9315  0.9315  2000      5   31\n",
       "2000-05-31 00:51:00  0.9315  0.9315  0.9315  0.9315  2000      5   31\n",
       "2000-05-31 00:55:00  0.9317  0.9317  0.9317  0.9317  2000      5   31\n",
       "2000-05-31 01:01:00  0.9318  0.9318  0.9318  0.9318  2000      5   31"
      ]
     },
     "execution_count": 24,
     "metadata": {},
     "output_type": "execute_result"
    }
   ],
   "source": [
    "eur_usd.head()"
   ]
  },
  {
   "cell_type": "code",
   "execution_count": 25,
   "metadata": {},
   "outputs": [
    {
     "data": {
      "text/plain": [
       "1.6038"
      ]
     },
     "execution_count": 25,
     "metadata": {},
     "output_type": "execute_result"
    }
   ],
   "source": [
    "eur_usd['close'].max()"
   ]
  },
  {
   "cell_type": "code",
   "execution_count": 26,
   "metadata": {},
   "outputs": [
    {
     "data": {
      "text/html": [
       "<div>\n",
       "<style scoped>\n",
       "    .dataframe tbody tr th:only-of-type {\n",
       "        vertical-align: middle;\n",
       "    }\n",
       "\n",
       "    .dataframe tbody tr th {\n",
       "        vertical-align: top;\n",
       "    }\n",
       "\n",
       "    .dataframe thead th {\n",
       "        text-align: right;\n",
       "    }\n",
       "</style>\n",
       "<table border=\"1\" class=\"dataframe\">\n",
       "  <thead>\n",
       "    <tr style=\"text-align: right;\">\n",
       "      <th></th>\n",
       "      <th>close</th>\n",
       "      <th>month</th>\n",
       "      <th>year</th>\n",
       "    </tr>\n",
       "    <tr>\n",
       "      <th>date</th>\n",
       "      <th></th>\n",
       "      <th></th>\n",
       "      <th></th>\n",
       "    </tr>\n",
       "  </thead>\n",
       "  <tbody>\n",
       "    <tr>\n",
       "      <th>2000-05-31</th>\n",
       "      <td>0.9379</td>\n",
       "      <td>5</td>\n",
       "      <td>2000</td>\n",
       "    </tr>\n",
       "    <tr>\n",
       "      <th>2000-06-30</th>\n",
       "      <td>0.9700</td>\n",
       "      <td>6</td>\n",
       "      <td>2000</td>\n",
       "    </tr>\n",
       "    <tr>\n",
       "      <th>2000-07-31</th>\n",
       "      <td>0.9598</td>\n",
       "      <td>7</td>\n",
       "      <td>2000</td>\n",
       "    </tr>\n",
       "    <tr>\n",
       "      <th>2000-08-31</th>\n",
       "      <td>0.9291</td>\n",
       "      <td>8</td>\n",
       "      <td>2000</td>\n",
       "    </tr>\n",
       "    <tr>\n",
       "      <th>2000-09-30</th>\n",
       "      <td>0.9040</td>\n",
       "      <td>9</td>\n",
       "      <td>2000</td>\n",
       "    </tr>\n",
       "    <tr>\n",
       "      <th>2000-10-31</th>\n",
       "      <td>0.8860</td>\n",
       "      <td>10</td>\n",
       "      <td>2000</td>\n",
       "    </tr>\n",
       "    <tr>\n",
       "      <th>2000-11-30</th>\n",
       "      <td>0.8770</td>\n",
       "      <td>11</td>\n",
       "      <td>2000</td>\n",
       "    </tr>\n",
       "    <tr>\n",
       "      <th>2000-12-31</th>\n",
       "      <td>0.9387</td>\n",
       "      <td>12</td>\n",
       "      <td>2000</td>\n",
       "    </tr>\n",
       "    <tr>\n",
       "      <th>2001-01-31</th>\n",
       "      <td>0.9599</td>\n",
       "      <td>1</td>\n",
       "      <td>2001</td>\n",
       "    </tr>\n",
       "    <tr>\n",
       "      <th>2001-02-28</th>\n",
       "      <td>0.9445</td>\n",
       "      <td>2</td>\n",
       "      <td>2001</td>\n",
       "    </tr>\n",
       "    <tr>\n",
       "      <th>2001-03-31</th>\n",
       "      <td>0.9381</td>\n",
       "      <td>3</td>\n",
       "      <td>2001</td>\n",
       "    </tr>\n",
       "    <tr>\n",
       "      <th>2001-04-30</th>\n",
       "      <td>0.9091</td>\n",
       "      <td>4</td>\n",
       "      <td>2001</td>\n",
       "    </tr>\n",
       "    <tr>\n",
       "      <th>2001-05-31</th>\n",
       "      <td>0.9008</td>\n",
       "      <td>5</td>\n",
       "      <td>2001</td>\n",
       "    </tr>\n",
       "    <tr>\n",
       "      <th>2001-06-30</th>\n",
       "      <td>0.8672</td>\n",
       "      <td>6</td>\n",
       "      <td>2001</td>\n",
       "    </tr>\n",
       "  </tbody>\n",
       "</table>\n",
       "</div>"
      ],
      "text/plain": [
       "             close  month  year\n",
       "date                           \n",
       "2000-05-31  0.9379      5  2000\n",
       "2000-06-30  0.9700      6  2000\n",
       "2000-07-31  0.9598      7  2000\n",
       "2000-08-31  0.9291      8  2000\n",
       "2000-09-30  0.9040      9  2000\n",
       "2000-10-31  0.8860     10  2000\n",
       "2000-11-30  0.8770     11  2000\n",
       "2000-12-31  0.9387     12  2000\n",
       "2001-01-31  0.9599      1  2001\n",
       "2001-02-28  0.9445      2  2001\n",
       "2001-03-31  0.9381      3  2001\n",
       "2001-04-30  0.9091      4  2001\n",
       "2001-05-31  0.9008      5  2001\n",
       "2001-06-30  0.8672      6  2001"
      ]
     },
     "execution_count": 26,
     "metadata": {},
     "output_type": "execute_result"
    }
   ],
   "source": [
    "monthly = eur_usd[['close']].resample('M').max()\n",
    "monthly['month'] = monthly.index.month\n",
    "monthly['year'] = monthly.index.year\n",
    "\n",
    "monthly.head(14)"
   ]
  },
  {
   "cell_type": "code",
   "execution_count": 27,
   "metadata": {
    "scrolled": false
   },
   "outputs": [
    {
     "data": {
      "text/plain": [
       "Text(0.5, 1.0, 'Prices over 12 months')"
      ]
     },
     "execution_count": 27,
     "metadata": {},
     "output_type": "execute_result"
    },
    {
     "data": {
      "image/png": "[encoded data removed]",
      "text/plain": [
       "<Figure size 1080x864 with 1 Axes>"
      ]
     },
     "metadata": {
      "needs_background": "light"
     },
     "output_type": "display_data"
    }
   ],
   "source": [
    "fig, ax = plt.subplots(figsize=(15,12),)\n",
    "sns.lineplot(x=\"month\", y=\"close\", hue=\"year\", data=monthly);\n",
    "ax.set_title(\"Prices over 12 months\")"
   ]
  },
  {
   "cell_type": "markdown",
   "metadata": {},
   "source": [
    "### Observation\n",
    "\n",
    "There doesnt appear to be seasonality over the year. However I will investigate further in the pre-processing to check to see if there is seasonality that cant be seen from the graphic."
   ]
  },
  {
   "cell_type": "markdown",
   "metadata": {},
   "source": [
    "---"
   ]
  },
  {
   "cell_type": "code",
   "execution_count": 28,
   "metadata": {},
   "outputs": [],
   "source": [
    "# Save Daily Data"
   ]
  },
  {
   "cell_type": "code",
   "execution_count": 29,
   "metadata": {},
   "outputs": [],
   "source": [
    "eur_usd.to_csv('/Users/stuartdaw/Documents/Capstone_data/data/csv/eur_usd.csv', index=True)"
   ]
  },
  {
   "cell_type": "markdown",
   "metadata": {},
   "source": [
    "---"
   ]
  },
  {
   "cell_type": "markdown",
   "metadata": {},
   "source": [
    "# Gold EDA"
   ]
  },
  {
   "cell_type": "markdown",
   "metadata": {},
   "source": [
    "#### Outline\n",
    "\n",
    "+ I will add the price for both USD and EUR. If I just use the price in one the the impact will be skewed. As the EUR/USD price moved it will affect the value of gold in only one currency. So by adding both I expect this effect to be negated.\n",
    "\n",
    "\n",
    "+ The EDA is limited as its a supplementary dataset. \n",
    "\n",
    "\n",
    "+ The reason why I have chosen to add gold is that it it affects the EUR-USD price.  Gold and the USD have negative correlation to the USD.\n",
    "\n",
    "[Gold/EUR correlation to USD](https://www.sunshineprofits.com/gold-silver/dictionary/euro-gold/). \n",
    "\n",
    "+ Gold is used as a safe haven for investors so it will capture some of the general market conditions.\n",
    "\n",
    "\n",
    "\n"
   ]
  },
  {
   "cell_type": "code",
   "execution_count": 30,
   "metadata": {},
   "outputs": [],
   "source": [
    "# load data\n",
    "gold = pd.read_csv('/Users/stuartdaw/Documents/Capstone_data/data/gold/historical_gold.csv', \n",
    "                              parse_dates=True, index_col='date', dayfirst=True)"
   ]
  },
  {
   "cell_type": "code",
   "execution_count": 31,
   "metadata": {},
   "outputs": [
    {
     "data": {
      "text/html": [
       "<div>\n",
       "<style scoped>\n",
       "    .dataframe tbody tr th:only-of-type {\n",
       "        vertical-align: middle;\n",
       "    }\n",
       "\n",
       "    .dataframe tbody tr th {\n",
       "        vertical-align: top;\n",
       "    }\n",
       "\n",
       "    .dataframe thead th {\n",
       "        text-align: right;\n",
       "    }\n",
       "</style>\n",
       "<table border=\"1\" class=\"dataframe\">\n",
       "  <thead>\n",
       "    <tr style=\"text-align: right;\">\n",
       "      <th></th>\n",
       "      <th>usd</th>\n",
       "      <th>euro</th>\n",
       "    </tr>\n",
       "    <tr>\n",
       "      <th>date</th>\n",
       "      <th></th>\n",
       "      <th></th>\n",
       "    </tr>\n",
       "  </thead>\n",
       "  <tbody>\n",
       "    <tr>\n",
       "      <th>2000-05-30</th>\n",
       "      <td>94.9</td>\n",
       "      <td>119.5</td>\n",
       "    </tr>\n",
       "    <tr>\n",
       "      <th>2000-05-31</th>\n",
       "      <td>94.6</td>\n",
       "      <td>119.8</td>\n",
       "    </tr>\n",
       "    <tr>\n",
       "      <th>2000-06-01</th>\n",
       "      <td>94.7</td>\n",
       "      <td>119.4</td>\n",
       "    </tr>\n",
       "    <tr>\n",
       "      <th>2000-06-02</th>\n",
       "      <td>97.9</td>\n",
       "      <td>121.7</td>\n",
       "    </tr>\n",
       "    <tr>\n",
       "      <th>2000-06-05</th>\n",
       "      <td>98.4</td>\n",
       "      <td>122.4</td>\n",
       "    </tr>\n",
       "  </tbody>\n",
       "</table>\n",
       "</div>"
      ],
      "text/plain": [
       "             usd   euro\n",
       "date                   \n",
       "2000-05-30  94.9  119.5\n",
       "2000-05-31  94.6  119.8\n",
       "2000-06-01  94.7  119.4\n",
       "2000-06-02  97.9  121.7\n",
       "2000-06-05  98.4  122.4"
      ]
     },
     "execution_count": 31,
     "metadata": {},
     "output_type": "execute_result"
    }
   ],
   "source": [
    "# Check head\n",
    "gold.head()"
   ]
  },
  {
   "cell_type": "code",
   "execution_count": 32,
   "metadata": {},
   "outputs": [
    {
     "data": {
      "text/html": [
       "<div>\n",
       "<style scoped>\n",
       "    .dataframe tbody tr th:only-of-type {\n",
       "        vertical-align: middle;\n",
       "    }\n",
       "\n",
       "    .dataframe tbody tr th {\n",
       "        vertical-align: top;\n",
       "    }\n",
       "\n",
       "    .dataframe thead th {\n",
       "        text-align: right;\n",
       "    }\n",
       "</style>\n",
       "<table border=\"1\" class=\"dataframe\">\n",
       "  <thead>\n",
       "    <tr style=\"text-align: right;\">\n",
       "      <th></th>\n",
       "      <th>usd</th>\n",
       "      <th>euro</th>\n",
       "    </tr>\n",
       "    <tr>\n",
       "      <th>date</th>\n",
       "      <th></th>\n",
       "      <th></th>\n",
       "    </tr>\n",
       "  </thead>\n",
       "  <tbody>\n",
       "    <tr>\n",
       "      <th>2020-07-20</th>\n",
       "      <td>630.9</td>\n",
       "      <td>647.6</td>\n",
       "    </tr>\n",
       "    <tr>\n",
       "      <th>2020-07-21</th>\n",
       "      <td>640.2</td>\n",
       "      <td>654.4</td>\n",
       "    </tr>\n",
       "    <tr>\n",
       "      <th>2020-07-22</th>\n",
       "      <td>643.6</td>\n",
       "      <td>652.0</td>\n",
       "    </tr>\n",
       "    <tr>\n",
       "      <th>2020-07-23</th>\n",
       "      <td>652.6</td>\n",
       "      <td>661.0</td>\n",
       "    </tr>\n",
       "    <tr>\n",
       "      <th>2020-07-24</th>\n",
       "      <td>660.9</td>\n",
       "      <td>667.7</td>\n",
       "    </tr>\n",
       "  </tbody>\n",
       "</table>\n",
       "</div>"
      ],
      "text/plain": [
       "              usd   euro\n",
       "date                    \n",
       "2020-07-20  630.9  647.6\n",
       "2020-07-21  640.2  654.4\n",
       "2020-07-22  643.6  652.0\n",
       "2020-07-23  652.6  661.0\n",
       "2020-07-24  660.9  667.7"
      ]
     },
     "execution_count": 32,
     "metadata": {},
     "output_type": "execute_result"
    }
   ],
   "source": [
    "# Check tail\n",
    "gold.tail()"
   ]
  },
  {
   "cell_type": "code",
   "execution_count": 33,
   "metadata": {},
   "outputs": [
    {
     "data": {
      "text/plain": [
       "usd     0\n",
       "euro    0\n",
       "dtype: int64"
      ]
     },
     "execution_count": 33,
     "metadata": {},
     "output_type": "execute_result"
    }
   ],
   "source": [
    "# Check there are no missing values\n",
    "gold.isnull().sum()"
   ]
  },
  {
   "cell_type": "code",
   "execution_count": 34,
   "metadata": {},
   "outputs": [
    {
     "data": {
      "text/html": [
       "<div>\n",
       "<style scoped>\n",
       "    .dataframe tbody tr th:only-of-type {\n",
       "        vertical-align: middle;\n",
       "    }\n",
       "\n",
       "    .dataframe tbody tr th {\n",
       "        vertical-align: top;\n",
       "    }\n",
       "\n",
       "    .dataframe thead th {\n",
       "        text-align: right;\n",
       "    }\n",
       "</style>\n",
       "<table border=\"1\" class=\"dataframe\">\n",
       "  <thead>\n",
       "    <tr style=\"text-align: right;\">\n",
       "      <th></th>\n",
       "      <th>usd</th>\n",
       "      <th>euro</th>\n",
       "    </tr>\n",
       "  </thead>\n",
       "  <tbody>\n",
       "    <tr>\n",
       "      <th>count</th>\n",
       "      <td>5259.000000</td>\n",
       "      <td>5259.000000</td>\n",
       "    </tr>\n",
       "    <tr>\n",
       "      <th>mean</th>\n",
       "      <td>336.391424</td>\n",
       "      <td>322.364537</td>\n",
       "    </tr>\n",
       "    <tr>\n",
       "      <th>std</th>\n",
       "      <td>162.755764</td>\n",
       "      <td>153.297590</td>\n",
       "    </tr>\n",
       "    <tr>\n",
       "      <th>min</th>\n",
       "      <td>88.900000</td>\n",
       "      <td>113.400000</td>\n",
       "    </tr>\n",
       "    <tr>\n",
       "      <th>25%</th>\n",
       "      <td>151.900000</td>\n",
       "      <td>142.650000</td>\n",
       "    </tr>\n",
       "    <tr>\n",
       "      <th>50%</th>\n",
       "      <td>390.300000</td>\n",
       "      <td>371.600000</td>\n",
       "    </tr>\n",
       "    <tr>\n",
       "      <th>75%</th>\n",
       "      <td>455.350000</td>\n",
       "      <td>446.750000</td>\n",
       "    </tr>\n",
       "    <tr>\n",
       "      <th>max</th>\n",
       "      <td>660.900000</td>\n",
       "      <td>667.700000</td>\n",
       "    </tr>\n",
       "  </tbody>\n",
       "</table>\n",
       "</div>"
      ],
      "text/plain": [
       "               usd         euro\n",
       "count  5259.000000  5259.000000\n",
       "mean    336.391424   322.364537\n",
       "std     162.755764   153.297590\n",
       "min      88.900000   113.400000\n",
       "25%     151.900000   142.650000\n",
       "50%     390.300000   371.600000\n",
       "75%     455.350000   446.750000\n",
       "max     660.900000   667.700000"
      ]
     },
     "execution_count": 34,
     "metadata": {},
     "output_type": "execute_result"
    }
   ],
   "source": [
    "# Check the statisics\n",
    "gold.describe()"
   ]
  },
  {
   "cell_type": "code",
   "execution_count": 35,
   "metadata": {},
   "outputs": [
    {
     "data": {
      "text/plain": [
       "(5259, 2)"
      ]
     },
     "execution_count": 35,
     "metadata": {},
     "output_type": "execute_result"
    }
   ],
   "source": [
    "# Check shape\n",
    "gold.shape"
   ]
  },
  {
   "cell_type": "code",
   "execution_count": 36,
   "metadata": {},
   "outputs": [],
   "source": [
    "# Save gold to file\n",
    "gold.to_csv('/Users/stuartdaw/Documents/Capstone_data/data/gold/gold_clean.csv', index=True)"
   ]
  },
  {
   "cell_type": "code",
   "execution_count": null,
   "metadata": {},
   "outputs": [],
   "source": []
  }
 ],
 "metadata": {
  "kernelspec": {
   "display_name": "Python 3",
   "language": "python",
   "name": "python3"
  },
  "language_info": {
   "codemirror_mode": {
    "name": "ipython",
    "version": 3
   },
   "file_extension": ".py",
   "mimetype": "text/x-python",
   "name": "python",
   "nbconvert_exporter": "python",
   "pygments_lexer": "ipython3",
   "version": "3.7.6"
  }
 },
 "nbformat": 4,
 "nbformat_minor": 4
}
