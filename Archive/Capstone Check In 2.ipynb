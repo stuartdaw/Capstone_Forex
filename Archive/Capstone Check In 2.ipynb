{
 "cells": [
  {
   "cell_type": "markdown",
   "metadata": {},
   "source": [
    "# Proposal :  FOREX Strategy analysis"
   ]
  },
  {
   "cell_type": "markdown",
   "metadata": {},
   "source": [
    "# Problem Statement\n",
    "\n",
    "1. IDEAL\n",
    "\n",
    "Create a model that identifies technical indicators and then predicts the subsequent price movement in the market. This will initially focus on Marubuzo.\n",
    "\n",
    "\n",
    "2. REALITY\n",
    "\n",
    "The FOREX market and all stock market prices are very hard to predict. The price movements are often described as completely random. The time series is effected by a lot of external factors other than date. Therefore the probability of getting a good prediction is low. \n",
    "\n",
    "So I will look at adding key exogenous or external features to help with the prediction.\n",
    "\n",
    "I will look to include:\n",
    "   + Inflation rates\n",
    "   + Interest rates\n",
    "   + Volatility\n",
    "   + Moving Averages on 3 time lags\n",
    "   \n",
    "\n",
    "Technical traders believe that these factors are already accounted for in the prices or rates. Therefore the chart patterns can be all you need to look at. It will be interesting to see if they do have an impact on price prediction.\n",
    "\n",
    "\n",
    "3. CONSEQUENCES\n",
    "\n",
    "Currently traders have trouble predicting their entry and exit points. They are often right but either miss a trade, get stopped out too soon or in trying to find maximum profit miss time their exit. Without this model to give them guidelines to work with\n",
    "\n",
    "4. PROPOSAL\n",
    "\n",
    "After comparing 3 algorithms ARIMAX, SARIMAX and Prophet I will create a final model to predict the highest stock price in the next 3 time frames. \n",
    "\n",
    "I will use RMSE as my accuracy score. My benchmark will be predicting the current price. I choose this due to high correlation in the prior prices. Given the nature of the randomness of the stock market this might be harder to beat than it sounds.\n",
    "\n",
    "\n",
    "A key area would be to infer what the strategy implications are and explain the key factors to success or failure of the model.\n",
    "\n",
    "\n",
    "Bonus:\n",
    "+ Learn how to implemnet a bot on a trading account\n",
    "+ Create a python based web app to track results"
   ]
  },
  {
   "cell_type": "markdown",
   "metadata": {},
   "source": [
    "# Data Source\n",
    "\n",
    "I have found EUR/USD data from a recommended website. It has minute data starting from 2000.\n",
    "\n",
    "[Hist Data - Free Historical Data](https://www.histdata.com/)"
   ]
  },
  {
   "cell_type": "markdown",
   "metadata": {},
   "source": [
    "# Project Overview\n",
    "\n",
    "\n",
    "### EDA \n",
    "\n",
    "#### Create a function/Program to:\n",
    "+ Loop through the data to produce the candle sticks in the correct timeframe\n",
    "\n",
    "+ Loop through and identify where the candle sticks meet the pattern\n",
    "\n",
    "+ Create TARGET feature by finding the highest price over next 3 time frames\n",
    "\n",
    "+ Create other features:\n",
    "\n",
    "\n",
    "    + Moving averages over different time frames\n",
    "    + Create volatility index\n",
    "\n",
    "\n",
    "### Pre processing\n",
    "\n",
    "#### Steps\n",
    "+ Stationarity - Dickey-Fuller test\n",
    "+ Create differences where necessary\n",
    "+ Check for seasonality\n",
    "\n",
    "\n",
    "#### Modelling\n",
    "+ Investigate how to do appropriate cross train split for time series\n",
    "    + [scikit learn help](https://scikit-learn.org/stable/modules/generated/sklearn.model_selection.TimeSeriesSplit.html)\n",
    "    + [back testing help](https://machinelearningmastery.com/backtest-machine-learning-models-time-series-forecasting/)\n",
    "+ Cross train split\n",
    "+ Alogithm comparison with grid serach\n",
    "    + Compare accuracy\n",
    "    + Compare overfittin on valitdation set\n",
    "\n",
    "+ Tune Final model with manual gridsearch\n",
    "\n",
    "### Conclusions\n",
    "+ How did models perform\n",
    "+ Key observations and learnings\n",
    "\n",
    "### Bonus\n",
    "+ Create Bot\n",
    "+ Creat web app to track\n"
   ]
  },
  {
   "cell_type": "markdown",
   "metadata": {},
   "source": [
    "---"
   ]
  },
  {
   "cell_type": "markdown",
   "metadata": {},
   "source": [
    "# load Data and EDA"
   ]
  },
  {
   "cell_type": "markdown",
   "metadata": {},
   "source": [
    "---"
   ]
  },
  {
   "cell_type": "code",
   "execution_count": 155,
   "metadata": {},
   "outputs": [],
   "source": [
    "import pandas as pd\n",
    "import numpy as np\n",
    "import seaborn as sns\n",
    "import matplotlib.pyplot as plt\n",
    "%matplotlib inline\n",
    "import datetime"
   ]
  },
  {
   "cell_type": "code",
   "execution_count": 156,
   "metadata": {},
   "outputs": [],
   "source": [
    "header_list = ['date','open','high','low','close','misc']"
   ]
  },
  {
   "cell_type": "code",
   "execution_count": 157,
   "metadata": {},
   "outputs": [],
   "source": [
    "for i in range(2000,2020):\n",
    "    if i == 2000:\n",
    "        eur_usd = pd.read_csv('./Data/csv/EURUSD_' + str(i) + '.csv', \n",
    "                              parse_dates=True, names=header_list, index_col='date')\n",
    "    else:\n",
    "        df = pd.read_csv('./Data/csv/EURUSD_' + str(i) + '.csv', \n",
    "                         parse_dates=True, names=header_list, index_col='date')\n",
    "        eur_usd = pd.concat([eur_usd, df])"
   ]
  },
  {
   "cell_type": "code",
   "execution_count": 158,
   "metadata": {},
   "outputs": [
    {
     "data": {
      "text/plain": [
       "(6539013, 5)"
      ]
     },
     "execution_count": 158,
     "metadata": {},
     "output_type": "execute_result"
    }
   ],
   "source": [
    "# Check Shape\n",
    "eur_usd.shape"
   ]
  },
  {
   "cell_type": "code",
   "execution_count": 177,
   "metadata": {},
   "outputs": [
    {
     "data": {
      "text/plain": [
       "open     float64\n",
       "high     float64\n",
       "low      float64\n",
       "close    float64\n",
       "dtype: object"
      ]
     },
     "execution_count": 177,
     "metadata": {},
     "output_type": "execute_result"
    }
   ],
   "source": [
    "# Check data types\n",
    "eur_usd.dtypes"
   ]
  },
  {
   "cell_type": "code",
   "execution_count": 176,
   "metadata": {},
   "outputs": [
    {
     "data": {
      "text/html": [
       "<div>\n",
       "<style scoped>\n",
       "    .dataframe tbody tr th:only-of-type {\n",
       "        vertical-align: middle;\n",
       "    }\n",
       "\n",
       "    .dataframe tbody tr th {\n",
       "        vertical-align: top;\n",
       "    }\n",
       "\n",
       "    .dataframe thead th {\n",
       "        text-align: right;\n",
       "    }\n",
       "</style>\n",
       "<table border=\"1\" class=\"dataframe\">\n",
       "  <thead>\n",
       "    <tr style=\"text-align: right;\">\n",
       "      <th></th>\n",
       "      <th>open</th>\n",
       "      <th>high</th>\n",
       "      <th>low</th>\n",
       "      <th>close</th>\n",
       "    </tr>\n",
       "    <tr>\n",
       "      <th>date</th>\n",
       "      <th></th>\n",
       "      <th></th>\n",
       "      <th></th>\n",
       "      <th></th>\n",
       "    </tr>\n",
       "  </thead>\n",
       "  <tbody>\n",
       "    <tr>\n",
       "      <th>2000-05-30 17:27:00</th>\n",
       "      <td>0.9302</td>\n",
       "      <td>0.9302</td>\n",
       "      <td>0.9302</td>\n",
       "      <td>0.9302</td>\n",
       "    </tr>\n",
       "    <tr>\n",
       "      <th>2000-05-31 00:50:00</th>\n",
       "      <td>0.9315</td>\n",
       "      <td>0.9315</td>\n",
       "      <td>0.9315</td>\n",
       "      <td>0.9315</td>\n",
       "    </tr>\n",
       "    <tr>\n",
       "      <th>2000-05-31 00:51:00</th>\n",
       "      <td>0.9315</td>\n",
       "      <td>0.9315</td>\n",
       "      <td>0.9315</td>\n",
       "      <td>0.9315</td>\n",
       "    </tr>\n",
       "    <tr>\n",
       "      <th>2000-05-31 00:55:00</th>\n",
       "      <td>0.9317</td>\n",
       "      <td>0.9317</td>\n",
       "      <td>0.9317</td>\n",
       "      <td>0.9317</td>\n",
       "    </tr>\n",
       "    <tr>\n",
       "      <th>2000-05-31 01:01:00</th>\n",
       "      <td>0.9318</td>\n",
       "      <td>0.9318</td>\n",
       "      <td>0.9318</td>\n",
       "      <td>0.9318</td>\n",
       "    </tr>\n",
       "    <tr>\n",
       "      <th>2000-05-31 01:07:00</th>\n",
       "      <td>0.9317</td>\n",
       "      <td>0.9317</td>\n",
       "      <td>0.9317</td>\n",
       "      <td>0.9317</td>\n",
       "    </tr>\n",
       "    <tr>\n",
       "      <th>2000-05-31 01:09:00</th>\n",
       "      <td>0.9318</td>\n",
       "      <td>0.9319</td>\n",
       "      <td>0.9318</td>\n",
       "      <td>0.9319</td>\n",
       "    </tr>\n",
       "    <tr>\n",
       "      <th>2000-05-31 01:11:00</th>\n",
       "      <td>0.9321</td>\n",
       "      <td>0.9322</td>\n",
       "      <td>0.9321</td>\n",
       "      <td>0.9321</td>\n",
       "    </tr>\n",
       "    <tr>\n",
       "      <th>2000-05-31 01:18:00</th>\n",
       "      <td>0.9322</td>\n",
       "      <td>0.9322</td>\n",
       "      <td>0.9322</td>\n",
       "      <td>0.9322</td>\n",
       "    </tr>\n",
       "    <tr>\n",
       "      <th>2000-05-31 01:30:00</th>\n",
       "      <td>0.9317</td>\n",
       "      <td>0.9317</td>\n",
       "      <td>0.9317</td>\n",
       "      <td>0.9317</td>\n",
       "    </tr>\n",
       "    <tr>\n",
       "      <th>2000-05-31 01:38:00</th>\n",
       "      <td>0.9315</td>\n",
       "      <td>0.9315</td>\n",
       "      <td>0.9315</td>\n",
       "      <td>0.9315</td>\n",
       "    </tr>\n",
       "    <tr>\n",
       "      <th>2000-05-31 01:39:00</th>\n",
       "      <td>0.9313</td>\n",
       "      <td>0.9313</td>\n",
       "      <td>0.9311</td>\n",
       "      <td>0.9311</td>\n",
       "    </tr>\n",
       "    <tr>\n",
       "      <th>2000-05-31 01:40:00</th>\n",
       "      <td>0.9306</td>\n",
       "      <td>0.9306</td>\n",
       "      <td>0.9306</td>\n",
       "      <td>0.9306</td>\n",
       "    </tr>\n",
       "    <tr>\n",
       "      <th>2000-05-31 01:42:00</th>\n",
       "      <td>0.9304</td>\n",
       "      <td>0.9304</td>\n",
       "      <td>0.9304</td>\n",
       "      <td>0.9304</td>\n",
       "    </tr>\n",
       "    <tr>\n",
       "      <th>2000-05-31 01:44:00</th>\n",
       "      <td>0.9305</td>\n",
       "      <td>0.9310</td>\n",
       "      <td>0.9305</td>\n",
       "      <td>0.9310</td>\n",
       "    </tr>\n",
       "  </tbody>\n",
       "</table>\n",
       "</div>"
      ],
      "text/plain": [
       "                       open    high     low   close\n",
       "date                                               \n",
       "2000-05-30 17:27:00  0.9302  0.9302  0.9302  0.9302\n",
       "2000-05-31 00:50:00  0.9315  0.9315  0.9315  0.9315\n",
       "2000-05-31 00:51:00  0.9315  0.9315  0.9315  0.9315\n",
       "2000-05-31 00:55:00  0.9317  0.9317  0.9317  0.9317\n",
       "2000-05-31 01:01:00  0.9318  0.9318  0.9318  0.9318\n",
       "2000-05-31 01:07:00  0.9317  0.9317  0.9317  0.9317\n",
       "2000-05-31 01:09:00  0.9318  0.9319  0.9318  0.9319\n",
       "2000-05-31 01:11:00  0.9321  0.9322  0.9321  0.9321\n",
       "2000-05-31 01:18:00  0.9322  0.9322  0.9322  0.9322\n",
       "2000-05-31 01:30:00  0.9317  0.9317  0.9317  0.9317\n",
       "2000-05-31 01:38:00  0.9315  0.9315  0.9315  0.9315\n",
       "2000-05-31 01:39:00  0.9313  0.9313  0.9311  0.9311\n",
       "2000-05-31 01:40:00  0.9306  0.9306  0.9306  0.9306\n",
       "2000-05-31 01:42:00  0.9304  0.9304  0.9304  0.9304\n",
       "2000-05-31 01:44:00  0.9305  0.9310  0.9305  0.9310"
      ]
     },
     "execution_count": 176,
     "metadata": {},
     "output_type": "execute_result"
    }
   ],
   "source": [
    "eur_usd.head(15)"
   ]
  },
  {
   "cell_type": "code",
   "execution_count": 160,
   "metadata": {},
   "outputs": [
    {
     "data": {
      "text/html": [
       "<div>\n",
       "<style scoped>\n",
       "    .dataframe tbody tr th:only-of-type {\n",
       "        vertical-align: middle;\n",
       "    }\n",
       "\n",
       "    .dataframe tbody tr th {\n",
       "        vertical-align: top;\n",
       "    }\n",
       "\n",
       "    .dataframe thead th {\n",
       "        text-align: right;\n",
       "    }\n",
       "</style>\n",
       "<table border=\"1\" class=\"dataframe\">\n",
       "  <thead>\n",
       "    <tr style=\"text-align: right;\">\n",
       "      <th></th>\n",
       "      <th>open</th>\n",
       "      <th>high</th>\n",
       "      <th>low</th>\n",
       "      <th>close</th>\n",
       "      <th>misc</th>\n",
       "    </tr>\n",
       "  </thead>\n",
       "  <tbody>\n",
       "    <tr>\n",
       "      <th>count</th>\n",
       "      <td>6.539013e+06</td>\n",
       "      <td>6.539013e+06</td>\n",
       "      <td>6.539013e+06</td>\n",
       "      <td>6.539013e+06</td>\n",
       "      <td>6539013.0</td>\n",
       "    </tr>\n",
       "    <tr>\n",
       "      <th>mean</th>\n",
       "      <td>1.228013e+00</td>\n",
       "      <td>1.228118e+00</td>\n",
       "      <td>1.227910e+00</td>\n",
       "      <td>1.228014e+00</td>\n",
       "      <td>0.0</td>\n",
       "    </tr>\n",
       "    <tr>\n",
       "      <th>std</th>\n",
       "      <td>7.831060e-01</td>\n",
       "      <td>7.831092e-01</td>\n",
       "      <td>7.831029e-01</td>\n",
       "      <td>7.831061e-01</td>\n",
       "      <td>0.0</td>\n",
       "    </tr>\n",
       "    <tr>\n",
       "      <th>min</th>\n",
       "      <td>-1.000000e-04</td>\n",
       "      <td>-1.000000e-04</td>\n",
       "      <td>-1.000000e-04</td>\n",
       "      <td>-1.000000e-04</td>\n",
       "      <td>0.0</td>\n",
       "    </tr>\n",
       "    <tr>\n",
       "      <th>25%</th>\n",
       "      <td>1.123140e+00</td>\n",
       "      <td>1.123230e+00</td>\n",
       "      <td>1.123060e+00</td>\n",
       "      <td>1.123140e+00</td>\n",
       "      <td>0.0</td>\n",
       "    </tr>\n",
       "    <tr>\n",
       "      <th>50%</th>\n",
       "      <td>1.236500e+00</td>\n",
       "      <td>1.236600e+00</td>\n",
       "      <td>1.236400e+00</td>\n",
       "      <td>1.236500e+00</td>\n",
       "      <td>0.0</td>\n",
       "    </tr>\n",
       "    <tr>\n",
       "      <th>75%</th>\n",
       "      <td>1.336480e+00</td>\n",
       "      <td>1.336570e+00</td>\n",
       "      <td>1.336390e+00</td>\n",
       "      <td>1.336480e+00</td>\n",
       "      <td>0.0</td>\n",
       "    </tr>\n",
       "    <tr>\n",
       "      <th>max</th>\n",
       "      <td>1.965000e+03</td>\n",
       "      <td>1.965000e+03</td>\n",
       "      <td>1.965000e+03</td>\n",
       "      <td>1.965000e+03</td>\n",
       "      <td>0.0</td>\n",
       "    </tr>\n",
       "  </tbody>\n",
       "</table>\n",
       "</div>"
      ],
      "text/plain": [
       "               open          high           low         close       misc\n",
       "count  6.539013e+06  6.539013e+06  6.539013e+06  6.539013e+06  6539013.0\n",
       "mean   1.228013e+00  1.228118e+00  1.227910e+00  1.228014e+00        0.0\n",
       "std    7.831060e-01  7.831092e-01  7.831029e-01  7.831061e-01        0.0\n",
       "min   -1.000000e-04 -1.000000e-04 -1.000000e-04 -1.000000e-04        0.0\n",
       "25%    1.123140e+00  1.123230e+00  1.123060e+00  1.123140e+00        0.0\n",
       "50%    1.236500e+00  1.236600e+00  1.236400e+00  1.236500e+00        0.0\n",
       "75%    1.336480e+00  1.336570e+00  1.336390e+00  1.336480e+00        0.0\n",
       "max    1.965000e+03  1.965000e+03  1.965000e+03  1.965000e+03        0.0"
      ]
     },
     "execution_count": 160,
     "metadata": {},
     "output_type": "execute_result"
    }
   ],
   "source": [
    "# Look at the statistics\n",
    "eur_usd.describe()"
   ]
  },
  {
   "cell_type": "markdown",
   "metadata": {},
   "source": [
    "### Investigate outliers"
   ]
  },
  {
   "cell_type": "code",
   "execution_count": 161,
   "metadata": {},
   "outputs": [
    {
     "data": {
      "text/html": [
       "<div>\n",
       "<style scoped>\n",
       "    .dataframe tbody tr th:only-of-type {\n",
       "        vertical-align: middle;\n",
       "    }\n",
       "\n",
       "    .dataframe tbody tr th {\n",
       "        vertical-align: top;\n",
       "    }\n",
       "\n",
       "    .dataframe thead th {\n",
       "        text-align: right;\n",
       "    }\n",
       "</style>\n",
       "<table border=\"1\" class=\"dataframe\">\n",
       "  <thead>\n",
       "    <tr style=\"text-align: right;\">\n",
       "      <th></th>\n",
       "      <th>open</th>\n",
       "      <th>high</th>\n",
       "      <th>low</th>\n",
       "      <th>close</th>\n",
       "      <th>misc</th>\n",
       "    </tr>\n",
       "    <tr>\n",
       "      <th>date</th>\n",
       "      <th></th>\n",
       "      <th></th>\n",
       "      <th></th>\n",
       "      <th></th>\n",
       "      <th></th>\n",
       "    </tr>\n",
       "  </thead>\n",
       "  <tbody>\n",
       "    <tr>\n",
       "      <th>2001-09-11 20:12:00</th>\n",
       "      <td>-0.0001</td>\n",
       "      <td>-0.0001</td>\n",
       "      <td>-0.0001</td>\n",
       "      <td>-0.0001</td>\n",
       "      <td>0.0</td>\n",
       "    </tr>\n",
       "  </tbody>\n",
       "</table>\n",
       "</div>"
      ],
      "text/plain": [
       "                       open    high     low   close  misc\n",
       "date                                                     \n",
       "2001-09-11 20:12:00 -0.0001 -0.0001 -0.0001 -0.0001   0.0"
      ]
     },
     "execution_count": 161,
     "metadata": {},
     "output_type": "execute_result"
    }
   ],
   "source": [
    "eur_usd.loc[(eur_usd['open'] < 0) | (eur_usd['high'] < 0) |(eur_usd['low'] < 0) | (eur_usd['close'] < 0)]"
   ]
  },
  {
   "cell_type": "code",
   "execution_count": 162,
   "metadata": {},
   "outputs": [
    {
     "data": {
      "text/html": [
       "<div>\n",
       "<style scoped>\n",
       "    .dataframe tbody tr th:only-of-type {\n",
       "        vertical-align: middle;\n",
       "    }\n",
       "\n",
       "    .dataframe tbody tr th {\n",
       "        vertical-align: top;\n",
       "    }\n",
       "\n",
       "    .dataframe thead th {\n",
       "        text-align: right;\n",
       "    }\n",
       "</style>\n",
       "<table border=\"1\" class=\"dataframe\">\n",
       "  <thead>\n",
       "    <tr style=\"text-align: right;\">\n",
       "      <th></th>\n",
       "      <th>open</th>\n",
       "      <th>high</th>\n",
       "      <th>low</th>\n",
       "      <th>close</th>\n",
       "      <th>misc</th>\n",
       "    </tr>\n",
       "    <tr>\n",
       "      <th>date</th>\n",
       "      <th></th>\n",
       "      <th></th>\n",
       "      <th></th>\n",
       "      <th></th>\n",
       "      <th></th>\n",
       "    </tr>\n",
       "  </thead>\n",
       "  <tbody>\n",
       "    <tr>\n",
       "      <th>2001-06-07 23:32:00</th>\n",
       "      <td>1965.0001</td>\n",
       "      <td>1965.0001</td>\n",
       "      <td>1965.0001</td>\n",
       "      <td>1965.0001</td>\n",
       "      <td>0.0</td>\n",
       "    </tr>\n",
       "  </tbody>\n",
       "</table>\n",
       "</div>"
      ],
      "text/plain": [
       "                          open       high        low      close  misc\n",
       "date                                                                 \n",
       "2001-06-07 23:32:00  1965.0001  1965.0001  1965.0001  1965.0001   0.0"
      ]
     },
     "execution_count": 162,
     "metadata": {},
     "output_type": "execute_result"
    }
   ],
   "source": [
    "eur_usd.loc[(eur_usd['open'] > 100) | (eur_usd['high'] > 100) |(eur_usd['low'] > 100) | (eur_usd['close']  > 100)]"
   ]
  },
  {
   "cell_type": "markdown",
   "metadata": {},
   "source": [
    "#### Investigate outliers and cross cheeck from different online sources\n",
    "\n",
    "+ First one looks like an error\n",
    "+ Second one looks like its probably wrong as well even if decimal place is corrected.\n"
   ]
  },
  {
   "cell_type": "code",
   "execution_count": 180,
   "metadata": {},
   "outputs": [],
   "source": [
    "# Drop 2 rows for now until investigated further\n",
    "eur_usd.drop(eur_usd.loc[(eur_usd['open'] < 0) | (eur_usd['high'] < 0) \n",
    "                         |(eur_usd['low'] < 0) | (eur_usd['close'] < 0)].index, inplace=True)"
   ]
  },
  {
   "cell_type": "code",
   "execution_count": 181,
   "metadata": {},
   "outputs": [],
   "source": [
    "eur_usd.drop(eur_usd.loc[(eur_usd['open'] > 100) | (eur_usd['high'] > 100) \n",
    "                         |(eur_usd['low'] > 100) | (eur_usd['close']  > 100)].index, inplace=True) \n"
   ]
  },
  {
   "cell_type": "code",
   "execution_count": 165,
   "metadata": {},
   "outputs": [],
   "source": [
    "# drop 'misc' columns as there is nothing there\n",
    "eur_usd.drop(columns='misc', inplace=True)"
   ]
  },
  {
   "cell_type": "code",
   "execution_count": 166,
   "metadata": {},
   "outputs": [
    {
     "data": {
      "text/html": [
       "<div>\n",
       "<style scoped>\n",
       "    .dataframe tbody tr th:only-of-type {\n",
       "        vertical-align: middle;\n",
       "    }\n",
       "\n",
       "    .dataframe tbody tr th {\n",
       "        vertical-align: top;\n",
       "    }\n",
       "\n",
       "    .dataframe thead th {\n",
       "        text-align: right;\n",
       "    }\n",
       "</style>\n",
       "<table border=\"1\" class=\"dataframe\">\n",
       "  <thead>\n",
       "    <tr style=\"text-align: right;\">\n",
       "      <th></th>\n",
       "      <th>open</th>\n",
       "      <th>high</th>\n",
       "      <th>low</th>\n",
       "      <th>close</th>\n",
       "    </tr>\n",
       "    <tr>\n",
       "      <th>date</th>\n",
       "      <th></th>\n",
       "      <th></th>\n",
       "      <th></th>\n",
       "      <th></th>\n",
       "    </tr>\n",
       "  </thead>\n",
       "  <tbody>\n",
       "    <tr>\n",
       "      <th>2000-05-30 17:27:00</th>\n",
       "      <td>0.9302</td>\n",
       "      <td>0.9302</td>\n",
       "      <td>0.9302</td>\n",
       "      <td>0.9302</td>\n",
       "    </tr>\n",
       "    <tr>\n",
       "      <th>2000-05-31 00:50:00</th>\n",
       "      <td>0.9315</td>\n",
       "      <td>0.9315</td>\n",
       "      <td>0.9315</td>\n",
       "      <td>0.9315</td>\n",
       "    </tr>\n",
       "    <tr>\n",
       "      <th>2000-05-31 00:51:00</th>\n",
       "      <td>0.9315</td>\n",
       "      <td>0.9315</td>\n",
       "      <td>0.9315</td>\n",
       "      <td>0.9315</td>\n",
       "    </tr>\n",
       "    <tr>\n",
       "      <th>2000-05-31 00:55:00</th>\n",
       "      <td>0.9317</td>\n",
       "      <td>0.9317</td>\n",
       "      <td>0.9317</td>\n",
       "      <td>0.9317</td>\n",
       "    </tr>\n",
       "    <tr>\n",
       "      <th>2000-05-31 01:01:00</th>\n",
       "      <td>0.9318</td>\n",
       "      <td>0.9318</td>\n",
       "      <td>0.9318</td>\n",
       "      <td>0.9318</td>\n",
       "    </tr>\n",
       "  </tbody>\n",
       "</table>\n",
       "</div>"
      ],
      "text/plain": [
       "                       open    high     low   close\n",
       "date                                               \n",
       "2000-05-30 17:27:00  0.9302  0.9302  0.9302  0.9302\n",
       "2000-05-31 00:50:00  0.9315  0.9315  0.9315  0.9315\n",
       "2000-05-31 00:51:00  0.9315  0.9315  0.9315  0.9315\n",
       "2000-05-31 00:55:00  0.9317  0.9317  0.9317  0.9317\n",
       "2000-05-31 01:01:00  0.9318  0.9318  0.9318  0.9318"
      ]
     },
     "execution_count": 166,
     "metadata": {},
     "output_type": "execute_result"
    }
   ],
   "source": [
    "eur_usd.head()"
   ]
  },
  {
   "cell_type": "code",
   "execution_count": 167,
   "metadata": {},
   "outputs": [
    {
     "data": {
      "text/plain": [
       "(6539011, 4)"
      ]
     },
     "execution_count": 167,
     "metadata": {},
     "output_type": "execute_result"
    }
   ],
   "source": [
    "# See shape\n",
    "eur_usd.shape"
   ]
  },
  {
   "cell_type": "code",
   "execution_count": 168,
   "metadata": {},
   "outputs": [
    {
     "data": {
      "text/plain": [
       "open     0\n",
       "high     0\n",
       "low      0\n",
       "close    0\n",
       "dtype: int64"
      ]
     },
     "execution_count": 168,
     "metadata": {},
     "output_type": "execute_result"
    }
   ],
   "source": [
    "# Check for missing data\n",
    "eur_usd.isnull().sum()"
   ]
  },
  {
   "cell_type": "code",
   "execution_count": 173,
   "metadata": {},
   "outputs": [
    {
     "data": {
      "text/plain": [
       "(array([ 0,  1,  2,  3,  4,  5,  6,  7,  8,  9, 10, 11, 12, 13, 14, 15, 16,\n",
       "        17, 18, 19]),\n",
       " <a list of 20 Text major ticklabel objects>)"
      ]
     },
     "execution_count": 173,
     "metadata": {},
     "output_type": "execute_result"
    },
    {
     "data": {
      "image/png": "[encoded data removed]",
      "text/plain": [
       "<Figure size 1440x1008 with 1 Axes>"
      ]
     },
     "metadata": {
      "needs_background": "light"
     },
     "output_type": "display_data"
    }
   ],
   "source": [
    "# Plot violin charts to see the distibutions and spread of data\n",
    "plt.subplots(figsize=(20,14))\n",
    "\n",
    "# By year\n",
    "ax1 = plt.subplot(2,1,1)\n",
    "sns.violinplot(x=eur_usd.index.year, y='open', data=eur_usd).set_xlabel('year', size=14)\n",
    "plt.title('Distribution by year', size=16)\n",
    "plt.xticks(size=14)\n"
   ]
  },
  {
   "cell_type": "code",
   "execution_count": null,
   "metadata": {},
   "outputs": [],
   "source": []
  },
  {
   "cell_type": "code",
   "execution_count": null,
   "metadata": {},
   "outputs": [],
   "source": []
  }
 ],
 "metadata": {
  "kernelspec": {
   "display_name": "Python 3",
   "language": "python",
   "name": "python3"
  },
  "language_info": {
   "codemirror_mode": {
    "name": "ipython",
    "version": 3
   },
   "file_extension": ".py",
   "mimetype": "text/x-python",
   "name": "python",
   "nbconvert_exporter": "python",
   "pygments_lexer": "ipython3",
   "version": "3.7.6"
  }
 },
 "nbformat": 4,
 "nbformat_minor": 4
}
