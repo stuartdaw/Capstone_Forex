{
 "cells": [
  {
   "cell_type": "markdown",
   "metadata": {},
   "source": [
    "# 8.0 Results and Conclusions"
   ]
  },
  {
   "cell_type": "markdown",
   "metadata": {},
   "source": [
    "# Contents\n",
    "\n",
    "- [1.0 Comparing the strategies](#2.0-Comparing-the-strategies)\n",
    "- [2.0 Comparing the models](#1.0-Comparing-the-models)\n",
    "- [3.0 Recommendations](#3.0-Recommendations)\n",
    "- [4.0 Further Development](#4.0-Further-Development)"
   ]
  },
  {
   "cell_type": "markdown",
   "metadata": {},
   "source": [
    "---"
   ]
  },
  {
   "cell_type": "markdown",
   "metadata": {},
   "source": [
    "### Recap\n",
    "\n",
    "The model is predicting whether the price will move above or below a threshold over the following 5 time frames. The threshold is height of the pattern or minimum 0.005 or 50 pips."
   ]
  },
  {
   "cell_type": "markdown",
   "metadata": {},
   "source": [
    "# 1.0 Comparing the strategies"
   ]
  },
  {
   "cell_type": "markdown",
   "metadata": {},
   "source": [
    "The baseline results for the two strategies are below:"
   ]
  },
  {
   "cell_type": "markdown",
   "metadata": {},
   "source": [
    "|Strategy|Category|Result|\n",
    "|---|---|---|\n",
    "|Marubozu|True Positives|40|\n",
    "|Marubozu|False Positives|24|\n",
    "|Marubozu|Accuracy|0.62|\n",
    "|Marubozu|Precision|0.62|\n",
    "|Fractal|True Positives| 410|\n",
    "|Fractal|False Positives|202|\n",
    "|Fractal|Accuracy|0.67|\n",
    "|Fractal|Precision|0.67|\n",
    "\n"
   ]
  },
  {
   "cell_type": "markdown",
   "metadata": {},
   "source": [
    "#### Observations\n",
    "\n",
    "+ Fractals had a better precision and accuracy score compared to Marubozu but they were both over 60% which highlights why these are popular patterns used by traders."
   ]
  },
  {
   "cell_type": "markdown",
   "metadata": {},
   "source": [
    "### Confusion Matrix Measurements\n",
    "\n",
    "+ Accuracy - how many did the model get right\n",
    "    + Total number of correct predictions / total number of predictions\n",
    "    \n",
    "    \n",
    "+ Precision proportion of positive identifications that were actually correct\n",
    "    + True positives/ true positives + false positives)\n",
    "    \n",
    "    \n",
    "+ Recall - proportion of actual positives that were correctly defined\n",
    "    + True positives/ true positives + false negatives\n"
   ]
  },
  {
   "cell_type": "markdown",
   "metadata": {},
   "source": [
    "### Why focus on precision?\n",
    "\n",
    "I chose to focus on precision. This is because if the model says that the market will move up or down with a level of certainty then this is a powerful indicator. It may miss some opportunities but when a model with high precision predicts a movement correctly then it is a strong signal.\n",
    "\n",
    "Accuracy is also useful to know because. Similarly if it predicts that the market wont go in the predicted direction then it would help avoid some unprofitable trades.\n",
    "\n"
   ]
  },
  {
   "cell_type": "markdown",
   "metadata": {},
   "source": [
    "---"
   ]
  },
  {
   "cell_type": "markdown",
   "metadata": {},
   "source": [
    "# 2.0 Comparing the models"
   ]
  },
  {
   "cell_type": "markdown",
   "metadata": {},
   "source": [
    "                                                ARIMIAX\n",
    "\n",
    "|Strategy|Category|Result|\n",
    "|---|---|---|\n",
    "|Marubozu|True Positives|14|\n",
    "|Marubozu|False Positives|5|\n",
    "|Marubozu|False Negatives|27|\n",
    "|Marubozu|True Negatives|18|\n",
    "|Marubozu|Accuracy|0.5|\n",
    "|Marubozu|Precision|0.74|\n",
    "|Marubozu|Recall|0.34|\n",
    "|Fractal|True Positives|259|\n",
    "|Fractal|False Positives|116|\n",
    "|Fractal|False Negatives|151|\n",
    "|Fractal|True Negatives|86|\n",
    "|Fractal|Accuracy|0.56|\n",
    "|Fractal|Precision|0.69|\n",
    "|Fractal|Recall|0.63|\n"
   ]
  },
  {
   "cell_type": "markdown",
   "metadata": {},
   "source": [
    "#### Observations ARIMAX\n",
    "\n",
    "+ The accuracy drops compared to the benchmark for both startegies by ~10%\n",
    "+ The precision though improves to 0.74 on the Marubozu and an slightly up to 0.69 on th Fractals.\n",
    "\n",
    "+ Therefore it ARIMAX has improved on the benchmark on the key indicator of precision."
   ]
  },
  {
   "cell_type": "markdown",
   "metadata": {},
   "source": [
    "---"
   ]
  },
  {
   "cell_type": "markdown",
   "metadata": {},
   "source": [
    "                                                Prophet\n",
    "\n",
    "|Strategy|Category|Result|\n",
    "|---|---|---|\n",
    "|Marubozu|True Positives|23|\n",
    "|Marubozu|False Positives|13|\n",
    "|Marubozu|False Negatives|19|\n",
    "|Marubozu|True Negatives|10|\n",
    "|Marubozu|Accuracy|0.5|\n",
    "|Marubozu|Precision|0.63|\n",
    "|Marubozu|Recall|54|\n",
    "|Fractal|True Positives|194|\n",
    "|Fractal|False Positives|127|\n",
    "|Fractal|False Negatives|214|\n",
    "|Fractal|True Negatives|74|\n",
    "|Fractal|Accuracy|0.44|\n",
    "|Fractal|Precision|0.6|\n",
    "|Fractal|Recall|0.48|"
   ]
  },
  {
   "cell_type": "markdown",
   "metadata": {},
   "source": [
    "#### Prophet Observations\n",
    "\n",
    "+ The accuracy and precision dropped for both strategies and they fail to meet the benchmark.\n",
    "\n",
    "+ One of the reasons for this might be because that Prophet didnt include exogenous features that the Arimax was able to use.\n",
    "\n",
    "+ Therefore as ARIMAX was the best I used this to feed into the linear regression model as a feature."
   ]
  },
  {
   "cell_type": "markdown",
   "metadata": {},
   "source": [
    "---"
   ]
  },
  {
   "cell_type": "markdown",
   "metadata": {},
   "source": [
    "                                                MLR ELastic Net Regularisation\n",
    "\n",
    "|Strategy|Category|Result|\n",
    "|---|---|---|\n",
    "|Marubozu|True Positives|6|\n",
    "|Marubozu|False Positives|5|\n",
    "|Marubozu|False Negatives|3|\n",
    "|Marubozu|True Negatives|2|\n",
    "|Marubozu|Accuracy|0.5|\n",
    "|Marubozu|Precision|0.55|\n",
    "|Marubozu|Recall|0.67|\n",
    "|Fractal|True Positives|76|\n",
    "|Fractal|False Positives|14|\n",
    "|Fractal|False Negatives|29|\n",
    "|Fractal|True Negatives|34|\n",
    "|Fractal|Accuracy|0.72|\n",
    "|Fractal|Precision|0.84|\n",
    "|Fractal|Recall|0.72|"
   ]
  },
  {
   "cell_type": "markdown",
   "metadata": {},
   "source": [
    "#### MLR Observations\n",
    "\n",
    "+ I used Elastic Net regularisation. Even though it did not always outperform the other regularisations, it was very close. I think that it will generalise better for the test data shown here.\n",
    "\n",
    "\n",
    "\n",
    "+ The Marubozu pattern again didnt beat benchmark.\n",
    "\n",
    "+ The Fractals outperformed the benchmark and ARIMAX model and had a precision of 84% which is a good score. Its accuracy at 74% is also good and means it is getting both the decision to enter and not enter correct regularly.\n",
    "+ It's recall which isn't a main focus was also high. This is still good though as it means its predicting a high percentage of the total correct calls.\n"
   ]
  },
  {
   "cell_type": "markdown",
   "metadata": {},
   "source": [
    "### Model key drivers"
   ]
  },
  {
   "cell_type": "markdown",
   "metadata": {},
   "source": [
    "![coefs mlr](images/coefs_for_mlr.png)"
   ]
  },
  {
   "cell_type": "markdown",
   "metadata": {},
   "source": [
    "#### MLR Observations\n",
    "\n",
    "+ ML signal wasnt the top feature. The prior days prices were understandably important. However ot was the next most important feaure.\n",
    "\n",
    "+ The ML was just a -1, 1 or a 0. -1 for the price to correctly fall as indicated by the pattern. 1 for the price to rise as indicated by the pattern. Or 0 if it predicted a flat market.\n",
    "\n",
    "+ Therefore I think its interesting that the model recognised its importance in a way I was hoping it would."
   ]
  },
  {
   "cell_type": "markdown",
   "metadata": {},
   "source": [
    "## Summary"
   ]
  },
  {
   "cell_type": "markdown",
   "metadata": {},
   "source": [
    "Overall there have been some good success:\n",
    "\n",
    "+ Using ARIMAX, MLR and the fractal pattern has shown some good results.\n",
    "+ It shows that Machine Learning can be used to optimise parts of the candlestick pattern trading\n",
    "\n",
    "However this can be tempered by:\n",
    "\n",
    "+ Getting the market decision correct may not lead to profit. The model assumes that there are no stop losses. Therefore it doesnt factor in that a correct decision over 5 time frames may move initially in the wrong drectino before recovering at which point the trade has already been closed at a loss.\n",
    "\n",
    "+ It also doesnt factor in the cost of entry and exit from positions. The spread may lead to a significant reduction in profit. Although 50pips would be a worthwhile trade for a spread bet it still may not be enough if the risk reward ratio is "
   ]
  },
  {
   "cell_type": "markdown",
   "metadata": {},
   "source": [
    "# 3.0 Recommendations"
   ]
  },
  {
   "cell_type": "markdown",
   "metadata": {},
   "source": [
    "+ Traders could then use this trio of ARIMAX, MLR and the fractal patterns to support their trading decisions.\n",
    "+ It is not ready yet to be used as a standalone strategy."
   ]
  },
  {
   "cell_type": "markdown",
   "metadata": {},
   "source": [
    "---"
   ]
  },
  {
   "cell_type": "markdown",
   "metadata": {},
   "source": [
    "# 4.0 Further Development"
   ]
  },
  {
   "cell_type": "markdown",
   "metadata": {},
   "source": [
    "### There are lots of areas for further development\n",
    "\n",
    "+ More strategies: The OOD design means I would just have to code the subclass and then it would be ready to go.\n",
    "+ More markets: Feeding new currency pairs into the superclass means that it will be quick to try other markets.\n",
    "+ Other Models: I would like to try RNN and XG Boost to see if the results improve further.\n",
    "+ Increase the parameters: If I spent more time tuning the model with more features then maybe Increasing the threshold might lead to a more tradable strategy.\n",
    "+ Risk Management: Use the model to predict the opposite low/high point and then determine where an appropriate stop loss can be placed.\n",
    "+ Create a strategy: Usee this to create a strategy and backtest it to see how it performs.\n"
   ]
  },
  {
   "cell_type": "code",
   "execution_count": null,
   "metadata": {},
   "outputs": [],
   "source": []
  }
 ],
 "metadata": {
  "kernelspec": {
   "display_name": "Python 3",
   "language": "python",
   "name": "python3"
  },
  "language_info": {
   "codemirror_mode": {
    "name": "ipython",
    "version": 3
   },
   "file_extension": ".py",
   "mimetype": "text/x-python",
   "name": "python",
   "nbconvert_exporter": "python",
   "pygments_lexer": "ipython3",
   "version": "3.7.6"
  }
 },
 "nbformat": 4,
 "nbformat_minor": 4
}
