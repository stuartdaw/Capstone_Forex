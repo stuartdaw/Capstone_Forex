{
 "cells": [
  {
   "cell_type": "markdown",
   "metadata": {},
   "source": [
    "# 5.0 Modelling-ARIMAX"
   ]
  },
  {
   "cell_type": "markdown",
   "metadata": {},
   "source": [
    "Work book summary:\n",
    "\n",
    "This work book takes the EUR-USD data and the pattern matches and uses ARIMAX to predict the price of the next few time frames.\n",
    "\n",
    "\n",
    "Auto arima suggested the best parameters to use would (0,1,0) rather than my expected (1,1,0). This is ok as the graphs are just an estimate and autoarima is more accurate so I used those parameters.\n",
    "\n",
    "The results were:\n",
    "\n",
    "Marubuzo:\n",
    "+ Accuracy:\t    0.5\n",
    "+ Precision:\t0.74\n",
    "+ Recall:\t\t0.34\n",
    "\n",
    "Fractals:\n",
    "+ Accuracy:\t    0.56\n",
    "+ Precision:\t0.69\n",
    "+ Recall:\t\t0.63\n",
    "\n",
    "SARIMAX was not used as the the model cant detect parameters to show seasonality so it wont be used.\n",
    "\n",
    "\n"
   ]
  },
  {
   "cell_type": "markdown",
   "metadata": {},
   "source": [
    "---"
   ]
  },
  {
   "cell_type": "markdown",
   "metadata": {},
   "source": [
    "# Contents\n",
    "    \n",
    "- [1.0 About ARIMAX Model](#1.0-About-ARIMAX-Model)\n",
    "- [2.0 Marubozu](#2.0-Marubozu)\n",
    "    - [2.1 Load Data](#2.1-Load-Data)\n",
    "    - [2.2 Check Parameters](#2.2-Check-Parameters)\n",
    "- [3.0 Model](#3.0-Model)\n",
    "    - [3.1 Train/Test Split](#3.1-Train/Test-Split)\n",
    "    - [3.2 Fit Model](#3.2-Fit-Model)\n",
    "    - [3.3 Calculate Results](#3.3-Calculate-Results)\n",
    "    - [3.4 Run Model](#3.4-Run-Model)\n",
    "- [4.0 Results](#4.0-Results)\n",
    "- [5.0 Fractals](#5.0-Fractals)\n",
    "    - [5.1 Load Data](#5.1-Load-Data)\n",
    "- [6.0 Model](#6.0-Model)\n",
    "    - [6.1 Train/Test Split](#6.1-Train/Test-Split)\n",
    "    - [6.2 Fit Model](#6.2-Fit-Model)\n",
    "    - [6.3 Calculate Results](#6.3-Calculate-Results)\n",
    "    - [6.4 Run Model](#6.4-Run-Model)\n",
    "- [7.0 Results](#7.0-Results)\n",
    "- [8.0 SARIMAX](#8.0-SARIMAX)\n",
    "\n"
   ]
  },
  {
   "cell_type": "code",
   "execution_count": 1,
   "metadata": {},
   "outputs": [],
   "source": [
    "import pandas as pd\n",
    "import numpy as np\n",
    "import seaborn as sns\n",
    "import matplotlib.pyplot as plt\n",
    "%matplotlib inline\n",
    "import datetime\n",
    "import calendar\n",
    "\n",
    "from statsmodels.tsa.stattools import adfuller\n",
    "from statsmodels.tsa.seasonal import seasonal_decompose\n",
    "from statsmodels.tsa.statespace.sarimax import SARIMAX\n",
    "from statsmodels.tsa.arima_model import ARIMA, ARMA, ARMAResults, ARIMAResults\n",
    "from statsmodels.graphics.tsaplots import plot_acf, plot_pacf\n",
    "from sklearn.metrics import r2_score, mean_squared_error\n",
    "from pmdarima import auto_arima\n",
    "import plotly.graph_objects as go\n",
    "import warnings\n",
    "warnings.filterwarnings(\"ignore\")\n",
    "\n",
    "from statsmodels.tools.eval_measures import rmse\n"
   ]
  },
  {
   "cell_type": "code",
   "execution_count": 2,
   "metadata": {},
   "outputs": [],
   "source": [
    "pd.set_option('display.max_columns', None)"
   ]
  },
  {
   "cell_type": "markdown",
   "metadata": {},
   "source": [
    "---"
   ]
  },
  {
   "cell_type": "markdown",
   "metadata": {},
   "source": [
    "# 1.0 About ARIMAX Model"
   ]
  },
  {
   "cell_type": "markdown",
   "metadata": {},
   "source": [
    "The Arima model has 3 components:\n",
    "\n",
    "+ Differencing Step - I - Integrated - Check for stationarity\n",
    "+ Autoregressive Piece - AR - long term trends\n",
    "+ Moving Average Piece - MA - Modelling sudden fluctuations\n",
    "\n",
    "Each part has input into the model P, D, Q.\n",
    "\n",
    "+ D is the order of differencing we found using the Augmented Dickey-Fuller test.\n",
    "+ P is the number of autoregressive terms in our model. PACF is used to estimate this.\n",
    "+ Q is to do with looking at the moving average.\n",
    "    + If PACF has a sharp cut off and lag-1 for the ACF is negative choose q to be the lag in the ACF before cut off.\n",
    "    + If PACF does not have a sharp cut off or lag -1 ACF is not negative choose q = 0"
   ]
  },
  {
   "cell_type": "markdown",
   "metadata": {},
   "source": [
    "Therefore based on the charts before I will use:\n",
    "    \n",
    "    + p = 1\n",
    "    + d = 1\n",
    "    + q = 0\n",
    "    \n",
    "However I will use auto_arima to help decide."
   ]
  },
  {
   "cell_type": "markdown",
   "metadata": {},
   "source": [
    "The X in the model stands for Exogenous features which are external features away from the time frame. The time series models look at time as a key factor. This is accurate when time is a key feature in determining price. For example stock control will be lnked to time as the more time the less stock is liekly.\n",
    "\n",
    "The FOREX market has a lot of external features which are important to drive the prices. Therefore I added gold price, volatility and 2 Moving Averages. The idea is the model can use the extra information to help predict the price."
   ]
  },
  {
   "cell_type": "markdown",
   "metadata": {},
   "source": [
    "---"
   ]
  },
  {
   "cell_type": "markdown",
   "metadata": {},
   "source": [
    "# 2.0 Marubuzo"
   ]
  },
  {
   "cell_type": "markdown",
   "metadata": {},
   "source": [
    "## 2.1 Load Data"
   ]
  },
  {
   "cell_type": "code",
   "execution_count": 3,
   "metadata": {},
   "outputs": [],
   "source": [
    "daily_pattern = pd.read_csv('/Users/stuartdaw/Documents/Capstone_data/patterns/dailyMarubozu.csv', \n",
    "                           parse_dates=True)"
   ]
  },
  {
   "cell_type": "code",
   "execution_count": 4,
   "metadata": {},
   "outputs": [],
   "source": [
    "daily = pd.read_csv('/Users/stuartdaw/Documents/Capstone_data/data/resampled/eur-usddailyMarubozu.csv', \n",
    "                    index_col='date', parse_dates=True)"
   ]
  },
  {
   "cell_type": "code",
   "execution_count": 5,
   "metadata": {
    "scrolled": true
   },
   "outputs": [
    {
     "data": {
      "text/plain": [
       "64"
      ]
     },
     "execution_count": 5,
     "metadata": {},
     "output_type": "execute_result"
    }
   ],
   "source": [
    "len(daily_pattern)"
   ]
  },
  {
   "cell_type": "markdown",
   "metadata": {},
   "source": [
    "## 2.2 Check Parameters"
   ]
  },
  {
   "cell_type": "code",
   "execution_count": 6,
   "metadata": {},
   "outputs": [],
   "source": [
    "### Get correct hyper parameters"
   ]
  },
  {
   "cell_type": "code",
   "execution_count": 7,
   "metadata": {},
   "outputs": [
    {
     "data": {
      "text/html": [
       "<table class=\"simpletable\">\n",
       "<caption>SARIMAX Results</caption>\n",
       "<tr>\n",
       "  <th>Dep. Variable:</th>           <td>y</td>        <th>  No. Observations:  </th>    <td>4612</td>   \n",
       "</tr>\n",
       "<tr>\n",
       "  <th>Model:</th>           <td>SARIMAX(0, 1, 0)</td> <th>  Log Likelihood     </th>  <td>15826.945</td>\n",
       "</tr>\n",
       "<tr>\n",
       "  <th>Date:</th>            <td>Thu, 06 Aug 2020</td> <th>  AIC                </th> <td>-31651.890</td>\n",
       "</tr>\n",
       "<tr>\n",
       "  <th>Time:</th>                <td>13:06:47</td>     <th>  BIC                </th> <td>-31645.453</td>\n",
       "</tr>\n",
       "<tr>\n",
       "  <th>Sample:</th>                  <td>0</td>        <th>  HQIC               </th> <td>-31649.624</td>\n",
       "</tr>\n",
       "<tr>\n",
       "  <th></th>                      <td> - 4612</td>     <th>                     </th>      <td> </td>    \n",
       "</tr>\n",
       "<tr>\n",
       "  <th>Covariance Type:</th>        <td>opg</td>       <th>                     </th>      <td> </td>    \n",
       "</tr>\n",
       "</table>\n",
       "<table class=\"simpletable\">\n",
       "<tr>\n",
       "     <td></td>       <th>coef</th>     <th>std err</th>      <th>z</th>      <th>P>|z|</th>  <th>[0.025</th>    <th>0.975]</th>  \n",
       "</tr>\n",
       "<tr>\n",
       "  <th>sigma2</th> <td>  6.11e-05</td> <td> 5.15e-07</td> <td>  118.588</td> <td> 0.000</td> <td> 6.01e-05</td> <td> 6.21e-05</td>\n",
       "</tr>\n",
       "</table>\n",
       "<table class=\"simpletable\">\n",
       "<tr>\n",
       "  <th>Ljung-Box (Q):</th>          <td>61.33</td> <th>  Jarque-Bera (JB):  </th> <td>20105.01</td>\n",
       "</tr>\n",
       "<tr>\n",
       "  <th>Prob(Q):</th>                <td>0.02</td>  <th>  Prob(JB):          </th>   <td>0.00</td>  \n",
       "</tr>\n",
       "<tr>\n",
       "  <th>Heteroskedasticity (H):</th> <td>0.66</td>  <th>  Skew:              </th>   <td>-0.38</td> \n",
       "</tr>\n",
       "<tr>\n",
       "  <th>Prob(H) (two-sided):</th>    <td>0.00</td>  <th>  Kurtosis:          </th>   <td>13.20</td> \n",
       "</tr>\n",
       "</table><br/><br/>Warnings:<br/>[1] Covariance matrix calculated using the outer product of gradients (complex-step)."
      ],
      "text/plain": [
       "<class 'statsmodels.iolib.summary.Summary'>\n",
       "\"\"\"\n",
       "                               SARIMAX Results                                \n",
       "==============================================================================\n",
       "Dep. Variable:                      y   No. Observations:                 4612\n",
       "Model:               SARIMAX(0, 1, 0)   Log Likelihood               15826.945\n",
       "Date:                Thu, 06 Aug 2020   AIC                         -31651.890\n",
       "Time:                        13:06:47   BIC                         -31645.453\n",
       "Sample:                             0   HQIC                        -31649.624\n",
       "                               - 4612                                         \n",
       "Covariance Type:                  opg                                         \n",
       "==============================================================================\n",
       "                 coef    std err          z      P>|z|      [0.025      0.975]\n",
       "------------------------------------------------------------------------------\n",
       "sigma2       6.11e-05   5.15e-07    118.588      0.000    6.01e-05    6.21e-05\n",
       "===================================================================================\n",
       "Ljung-Box (Q):                       61.33   Jarque-Bera (JB):             20105.01\n",
       "Prob(Q):                              0.02   Prob(JB):                         0.00\n",
       "Heteroskedasticity (H):               0.66   Skew:                            -0.38\n",
       "Prob(H) (two-sided):                  0.00   Kurtosis:                        13.20\n",
       "===================================================================================\n",
       "\n",
       "Warnings:\n",
       "[1] Covariance matrix calculated using the outer product of gradients (complex-step).\n",
       "\"\"\""
      ]
     },
     "execution_count": 7,
     "metadata": {},
     "output_type": "execute_result"
    }
   ],
   "source": [
    "## Arima\n",
    "auto_arima(daily['close'].dropna(), seasonal=False).summary()"
   ]
  },
  {
   "cell_type": "markdown",
   "metadata": {},
   "source": [
    "---"
   ]
  },
  {
   "cell_type": "markdown",
   "metadata": {},
   "source": [
    "# 3.0 Model"
   ]
  },
  {
   "cell_type": "markdown",
   "metadata": {},
   "source": [
    "## 3.1 Train/Test Split"
   ]
  },
  {
   "cell_type": "code",
   "execution_count": 8,
   "metadata": {},
   "outputs": [],
   "source": [
    "# create train test split\n",
    "def create_train_test_split(date, time_series, model_info):\n",
    "\n",
    "    # Get index of pattern and add 6 (so 5) extra rows for Test/train set\n",
    "    test_end_loc = time_series.index.get_loc(date) + 6\n",
    "    \n",
    "    # Create train/test set using index loc of pattern \n",
    "    train_test = time_series.iloc[:test_end_loc]\n",
    "    \n",
    "    # Set target values\n",
    "    target_value = time_series.loc[time_series.index == date,'exit_price'].item()\n",
    "    \n",
    "    # add target price to dataset\n",
    "    train_test.insert(0, 'target_price', target_value)\n",
    "    \n",
    "    # Add Signal so it can be determined whether we expect the price to go up or down.\n",
    "    model_info['signal'] = time_series.loc[date,'marubozu']\n",
    "    \n",
    "    # insert the signal to dataset\n",
    "    train_test.insert(0, 'signal', model_info['signal'])\n",
    "    \n",
    "    # create start and end points for the test/train splits\n",
    "    model_info['start'] = len(train_test)-5\n",
    "    model_info['end'] = len(train_test)-1\n",
    "    \n",
    "    # create the train and data sets\n",
    "    model_info['train'] = train_test.iloc[:model_info['start']]\n",
    "    model_info['test'] = train_test.iloc[model_info['start']:]\n",
    "\n",
    "    return model_info"
   ]
  },
  {
   "cell_type": "markdown",
   "metadata": {},
   "source": [
    "## 3.2 Fit Model"
   ]
  },
  {
   "cell_type": "code",
   "execution_count": 9,
   "metadata": {},
   "outputs": [],
   "source": [
    "# Fit the model\n",
    "\n",
    "def train_arima(model_info, p=0, d=1, q=0):\n",
    "    \n",
    "    exog = np.column_stack([model_info['train']['mnth_mv_avg'], \n",
    "                            model_info['train']['wk_mv_avg'],\n",
    "                            model_info['train']['volatility_3_day'],\n",
    "                            model_info['train']['gold_euro'],\n",
    "                            model_info['train']['gold_usd']])\n",
    "    \n",
    "    if model_info['signal'] == -1:\n",
    "        model = ARIMA(model_info['train']['low'], exog=exog, order=(p,d,q))\n",
    "    else:\n",
    "        model = ARIMA(model_info['train']['high'], exog=exog, order=(p,d,q))\n",
    "\n",
    "    results = model.fit()\n",
    "    predictions = results.predict(start=model_info['start'], \n",
    "                                  end=model_info['end'], exog=exog,\n",
    "                                  dynamic=True, \n",
    "                                  typ='levels').rename('ARIMA-0-1-0 Predictions')\n",
    "    \n",
    "    return results, predictions"
   ]
  },
  {
   "cell_type": "markdown",
   "metadata": {},
   "source": [
    "## 3.3 Calculate Results"
   ]
  },
  {
   "cell_type": "code",
   "execution_count": 10,
   "metadata": {},
   "outputs": [],
   "source": [
    "# Determine whether the signal is correct and the future price is surpassed\n",
    "\n",
    "def meet_threshold(row):\n",
    "    if row['signal'] == -1 and row['low'] <= row['target_price']:\n",
    "        return -1\n",
    "    elif row['signal'] == 1 and row['high'] >= row['target_price']:\n",
    "        return 1    \n",
    "    else:\n",
    "        return 0"
   ]
  },
  {
   "cell_type": "code",
   "execution_count": 11,
   "metadata": {},
   "outputs": [],
   "source": [
    "# Calculate whether the machine learning model predicted correctly\n",
    "\n",
    "def ml_decision(row):\n",
    "    if row['direction'] == -1 and row['preds'] <= row['target_price']:\n",
    "        return -1\n",
    "    elif row['direction'] == 1 and row['preds'] >= row['target_price']:\n",
    "        return 1    \n",
    "    else:\n",
    "        return 0"
   ]
  },
  {
   "cell_type": "code",
   "execution_count": 12,
   "metadata": {},
   "outputs": [],
   "source": [
    "# create outcomes dataframe\n",
    "def create_results_outcomes_dataframe(test, predictions):    \n",
    "    outcomes = pd.DataFrame()\n",
    "    outcomes['low'] = test['low']\n",
    "    outcomes['high'] = test['high']\n",
    "    outcomes['preds'] = predictions.values\n",
    "    outcomes['target_price'] = test['target_price']\n",
    "    outcomes['direction'] = test['signal']\n",
    "    outcomes['correct_call'] = test.apply(meet_threshold, axis=1)\n",
    "    return outcomes"
   ]
  },
  {
   "cell_type": "code",
   "execution_count": 13,
   "metadata": {},
   "outputs": [],
   "source": [
    "# print chart\n",
    "def print_chart(outcomes):\n",
    "    if model_info['signal'] == -1:\n",
    "        outcomes['low'].plot(legend=False, figsize=(12,8))\n",
    "    else:\n",
    "        outcomes['high'].plot(legend=False, figsize=(12,8))\n",
    "\n",
    "    outcomes['preds'].plot(legend=False);\n",
    "    outcomes['target_price'].plot(legend=False);"
   ]
  },
  {
   "cell_type": "code",
   "execution_count": 14,
   "metadata": {},
   "outputs": [],
   "source": [
    "# Calculate the results dataframe for RMSE ans MSE\n",
    "\n",
    "def get_results(model_info):\n",
    "        \n",
    "    if model_info['signal'] == -1:\n",
    "        mse = mean_squared_error(model_info['test']['low'], predictions)\n",
    "        rmse_res = rmse(model_info['test']['low'], predictions)\n",
    "    else:\n",
    "        mse = mean_squared_error(model_info['test']['high'], predictions)\n",
    "        rmse_res = rmse(model_info['test']['high'], predictions)       \n",
    "    \n",
    "    return rmse_res, mse"
   ]
  },
  {
   "cell_type": "code",
   "execution_count": 15,
   "metadata": {},
   "outputs": [],
   "source": [
    "# Determine the classfication of the machine learning for the confusion matrix\n",
    "def classify(outcomes):\n",
    "    \n",
    "    if max(outcomes['direction']) == 1:\n",
    "        \n",
    "        if max(outcomes['correct_call']) == 0 and max(outcomes['ml_correct_call']) == 0:\n",
    "            return 'tn'\n",
    "        elif max(outcomes['correct_call']) == 1 and max(outcomes['ml_correct_call']) == 1:\n",
    "            return 'tp'\n",
    "        elif max(outcomes['correct_call']) == 0 and max(outcomes['ml_correct_call']) == 1:\n",
    "            return 'fp'\n",
    "        elif max(outcomes['correct_call']) == 1 and max(outcomes['ml_correct_call']) == 0:\n",
    "            return 'fn'\n",
    "        \n",
    "    elif max(outcomes['direction']) == -1:\n",
    "        \n",
    "        if min(outcomes['correct_call']) == 0 and min(outcomes['ml_correct_call']) == 0:\n",
    "            return 'tn'\n",
    "        elif min(outcomes['correct_call']) == -1 and min(outcomes['ml_correct_call']) == -1:\n",
    "            return 'tp'\n",
    "        elif min(outcomes['correct_call']) == 0 and min(outcomes['ml_correct_call']) == -1:\n",
    "            return 'fp'\n",
    "        elif min(outcomes['correct_call']) == -1 and min(outcomes['ml_correct_call']) == 0:\n",
    "            return 'fn'\n",
    "        \n",
    "    else:\n",
    "        return 'ERROR'\n",
    "    "
   ]
  },
  {
   "cell_type": "markdown",
   "metadata": {},
   "source": [
    "## 3.4 Run Model"
   ]
  },
  {
   "cell_type": "code",
   "execution_count": 16,
   "metadata": {
    "scrolled": false
   },
   "outputs": [],
   "source": [
    "# Main function to drive the model\n",
    "\n",
    "arima_results = []\n",
    "\n",
    "for match in daily_pattern['pattern_end']:\n",
    "    \n",
    "    model_info = {\"train\":None,\"test\":None,\"start\":None,\"end\":None,\"signal\":None}\n",
    "\n",
    "    \n",
    "    results_dict = {'name':'arima-0-1-0','strategy':'marubozu','date':match,\n",
    "                   'time_frame':'daily','RMSE':None,\n",
    "                   'MSE':None, 'classification':None}\n",
    "    \n",
    "\n",
    "    model_info = create_train_test_split(match, daily, model_info)\n",
    "\n",
    "    if len(model_info['train']) < 10:\n",
    "        continue\n",
    "\n",
    "    results, predictions = train_arima(model_info)\n",
    "    \n",
    "\n",
    "    outcomes = create_results_outcomes_dataframe(model_info['test'], predictions)\n",
    "    outcomes['ml_correct_call'] = outcomes.apply(ml_decision, axis=1)\n",
    "\n",
    "    results_dict['RMSE'], results_dict['MSE'] = get_results(model_info)\n",
    "    results_dict['classification'] = classify(outcomes)\n",
    "\n",
    "    arima_results.append(results_dict)\n",
    "    "
   ]
  },
  {
   "cell_type": "code",
   "execution_count": 17,
   "metadata": {},
   "outputs": [],
   "source": [
    "# Check no errors\n",
    "def check_no_errors(results_list):\n",
    "    errors = 0\n",
    "    for result in arima_results:\n",
    "        res = result['classification']\n",
    "        if res == 'ERROR':\n",
    "            errors+=1\n",
    "    \n",
    "    if errors == 0:\n",
    "        print(\"All patterns recorded correctly\")\n",
    "    elif errors > 0:\n",
    "        print(f\"Warning: there were {errors} errors recorded\")"
   ]
  },
  {
   "cell_type": "code",
   "execution_count": 18,
   "metadata": {},
   "outputs": [
    {
     "name": "stdout",
     "output_type": "stream",
     "text": [
      "All patterns recorded correctly\n"
     ]
    }
   ],
   "source": [
    "check_no_errors(arima_results)"
   ]
  },
  {
   "cell_type": "markdown",
   "metadata": {},
   "source": [
    "---"
   ]
  },
  {
   "cell_type": "markdown",
   "metadata": {},
   "source": [
    "# 4.0 Results"
   ]
  },
  {
   "cell_type": "code",
   "execution_count": 19,
   "metadata": {},
   "outputs": [],
   "source": [
    "def create_cm(arima_results):\n",
    "    \n",
    "    res_cm = [[0,0],\n",
    "              [0,0]]\n",
    "    \n",
    "    for result in arima_results:\n",
    "        res = result['classification']\n",
    "        \n",
    "        if res == 'tp':\n",
    "            res_cm[0][0] += 1\n",
    "        elif res == 'fp':\n",
    "            res_cm[0][1] += 1\n",
    "        elif res == 'fn':\n",
    "            res_cm[1][0] += 1\n",
    "        elif res == 'tn':\n",
    "            res_cm[1][1] += 1\n",
    "    \n",
    "    return res_cm"
   ]
  },
  {
   "cell_type": "code",
   "execution_count": 20,
   "metadata": {},
   "outputs": [],
   "source": [
    "cm = create_cm(arima_results)"
   ]
  },
  {
   "cell_type": "code",
   "execution_count": 21,
   "metadata": {},
   "outputs": [
    {
     "data": {
      "text/html": [
       "<div>\n",
       "<style scoped>\n",
       "    .dataframe tbody tr th:only-of-type {\n",
       "        vertical-align: middle;\n",
       "    }\n",
       "\n",
       "    .dataframe tbody tr th {\n",
       "        vertical-align: top;\n",
       "    }\n",
       "\n",
       "    .dataframe thead th {\n",
       "        text-align: right;\n",
       "    }\n",
       "</style>\n",
       "<table border=\"1\" class=\"dataframe\">\n",
       "  <thead>\n",
       "    <tr style=\"text-align: right;\">\n",
       "      <th></th>\n",
       "      <th>actual success</th>\n",
       "      <th>actual non_success</th>\n",
       "    </tr>\n",
       "  </thead>\n",
       "  <tbody>\n",
       "    <tr>\n",
       "      <th>pred_success</th>\n",
       "      <td>14</td>\n",
       "      <td>5</td>\n",
       "    </tr>\n",
       "    <tr>\n",
       "      <th>pred_non_success</th>\n",
       "      <td>27</td>\n",
       "      <td>18</td>\n",
       "    </tr>\n",
       "  </tbody>\n",
       "</table>\n",
       "</div>"
      ],
      "text/plain": [
       "                  actual success  actual non_success\n",
       "pred_success                  14                   5\n",
       "pred_non_success              27                  18"
      ]
     },
     "execution_count": 21,
     "metadata": {},
     "output_type": "execute_result"
    }
   ],
   "source": [
    "cm_df = pd.DataFrame(cm, index=['pred_success', 'pred_non_success'], columns=['actual success', 'actual non_success'])\n",
    "cm_df"
   ]
  },
  {
   "cell_type": "code",
   "execution_count": 22,
   "metadata": {},
   "outputs": [],
   "source": [
    "def print_metrics(cm):\n",
    "    # Accuracy - how many did the model get right\n",
    "    # Total number of correct predictions / total number of predictions\n",
    "    acc= (cm[0][0]+cm[1][1])/(np.sum(cm))\n",
    "    \n",
    "    # Precision proportion of positive identifications that were actually correct\n",
    "    # True positives/ true positives + false positives)\n",
    "    prec = cm[0][0]/(cm[0][0]+cm[0][1])\n",
    "    \n",
    "    # Recall - proportion of actual positives that were correctly defined\n",
    "    # True positives/ true positives + false negatives\n",
    "    rec = cm[0][0]/(cm[0][0]+cm[1][0])\n",
    "\n",
    "    print(f\"Accuracy:\\t{round(acc,2)}\\nPrecision:\\t{round(prec,2)}\\nRecall:\\t\\t{round(rec,2)}\")\n"
   ]
  },
  {
   "cell_type": "code",
   "execution_count": 23,
   "metadata": {
    "scrolled": true
   },
   "outputs": [
    {
     "name": "stdout",
     "output_type": "stream",
     "text": [
      "Accuracy:\t0.5\n",
      "Precision:\t0.74\n",
      "Recall:\t\t0.34\n"
     ]
    }
   ],
   "source": [
    "# Display the results\n",
    "print_metrics(cm)"
   ]
  },
  {
   "cell_type": "markdown",
   "metadata": {},
   "source": [
    "---"
   ]
  },
  {
   "cell_type": "code",
   "execution_count": 24,
   "metadata": {},
   "outputs": [],
   "source": [
    "## Graph of an example"
   ]
  },
  {
   "cell_type": "code",
   "execution_count": 25,
   "metadata": {},
   "outputs": [
    {
     "data": {
      "image/png": "[encoded data removed]",
      "text/plain": [
       "<Figure size 864x576 with 1 Axes>"
      ]
     },
     "metadata": {
      "needs_background": "light"
     },
     "output_type": "display_data"
    }
   ],
   "source": [
    "# This shows how the graph will be caluculated\n",
    "outcomes['low'].plot(legend=True, figsize=(12,8))\n",
    "outcomes['high'].plot(legend=True)\n",
    "outcomes['preds'].plot(legend=True);\n",
    "outcomes['target_price'].plot(legend=True);"
   ]
  },
  {
   "cell_type": "code",
   "execution_count": 26,
   "metadata": {},
   "outputs": [
    {
     "data": {
      "text/html": [
       "<div>\n",
       "<style scoped>\n",
       "    .dataframe tbody tr th:only-of-type {\n",
       "        vertical-align: middle;\n",
       "    }\n",
       "\n",
       "    .dataframe tbody tr th {\n",
       "        vertical-align: top;\n",
       "    }\n",
       "\n",
       "    .dataframe thead th {\n",
       "        text-align: right;\n",
       "    }\n",
       "</style>\n",
       "<table border=\"1\" class=\"dataframe\">\n",
       "  <thead>\n",
       "    <tr style=\"text-align: right;\">\n",
       "      <th></th>\n",
       "      <th>name</th>\n",
       "      <th>strategy</th>\n",
       "      <th>date</th>\n",
       "      <th>time_frame</th>\n",
       "      <th>RMSE</th>\n",
       "      <th>MSE</th>\n",
       "      <th>classification</th>\n",
       "    </tr>\n",
       "  </thead>\n",
       "  <tbody>\n",
       "    <tr>\n",
       "      <th>0</th>\n",
       "      <td>arima-0-1-0</td>\n",
       "      <td>marubozu</td>\n",
       "      <td>2000-10-11</td>\n",
       "      <td>daily</td>\n",
       "      <td>0.004065</td>\n",
       "      <td>0.000017</td>\n",
       "      <td>tp</td>\n",
       "    </tr>\n",
       "    <tr>\n",
       "      <th>1</th>\n",
       "      <td>arima-0-1-0</td>\n",
       "      <td>marubozu</td>\n",
       "      <td>2000-10-20</td>\n",
       "      <td>daily</td>\n",
       "      <td>0.011222</td>\n",
       "      <td>0.000126</td>\n",
       "      <td>tp</td>\n",
       "    </tr>\n",
       "    <tr>\n",
       "      <th>2</th>\n",
       "      <td>arima-0-1-0</td>\n",
       "      <td>marubozu</td>\n",
       "      <td>2001-04-05</td>\n",
       "      <td>daily</td>\n",
       "      <td>0.006349</td>\n",
       "      <td>0.000040</td>\n",
       "      <td>tp</td>\n",
       "    </tr>\n",
       "    <tr>\n",
       "      <th>3</th>\n",
       "      <td>arima-0-1-0</td>\n",
       "      <td>marubozu</td>\n",
       "      <td>2001-04-09</td>\n",
       "      <td>daily</td>\n",
       "      <td>0.006417</td>\n",
       "      <td>0.000041</td>\n",
       "      <td>tp</td>\n",
       "    </tr>\n",
       "    <tr>\n",
       "      <th>4</th>\n",
       "      <td>arima-0-1-0</td>\n",
       "      <td>marubozu</td>\n",
       "      <td>2001-08-20</td>\n",
       "      <td>daily</td>\n",
       "      <td>0.009487</td>\n",
       "      <td>0.000090</td>\n",
       "      <td>tp</td>\n",
       "    </tr>\n",
       "    <tr>\n",
       "      <th>...</th>\n",
       "      <td>...</td>\n",
       "      <td>...</td>\n",
       "      <td>...</td>\n",
       "      <td>...</td>\n",
       "      <td>...</td>\n",
       "      <td>...</td>\n",
       "      <td>...</td>\n",
       "    </tr>\n",
       "    <tr>\n",
       "      <th>59</th>\n",
       "      <td>arima-0-1-0</td>\n",
       "      <td>marubozu</td>\n",
       "      <td>2018-09-17</td>\n",
       "      <td>daily</td>\n",
       "      <td>0.004317</td>\n",
       "      <td>0.000019</td>\n",
       "      <td>tp</td>\n",
       "    </tr>\n",
       "    <tr>\n",
       "      <th>60</th>\n",
       "      <td>arima-0-1-0</td>\n",
       "      <td>marubozu</td>\n",
       "      <td>2018-10-22</td>\n",
       "      <td>daily</td>\n",
       "      <td>0.012050</td>\n",
       "      <td>0.000145</td>\n",
       "      <td>fn</td>\n",
       "    </tr>\n",
       "    <tr>\n",
       "      <th>61</th>\n",
       "      <td>arima-0-1-0</td>\n",
       "      <td>marubozu</td>\n",
       "      <td>2018-12-10</td>\n",
       "      <td>daily</td>\n",
       "      <td>0.008124</td>\n",
       "      <td>0.000066</td>\n",
       "      <td>fn</td>\n",
       "    </tr>\n",
       "    <tr>\n",
       "      <th>62</th>\n",
       "      <td>arima-0-1-0</td>\n",
       "      <td>marubozu</td>\n",
       "      <td>2019-01-31</td>\n",
       "      <td>daily</td>\n",
       "      <td>0.009717</td>\n",
       "      <td>0.000094</td>\n",
       "      <td>fn</td>\n",
       "    </tr>\n",
       "    <tr>\n",
       "      <th>63</th>\n",
       "      <td>arima-0-1-0</td>\n",
       "      <td>marubozu</td>\n",
       "      <td>2019-02-13</td>\n",
       "      <td>daily</td>\n",
       "      <td>0.002301</td>\n",
       "      <td>0.000005</td>\n",
       "      <td>tn</td>\n",
       "    </tr>\n",
       "  </tbody>\n",
       "</table>\n",
       "<p>64 rows × 7 columns</p>\n",
       "</div>"
      ],
      "text/plain": [
       "           name  strategy        date time_frame      RMSE       MSE  \\\n",
       "0   arima-0-1-0  marubozu  2000-10-11      daily  0.004065  0.000017   \n",
       "1   arima-0-1-0  marubozu  2000-10-20      daily  0.011222  0.000126   \n",
       "2   arima-0-1-0  marubozu  2001-04-05      daily  0.006349  0.000040   \n",
       "3   arima-0-1-0  marubozu  2001-04-09      daily  0.006417  0.000041   \n",
       "4   arima-0-1-0  marubozu  2001-08-20      daily  0.009487  0.000090   \n",
       "..          ...       ...         ...        ...       ...       ...   \n",
       "59  arima-0-1-0  marubozu  2018-09-17      daily  0.004317  0.000019   \n",
       "60  arima-0-1-0  marubozu  2018-10-22      daily  0.012050  0.000145   \n",
       "61  arima-0-1-0  marubozu  2018-12-10      daily  0.008124  0.000066   \n",
       "62  arima-0-1-0  marubozu  2019-01-31      daily  0.009717  0.000094   \n",
       "63  arima-0-1-0  marubozu  2019-02-13      daily  0.002301  0.000005   \n",
       "\n",
       "   classification  \n",
       "0              tp  \n",
       "1              tp  \n",
       "2              tp  \n",
       "3              tp  \n",
       "4              tp  \n",
       "..            ...  \n",
       "59             tp  \n",
       "60             fn  \n",
       "61             fn  \n",
       "62             fn  \n",
       "63             tn  \n",
       "\n",
       "[64 rows x 7 columns]"
      ]
     },
     "execution_count": 26,
     "metadata": {},
     "output_type": "execute_result"
    }
   ],
   "source": [
    "arima_results_df = pd.DataFrame(arima_results)\n",
    "arima_results_df"
   ]
  },
  {
   "cell_type": "code",
   "execution_count": 27,
   "metadata": {},
   "outputs": [],
   "source": [
    "# Save resutls\n",
    "arima_results_df.to_csv('/Users/stuartdaw/Documents/Capstone_data/model_results/arima_results_mb.csv', index=False)"
   ]
  },
  {
   "cell_type": "markdown",
   "metadata": {},
   "source": [
    "---"
   ]
  },
  {
   "cell_type": "markdown",
   "metadata": {},
   "source": [
    "# 5.0 Fractals"
   ]
  },
  {
   "cell_type": "markdown",
   "metadata": {},
   "source": [
    "## 5.1 Load Data"
   ]
  },
  {
   "cell_type": "code",
   "execution_count": 28,
   "metadata": {},
   "outputs": [],
   "source": [
    "daily_fractals = pd.read_csv('/Users/stuartdaw/Documents/Capstone_data/data/resampled/eur-usddailyfractals.csv', \n",
    "                             index_col='date', parse_dates=True)"
   ]
  },
  {
   "cell_type": "code",
   "execution_count": 29,
   "metadata": {},
   "outputs": [],
   "source": [
    "fractal_pattern = pd.read_csv('/Users/stuartdaw/Documents/Capstone_data/patterns/dailyfractals.csv', \n",
    "                           parse_dates=True)"
   ]
  },
  {
   "cell_type": "code",
   "execution_count": 30,
   "metadata": {
    "scrolled": false
   },
   "outputs": [
    {
     "data": {
      "text/plain": [
       "613"
      ]
     },
     "execution_count": 30,
     "metadata": {},
     "output_type": "execute_result"
    }
   ],
   "source": [
    "len(fractal_pattern)"
   ]
  },
  {
   "cell_type": "markdown",
   "metadata": {},
   "source": [
    "---"
   ]
  },
  {
   "cell_type": "markdown",
   "metadata": {},
   "source": [
    "# 6.0 Model"
   ]
  },
  {
   "cell_type": "markdown",
   "metadata": {},
   "source": [
    "## 6.1 Train/Test Split"
   ]
  },
  {
   "cell_type": "code",
   "execution_count": 31,
   "metadata": {},
   "outputs": [],
   "source": [
    "# create train test split\n",
    "\n",
    "def create_train_test_split(date, time_series, model_info):\n",
    "\n",
    "    # Get index of pattern and add 6 (so 5) extra rows for Test/train set\n",
    "    test_end_loc = time_series.index.get_loc(date) + 6\n",
    "    \n",
    "    # Create train/test set using index loc of pattern \n",
    "    train_test = time_series.iloc[:test_end_loc]\n",
    "    \n",
    "    # Set target values\n",
    "    target_value = time_series.loc[time_series.index == date,'exit_price'].item()\n",
    "    \n",
    "    # add target price to dataset\n",
    "    train_test.insert(0, 'target_price', target_value)\n",
    "    \n",
    "    # Add Signal so it can be determined whether we expect the price to go up or down.\n",
    "    model_info['signal'] = time_series.loc[date,'fractal_end']\n",
    "    \n",
    "    # insert the signal to dataset\n",
    "    train_test.insert(0, 'signal', model_info['signal'])\n",
    "    \n",
    "    # create start and end points for the test/train splits\n",
    "    model_info['start'] = len(train_test)-5\n",
    "    model_info['end'] = len(train_test)-1\n",
    "    \n",
    "    # create the train and data sets\n",
    "    model_info['train'] = train_test.iloc[:model_info['start']]\n",
    "    model_info['test'] = train_test.iloc[model_info['start']:]\n",
    "\n",
    "    return model_info"
   ]
  },
  {
   "cell_type": "markdown",
   "metadata": {},
   "source": [
    "## 6.2 Fit Model"
   ]
  },
  {
   "cell_type": "code",
   "execution_count": 32,
   "metadata": {},
   "outputs": [],
   "source": [
    "# Fit the model\n",
    "\n",
    "def train_arima(model_info, p=0, d=1, q=0):\n",
    "    \n",
    "    exog = np.column_stack([model_info['train']['mnth_mv_avg'], \n",
    "                            model_info['train']['wk_mv_avg'],\n",
    "                            model_info['train']['volatility_3_day'],\n",
    "                            model_info['train']['gold_euro'],\n",
    "                            model_info['train']['gold_usd']])\n",
    "    \n",
    "    if model_info['signal'] == -1:\n",
    "        model = ARIMA(model_info['train']['low'], exog=exog, order=(p,d,q))\n",
    "    else:\n",
    "        model = ARIMA(model_info['train']['high'], exog=exog, order=(p,d,q))\n",
    "\n",
    "    results = model.fit()\n",
    "    predictions = results.predict(start=model_info['start'], \n",
    "                                  end=model_info['end'], exog=exog,\n",
    "                                  dynamic=True, \n",
    "                                  typ='levels').rename('ARIMA-0-1-0 Predictions')\n",
    "    \n",
    "    return results, predictions"
   ]
  },
  {
   "cell_type": "markdown",
   "metadata": {},
   "source": [
    "## 6.3 Calculate Results"
   ]
  },
  {
   "cell_type": "code",
   "execution_count": 33,
   "metadata": {},
   "outputs": [],
   "source": [
    "# Determine whether the signal is correct and the future price is surpassed\n",
    "\n",
    "def meet_threshold(row):\n",
    "    if row['signal'] == -1 and row['low'] <= row['target_price']:\n",
    "        return -1\n",
    "    elif row['signal'] == 1 and row['high'] >= row['target_price']:\n",
    "        return 1    \n",
    "    else:\n",
    "        return 0"
   ]
  },
  {
   "cell_type": "code",
   "execution_count": 34,
   "metadata": {},
   "outputs": [],
   "source": [
    "# Calculate whether the machine learning model predicted correctly\n",
    "\n",
    "def ml_decision(row):\n",
    "    if row['direction'] == -1 and row['preds'] <= row['target_price']:\n",
    "        return -1\n",
    "    elif row['direction'] == 1 and row['preds'] >= row['target_price']:\n",
    "        return 1    \n",
    "    else:\n",
    "        return 0"
   ]
  },
  {
   "cell_type": "code",
   "execution_count": 35,
   "metadata": {},
   "outputs": [],
   "source": [
    "# create a dateframe of outcomes\n",
    "\n",
    "def create_results_outcomes_dataframe(test, predictions):    \n",
    "    outcomes = pd.DataFrame()\n",
    "    outcomes['low'] = test['low']\n",
    "    outcomes['high'] = test['high']\n",
    "    outcomes['preds'] = predictions.values\n",
    "    outcomes['target_price'] = test['target_price']\n",
    "    outcomes['direction'] = test['signal']\n",
    "    outcomes['correct_call'] = test.apply(meet_threshold, axis=1)\n",
    "    return outcomes"
   ]
  },
  {
   "cell_type": "code",
   "execution_count": 36,
   "metadata": {},
   "outputs": [],
   "source": [
    "# print chart to show whats happening\n",
    "\n",
    "def print_chart(outcomes):\n",
    "    if model_info['signal'] == -1:\n",
    "        outcomes['low'].plot(legend=False, figsize=(12,8))\n",
    "    else:\n",
    "        outcomes['high'].plot(legend=False, figsize=(12,8))\n",
    "\n",
    "    outcomes['preds'].plot(legend=False);\n",
    "    outcomes['target_price'].plot(legend=False);"
   ]
  },
  {
   "cell_type": "code",
   "execution_count": 37,
   "metadata": {},
   "outputs": [],
   "source": [
    "# Calculate the results dataframe for RMSE ans MSE\n",
    "\n",
    "def get_results(model_info):\n",
    "        \n",
    "    if model_info['signal'] == -1:\n",
    "        mse = mean_squared_error(model_info['test']['low'], predictions)\n",
    "        rmse_res = rmse(model_info['test']['low'], predictions)\n",
    "    else:\n",
    "        mse = mean_squared_error(model_info['test']['high'], predictions)\n",
    "        rmse_res = rmse(model_info['test']['high'], predictions)       \n",
    "    \n",
    "    return rmse_res, mse"
   ]
  },
  {
   "cell_type": "code",
   "execution_count": 38,
   "metadata": {},
   "outputs": [],
   "source": [
    "# Determine the classfication of the machine learning for the confusion matrix\n",
    "\n",
    "def classify(outcomes):\n",
    "    \n",
    "    if max(outcomes['direction']) == 1:\n",
    "        \n",
    "        if max(outcomes['correct_call']) == 0 and max(outcomes['ml_correct_call']) == 0:\n",
    "            return 'tn'\n",
    "        elif max(outcomes['correct_call']) == 1 and max(outcomes['ml_correct_call']) == 1:\n",
    "            return 'tp'\n",
    "        elif max(outcomes['correct_call']) == 0 and max(outcomes['ml_correct_call']) == 1:\n",
    "            return 'fp'\n",
    "        elif max(outcomes['correct_call']) == 1 and max(outcomes['ml_correct_call']) == 0:\n",
    "            return 'fn'\n",
    "        \n",
    "    elif max(outcomes['direction']) == -1:\n",
    "        \n",
    "        if min(outcomes['correct_call']) == 0 and min(outcomes['ml_correct_call']) == 0:\n",
    "            return 'tn'\n",
    "        elif min(outcomes['correct_call']) == -1 and min(outcomes['ml_correct_call']) == -1:\n",
    "            return 'tp'\n",
    "        elif min(outcomes['correct_call']) == 0 and min(outcomes['ml_correct_call']) == -1:\n",
    "            return 'fp'\n",
    "        elif min(outcomes['correct_call']) == -1 and min(outcomes['ml_correct_call']) == 0:\n",
    "            return 'fn'\n",
    "        \n",
    "    else:\n",
    "        return 'ERROR'\n",
    "    "
   ]
  },
  {
   "cell_type": "markdown",
   "metadata": {},
   "source": [
    "## 6.4 Run Model"
   ]
  },
  {
   "cell_type": "code",
   "execution_count": 39,
   "metadata": {
    "scrolled": true
   },
   "outputs": [],
   "source": [
    "# Main function to drive the model\n",
    "\n",
    "arima_results = []\n",
    "\n",
    "for match in fractal_pattern['pattern_end']:\n",
    "    \n",
    "    model_info = {\"train\":None,\"test\":None,\"start\":None,\"end\":None,\"signal\":None}\n",
    "\n",
    "    \n",
    "    results_dict = {'name':'arima-0-1-0','strategy':'fractals','date':match,\n",
    "                   'time_frame':'daily','RMSE':None,\n",
    "                   'MSE':None, 'classification':None}\n",
    "    \n",
    "\n",
    "    model_info = create_train_test_split(match, daily_fractals, model_info)\n",
    "\n",
    "    if len(model_info['train']) < 10:\n",
    "        continue\n",
    "\n",
    "    results, predictions = train_arima(model_info)\n",
    "    \n",
    "\n",
    "    outcomes = create_results_outcomes_dataframe(model_info['test'], predictions)\n",
    "    outcomes['ml_correct_call'] = outcomes.apply(ml_decision, axis=1)\n",
    "\n",
    "    results_dict['RMSE'], results_dict['MSE'] = get_results(model_info)\n",
    "    results_dict['classification'] = classify(outcomes)\n",
    "\n",
    "#     print(results_dict['classification'])\n",
    "#     print(outcomes)\n",
    "    arima_results.append(results_dict)\n",
    "    "
   ]
  },
  {
   "cell_type": "code",
   "execution_count": 40,
   "metadata": {},
   "outputs": [],
   "source": [
    "# Check no errors\n",
    "def check_no_errors(results_list):\n",
    "    errors = 0\n",
    "    for result in arima_results:\n",
    "        res = result['classification']\n",
    "        if res == 'ERROR':\n",
    "            errors+=1\n",
    "    \n",
    "    if errors == 0:\n",
    "        print(\"All patterns recorded correctly\")\n",
    "    elif errors > 0:\n",
    "        print(f\"Warning: there were {errors} errors recorded\")"
   ]
  },
  {
   "cell_type": "code",
   "execution_count": 41,
   "metadata": {},
   "outputs": [
    {
     "name": "stdout",
     "output_type": "stream",
     "text": [
      "All patterns recorded correctly\n"
     ]
    }
   ],
   "source": [
    "check_no_errors(arima_results)"
   ]
  },
  {
   "cell_type": "markdown",
   "metadata": {},
   "source": [
    "---"
   ]
  },
  {
   "cell_type": "markdown",
   "metadata": {},
   "source": [
    "# 7.0 Results"
   ]
  },
  {
   "cell_type": "code",
   "execution_count": 42,
   "metadata": {},
   "outputs": [],
   "source": [
    "# Create a confusion matrix \n",
    "\n",
    "def create_cm(arima_results):\n",
    "    \n",
    "    res_cm = [[0,0],\n",
    "              [0,0]]\n",
    "    \n",
    "    for result in arima_results:\n",
    "        res = result['classification']\n",
    "        \n",
    "        if res == 'tp':\n",
    "            res_cm[0][0] += 1\n",
    "        elif res == 'fp':\n",
    "            res_cm[0][1] += 1\n",
    "        elif res == 'fn':\n",
    "            res_cm[1][0] += 1\n",
    "        elif res == 'tn':\n",
    "            res_cm[1][1] += 1\n",
    "    \n",
    "    return res_cm"
   ]
  },
  {
   "cell_type": "code",
   "execution_count": 43,
   "metadata": {},
   "outputs": [],
   "source": [
    "# Use the results and create a confusion matrix\n",
    "\n",
    "cm = create_cm(arima_results)"
   ]
  },
  {
   "cell_type": "code",
   "execution_count": 44,
   "metadata": {},
   "outputs": [
    {
     "data": {
      "text/html": [
       "<div>\n",
       "<style scoped>\n",
       "    .dataframe tbody tr th:only-of-type {\n",
       "        vertical-align: middle;\n",
       "    }\n",
       "\n",
       "    .dataframe tbody tr th {\n",
       "        vertical-align: top;\n",
       "    }\n",
       "\n",
       "    .dataframe thead th {\n",
       "        text-align: right;\n",
       "    }\n",
       "</style>\n",
       "<table border=\"1\" class=\"dataframe\">\n",
       "  <thead>\n",
       "    <tr style=\"text-align: right;\">\n",
       "      <th></th>\n",
       "      <th>actual success</th>\n",
       "      <th>actual non_success</th>\n",
       "    </tr>\n",
       "  </thead>\n",
       "  <tbody>\n",
       "    <tr>\n",
       "      <th>pred_success</th>\n",
       "      <td>259</td>\n",
       "      <td>116</td>\n",
       "    </tr>\n",
       "    <tr>\n",
       "      <th>pred_non_success</th>\n",
       "      <td>151</td>\n",
       "      <td>86</td>\n",
       "    </tr>\n",
       "  </tbody>\n",
       "</table>\n",
       "</div>"
      ],
      "text/plain": [
       "                  actual success  actual non_success\n",
       "pred_success                 259                 116\n",
       "pred_non_success             151                  86"
      ]
     },
     "execution_count": 44,
     "metadata": {},
     "output_type": "execute_result"
    }
   ],
   "source": [
    "# create a dataframe with the results\n",
    "\n",
    "cm_df = pd.DataFrame(cm, index=['pred_success', 'pred_non_success'], columns=['actual success', 'actual non_success'])\n",
    "cm_df"
   ]
  },
  {
   "cell_type": "code",
   "execution_count": 45,
   "metadata": {},
   "outputs": [],
   "source": [
    "def print_metrics(cm):\n",
    "    # Accuracy - how many did the model get right\n",
    "    # Total number of correct predictions / total number of predictions\n",
    "    acc= (cm[0][0]+cm[1][1])/(np.sum(cm))\n",
    "    \n",
    "    # Precision proportion of positive identifications that were actually correct\n",
    "    # True positives/ true positives + false positives)\n",
    "    prec = cm[0][0]/(cm[0][0]+cm[0][1])\n",
    "    \n",
    "    # Recall - proportion of actual positives that were correctly defined\n",
    "    # True positives/ true positives + false negatives\n",
    "    rec = cm[0][0]/(cm[0][0]+cm[1][0])\n",
    "\n",
    "    print(f\"Accuracy:\\t{round(acc,2)}\\nPrecision:\\t{round(prec,2)}\\nRecall:\\t\\t{round(rec,2)}\")\n"
   ]
  },
  {
   "cell_type": "code",
   "execution_count": 46,
   "metadata": {
    "scrolled": true
   },
   "outputs": [
    {
     "name": "stdout",
     "output_type": "stream",
     "text": [
      "Accuracy:\t0.56\n",
      "Precision:\t0.69\n",
      "Recall:\t\t0.63\n"
     ]
    }
   ],
   "source": [
    "# Display the results\n",
    "print_metrics(cm)"
   ]
  },
  {
   "cell_type": "code",
   "execution_count": 47,
   "metadata": {},
   "outputs": [],
   "source": [
    "# Graph of an example"
   ]
  },
  {
   "cell_type": "code",
   "execution_count": 48,
   "metadata": {},
   "outputs": [
    {
     "data": {
      "image/png": "[encoded data removed]",
      "text/plain": [
       "<Figure size 864x576 with 1 Axes>"
      ]
     },
     "metadata": {
      "needs_background": "light"
     },
     "output_type": "display_data"
    }
   ],
   "source": [
    "# This shows how the graph will be caluculated\n",
    "\n",
    "outcomes['low'].plot(legend=True, figsize=(12,8))\n",
    "outcomes['high'].plot(legend=True)\n",
    "outcomes['preds'].plot(legend=True);\n",
    "outcomes['target_price'].plot(legend=True);\n"
   ]
  },
  {
   "cell_type": "code",
   "execution_count": 49,
   "metadata": {
    "scrolled": true
   },
   "outputs": [
    {
     "data": {
      "text/html": [
       "<div>\n",
       "<style scoped>\n",
       "    .dataframe tbody tr th:only-of-type {\n",
       "        vertical-align: middle;\n",
       "    }\n",
       "\n",
       "    .dataframe tbody tr th {\n",
       "        vertical-align: top;\n",
       "    }\n",
       "\n",
       "    .dataframe thead th {\n",
       "        text-align: right;\n",
       "    }\n",
       "</style>\n",
       "<table border=\"1\" class=\"dataframe\">\n",
       "  <thead>\n",
       "    <tr style=\"text-align: right;\">\n",
       "      <th></th>\n",
       "      <th>name</th>\n",
       "      <th>strategy</th>\n",
       "      <th>date</th>\n",
       "      <th>time_frame</th>\n",
       "      <th>RMSE</th>\n",
       "      <th>MSE</th>\n",
       "      <th>classification</th>\n",
       "    </tr>\n",
       "  </thead>\n",
       "  <tbody>\n",
       "    <tr>\n",
       "      <th>0</th>\n",
       "      <td>arima-0-1-0</td>\n",
       "      <td>fractals</td>\n",
       "      <td>2000-07-28</td>\n",
       "      <td>daily</td>\n",
       "      <td>0.006366</td>\n",
       "      <td>0.000041</td>\n",
       "      <td>tn</td>\n",
       "    </tr>\n",
       "    <tr>\n",
       "      <th>1</th>\n",
       "      <td>arima-0-1-0</td>\n",
       "      <td>fractals</td>\n",
       "      <td>2000-08-07</td>\n",
       "      <td>daily</td>\n",
       "      <td>0.014373</td>\n",
       "      <td>0.000207</td>\n",
       "      <td>tp</td>\n",
       "    </tr>\n",
       "    <tr>\n",
       "      <th>2</th>\n",
       "      <td>arima-0-1-0</td>\n",
       "      <td>fractals</td>\n",
       "      <td>2000-08-22</td>\n",
       "      <td>daily</td>\n",
       "      <td>0.014946</td>\n",
       "      <td>0.000223</td>\n",
       "      <td>fn</td>\n",
       "    </tr>\n",
       "    <tr>\n",
       "      <th>3</th>\n",
       "      <td>arima-0-1-0</td>\n",
       "      <td>fractals</td>\n",
       "      <td>2000-08-29</td>\n",
       "      <td>daily</td>\n",
       "      <td>0.012192</td>\n",
       "      <td>0.000149</td>\n",
       "      <td>fn</td>\n",
       "    </tr>\n",
       "    <tr>\n",
       "      <th>4</th>\n",
       "      <td>arima-0-1-0</td>\n",
       "      <td>fractals</td>\n",
       "      <td>2000-09-04</td>\n",
       "      <td>daily</td>\n",
       "      <td>0.017059</td>\n",
       "      <td>0.000291</td>\n",
       "      <td>tp</td>\n",
       "    </tr>\n",
       "    <tr>\n",
       "      <th>...</th>\n",
       "      <td>...</td>\n",
       "      <td>...</td>\n",
       "      <td>...</td>\n",
       "      <td>...</td>\n",
       "      <td>...</td>\n",
       "      <td>...</td>\n",
       "      <td>...</td>\n",
       "    </tr>\n",
       "    <tr>\n",
       "      <th>607</th>\n",
       "      <td>arima-0-1-0</td>\n",
       "      <td>fractals</td>\n",
       "      <td>2019-10-03</td>\n",
       "      <td>daily</td>\n",
       "      <td>0.001674</td>\n",
       "      <td>0.000003</td>\n",
       "      <td>tn</td>\n",
       "    </tr>\n",
       "    <tr>\n",
       "      <th>608</th>\n",
       "      <td>arima-0-1-0</td>\n",
       "      <td>fractals</td>\n",
       "      <td>2019-10-23</td>\n",
       "      <td>daily</td>\n",
       "      <td>0.004562</td>\n",
       "      <td>0.000021</td>\n",
       "      <td>fp</td>\n",
       "    </tr>\n",
       "    <tr>\n",
       "      <th>609</th>\n",
       "      <td>arima-0-1-0</td>\n",
       "      <td>fractals</td>\n",
       "      <td>2019-11-18</td>\n",
       "      <td>daily</td>\n",
       "      <td>0.005665</td>\n",
       "      <td>0.000032</td>\n",
       "      <td>fn</td>\n",
       "    </tr>\n",
       "    <tr>\n",
       "      <th>610</th>\n",
       "      <td>arima-0-1-0</td>\n",
       "      <td>fractals</td>\n",
       "      <td>2019-11-20</td>\n",
       "      <td>daily</td>\n",
       "      <td>0.007602</td>\n",
       "      <td>0.000058</td>\n",
       "      <td>fp</td>\n",
       "    </tr>\n",
       "    <tr>\n",
       "      <th>611</th>\n",
       "      <td>arima-0-1-0</td>\n",
       "      <td>fractals</td>\n",
       "      <td>2019-12-16</td>\n",
       "      <td>daily</td>\n",
       "      <td>0.006449</td>\n",
       "      <td>0.000042</td>\n",
       "      <td>fp</td>\n",
       "    </tr>\n",
       "  </tbody>\n",
       "</table>\n",
       "<p>612 rows × 7 columns</p>\n",
       "</div>"
      ],
      "text/plain": [
       "            name  strategy        date time_frame      RMSE       MSE  \\\n",
       "0    arima-0-1-0  fractals  2000-07-28      daily  0.006366  0.000041   \n",
       "1    arima-0-1-0  fractals  2000-08-07      daily  0.014373  0.000207   \n",
       "2    arima-0-1-0  fractals  2000-08-22      daily  0.014946  0.000223   \n",
       "3    arima-0-1-0  fractals  2000-08-29      daily  0.012192  0.000149   \n",
       "4    arima-0-1-0  fractals  2000-09-04      daily  0.017059  0.000291   \n",
       "..           ...       ...         ...        ...       ...       ...   \n",
       "607  arima-0-1-0  fractals  2019-10-03      daily  0.001674  0.000003   \n",
       "608  arima-0-1-0  fractals  2019-10-23      daily  0.004562  0.000021   \n",
       "609  arima-0-1-0  fractals  2019-11-18      daily  0.005665  0.000032   \n",
       "610  arima-0-1-0  fractals  2019-11-20      daily  0.007602  0.000058   \n",
       "611  arima-0-1-0  fractals  2019-12-16      daily  0.006449  0.000042   \n",
       "\n",
       "    classification  \n",
       "0               tn  \n",
       "1               tp  \n",
       "2               fn  \n",
       "3               fn  \n",
       "4               tp  \n",
       "..             ...  \n",
       "607             tn  \n",
       "608             fp  \n",
       "609             fn  \n",
       "610             fp  \n",
       "611             fp  \n",
       "\n",
       "[612 rows x 7 columns]"
      ]
     },
     "execution_count": 49,
     "metadata": {},
     "output_type": "execute_result"
    }
   ],
   "source": [
    "arima_results_df = pd.DataFrame(arima_results)\n",
    "arima_results_df"
   ]
  },
  {
   "cell_type": "code",
   "execution_count": 50,
   "metadata": {},
   "outputs": [],
   "source": [
    "# Save resutls\n",
    "arima_results_df.to_csv('/Users/stuartdaw/Documents/Capstone_data/model_results/arima_results_fr.csv', index=False)"
   ]
  },
  {
   "cell_type": "code",
   "execution_count": null,
   "metadata": {},
   "outputs": [],
   "source": []
  },
  {
   "cell_type": "markdown",
   "metadata": {},
   "source": [
    "# 8.0 SARIMAX"
   ]
  },
  {
   "cell_type": "code",
   "execution_count": 52,
   "metadata": {},
   "outputs": [
    {
     "data": {
      "text/plain": [
       "DatetimeIndex(['2000-07-14', '2000-07-17', '2000-07-18', '2000-07-19',\n",
       "               '2000-07-20', '2000-07-21', '2000-07-24', '2000-07-25',\n",
       "               '2000-07-26', '2000-07-27',\n",
       "               ...\n",
       "               '2019-12-11', '2019-12-12', '2019-12-13', '2019-12-16',\n",
       "               '2019-12-17', '2019-12-18', '2019-12-19', '2019-12-20',\n",
       "               '2019-12-23', '2019-12-24'],\n",
       "              dtype='datetime64[ns]', name='date', length=4612, freq=None)"
      ]
     },
     "execution_count": 52,
     "metadata": {},
     "output_type": "execute_result"
    }
   ],
   "source": [
    "daily.index"
   ]
  },
  {
   "cell_type": "code",
   "execution_count": 53,
   "metadata": {},
   "outputs": [],
   "source": [
    "daily['close'].dropna(inplace=True)"
   ]
  },
  {
   "cell_type": "code",
   "execution_count": 54,
   "metadata": {},
   "outputs": [
    {
     "data": {
      "image/png": "[encoded data removed]",
      "text/plain": [
       "<Figure size 432x288 with 4 Axes>"
      ]
     },
     "metadata": {
      "needs_background": "light"
     },
     "output_type": "display_data"
    }
   ],
   "source": [
    "result = seasonal_decompose(daily['close'], model='add', period=400 )\n",
    "result.plot();"
   ]
  },
  {
   "cell_type": "markdown",
   "metadata": {},
   "source": [
    "#### I tried the auto_arima function below however it crashes out after several hours "
   ]
  },
  {
   "cell_type": "code",
   "execution_count": 56,
   "metadata": {},
   "outputs": [],
   "source": [
    "# %%time\n",
    "# auto_arima(daily['close'], seasonal=True, maxiter=10000).summary()"
   ]
  },
  {
   "cell_type": "markdown",
   "metadata": {},
   "source": [
    "So I will try a manual gridsearch"
   ]
  },
  {
   "cell_type": "code",
   "execution_count": 58,
   "metadata": {},
   "outputs": [
    {
     "name": "stdout",
     "output_type": "stream",
     "text": [
      "p: 0, D: 0, Q: 0\n",
      "p: 0, D: 1, Q: 0\n",
      "p: 0, D: 2, Q: 0\n",
      "p: 0, D: 0, Q: 1\n",
      "p: 0, D: 1, Q: 1\n",
      "p: 0, D: 2, Q: 1\n",
      "p: 0, D: 0, Q: 2\n",
      "p: 0, D: 1, Q: 2\n",
      "p: 0, D: 2, Q: 2\n",
      "p: 1, D: 0, Q: 0\n",
      "p: 1, D: 1, Q: 0\n",
      "p: 1, D: 2, Q: 0\n",
      "p: 1, D: 0, Q: 1\n",
      "p: 1, D: 1, Q: 1\n",
      "p: 1, D: 2, Q: 1\n",
      "p: 1, D: 0, Q: 2\n",
      "p: 1, D: 1, Q: 2\n",
      "p: 1, D: 2, Q: 2\n",
      "p: 2, D: 0, Q: 0\n",
      "p: 2, D: 1, Q: 0\n",
      "p: 2, D: 2, Q: 0\n",
      "p: 2, D: 0, Q: 1\n",
      "p: 2, D: 1, Q: 1\n",
      "p: 2, D: 2, Q: 1\n",
      "p: 2, D: 0, Q: 2\n",
      "p: 2, D: 1, Q: 2\n",
      "p: 2, D: 2, Q: 2\n",
      "Our model that minimizes MSE on the training data is the SARIMA(1, 0, 0)x(0,0,0,420).\n",
      "This model has an MSE of 990000000000000000.\n"
     ]
    }
   ],
   "source": [
    "# Starting MSE and (P, D, Q).\n",
    "mse = 99 * (10 ** 16)\n",
    "final_P = 0\n",
    "final_D = 0\n",
    "final_Q = 0\n",
    "\n",
    "for P in range(3):\n",
    "    for Q in range(3):\n",
    "        for D in range(3):\n",
    "            try:\n",
    "                # Instantiate SARIMA model.\n",
    "                sarima = SARIMAX(endog = daily['close'],\n",
    "                                 order = (0, 1, 0),              # (p, d, q)\n",
    "                                 seasonal_order = (P, D, Q, 12)) # (P, D, Q, S)\n",
    "\n",
    "                # Fit SARIMA model.\n",
    "                model = sarima.fit()\n",
    "\n",
    "                # Generate predictions based on training set.\n",
    "                # Start at time period 0 and end at 1028.\n",
    "                preds = model.predict(start=0, end=1028)\n",
    "\n",
    "                # Evaluate predictions.\n",
    "                print(f'The MSE for (1, 0, 0)x({P},{D},{Q},420) is: {mean_squared_error(train[\"close\"], preds)}')\n",
    "                \n",
    "                # Save for final report.\n",
    "                if mse > mean_squared_error(daily['close'], preds):\n",
    "                    mse = mean_squared_error(daily['close'], preds)\n",
    "                    final_P = P\n",
    "                    final_D = D\n",
    "                    final_Q = Q\n",
    "                \n",
    "            except:\n",
    "                print(f\"p: {P}, D: {D}, Q: {Q}\")\n",
    "                pass\n",
    "\n",
    "print(f'Our model that minimizes MSE on the training data is the SARIMA(1, 0, 0)x({final_P},{final_D},{final_Q},420).')\n",
    "print(f'This model has an MSE of {mse}.')"
   ]
  },
  {
   "cell_type": "markdown",
   "metadata": {},
   "source": [
    "#### Observation\n",
    "\n",
    "After several changes to the forecast prices it still doesnt improve the model. So I will assume that seasonality is to small to improve the accuracy of foreacasts and I will stick to ARIMAX."
   ]
  },
  {
   "cell_type": "code",
   "execution_count": null,
   "metadata": {},
   "outputs": [],
   "source": []
  }
 ],
 "metadata": {
  "kernelspec": {
   "display_name": "Python 3",
   "language": "python",
   "name": "python3"
  },
  "language_info": {
   "codemirror_mode": {
    "name": "ipython",
    "version": 3
   },
   "file_extension": ".py",
   "mimetype": "text/x-python",
   "name": "python",
   "nbconvert_exporter": "python",
   "pygments_lexer": "ipython3",
   "version": "3.7.6"
  }
 },
 "nbformat": 4,
 "nbformat_minor": 4
}
