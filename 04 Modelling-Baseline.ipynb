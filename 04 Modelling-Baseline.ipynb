{
 "cells": [
  {
   "cell_type": "markdown",
   "metadata": {},
   "source": [
    "# Modelling"
   ]
  },
  {
   "cell_type": "markdown",
   "metadata": {},
   "source": [
    "---"
   ]
  },
  {
   "cell_type": "markdown",
   "metadata": {},
   "source": [
    "# Contents\n",
    "\n",
    "- [1.0 Arima Model](#1.0-ARIMA-Model)\n",
    "- [2.0 Daily Data](#2.0-Daily-Data)\n",
    "    - [1.1 Load Data](#2.1-Load-Data)\n",
    "    - [1.2 Train Test Split](#2.2-Train-Test-Split)"
   ]
  },
  {
   "cell_type": "code",
   "execution_count": 4,
   "metadata": {},
   "outputs": [],
   "source": [
    "# !pip install pmdarima"
   ]
  },
  {
   "cell_type": "code",
   "execution_count": 5,
   "metadata": {},
   "outputs": [],
   "source": [
    "import pandas as pd\n",
    "import numpy as np\n",
    "import seaborn as sns\n",
    "import matplotlib.pyplot as plt\n",
    "%matplotlib inline\n",
    "import datetime\n",
    "import calendar\n",
    "\n",
    "from statsmodels.tsa.stattools import adfuller\n",
    "from statsmodels.tsa.seasonal import seasonal_decompose\n",
    "from statsmodels.tsa.statespace.sarimax import SARIMAX\n",
    "from statsmodels.tsa.arima_model import ARIMA, ARMA, ARMAResults, ARIMAResults\n",
    "from statsmodels.graphics.tsaplots import plot_acf, plot_pacf\n",
    "from sklearn.metrics import r2_score, mean_squared_error\n",
    "from pmdarima import auto_arima\n",
    "import plotly.graph_objects as go\n",
    "import warnings\n",
    "warnings.filterwarnings(\"ignore\")\n",
    "\n",
    "\n",
    "from sklearn.metrics import mean_squared_error\n",
    "from statsmodels.tools.eval_measures import rmse\n"
   ]
  },
  {
   "cell_type": "code",
   "execution_count": 6,
   "metadata": {},
   "outputs": [],
   "source": [
    "pd.set_option('display.max_columns', None)"
   ]
  },
  {
   "cell_type": "markdown",
   "metadata": {},
   "source": [
    "---"
   ]
  },
  {
   "cell_type": "markdown",
   "metadata": {},
   "source": [
    "# 1.0 ARIMA Model"
   ]
  },
  {
   "cell_type": "markdown",
   "metadata": {},
   "source": [
    "The Arima model has 3 components:\n",
    "\n",
    "+ Differencing Step - I - Integrated - Check for stationarity\n",
    "+ Autoregressive Piece - AR - long term trends\n",
    "+ Moving Average Piece - MA - Modelling sudden fluctuations\n",
    "\n",
    "Each part has input into the model P,D,Q. I will use the previous Dickey Fuller \n",
    "\n",
    "+ D is the order of differencing we found using the Augmented Dickey-Fuller test.\n",
    "+ P is the number of autoregressive terms in our model. PACF is used to estimate this.\n",
    "+ Q is to do with looking at the moving average.\n",
    "    + If PACF has a sharp cut off and lag-1 for the ACF is negative choose q to be the lag in the ACF before cut off.\n",
    "    + If PACF does not have a sharp cut off or lag -1 ACF is not negative choose q = 0"
   ]
  },
  {
   "cell_type": "markdown",
   "metadata": {},
   "source": [
    "Therefore based on the charts before I will use:\n",
    "    \n",
    "    + p = 1\n",
    "    + d = 1\n",
    "    + q = 0\n",
    "    \n",
    "However I will use auto_arima to help decide."
   ]
  },
  {
   "cell_type": "markdown",
   "metadata": {},
   "source": [
    "---"
   ]
  },
  {
   "cell_type": "code",
   "execution_count": 7,
   "metadata": {},
   "outputs": [],
   "source": [
    "results = {'algo':'','name':'','date':'', 'time_frame':'','success':0,'RMSE':0, 'MSE':0, 'classification':'' }"
   ]
  },
  {
   "cell_type": "markdown",
   "metadata": {},
   "source": [
    "##### 1.1 Load Data"
   ]
  },
  {
   "cell_type": "code",
   "execution_count": 8,
   "metadata": {},
   "outputs": [],
   "source": [
    "daily = pd.read_csv('/Users/stuartdaw/Documents/Capstone_data/data/resampled/daily.csv', \n",
    "                    index_col='date', parse_dates=True)"
   ]
  },
  {
   "cell_type": "code",
   "execution_count": 9,
   "metadata": {},
   "outputs": [
    {
     "data": {
      "text/plain": [
       "DatetimeIndex(['2000-11-13', '2000-11-14', '2000-11-15', '2000-11-16',\n",
       "               '2000-11-17', '2000-11-20', '2000-11-21', '2000-11-22',\n",
       "               '2000-11-23', '2000-11-24',\n",
       "               ...\n",
       "               '2019-12-11', '2019-12-12', '2019-12-13', '2019-12-16',\n",
       "               '2019-12-17', '2019-12-18', '2019-12-19', '2019-12-20',\n",
       "               '2019-12-23', '2019-12-24'],\n",
       "              dtype='datetime64[ns]', name='date', length=4921, freq=None)"
      ]
     },
     "execution_count": 9,
     "metadata": {},
     "output_type": "execute_result"
    }
   ],
   "source": [
    "daily.index"
   ]
  },
  {
   "cell_type": "code",
   "execution_count": 10,
   "metadata": {},
   "outputs": [
    {
     "data": {
      "text/plain": [
       "Index(['open', 'high', 'low', 'close', 'gold_usd', 'gold_euro', 'marubozu',\n",
       "       'marubozu+1', 'marubozu-1', 'marubozu-2', 'height', 'av_3_height',\n",
       "       'wk_mv_av', 'mnth_mv_av', 'qtr_mv_av', 'vol', 'day-1_open',\n",
       "       'day-2_open', 'day-3_open', 'day-1_high', 'day-2_high', 'day-3_high',\n",
       "       'day-1_low', 'day-2_low', 'day-3_low', 'day-1_close', 'day-2_close',\n",
       "       'day-3_close', 'day+1_open', 'day+1_high', 'day+1_low', 'day+1_close',\n",
       "       'day+2_high', 'day+3_high', 'day+4_high', 'day+5_high', 'date+5',\n",
       "       'target', 'double_height', 'select'],\n",
       "      dtype='object')"
      ]
     },
     "execution_count": 10,
     "metadata": {},
     "output_type": "execute_result"
    }
   ],
   "source": [
    "daily.columns"
   ]
  },
  {
   "cell_type": "code",
   "execution_count": 11,
   "metadata": {},
   "outputs": [],
   "source": [
    "#daily = daily.resample('B').agg({'open':'first','high':'max','low':'min', 'close':'last'})\n"
   ]
  },
  {
   "cell_type": "code",
   "execution_count": 12,
   "metadata": {},
   "outputs": [
    {
     "data": {
      "text/plain": [
       "DatetimeIndex(['2000-11-13', '2000-11-14', '2000-11-15', '2000-11-16',\n",
       "               '2000-11-17', '2000-11-20', '2000-11-21', '2000-11-22',\n",
       "               '2000-11-23', '2000-11-24',\n",
       "               ...\n",
       "               '2019-12-11', '2019-12-12', '2019-12-13', '2019-12-16',\n",
       "               '2019-12-17', '2019-12-18', '2019-12-19', '2019-12-20',\n",
       "               '2019-12-23', '2019-12-24'],\n",
       "              dtype='datetime64[ns]', name='date', length=4921, freq=None)"
      ]
     },
     "execution_count": 12,
     "metadata": {},
     "output_type": "execute_result"
    }
   ],
   "source": [
    "daily.index"
   ]
  },
  {
   "cell_type": "code",
   "execution_count": 13,
   "metadata": {},
   "outputs": [],
   "source": [
    "daily['date+5'] = pd.to_datetime(daily['date+5'])"
   ]
  },
  {
   "cell_type": "code",
   "execution_count": 14,
   "metadata": {},
   "outputs": [
    {
     "data": {
      "text/plain": [
       "Timestamp('2000-11-21 00:00:00')"
      ]
     },
     "execution_count": 14,
     "metadata": {},
     "output_type": "execute_result"
    }
   ],
   "source": [
    "daily.loc[daily.index[1],'date+5']"
   ]
  },
  {
   "cell_type": "code",
   "execution_count": 15,
   "metadata": {},
   "outputs": [
    {
     "data": {
      "text/plain": [
       "pandas._libs.tslibs.timestamps.Timestamp"
      ]
     },
     "execution_count": 15,
     "metadata": {},
     "output_type": "execute_result"
    }
   ],
   "source": [
    "type(daily['date+5'][0])"
   ]
  },
  {
   "cell_type": "code",
   "execution_count": null,
   "metadata": {},
   "outputs": [],
   "source": []
  },
  {
   "cell_type": "code",
   "execution_count": 16,
   "metadata": {},
   "outputs": [],
   "source": [
    "### Get correct hyper parameters"
   ]
  },
  {
   "cell_type": "code",
   "execution_count": 17,
   "metadata": {},
   "outputs": [
    {
     "data": {
      "text/html": [
       "<table class=\"simpletable\">\n",
       "<caption>SARIMAX Results</caption>\n",
       "<tr>\n",
       "  <th>Dep. Variable:</th>           <td>y</td>        <th>  No. Observations:  </th>    <td>4921</td>   \n",
       "</tr>\n",
       "<tr>\n",
       "  <th>Model:</th>           <td>SARIMAX(0, 1, 0)</td> <th>  Log Likelihood     </th>  <td>17044.750</td>\n",
       "</tr>\n",
       "<tr>\n",
       "  <th>Date:</th>            <td>Fri, 31 Jul 2020</td> <th>  AIC                </th> <td>-34087.501</td>\n",
       "</tr>\n",
       "<tr>\n",
       "  <th>Time:</th>                <td>11:54:26</td>     <th>  BIC                </th> <td>-34080.999</td>\n",
       "</tr>\n",
       "<tr>\n",
       "  <th>Sample:</th>                  <td>0</td>        <th>  HQIC               </th> <td>-34085.220</td>\n",
       "</tr>\n",
       "<tr>\n",
       "  <th></th>                      <td> - 4921</td>     <th>                     </th>      <td> </td>    \n",
       "</tr>\n",
       "<tr>\n",
       "  <th>Covariance Type:</th>        <td>opg</td>       <th>                     </th>      <td> </td>    \n",
       "</tr>\n",
       "</table>\n",
       "<table class=\"simpletable\">\n",
       "<tr>\n",
       "     <td></td>       <th>coef</th>     <th>std err</th>      <th>z</th>      <th>P>|z|</th>  <th>[0.025</th>    <th>0.975]</th>  \n",
       "</tr>\n",
       "<tr>\n",
       "  <th>sigma2</th> <td> 5.732e-05</td> <td> 7.53e-07</td> <td>   76.145</td> <td> 0.000</td> <td> 5.58e-05</td> <td> 5.88e-05</td>\n",
       "</tr>\n",
       "</table>\n",
       "<table class=\"simpletable\">\n",
       "<tr>\n",
       "  <th>Ljung-Box (Q):</th>          <td>30.36</td> <th>  Jarque-Bera (JB):  </th> <td>1507.98</td>\n",
       "</tr>\n",
       "<tr>\n",
       "  <th>Prob(Q):</th>                <td>0.86</td>  <th>  Prob(JB):          </th>  <td>0.00</td>  \n",
       "</tr>\n",
       "<tr>\n",
       "  <th>Heteroskedasticity (H):</th> <td>0.69</td>  <th>  Skew:              </th>  <td>0.00</td>  \n",
       "</tr>\n",
       "<tr>\n",
       "  <th>Prob(H) (two-sided):</th>    <td>0.00</td>  <th>  Kurtosis:          </th>  <td>5.71</td>  \n",
       "</tr>\n",
       "</table><br/><br/>Warnings:<br/>[1] Covariance matrix calculated using the outer product of gradients (complex-step)."
      ],
      "text/plain": [
       "<class 'statsmodels.iolib.summary.Summary'>\n",
       "\"\"\"\n",
       "                               SARIMAX Results                                \n",
       "==============================================================================\n",
       "Dep. Variable:                      y   No. Observations:                 4921\n",
       "Model:               SARIMAX(0, 1, 0)   Log Likelihood               17044.750\n",
       "Date:                Fri, 31 Jul 2020   AIC                         -34087.501\n",
       "Time:                        11:54:26   BIC                         -34080.999\n",
       "Sample:                             0   HQIC                        -34085.220\n",
       "                               - 4921                                         \n",
       "Covariance Type:                  opg                                         \n",
       "==============================================================================\n",
       "                 coef    std err          z      P>|z|      [0.025      0.975]\n",
       "------------------------------------------------------------------------------\n",
       "sigma2      5.732e-05   7.53e-07     76.145      0.000    5.58e-05    5.88e-05\n",
       "===================================================================================\n",
       "Ljung-Box (Q):                       30.36   Jarque-Bera (JB):              1507.98\n",
       "Prob(Q):                              0.86   Prob(JB):                         0.00\n",
       "Heteroskedasticity (H):               0.69   Skew:                             0.00\n",
       "Prob(H) (two-sided):                  0.00   Kurtosis:                         5.71\n",
       "===================================================================================\n",
       "\n",
       "Warnings:\n",
       "[1] Covariance matrix calculated using the outer product of gradients (complex-step).\n",
       "\"\"\""
      ]
     },
     "execution_count": 17,
     "metadata": {},
     "output_type": "execute_result"
    }
   ],
   "source": [
    "## Arima\n",
    "auto_arima(daily['close'].dropna(), seasonal=False).summary()"
   ]
  },
  {
   "cell_type": "markdown",
   "metadata": {},
   "source": [
    "---"
   ]
  },
  {
   "cell_type": "markdown",
   "metadata": {},
   "source": [
    "## 1.1 Get patterns"
   ]
  },
  {
   "cell_type": "code",
   "execution_count": 18,
   "metadata": {},
   "outputs": [],
   "source": [
    "daily_pattern = pd.read_csv('/Users/stuartdaw/Documents/Capstone_data/data/targets/daily_pattern.csv', \n",
    "                           parse_dates=True)"
   ]
  },
  {
   "cell_type": "code",
   "execution_count": 19,
   "metadata": {},
   "outputs": [],
   "source": [
    "daily_pattern['pattern_end'] = pd.to_datetime(daily_pattern['pattern_end'])"
   ]
  },
  {
   "cell_type": "code",
   "execution_count": 20,
   "metadata": {},
   "outputs": [
    {
     "data": {
      "text/plain": [
       "pattern_end   2001-04-04\n",
       "Name: 1, dtype: datetime64[ns]"
      ]
     },
     "execution_count": 20,
     "metadata": {},
     "output_type": "execute_result"
    }
   ],
   "source": [
    "daily_pattern.loc[1]"
   ]
  },
  {
   "cell_type": "code",
   "execution_count": 21,
   "metadata": {
    "scrolled": false
   },
   "outputs": [
    {
     "data": {
      "text/plain": [
       "62"
      ]
     },
     "execution_count": 21,
     "metadata": {},
     "output_type": "execute_result"
    }
   ],
   "source": [
    "len(daily_pattern)"
   ]
  },
  {
   "cell_type": "markdown",
   "metadata": {},
   "source": [
    "---"
   ]
  },
  {
   "cell_type": "code",
   "execution_count": 22,
   "metadata": {},
   "outputs": [],
   "source": [
    "def create_train_test_split(date, time_series, model_info):\n",
    "    test_end_date = time_series.loc[date,'date+5']\n",
    "    \n",
    "    train_test = time_series.loc[time_series.index <= test_end_date]\n",
    "  \n",
    "    target_value = time_series.loc[time_series.index == date,'double_height'].item()\n",
    "    \n",
    "    train_test.insert(0, 'target_price', target_value)\n",
    "    \n",
    "    model_info['signal'] = time_series.loc[date,'marubozu']\n",
    "    \n",
    "    train_test.insert(0, 'signal', model_info['signal'])\n",
    "    \n",
    "    model_info['start'] = len(train_test)-5\n",
    "    model_info['end'] = len(train_test)-1\n",
    "    \n",
    "    model_info['train'] = train_test.iloc[:model_info['start']]\n",
    "    model_info['test'] = train_test.iloc[model_info['start']:]\n",
    "\n",
    "    return model_info"
   ]
  },
  {
   "cell_type": "code",
   "execution_count": 23,
   "metadata": {},
   "outputs": [],
   "source": [
    "# def train_arima(model_info, p=0, d=1, q=0):\n",
    "# #     exog=model_info['train']['wk_mv_av']\n",
    "    \n",
    "#     exog = np.column_stack([model_info['train']['mnth_mv_av'], \n",
    "#                             model_info['train']['wk_mv_av'],\n",
    "#                             model_info['train']['vol'],\n",
    "#                             model_info['train']['gold_euro'],\n",
    "#                             model_info['train']['gold_usd']])\n",
    "    \n",
    "#     if model_info['signal'] == -1:\n",
    "#         model = ARIMA(model_info['train']['low'], exog=exog, order=(p,d,q))\n",
    "#     else:\n",
    "#         model = ARIMA(model_info['train']['high'], exog=exog, order=(p,d,q))\n",
    "\n",
    "#     results = model.fit()\n",
    "#     predictions = results.predict(start=model_info['start'], \n",
    "#                                   end=model_info['end'], exog=exog,\n",
    "#                                   dynamic=True, \n",
    "#                                   typ='levels').rename('ARIMA-0-1-0 Predictions')\n",
    "    \n",
    "#     return results, predictions"
   ]
  },
  {
   "cell_type": "code",
   "execution_count": 24,
   "metadata": {},
   "outputs": [],
   "source": [
    "def meet_threshold(row):\n",
    "    if row['signal'] == -1 and row['low'] <= row['target_price']:\n",
    "        return -1\n",
    "    elif row['signal'] == 1 and row['high'] >= row['target_price']:\n",
    "#         print(f\"row high: {row['high']} >= row dbl height: {row['target_price']}\" )\n",
    "        return 1    \n",
    "    else:\n",
    "        return 0"
   ]
  },
  {
   "cell_type": "code",
   "execution_count": 46,
   "metadata": {},
   "outputs": [],
   "source": [
    "# def get_5_day_price(row):\n",
    "    "
   ]
  },
  {
   "cell_type": "code",
   "execution_count": 47,
   "metadata": {},
   "outputs": [],
   "source": [
    "def ml_decision(row):\n",
    "    if row['direction'] == -1 and row['preds'] <= row['target_price']:\n",
    "        return -1\n",
    "    elif row['direction'] == 1 and row['preds'] >= row['target_price']:\n",
    "        print(f\"preds: {row['preds']} >= row target: {row['target_price']}\" )\n",
    "        return 1    \n",
    "    else:\n",
    "        return 0"
   ]
  },
  {
   "cell_type": "code",
   "execution_count": 48,
   "metadata": {},
   "outputs": [],
   "source": [
    "def create_results_outcomes_dataframe(test): #, predictions):    \n",
    "    outcomes = pd.DataFrame()\n",
    "    outcomes['low'] = test['low']\n",
    "    outcomes['high'] = test['high']\n",
    "#     outcomes['preds'] = predictions.values\n",
    "    outcomes['target_price'] = test['target_price']\n",
    "    outcomes['direction'] = test['signal']\n",
    "    outcomes['correct_call'] = test.apply(meet_threshold, axis=1)\n",
    "\n",
    "    return outcomes"
   ]
  },
  {
   "cell_type": "code",
   "execution_count": 49,
   "metadata": {},
   "outputs": [],
   "source": [
    "# def print_chart(outcomes):\n",
    "#     if model_info['signal'] == -1:\n",
    "#         outcomes['low'].plot(legend=False, figsize=(12,8))\n",
    "#     else:\n",
    "#         outcomes['high'].plot(legend=False, figsize=(12,8))\n",
    "\n",
    "#     outcomes['preds'].plot(legend=False);\n",
    "#     outcomes['target_price'].plot(legend=False);"
   ]
  },
  {
   "cell_type": "code",
   "execution_count": 50,
   "metadata": {},
   "outputs": [],
   "source": [
    "# def get_results(model_info):\n",
    "        \n",
    "#     if model_info['signal'] == -1:\n",
    "#         mse = mean_squared_error(model_info['test']['low'], predictions)\n",
    "#         rmse_res = rmse(model_info['test']['low'], predictions)\n",
    "#     else:\n",
    "#         mse = mean_squared_error(model_info['test']['high'], predictions)\n",
    "#         rmse_res = rmse(model_info['test']['high'], predictions)       \n",
    "    \n",
    "#     return rmse_res, mse"
   ]
  },
  {
   "cell_type": "code",
   "execution_count": 51,
   "metadata": {},
   "outputs": [],
   "source": [
    "def classify(outcomes):\n",
    "    \n",
    "    # As its the benchmark then it is assumed that that a buy/sell decision is made\n",
    "    \n",
    "    if max(outcomes['direction']) == 1:\n",
    "        \n",
    "        if max(outcomes['correct_call']) == 0:\n",
    "            return 'fp'\n",
    "        elif max(outcomes['correct_call']) == 1:\n",
    "            return 'tp'\n",
    "        \n",
    "    elif max(outcomes['direction']) == -1:\n",
    "        \n",
    "        if min(outcomes['correct_call']) == 0:\n",
    "            return 'fp'\n",
    "        elif min(outcomes['correct_call']) == -1:\n",
    "            return 'tp'\n",
    "        \n",
    "    else:\n",
    "        return 'ERROR'\n",
    "    "
   ]
  },
  {
   "cell_type": "code",
   "execution_count": 52,
   "metadata": {
    "scrolled": false
   },
   "outputs": [
    {
     "name": "stdout",
     "output_type": "stream",
     "text": [
      "               low    high  target_price  direction  correct_call\n",
      "date                                                             \n",
      "2001-02-09  0.9135  0.9291        0.9085         -1             0\n",
      "2001-02-12  0.9272  0.9332        0.9085         -1             0\n",
      "2001-02-13  0.9174  0.9313        0.9085         -1             0\n",
      "2001-02-14  0.9170  0.9222        0.9085         -1             0\n",
      "2001-02-15  0.9029  0.9198        0.9085         -1            -1\n",
      "               low    high  target_price  direction  correct_call\n",
      "date                                                             \n",
      "2001-04-05  0.8943  0.9091        0.9166          1             0\n",
      "2001-04-06  0.8927  0.9051        0.9166          1             0\n",
      "2001-04-09  0.8947  0.9051        0.9166          1             0\n",
      "2001-04-10  0.8868  0.8995        0.9166          1             0\n",
      "2001-04-11  0.8814  0.8918        0.9166          1             0\n",
      "               low    high  target_price  direction  correct_call\n",
      "date                                                             \n",
      "2001-04-10  0.8868  0.8995        0.8895         -1            -1\n",
      "2001-04-11  0.8814  0.8918        0.8895         -1            -1\n",
      "2001-04-12  0.8840  0.8946        0.8895         -1            -1\n",
      "2001-04-13  0.8891  0.8933        0.8895         -1            -1\n",
      "2001-04-16  0.8834  0.8895        0.8895         -1            -1\n",
      "               low    high  target_price  direction  correct_call\n",
      "date                                                             \n",
      "2001-08-21  0.9082  0.9185        0.9074         -1             0\n",
      "2001-08-22  0.9123  0.9242        0.9074         -1             0\n",
      "2001-08-23  0.9101  0.9170        0.9074         -1             0\n",
      "2001-08-24  0.9078  0.9169        0.9074         -1             0\n",
      "2001-08-27  0.9087  0.9125        0.9074         -1             0\n",
      "               low    high  target_price  direction  correct_call\n",
      "date                                                             \n",
      "2002-02-21  0.8683  0.8721        0.8649         -1             0\n",
      "2002-02-22  0.8683  0.8779        0.8649         -1             0\n",
      "2002-02-25  0.8690  0.8755        0.8649         -1             0\n",
      "2002-02-26  0.8618  0.8725        0.8649         -1            -1\n",
      "2002-02-27  0.8627  0.8671        0.8649         -1            -1\n",
      "               low    high  target_price  direction  correct_call\n",
      "date                                                             \n",
      "2002-11-12  1.0070  1.0138        1.0033         -1             0\n",
      "2002-11-13  1.0048  1.0140        1.0033         -1             0\n",
      "2002-11-14  1.0024  1.0101        1.0033         -1            -1\n",
      "2002-11-15  1.0016  1.0120        1.0033         -1            -1\n",
      "2002-11-18  1.0065  1.0114        1.0033         -1             0\n",
      "               low    high  target_price  direction  correct_call\n",
      "date                                                             \n",
      "2003-08-07  1.1323  1.1418        1.1442          1             0\n",
      "2003-08-08  1.1270  1.1381        1.1442          1             0\n",
      "2003-08-11  1.1267  1.1382        1.1442          1             0\n",
      "2003-08-15  1.1229  1.1273        1.1442          1             0\n",
      "2003-08-18  1.1119  1.1245        1.1442          1             0\n",
      "               low    high  target_price  direction  correct_call\n",
      "date                                                             \n",
      "2004-01-29  1.2365  1.2562        1.2325         -1             0\n",
      "2004-01-30  1.2353  1.2494        1.2325         -1             0\n",
      "2004-02-02  1.2394  1.2481        1.2325         -1             0\n",
      "2004-02-03  1.2467  1.2601        1.2325         -1             0\n",
      "2004-02-04  1.2496  1.2564        1.2325         -1             0\n",
      "               low    high  target_price  direction  correct_call\n",
      "date                                                             \n",
      "2004-03-02  1.2151  1.2447        1.2374         -1            -1\n",
      "2004-03-03  1.2058  1.2220        1.2374         -1            -1\n",
      "2004-03-04  1.2138  1.2245        1.2374         -1            -1\n",
      "2004-03-05  1.2176  1.2435        1.2374         -1            -1\n",
      "2004-03-08  1.2344  1.2490        1.2374         -1            -1\n",
      "               low    high  target_price  direction  correct_call\n",
      "date                                                             \n",
      "2004-11-22  1.2979  1.3054        1.3117          1             0\n",
      "2004-11-23  1.2988  1.3108        1.3117          1             0\n",
      "2004-11-24  1.3087  1.3192        1.3117          1             1\n",
      "2004-11-25  1.3169  1.3295        1.3117          1             1\n",
      "2004-11-26  1.3186  1.3331        1.3117          1             1\n",
      "               low    high  target_price  direction  correct_call\n",
      "date                                                             \n",
      "2005-01-14  1.3058  1.3138         1.297         -1             0\n",
      "2005-01-17  1.3010  1.3129         1.297         -1             0\n",
      "2005-01-18  1.2997  1.3076         1.297         -1             0\n",
      "2005-01-19  1.2965  1.3119         1.297         -1            -1\n",
      "2005-01-20  1.2924  1.3027         1.297         -1            -1\n",
      "               low    high  target_price  direction  correct_call\n",
      "date                                                             \n",
      "2005-06-27  1.2126  1.2187        1.2236          1             0\n",
      "2005-06-28  1.2053  1.2170        1.2236          1             0\n",
      "2005-06-29  1.2018  1.2113        1.2236          1             0\n",
      "2005-06-30  1.2046  1.2121        1.2236          1             0\n",
      "2005-07-01  1.1904  1.1948        1.2236          1             0\n",
      "               low    high  target_price  direction  correct_call\n",
      "date                                                             \n",
      "2005-11-15  1.1641  1.1739        1.1624         -1             0\n",
      "2005-11-16  1.1648  1.1731        1.1624         -1             0\n",
      "2005-11-17  1.1645  1.1764        1.1624         -1             0\n",
      "2005-11-18  1.1666  1.1796        1.1624         -1             0\n",
      "2005-11-21  1.1721  1.1839        1.1624         -1             0\n",
      "               low    high  target_price  direction  correct_call\n",
      "date                                                             \n",
      "2006-03-27  1.1995  1.2058        1.2138          1             0\n",
      "2006-03-28  1.1996  1.2108        1.2138          1             0\n",
      "2006-03-29  1.1981  1.2078        1.2138          1             0\n",
      "2006-03-30  1.2049  1.2179        1.2138          1             1\n",
      "2006-03-31  1.2066  1.2164        1.2138          1             1\n",
      "               low    high  target_price  direction  correct_call\n",
      "date                                                             \n",
      "2006-04-03  1.2035  1.2157        1.1985         -1             0\n",
      "2006-04-04  1.2123  1.2279        1.1985         -1             0\n",
      "2006-04-05  1.2247  1.2306        1.1985         -1             0\n",
      "2006-04-06  1.2188  1.2335        1.1985         -1             0\n",
      "2006-04-07  1.2092  1.2226        1.1985         -1             0\n",
      "               low    high  target_price  direction  correct_call\n",
      "date                                                             \n",
      "2006-04-13  1.2071  1.2135        1.2052         -1             0\n",
      "2006-04-14  1.2102  1.2200        1.2052         -1             0\n",
      "2006-04-17  1.2169  1.2290        1.2052         -1             0\n",
      "2006-04-18  1.2227  1.2370        1.2052         -1             0\n",
      "2006-04-19  1.2288  1.2396        1.2052         -1             0\n",
      "               low    high  target_price  direction  correct_call\n",
      "date                                                             \n",
      "2006-08-03  1.2751  1.2835         1.268         -1             0\n",
      "2006-08-04  1.2780  1.2912         1.268         -1             0\n",
      "2006-08-07  1.2808  1.2888         1.268         -1             0\n",
      "2006-08-08  1.2766  1.2895         1.268         -1             0\n",
      "2006-08-09  1.2790  1.2902         1.268         -1             0\n",
      "               low    high  target_price  direction  correct_call\n",
      "date                                                             \n",
      "2006-09-19  1.2654  1.2721        1.2782          1             0\n",
      "2006-09-20  1.2667  1.2732        1.2782          1             0\n",
      "2006-09-21  1.2700  1.2801        1.2782          1             1\n",
      "2006-09-22  1.2781  1.2833        1.2782          1             1\n",
      "2006-09-25  1.2733  1.2820        1.2782          1             1\n",
      "               low    high  target_price  direction  correct_call\n",
      "date                                                             \n",
      "2007-03-23  1.3259  1.3343        1.3256         -1             0\n",
      "2007-03-26  1.3257  1.3348        1.3256         -1             0\n",
      "2007-03-27  1.3324  1.3372        1.3256         -1             0\n",
      "2007-03-28  1.3304  1.3375        1.3256         -1             0\n",
      "2007-03-29  1.3314  1.3354        1.3256         -1             0\n",
      "               low    high  target_price  direction  correct_call\n",
      "date                                                             \n",
      "2007-08-09  1.3657  1.3818        1.3856          1             0\n",
      "2007-08-10  1.3642  1.3711        1.3856          1             0\n",
      "2007-08-13  1.3603  1.3708        1.3856          1             0\n",
      "2007-08-14  1.3517  1.3627        1.3856          1             0\n",
      "2007-08-15  1.3388  1.3522        1.3856          1             0\n",
      "               low    high  target_price  direction  correct_call\n",
      "date                                                             \n",
      "2007-12-13  1.4577  1.4740        1.4794          1             0\n",
      "2007-12-14  1.4390  1.4658        1.4794          1             0\n",
      "2007-12-17  1.4331  1.4453        1.4794          1             0\n",
      "2007-12-18  1.4368  1.4437        1.4794          1             0\n",
      "2007-12-19  1.4325  1.4424        1.4794          1             0\n"
     ]
    },
    {
     "name": "stdout",
     "output_type": "stream",
     "text": [
      "               low    high  target_price  direction  correct_call\n",
      "date                                                             \n",
      "2008-06-10  1.5444  1.5620        1.5384         -1             0\n",
      "2008-06-11  1.5458  1.5589        1.5384         -1             0\n",
      "2008-06-12  1.5381  1.5496        1.5384         -1            -1\n",
      "2008-06-13  1.5305  1.5455        1.5384         -1            -1\n",
      "2008-06-16  1.5347  1.5543        1.5384         -1            -1\n",
      "               low    high  target_price  direction  correct_call\n",
      "date                                                             \n",
      "2008-06-20  1.5507  1.5653        1.5456         -1             0\n",
      "2008-06-23  1.5470  1.5621        1.5456         -1             0\n",
      "2008-06-24  1.5514  1.5623        1.5456         -1             0\n",
      "2008-06-25  1.5539  1.5688        1.5456         -1             0\n",
      "2008-06-26  1.5631  1.5768        1.5456         -1             0\n",
      "               low    high  target_price  direction  correct_call\n",
      "date                                                             \n",
      "2009-03-05  1.2483  1.2624        1.2749          1             0\n",
      "2009-03-06  1.2572  1.2756        1.2749          1             1\n",
      "2009-03-09  1.2558  1.2682        1.2749          1             0\n",
      "2009-03-10  1.2613  1.2824        1.2749          1             1\n",
      "2009-03-11  1.2619  1.2873        1.2749          1             1\n",
      "               low    high  target_price  direction  correct_call\n",
      "date                                                             \n",
      "2009-06-04  1.4070  1.4241        1.4032         -1             0\n",
      "2009-06-05  1.3926  1.4268        1.4032         -1            -1\n",
      "2009-06-08  1.3805  1.3996        1.4032         -1            -1\n",
      "2009-06-09  1.3852  1.4101        1.4032         -1            -1\n",
      "2009-06-10  1.3915  1.4144        1.4032         -1            -1\n",
      "               low    high  target_price  direction  correct_call\n",
      "date                                                             \n",
      "2009-07-01  1.4018  1.4201        1.3958         -1             0\n",
      "2009-07-02  1.3927  1.4128        1.3958         -1            -1\n",
      "2009-07-03  1.3952  1.4028        1.3958         -1            -1\n",
      "2009-07-06  1.3876  1.3998        1.3958         -1            -1\n",
      "2009-07-07  1.3881  1.4050        1.3958         -1            -1\n",
      "               low    high  target_price  direction  correct_call\n",
      "date                                                             \n",
      "2009-07-27  1.4203  1.4298        1.4304          1             0\n",
      "2009-07-28  1.4131  1.4304        1.4304          1             1\n",
      "2009-07-29  1.4007  1.4184        1.4304          1             0\n",
      "2009-07-30  1.4015  1.4135        1.4304          1             0\n",
      "2009-07-31  1.4086  1.4309        1.4304          1             1\n",
      "               low    high  target_price  direction  correct_call\n",
      "date                                                             \n",
      "2009-09-01  1.4176  1.4377        1.4421          1             0\n",
      "2009-09-02  1.4192  1.4293        1.4421          1             0\n",
      "2009-09-03  1.4235  1.4347        1.4421          1             0\n",
      "2009-09-04  1.4190  1.4333        1.4421          1             0\n",
      "2009-09-07  1.4319  1.4361        1.4421          1             0\n",
      "               low    high  target_price  direction  correct_call\n",
      "date                                                             \n",
      "2009-12-31  1.4306  1.4440        1.4425          1             1\n",
      "2010-01-01  1.4257  1.4337        1.4425          1             0\n",
      "2010-01-04  1.4269  1.4456        1.4425          1             1\n",
      "2010-01-05  1.4334  1.4483        1.4425          1             1\n",
      "2010-01-06  1.4283  1.4447        1.4425          1             1\n",
      "               low    high  target_price  direction  correct_call\n",
      "date                                                             \n",
      "2010-03-08  1.3604  1.3702        1.3765          1             0\n",
      "2010-03-09  1.3536  1.3627        1.3765          1             0\n",
      "2010-03-10  1.3543  1.3678        1.3765          1             0\n",
      "2010-03-11  1.3620  1.3695        1.3765          1             0\n",
      "2010-03-12  1.3685  1.3795        1.3765          1             1\n",
      "               low    high  target_price  direction  correct_call\n",
      "date                                                             \n",
      "2010-04-14  1.3593  1.3678        1.3746          1             0\n",
      "2010-04-15  1.3520  1.3649        1.3746          1             0\n",
      "2010-04-16  1.3445  1.3562        1.3746          1             0\n",
      "2010-04-19  1.3415  1.3500        1.3746          1             0\n",
      "2010-04-20  1.3404  1.3521        1.3746          1             0\n",
      "               low    high  target_price  direction  correct_call\n",
      "date                                                             \n",
      "2010-05-28  1.2260  1.2452        1.2373          1             1\n",
      "2010-05-31  1.2244  1.2333        1.2373          1             0\n",
      "2010-06-01  1.2110  1.2352        1.2373          1             0\n",
      "2010-06-02  1.2174  1.2306        1.2373          1             0\n",
      "2010-06-03  1.2151  1.2326        1.2373          1             0\n",
      "               low    high  target_price  direction  correct_call\n",
      "date                                                             \n",
      "2010-10-13  1.3912  1.4093        1.4051          1             1\n",
      "2010-10-14  1.4007  1.4121        1.4051          1             1\n",
      "2010-10-15  1.3862  1.4158        1.4051          1             1\n",
      "2010-10-18  1.3830  1.4003        1.4051          1             0\n",
      "2010-10-19  1.3697  1.3957        1.4051          1             0\n",
      "               low    high  target_price  direction  correct_call\n",
      "date                                                             \n",
      "2010-10-21  1.3888  1.4049        1.4064          1             0\n",
      "2010-10-22  1.3857  1.4035        1.4064          1             0\n",
      "2010-10-25  1.3907  1.4079        1.4064          1             1\n",
      "2010-10-26  1.3807  1.3981        1.4064          1             0\n",
      "2010-10-27  1.3733  1.3852        1.4064          1             0\n",
      "               low    high  target_price  direction  correct_call\n",
      "date                                                             \n",
      "2010-11-16  1.3446  1.3655        1.3551         -1            -1\n",
      "2010-11-17  1.3460  1.3592        1.3551         -1            -1\n",
      "2010-11-18  1.3574  1.3667        1.3551         -1             0\n",
      "2010-11-19  1.3618  1.3767        1.3551         -1             0\n",
      "2010-11-22  1.3544  1.3785        1.3551         -1            -1\n",
      "               low    high  target_price  direction  correct_call\n",
      "date                                                             \n",
      "2010-12-29  1.3108  1.3258        1.3013         -1             0\n",
      "2010-12-30  1.3223  1.3314        1.3013         -1             0\n",
      "2010-12-31  1.3275  1.3423        1.3013         -1             0\n",
      "2011-01-03  1.3249  1.3394        1.3013         -1             0\n",
      "2011-01-04  1.3263  1.3433        1.3013         -1             0\n",
      "               low    high  target_price  direction  correct_call\n",
      "date                                                             \n",
      "2011-04-12  1.4379  1.4518        1.4321         -1             0\n",
      "2011-04-13  1.4407  1.4519        1.4321         -1             0\n",
      "2011-04-14  1.4364  1.4513        1.4321         -1             0\n",
      "2011-04-15  1.4348  1.4499        1.4321         -1             0\n",
      "2011-04-18  1.4156  1.4387        1.4321         -1            -1\n",
      "               low    high  target_price  direction  correct_call\n",
      "date                                                             \n",
      "2011-05-11  1.4172  1.4422        1.4466          1             0\n",
      "2011-05-12  1.4122  1.4276        1.4466          1             0\n",
      "2011-05-13  1.4047  1.4338        1.4466          1             0\n",
      "2011-05-16  1.4079  1.4243        1.4466          1             0\n",
      "2011-05-17  1.4120  1.4286        1.4466          1             0\n",
      "               low    high  target_price  direction  correct_call\n",
      "date                                                             \n",
      "2011-07-05  1.4396  1.4498        1.4417         -1            -1\n",
      "2011-07-06  1.4285  1.4465        1.4417         -1            -1\n",
      "2011-07-07  1.4220  1.4373        1.4417         -1            -1\n",
      "2011-07-08  1.4186  1.4362        1.4417         -1            -1\n",
      "2011-07-11  1.3931  1.4205        1.4417         -1            -1\n",
      "               low    high  target_price  direction  correct_call\n",
      "date                                                             \n",
      "2011-08-11  1.4103  1.4293        1.4086         -1             0\n",
      "2011-08-12  1.4149  1.4317        1.4086         -1             0\n",
      "2011-08-15  1.4263  1.4476        1.4086         -1             0\n",
      "2011-08-16  1.4351  1.4471        1.4086         -1             0\n",
      "2011-08-17  1.4324  1.4516        1.4086         -1             0\n",
      "               low    high  target_price  direction  correct_call\n",
      "date                                                             \n",
      "2011-09-27  1.3480  1.3667        1.3656          1             1\n",
      "2011-09-28  1.3519  1.3689        1.3656          1             1\n",
      "2011-09-29  1.3522  1.3678        1.3656          1             1\n",
      "2011-09-30  1.3318  1.3563        1.3656          1             0\n",
      "2011-10-03  1.3163  1.3381        1.3656          1             0\n",
      "                low     high  target_price  direction  correct_call\n",
      "date                                                               \n",
      "2012-01-10  1.27280  1.28175       1.28657          1             0\n",
      "2012-01-11  1.26608  1.27891       1.28657          1             0\n",
      "2012-01-12  1.26984  1.28442       1.28657          1             0\n",
      "2012-01-13  1.26253  1.28776       1.28657          1             1\n",
      "2012-01-16  1.26322  1.27359       1.28657          1             0\n"
     ]
    },
    {
     "name": "stdout",
     "output_type": "stream",
     "text": [
      "                low     high  target_price  direction  correct_call\n",
      "date                                                               \n",
      "2012-07-26  1.21169  1.23288       1.21844          1             1\n",
      "2012-07-27  1.22409  1.23891       1.21844          1             1\n",
      "2012-07-30  1.22246  1.22965       1.21844          1             1\n",
      "2012-07-31  1.22482  1.23294       1.21844          1             1\n",
      "2012-08-01  1.22173  1.23358       1.21844          1             1\n",
      "                low     high  target_price  direction  correct_call\n",
      "date                                                               \n",
      "2012-12-06  1.29497  1.30858       1.29943         -1            -1\n",
      "2012-12-07  1.28761  1.29695       1.29943         -1            -1\n",
      "2012-12-10  1.28852  1.29612       1.29943         -1            -1\n",
      "2012-12-11  1.29384  1.30141       1.29943         -1            -1\n",
      "2012-12-12  1.29950  1.30968       1.29943         -1             0\n",
      "                low     high  target_price  direction  correct_call\n",
      "date                                                               \n",
      "2013-05-24  1.29099  1.29926       1.29926          1             1\n",
      "2013-05-27  1.28834  1.29479       1.29926          1             0\n",
      "2013-05-28  1.28408  1.29488       1.29926          1             0\n",
      "2013-05-29  1.28372  1.29767       1.29926          1             0\n",
      "2013-05-30  1.29409  1.30607       1.29926          1             1\n",
      "                low     high  target_price  direction  correct_call\n",
      "date                                                               \n",
      "2013-08-05  1.32322  1.32996       1.33311          1             0\n",
      "2013-08-06  1.32455  1.33223       1.33311          1             0\n",
      "2013-08-07  1.32650  1.33448       1.33311          1             1\n",
      "2013-08-08  1.33310  1.33995       1.33311          1             1\n",
      "2013-08-09  1.33169  1.33896       1.33311          1             1\n",
      "                low     high  target_price  direction  correct_call\n",
      "date                                                               \n",
      "2014-09-22  1.28155  1.28663       1.27996         -1             0\n",
      "2014-09-23  1.28387  1.29005       1.27996         -1             0\n",
      "2014-09-24  1.27633  1.28632       1.27996         -1            -1\n",
      "2014-09-25  1.26961  1.27683       1.27996         -1            -1\n",
      "2014-09-26  1.26658  1.27560       1.27996         -1            -1\n",
      "                low     high  target_price  direction  correct_call\n",
      "date                                                               \n",
      "2014-12-12  1.23842  1.24852       1.23456         -1             0\n",
      "2014-12-15  1.24145  1.24785       1.23456         -1             0\n",
      "2014-12-16  1.24400  1.25698       1.23456         -1             0\n",
      "2014-12-17  1.23204  1.24965       1.23456         -1            -1\n",
      "2014-12-18  1.22659  1.23478       1.23456         -1            -1\n",
      "                low     high  target_price  direction  correct_call\n",
      "date                                                               \n",
      "2015-02-06  1.12955  1.14734       1.15878          1             0\n",
      "2015-02-09  1.12702  1.13592       1.15878          1             0\n",
      "2015-02-10  1.12730  1.13415       1.15878          1             0\n",
      "2015-02-11  1.12799  1.13521       1.15878          1             0\n",
      "2015-02-12  1.13086  1.14351       1.15878          1             0\n",
      "                low     high  target_price  direction  correct_call\n",
      "date                                                               \n",
      "2015-06-30  1.11121  1.12440       1.13657          1             0\n",
      "2015-07-01  1.10323  1.11722       1.13657          1             0\n",
      "2015-07-02  1.10479  1.11212       1.13657          1             0\n",
      "2015-07-03  1.09690  1.11178       1.13657          1             0\n",
      "2015-07-06  1.10016  1.10953       1.13657          1             0\n",
      "                low     high  target_price  direction  correct_call\n",
      "date                                                               \n",
      "2016-01-07  1.07710  1.09401       1.08976          1             1\n",
      "2016-01-08  1.08030  1.09698       1.08976          1             1\n",
      "2016-01-11  1.08411  1.09337       1.08976          1             1\n",
      "2016-01-12  1.08110  1.09001       1.08976          1             1\n",
      "2016-01-13  1.08048  1.08966       1.08976          1             0\n",
      "                low     high  target_price  direction  correct_call\n",
      "date                                                               \n",
      "2016-01-21  1.07777  1.09210       1.08277         -1            -1\n",
      "2016-01-22  1.07882  1.08628       1.08277         -1            -1\n",
      "2016-01-25  1.08059  1.08593       1.08277         -1            -1\n",
      "2016-01-26  1.08186  1.08744       1.08277         -1            -1\n",
      "2016-01-27  1.08527  1.09163       1.08277         -1             0\n",
      "                low     high  target_price  direction  correct_call\n",
      "date                                                               \n",
      "2016-08-23  1.12933  1.13550       1.13825          1             0\n",
      "2016-08-24  1.12451  1.13054       1.13825          1             0\n",
      "2016-08-25  1.12651  1.12973       1.13825          1             0\n",
      "2016-08-26  1.11773  1.13409       1.13825          1             0\n",
      "2016-08-29  1.11579  1.12076       1.13825          1             0\n",
      "                low     high  target_price  direction  correct_call\n",
      "date                                                               \n",
      "2017-01-09  1.05108  1.06270       1.04724         -1             0\n",
      "2017-01-10  1.05360  1.06202       1.04724         -1             0\n",
      "2017-01-11  1.04537  1.06228       1.04724         -1            -1\n",
      "2017-01-12  1.05948  1.06847       1.04724         -1             0\n",
      "2017-01-13  1.05962  1.06765       1.04724         -1             0\n",
      "                low     high  target_price  direction  correct_call\n",
      "date                                                               \n",
      "2017-01-19  1.05892  1.06934       1.05835         -1             0\n",
      "2017-01-20  1.06250  1.07497       1.05835         -1             0\n",
      "2017-01-23  1.07060  1.07730       1.05835         -1             0\n",
      "2017-01-24  1.07203  1.07747       1.05835         -1             0\n",
      "2017-01-25  1.07112  1.07697       1.05835         -1             0\n",
      "                low     high  target_price  direction  correct_call\n",
      "date                                                               \n",
      "2017-02-20  1.05770  1.06298       1.05621         -1             0\n",
      "2017-02-21  1.05256  1.05891       1.05621         -1            -1\n",
      "2017-02-22  1.04937  1.05739       1.05621         -1            -1\n",
      "2017-02-23  1.05375  1.05951       1.05621         -1            -1\n",
      "2017-02-24  1.05513  1.06177       1.05621         -1            -1\n",
      "                low     high  target_price  direction  correct_call\n",
      "date                                                               \n",
      "2018-06-27  1.15405  1.16718       1.16091         -1            -1\n",
      "2018-06-28  1.15270  1.16498       1.16091         -1            -1\n",
      "2018-06-29  1.16128  1.16900       1.16091         -1             0\n",
      "2018-07-02  1.15910  1.16573       1.16091         -1            -1\n",
      "2018-07-03  1.16265  1.16784       1.16091         -1             0\n",
      "                low     high  target_price  direction  correct_call\n",
      "date                                                               \n",
      "2018-09-17  1.16177  1.17027       1.15786         -1             0\n",
      "2018-09-18  1.16520  1.17243       1.15786         -1             0\n",
      "2018-09-19  1.16500  1.17147       1.15786         -1             0\n",
      "2018-09-20  1.16772  1.17855       1.15786         -1             0\n",
      "2018-09-21  1.17325  1.18025       1.15786         -1             0\n",
      "                low     high  target_price  direction  correct_call\n",
      "date                                                               \n",
      "2018-10-23  1.14391  1.14932       1.13942         -1             0\n",
      "2018-10-24  1.13789  1.14762       1.13942         -1            -1\n",
      "2018-10-25  1.13560  1.14322       1.13942         -1            -1\n",
      "2018-10-26  1.13355  1.14206       1.13942         -1            -1\n",
      "2018-10-29  1.13605  1.14163       1.13942         -1            -1\n",
      "                low     high  target_price  direction  correct_call\n",
      "date                                                               \n",
      "2018-12-11  1.13062  1.13999       1.13098         -1            -1\n",
      "2018-12-12  1.13149  1.13871       1.13098         -1             0\n",
      "2018-12-13  1.13310  1.13932       1.13098         -1             0\n",
      "2018-12-14  1.12696  1.13616       1.13098         -1            -1\n",
      "2018-12-17  1.13061  1.13600       1.13098         -1            -1\n",
      "                low     high  target_price  direction  correct_call\n",
      "date                                                               \n",
      "2019-02-01  1.14343  1.14884       1.13814         -1             0\n",
      "2019-02-04  1.14244  1.14542       1.13814         -1             0\n",
      "2019-02-05  1.13958  1.14356       1.13814         -1             0\n",
      "2019-02-06  1.13567  1.14023       1.13814         -1            -1\n",
      "2019-02-07  1.13244  1.13665       1.13814         -1            -1\n",
      "                low     high  target_price  direction  correct_call\n",
      "date                                                               \n",
      "2019-02-14  1.12498  1.13098       1.12234         -1             0\n",
      "2019-02-15  1.12340  1.13248       1.12234         -1             0\n",
      "2019-02-18  1.12930  1.13338       1.12234         -1             0\n",
      "2019-02-19  1.12755  1.13574       1.12234         -1             0\n",
      "2019-02-20  1.13249  1.13711       1.12234         -1             0\n"
     ]
    }
   ],
   "source": [
    "count = 0\n",
    "\n",
    "model_info = {\"train\":None,\"test\":None,\"start\":None,\"end\":None,\"signal\":None}\n",
    "benchmark_results = []\n",
    "\n",
    "for match in daily_pattern['pattern_end']:\n",
    "    \n",
    "    results_dict = {'name':None,'pattern':None,'date':None,\n",
    "                   'time_frame':None,'RMSE':None,\n",
    "                   'MSE':None, 'classification':None}\n",
    "    \n",
    "    results_dict['name'] = 'Bechmark: ' + str(match)\n",
    "    results_dict['strategy'] = 'Maribozu'\n",
    "    results_dict['time_frame'] = 'daily'\n",
    "    \n",
    "#     if count <= 10:\n",
    "#         count+=1\n",
    "    model_info = create_train_test_split(match, daily, model_info)\n",
    "\n",
    "    if len(model_info['train']) < 10:\n",
    "        continue\n",
    "\n",
    "#     print(f\"len wk_av: {len(model_info['train']['wk_mv_av'])}, shape: {model_info['train']['wk_mv_av'].shape}\")   \n",
    "#     print(f\"len low: {len(model_info['train']['low'])}, shape: {model_info['train']['low'].shape}\")   \n",
    "\n",
    "#     results, predictions = train_arima(model_info)\n",
    "\n",
    "    outcomes = create_results_outcomes_dataframe(model_info['test']) #, predictions)\n",
    "    print(outcomes)\n",
    "#     outcomes['ml_correct_call'] = outcomes.apply(ml_decision, axis=1)\n",
    "\n",
    "#     print(outcomes.head())\n",
    "#     print_chart(outcomes)\n",
    "\n",
    "#     results_dict['RMSE'], results_dict['MSE'] = get_results(model_info)\n",
    "    results_dict['classification'] = classify(outcomes)\n",
    "\n",
    "    benchmark_results.append(results_dict)\n",
    "\n"
   ]
  },
  {
   "cell_type": "code",
   "execution_count": 53,
   "metadata": {},
   "outputs": [],
   "source": [
    "# arima_results"
   ]
  },
  {
   "cell_type": "code",
   "execution_count": 54,
   "metadata": {},
   "outputs": [],
   "source": [
    "def create_cm(results):\n",
    "    \n",
    "    res_cm = [[0,0],\n",
    "              [0,0]]\n",
    "    \n",
    "    for result in results:\n",
    "        res = result['classification']\n",
    "        \n",
    "        if res == 'tp':\n",
    "            res_cm[0][0] += 1\n",
    "        elif res == 'fp':\n",
    "            res_cm[0][1] += 1\n",
    "        elif res == 'fn':\n",
    "            res_cm[1][0] += 1\n",
    "        elif res == 'tn':\n",
    "            res_cm[1][1] += 1\n",
    "    \n",
    "    return res_cm"
   ]
  },
  {
   "cell_type": "code",
   "execution_count": 55,
   "metadata": {},
   "outputs": [],
   "source": [
    "cm = create_cm(benchmark_results)"
   ]
  },
  {
   "cell_type": "code",
   "execution_count": 57,
   "metadata": {},
   "outputs": [
    {
     "data": {
      "text/html": [
       "<div>\n",
       "<style scoped>\n",
       "    .dataframe tbody tr th:only-of-type {\n",
       "        vertical-align: middle;\n",
       "    }\n",
       "\n",
       "    .dataframe tbody tr th {\n",
       "        vertical-align: top;\n",
       "    }\n",
       "\n",
       "    .dataframe thead th {\n",
       "        text-align: right;\n",
       "    }\n",
       "</style>\n",
       "<table border=\"1\" class=\"dataframe\">\n",
       "  <thead>\n",
       "    <tr style=\"text-align: right;\">\n",
       "      <th></th>\n",
       "      <th>actual success</th>\n",
       "      <th>actual non_success</th>\n",
       "    </tr>\n",
       "  </thead>\n",
       "  <tbody>\n",
       "    <tr>\n",
       "      <th>pred_success</th>\n",
       "      <td>38</td>\n",
       "      <td>24</td>\n",
       "    </tr>\n",
       "    <tr>\n",
       "      <th>pred_non_success</th>\n",
       "      <td>0</td>\n",
       "      <td>0</td>\n",
       "    </tr>\n",
       "  </tbody>\n",
       "</table>\n",
       "</div>"
      ],
      "text/plain": [
       "                  actual success  actual non_success\n",
       "pred_success                  38                  24\n",
       "pred_non_success               0                   0"
      ]
     },
     "execution_count": 57,
     "metadata": {},
     "output_type": "execute_result"
    }
   ],
   "source": [
    "cm_df = pd.DataFrame(cm, index=['pred_success', 'pred_non_success'], columns=['actual success', 'actual non_success'])\n",
    "cm_df"
   ]
  },
  {
   "cell_type": "code",
   "execution_count": 58,
   "metadata": {},
   "outputs": [
    {
     "data": {
      "text/plain": [
       "0.6129032258064516"
      ]
     },
     "execution_count": 58,
     "metadata": {},
     "output_type": "execute_result"
    }
   ],
   "source": [
    "# Accuracy Total number of correct predictions / total number of predictions\n",
    "38/(38+24)"
   ]
  },
  {
   "cell_type": "code",
   "execution_count": 59,
   "metadata": {},
   "outputs": [
    {
     "data": {
      "text/plain": [
       "0.6129032258064516"
      ]
     },
     "execution_count": 59,
     "metadata": {},
     "output_type": "execute_result"
    }
   ],
   "source": [
    "# Precision proportion of positive identifications that were actually correct\n",
    "# True positives/ true positives + false positives)\n",
    "38/(38+24)"
   ]
  },
  {
   "cell_type": "code",
   "execution_count": 60,
   "metadata": {},
   "outputs": [
    {
     "data": {
      "text/plain": [
       "1.0"
      ]
     },
     "execution_count": 60,
     "metadata": {},
     "output_type": "execute_result"
    }
   ],
   "source": [
    "# Recall - proportion od actual positives that were correctly defined\n",
    "# True positives/ true positives + false negatives\n",
    "38/(38+0)"
   ]
  },
  {
   "cell_type": "code",
   "execution_count": null,
   "metadata": {},
   "outputs": [],
   "source": []
  },
  {
   "cell_type": "code",
   "execution_count": null,
   "metadata": {},
   "outputs": [],
   "source": []
  },
  {
   "cell_type": "code",
   "execution_count": null,
   "metadata": {},
   "outputs": [],
   "source": []
  },
  {
   "cell_type": "code",
   "execution_count": null,
   "metadata": {},
   "outputs": [],
   "source": []
  },
  {
   "cell_type": "code",
   "execution_count": null,
   "metadata": {},
   "outputs": [],
   "source": []
  },
  {
   "cell_type": "code",
   "execution_count": null,
   "metadata": {},
   "outputs": [],
   "source": []
  },
  {
   "cell_type": "code",
   "execution_count": null,
   "metadata": {},
   "outputs": [],
   "source": []
  },
  {
   "cell_type": "code",
   "execution_count": null,
   "metadata": {},
   "outputs": [],
   "source": []
  },
  {
   "cell_type": "code",
   "execution_count": null,
   "metadata": {},
   "outputs": [],
   "source": []
  },
  {
   "cell_type": "code",
   "execution_count": null,
   "metadata": {},
   "outputs": [],
   "source": []
  },
  {
   "cell_type": "code",
   "execution_count": null,
   "metadata": {},
   "outputs": [],
   "source": []
  },
  {
   "cell_type": "code",
   "execution_count": null,
   "metadata": {},
   "outputs": [],
   "source": []
  },
  {
   "cell_type": "code",
   "execution_count": null,
   "metadata": {},
   "outputs": [],
   "source": []
  },
  {
   "cell_type": "code",
   "execution_count": null,
   "metadata": {},
   "outputs": [],
   "source": []
  },
  {
   "cell_type": "markdown",
   "metadata": {},
   "source": [
    "## 1.2 Train Test Split"
   ]
  },
  {
   "cell_type": "code",
   "execution_count": null,
   "metadata": {},
   "outputs": [],
   "source": [
    "type(daily.loc[daily.index == daily_pattern.loc[10]['pattern_end']].index[0])"
   ]
  },
  {
   "cell_type": "code",
   "execution_count": null,
   "metadata": {},
   "outputs": [],
   "source": [
    "daily.loc[daily.index == daily_pattern.loc[10]['pattern_end']].index[0]"
   ]
  },
  {
   "cell_type": "code",
   "execution_count": null,
   "metadata": {},
   "outputs": [],
   "source": []
  },
  {
   "cell_type": "code",
   "execution_count": null,
   "metadata": {},
   "outputs": [],
   "source": []
  },
  {
   "cell_type": "code",
   "execution_count": null,
   "metadata": {},
   "outputs": [],
   "source": [
    "daily_pattern.index"
   ]
  },
  {
   "cell_type": "code",
   "execution_count": null,
   "metadata": {},
   "outputs": [],
   "source": [
    "# Test 1 date out\n",
    "curr_pattern = daily.loc[daily.index == daily_pattern.loc[10]['pattern_end']].index[0]\n",
    "curr_pattern"
   ]
  },
  {
   "cell_type": "code",
   "execution_count": null,
   "metadata": {},
   "outputs": [],
   "source": [
    "daily.index"
   ]
  },
  {
   "cell_type": "code",
   "execution_count": null,
   "metadata": {},
   "outputs": [],
   "source": [
    "test_end_date = daily.loc[daily.loc[daily.index == daily_pattern.loc[10]['pattern_end']].index[0],'date+5']\n",
    "test_end_date"
   ]
  },
  {
   "cell_type": "code",
   "execution_count": null,
   "metadata": {},
   "outputs": [],
   "source": [
    "# daily.loc[daily.index == curr_pattern]"
   ]
  },
  {
   "cell_type": "code",
   "execution_count": null,
   "metadata": {},
   "outputs": [],
   "source": [
    "train_test = daily.loc[daily.index <= test_end_date]\n",
    "# train_test = daily.loc[daily.index <= '2004-2-28 00:00:00']"
   ]
  },
  {
   "cell_type": "code",
   "execution_count": null,
   "metadata": {},
   "outputs": [],
   "source": [
    "# daily.loc[daily.index <= end_date]"
   ]
  },
  {
   "cell_type": "code",
   "execution_count": null,
   "metadata": {},
   "outputs": [],
   "source": [
    "# daily.loc[daily.index == daily_pattern.loc[10]['pattern_end'],'double_height']"
   ]
  },
  {
   "cell_type": "code",
   "execution_count": null,
   "metadata": {},
   "outputs": [],
   "source": [
    "target_value = daily.loc[daily.index == daily_pattern.loc[10,'pattern_end'],'double_height'].item()\n",
    "target_value"
   ]
  },
  {
   "cell_type": "code",
   "execution_count": null,
   "metadata": {},
   "outputs": [],
   "source": [
    "# def choose_exit_price(row, target_price, signal=-1):\n",
    "#     if signal == -1:\n",
    "#         return target_price\n",
    "# #         return row['close'] - (row['height'] * 1)\n",
    "#     else:\n",
    "#         return target_price\n",
    "\n",
    "# #         return row['close'] + (row['height'] * 1)"
   ]
  },
  {
   "cell_type": "code",
   "execution_count": null,
   "metadata": {},
   "outputs": [],
   "source": [
    "train_test"
   ]
  },
  {
   "cell_type": "code",
   "execution_count": null,
   "metadata": {},
   "outputs": [],
   "source": [
    "# train_test['double_height'] = train_test.apply(choose_exit_price, axis=1)\n",
    "# train_test['double_height'] = daily.loc[daily.index == daily_pattern.loc[10,'pattern_end'],'double_height'].item()\n",
    "#train_test.loc['double_height'] = [target_value for x in train_test.loc[:,['double_height']]]\n",
    "train_test.insert(0, 'target_price', target_value)\n",
    "# train_test.insert(0, 'signal', signal)"
   ]
  },
  {
   "cell_type": "code",
   "execution_count": null,
   "metadata": {},
   "outputs": [],
   "source": [
    "signal = daily.loc[daily.index == daily_pattern.loc[10,'pattern_end'],'marubozu'].item()\n",
    "signal"
   ]
  },
  {
   "cell_type": "code",
   "execution_count": null,
   "metadata": {},
   "outputs": [],
   "source": [
    "train_test.head()"
   ]
  },
  {
   "cell_type": "code",
   "execution_count": null,
   "metadata": {
    "scrolled": true
   },
   "outputs": [],
   "source": [
    "[signal] * (len(train_test)-1)"
   ]
  },
  {
   "cell_type": "code",
   "execution_count": null,
   "metadata": {},
   "outputs": [],
   "source": [
    "#train_test.loc[:,['signal']] = [signal] * (len(train_test))\n",
    "# train_test.loc[:,['signal']] = [signal]\n",
    "# df.insert(0, 'A', 'foo')\n",
    "train_test.insert(0, 'signal', signal)"
   ]
  },
  {
   "cell_type": "code",
   "execution_count": null,
   "metadata": {},
   "outputs": [],
   "source": [
    "train_test.tail(6)"
   ]
  },
  {
   "cell_type": "code",
   "execution_count": null,
   "metadata": {},
   "outputs": [],
   "source": [
    "# start=len(train)\n",
    "# end=len(train)+len(test)-1\n",
    "start = len(train_test)-5\n",
    "end = len(train_test)-1\n",
    "start, end"
   ]
  },
  {
   "cell_type": "code",
   "execution_count": null,
   "metadata": {},
   "outputs": [],
   "source": [
    "# Set for testing\n",
    "train = train_test.iloc[:start]\n",
    "test = train_test.iloc[start:]"
   ]
  },
  {
   "cell_type": "code",
   "execution_count": null,
   "metadata": {},
   "outputs": [],
   "source": [
    "test.head()"
   ]
  },
  {
   "cell_type": "code",
   "execution_count": null,
   "metadata": {},
   "outputs": [],
   "source": [
    "def train_test_plot(train, test):\n",
    "    plt.figure(figsize=(16, 8))\n",
    "    plt.plot(train, c='blue')\n",
    "    plt.plot(test, c='orange');"
   ]
  },
  {
   "cell_type": "code",
   "execution_count": null,
   "metadata": {},
   "outputs": [],
   "source": [
    "# This plot confirms that our train test split makes sense\n",
    "train_test_plot(train['close'], test['close'])"
   ]
  },
  {
   "cell_type": "code",
   "execution_count": null,
   "metadata": {},
   "outputs": [],
   "source": [
    "auto_arima(daily['close'].dropna(), seasonal=False).summary()"
   ]
  },
  {
   "cell_type": "code",
   "execution_count": null,
   "metadata": {},
   "outputs": [],
   "source": [
    "train"
   ]
  },
  {
   "cell_type": "code",
   "execution_count": null,
   "metadata": {},
   "outputs": [],
   "source": [
    "model = ARIMA(train['low'], order=(0,1,0))\n",
    "results = model.fit()\n",
    "results.summary()"
   ]
  },
  {
   "cell_type": "code",
   "execution_count": null,
   "metadata": {
    "scrolled": true
   },
   "outputs": [],
   "source": [
    "predictions = results.predict(start=start, end=end, dynamic=False, typ='levels').rename('ARIMA-0-1-0 Predictions')"
   ]
  },
  {
   "cell_type": "code",
   "execution_count": null,
   "metadata": {},
   "outputs": [],
   "source": [
    "predictions.values"
   ]
  },
  {
   "cell_type": "code",
   "execution_count": null,
   "metadata": {},
   "outputs": [],
   "source": [
    "type(predictions)"
   ]
  },
  {
   "cell_type": "code",
   "execution_count": null,
   "metadata": {},
   "outputs": [],
   "source": [
    "def justified(row):\n",
    "    \n",
    "    if row['signal'] == -1 and row['low'] <= row['double_height']:\n",
    "        return 1\n",
    "    elif row['signal'] == 1 and row['high'] >= row['double_height']:\n",
    "        return 1    \n",
    "    else:\n",
    "        return 0"
   ]
  },
  {
   "cell_type": "code",
   "execution_count": null,
   "metadata": {},
   "outputs": [],
   "source": [
    "outcomes = pd.DataFrame()\n",
    "outcomes['low'] = test['low']\n",
    "outcomes['high'] = test['high']\n",
    "\n",
    "outcomes['preds'] = predictions.values\n",
    "outcomes['target_price'] = test['target_price']\n",
    "# outcomes['direction'] = test['signal']\n",
    "outcomes['signal_match'] = test.apply(justified, axis=1)\n",
    "\n",
    "#daily_pre['double_height'] = daily_pre.apply(choose_exit_price, axis=1)\n",
    "# outcomes.append(predictions, ignore_index=True)\n",
    "outcomes"
   ]
  },
  {
   "cell_type": "code",
   "execution_count": null,
   "metadata": {},
   "outputs": [],
   "source": [
    "# predictions['date']  = test.index\n",
    "#predictions.reset_index(test.index)"
   ]
  },
  {
   "cell_type": "code",
   "execution_count": null,
   "metadata": {},
   "outputs": [],
   "source": [
    "# predictions.reindex(test.index)"
   ]
  },
  {
   "cell_type": "code",
   "execution_count": null,
   "metadata": {},
   "outputs": [],
   "source": [
    "type(predictions)"
   ]
  },
  {
   "cell_type": "code",
   "execution_count": null,
   "metadata": {},
   "outputs": [],
   "source": [
    "test.head()['close'].isnull().sum()"
   ]
  },
  {
   "cell_type": "code",
   "execution_count": null,
   "metadata": {},
   "outputs": [],
   "source": [
    "train.head()['close'].isnull().sum()"
   ]
  },
  {
   "cell_type": "code",
   "execution_count": null,
   "metadata": {},
   "outputs": [],
   "source": [
    "outcomes['low'].plot(legend=True, figsize=(12,8))\n",
    "outcomes['preds'].plot(legend=True);\n",
    "outcomes['target_price'].plot(legend=True);\n",
    "\n",
    "# predictions.plot(legend=True)"
   ]
  },
  {
   "cell_type": "code",
   "execution_count": null,
   "metadata": {},
   "outputs": [],
   "source": [
    "\n",
    "error = mean_squared_error(test['close'], predictions)\n",
    "print(f'ARIMA(0,1,0) MSE Error: {error:11.10}')\n",
    "\n",
    "\n",
    "error = rmse(test['close'], predictions)\n",
    "print(f'ARIMA(0,1,0) RMSE Error: {error:11.10}')"
   ]
  },
  {
   "cell_type": "code",
   "execution_count": null,
   "metadata": {},
   "outputs": [],
   "source": [
    "results = {'algo':'','name':'','date':'', 'time_frame':'','success':'','RMSE':'', 'MSE':'', 'classification':'' }\n"
   ]
  },
  {
   "cell_type": "code",
   "execution_count": null,
   "metadata": {},
   "outputs": [],
   "source": [
    "daily.columns"
   ]
  },
  {
   "cell_type": "markdown",
   "metadata": {},
   "source": [
    "---"
   ]
  },
  {
   "cell_type": "markdown",
   "metadata": {},
   "source": [
    "# SARIMAX\n"
   ]
  },
  {
   "cell_type": "code",
   "execution_count": null,
   "metadata": {},
   "outputs": [],
   "source": [
    "# daily = daily.resample('B').agg({'open':'first','high':'max',\n",
    "#                                         'low':'min', 'close':'last'})"
   ]
  },
  {
   "cell_type": "code",
   "execution_count": null,
   "metadata": {},
   "outputs": [],
   "source": [
    "daily.index"
   ]
  },
  {
   "cell_type": "code",
   "execution_count": null,
   "metadata": {},
   "outputs": [],
   "source": [
    "daily['close'].dropna(inplace=True)"
   ]
  },
  {
   "cell_type": "code",
   "execution_count": null,
   "metadata": {},
   "outputs": [],
   "source": [
    "result = seasonal_decompose(daily['close'], model='add', period=400 )\n",
    "result.plot();"
   ]
  },
  {
   "cell_type": "code",
   "execution_count": null,
   "metadata": {},
   "outputs": [],
   "source": [
    "%%time\n",
    "auto_arima(daily['close'], seasonal=True, maxiter=10000).summary()"
   ]
  },
  {
   "cell_type": "code",
   "execution_count": null,
   "metadata": {},
   "outputs": [],
   "source": [
    "model = SARIMAX(train['close'], order=(0,1,0), seasonal_order=(1,0,1,12))"
   ]
  },
  {
   "cell_type": "code",
   "execution_count": null,
   "metadata": {},
   "outputs": [],
   "source": [
    "len(train)"
   ]
  },
  {
   "cell_type": "code",
   "execution_count": null,
   "metadata": {},
   "outputs": [],
   "source": [
    "train.columns"
   ]
  },
  {
   "cell_type": "code",
   "execution_count": null,
   "metadata": {},
   "outputs": [],
   "source": [
    "# Starting MSE and (P, D, Q).\n",
    "mse = 99 * (10 ** 16)\n",
    "final_P = 0\n",
    "final_D = 0\n",
    "final_Q = 0\n",
    "\n",
    "for P in range(3):\n",
    "    for Q in range(3):\n",
    "        for D in range(3):\n",
    "            try:\n",
    "                # Instantiate SARIMA model.\n",
    "                sarima = SARIMAX(endog = train['close'],\n",
    "                                 order = (0, 1, 0),              # (p, d, q)\n",
    "                                 seasonal_order = (P, D, Q, 12)) # (P, D, Q, S)\n",
    "\n",
    "                # Fit SARIMA model.\n",
    "                model = sarima.fit()\n",
    "\n",
    "                # Generate predictions based on training set.\n",
    "                # Start at time period 0 and end at 1028.\n",
    "                preds = model.predict(start=0, end=1028)\n",
    "\n",
    "                # Evaluate predictions.\n",
    "                print(f'The MSE for (1, 0, 0)x({P},{D},{Q},12) is: {mean_squared_error(train[\"close\"], preds)}')\n",
    "                \n",
    "                # Save for final report.\n",
    "                if mse > mean_squared_error(train['close'], preds):\n",
    "                    mse = mean_squared_error(train['close'], preds)\n",
    "                    final_P = P\n",
    "                    final_D = D\n",
    "                    final_Q = Q\n",
    "                \n",
    "            except:\n",
    "                print(f\"p: {P}, D: {D}, Q: {Q}\")\n",
    "                pass\n",
    "\n",
    "print(f'Our model that minimizes MSE on the training data is the SARIMA(1, 0, 0)x({final_P},{final_D},{final_Q},420).')\n",
    "print(f'This model has an MSE of {mse}.')"
   ]
  },
  {
   "cell_type": "code",
   "execution_count": null,
   "metadata": {},
   "outputs": [],
   "source": []
  },
  {
   "cell_type": "code",
   "execution_count": null,
   "metadata": {},
   "outputs": [],
   "source": []
  },
  {
   "cell_type": "code",
   "execution_count": null,
   "metadata": {},
   "outputs": [],
   "source": []
  }
 ],
 "metadata": {
  "kernelspec": {
   "display_name": "Python 3",
   "language": "python",
   "name": "python3"
  },
  "language_info": {
   "codemirror_mode": {
    "name": "ipython",
    "version": 3
   },
   "file_extension": ".py",
   "mimetype": "text/x-python",
   "name": "python",
   "nbconvert_exporter": "python",
   "pygments_lexer": "ipython3",
   "version": "3.7.6"
  }
 },
 "nbformat": 4,
 "nbformat_minor": 4
}
