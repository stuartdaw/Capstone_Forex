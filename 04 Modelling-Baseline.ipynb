{
 "cells": [
  {
   "cell_type": "markdown",
   "metadata": {},
   "source": [
    "# 4.0 Modelling Baseline"
   ]
  },
  {
   "cell_type": "markdown",
   "metadata": {},
   "source": [
    "---"
   ]
  },
  {
   "cell_type": "markdown",
   "metadata": {},
   "source": [
    "# Contents\n",
    "\n",
    "- [1.0 Arima Model](#1.0-ARIMA-Model)\n",
    "- [2.0 Daily Data](#2.0-Daily-Data)\n",
    "    - [1.1 Load Data](#2.1-Load-Data)\n",
    "    - [1.2 Train Test Split](#2.2-Train-Test-Split)"
   ]
  },
  {
   "cell_type": "code",
   "execution_count": 1,
   "metadata": {},
   "outputs": [],
   "source": [
    "# !pip install pmdarima"
   ]
  },
  {
   "cell_type": "code",
   "execution_count": 2,
   "metadata": {},
   "outputs": [],
   "source": [
    "import pandas as pd\n",
    "import numpy as np\n",
    "import seaborn as sns\n",
    "import matplotlib.pyplot as plt\n",
    "%matplotlib inline\n",
    "import datetime\n",
    "import calendar\n",
    "\n",
    "from statsmodels.tsa.stattools import adfuller\n",
    "from statsmodels.tsa.seasonal import seasonal_decompose\n",
    "from statsmodels.tsa.statespace.sarimax import SARIMAX\n",
    "from statsmodels.tsa.arima_model import ARIMA, ARMA, ARMAResults, ARIMAResults\n",
    "from statsmodels.graphics.tsaplots import plot_acf, plot_pacf\n",
    "from sklearn.metrics import r2_score, mean_squared_error\n",
    "from pmdarima import auto_arima\n",
    "import plotly.graph_objects as go\n",
    "import warnings\n",
    "warnings.filterwarnings(\"ignore\")\n",
    "\n",
    "\n",
    "from sklearn.metrics import mean_squared_error\n",
    "from statsmodels.tools.eval_measures import rmse\n"
   ]
  },
  {
   "cell_type": "code",
   "execution_count": 3,
   "metadata": {},
   "outputs": [],
   "source": [
    "pd.set_option('display.max_columns', None)"
   ]
  },
  {
   "cell_type": "markdown",
   "metadata": {},
   "source": [
    "---"
   ]
  },
  {
   "cell_type": "markdown",
   "metadata": {},
   "source": [
    "# 1.0 ARIMA Model"
   ]
  },
  {
   "cell_type": "markdown",
   "metadata": {},
   "source": [
    "The Arima model has 3 components:\n",
    "\n",
    "+ Differencing Step - I - Integrated - Check for stationarity\n",
    "+ Autoregressive Piece - AR - long term trends\n",
    "+ Moving Average Piece - MA - Modelling sudden fluctuations\n",
    "\n",
    "Each part has input into the model P,D,Q. I will use the previous Dickey Fuller \n",
    "\n",
    "+ D is the order of differencing we found using the Augmented Dickey-Fuller test.\n",
    "+ P is the number of autoregressive terms in our model. PACF is used to estimate this.\n",
    "+ Q is to do with looking at the moving average.\n",
    "    + If PACF has a sharp cut off and lag-1 for the ACF is negative choose q to be the lag in the ACF before cut off.\n",
    "    + If PACF does not have a sharp cut off or lag -1 ACF is not negative choose q = 0"
   ]
  },
  {
   "cell_type": "markdown",
   "metadata": {},
   "source": [
    "Therefore based on the charts before I will use:\n",
    "    \n",
    "    + p = 1\n",
    "    + d = 1\n",
    "    + q = 0\n",
    "    \n",
    "However I will use auto_arima to help decide."
   ]
  },
  {
   "cell_type": "markdown",
   "metadata": {},
   "source": [
    "---"
   ]
  },
  {
   "cell_type": "code",
   "execution_count": 4,
   "metadata": {},
   "outputs": [],
   "source": [
    "results = {'algo':'','name':'','date':'', 'time_frame':'','success':0,'RMSE':0, 'MSE':0, 'classification':'' }"
   ]
  },
  {
   "cell_type": "markdown",
   "metadata": {},
   "source": [
    "##### 1.1 Load Data Fractals"
   ]
  },
  {
   "cell_type": "code",
   "execution_count": 5,
   "metadata": {},
   "outputs": [],
   "source": [
    "daily_maru = pd.read_csv('/Users/stuartdaw/Documents/Capstone_data/data/resampled/eur-usddailyMarubozu.csv', \n",
    "                    index_col='date', parse_dates=True)"
   ]
  },
  {
   "cell_type": "code",
   "execution_count": 6,
   "metadata": {},
   "outputs": [
    {
     "data": {
      "text/plain": [
       "DatetimeIndex(['2000-07-14', '2000-07-17', '2000-07-18', '2000-07-19',\n",
       "               '2000-07-20', '2000-07-21', '2000-07-24', '2000-07-25',\n",
       "               '2000-07-26', '2000-07-27',\n",
       "               ...\n",
       "               '2019-12-11', '2019-12-12', '2019-12-13', '2019-12-16',\n",
       "               '2019-12-17', '2019-12-18', '2019-12-19', '2019-12-20',\n",
       "               '2019-12-23', '2019-12-24'],\n",
       "              dtype='datetime64[ns]', name='date', length=4612, freq=None)"
      ]
     },
     "execution_count": 6,
     "metadata": {},
     "output_type": "execute_result"
    }
   ],
   "source": [
    "daily_maru.index"
   ]
  },
  {
   "cell_type": "code",
   "execution_count": 7,
   "metadata": {},
   "outputs": [
    {
     "data": {
      "text/plain": [
       "Index(['open', 'high', 'low', 'close', 'mid', 'wk_mv_avg', 'mnth_mv_avg',\n",
       "       'volatility_3_day', 'volatility_10_day', 'pct_chge_3_prds',\n",
       "       'pct_chge_5_prds', 'pct_chge_10_prds', 'height', 'height-1', 'height-2',\n",
       "       'height-3', 'direction', 'gold_usd', 'gold_euro', 'marubozu',\n",
       "       'marubozu+1', 'marubozu-1', 'marubozu-2', 'day-1_open', 'day-2_open',\n",
       "       'day-3_open', 'day-1_high', 'day-2_high', 'day-3_high', 'day-1_low',\n",
       "       'day-2_low', 'day-3_low', 'day-1_close', 'day-2_close', 'day-3_close',\n",
       "       'day+1_open', 'day+1_high', 'day+1_low', 'day+1_close', 'day+2_high',\n",
       "       'day+2_low', 'day+3_high', 'day+3_low', 'day+4_high', 'day+4_low',\n",
       "       'day+5_high', 'day+5_low', 'exit_price', 'select', 'target', 'date+5'],\n",
       "      dtype='object')"
      ]
     },
     "execution_count": 7,
     "metadata": {},
     "output_type": "execute_result"
    }
   ],
   "source": [
    "daily_maru.columns"
   ]
  },
  {
   "cell_type": "code",
   "execution_count": 8,
   "metadata": {},
   "outputs": [],
   "source": [
    "#daily = daily.resample('B').agg({'open':'first','high':'max','low':'min', 'close':'last'})\n"
   ]
  },
  {
   "cell_type": "code",
   "execution_count": 9,
   "metadata": {},
   "outputs": [
    {
     "data": {
      "text/plain": [
       "DatetimeIndex(['2000-07-14', '2000-07-17', '2000-07-18', '2000-07-19',\n",
       "               '2000-07-20', '2000-07-21', '2000-07-24', '2000-07-25',\n",
       "               '2000-07-26', '2000-07-27',\n",
       "               ...\n",
       "               '2019-12-11', '2019-12-12', '2019-12-13', '2019-12-16',\n",
       "               '2019-12-17', '2019-12-18', '2019-12-19', '2019-12-20',\n",
       "               '2019-12-23', '2019-12-24'],\n",
       "              dtype='datetime64[ns]', name='date', length=4612, freq=None)"
      ]
     },
     "execution_count": 9,
     "metadata": {},
     "output_type": "execute_result"
    }
   ],
   "source": [
    "daily_maru.index"
   ]
  },
  {
   "cell_type": "code",
   "execution_count": 10,
   "metadata": {},
   "outputs": [],
   "source": [
    "daily_maru['date+5'] = pd.to_datetime(daily_maru['date+5'])"
   ]
  },
  {
   "cell_type": "code",
   "execution_count": 11,
   "metadata": {},
   "outputs": [
    {
     "data": {
      "text/plain": [
       "Timestamp('2000-07-24 00:00:00')"
      ]
     },
     "execution_count": 11,
     "metadata": {},
     "output_type": "execute_result"
    }
   ],
   "source": [
    "daily_maru.loc[daily_maru.index[1],'date+5']"
   ]
  },
  {
   "cell_type": "code",
   "execution_count": 12,
   "metadata": {},
   "outputs": [
    {
     "data": {
      "text/plain": [
       "pandas._libs.tslibs.timestamps.Timestamp"
      ]
     },
     "execution_count": 12,
     "metadata": {},
     "output_type": "execute_result"
    }
   ],
   "source": [
    "type(daily_maru['date+5'][0])"
   ]
  },
  {
   "cell_type": "code",
   "execution_count": null,
   "metadata": {},
   "outputs": [],
   "source": []
  },
  {
   "cell_type": "code",
   "execution_count": 13,
   "metadata": {},
   "outputs": [],
   "source": [
    "### Get correct hyper parameters"
   ]
  },
  {
   "cell_type": "code",
   "execution_count": 14,
   "metadata": {},
   "outputs": [
    {
     "data": {
      "text/html": [
       "<table class=\"simpletable\">\n",
       "<caption>SARIMAX Results</caption>\n",
       "<tr>\n",
       "  <th>Dep. Variable:</th>           <td>y</td>        <th>  No. Observations:  </th>    <td>4612</td>   \n",
       "</tr>\n",
       "<tr>\n",
       "  <th>Model:</th>           <td>SARIMAX(0, 1, 0)</td> <th>  Log Likelihood     </th>  <td>15826.945</td>\n",
       "</tr>\n",
       "<tr>\n",
       "  <th>Date:</th>            <td>Wed, 05 Aug 2020</td> <th>  AIC                </th> <td>-31651.890</td>\n",
       "</tr>\n",
       "<tr>\n",
       "  <th>Time:</th>                <td>21:35:38</td>     <th>  BIC                </th> <td>-31645.453</td>\n",
       "</tr>\n",
       "<tr>\n",
       "  <th>Sample:</th>                  <td>0</td>        <th>  HQIC               </th> <td>-31649.624</td>\n",
       "</tr>\n",
       "<tr>\n",
       "  <th></th>                      <td> - 4612</td>     <th>                     </th>      <td> </td>    \n",
       "</tr>\n",
       "<tr>\n",
       "  <th>Covariance Type:</th>        <td>opg</td>       <th>                     </th>      <td> </td>    \n",
       "</tr>\n",
       "</table>\n",
       "<table class=\"simpletable\">\n",
       "<tr>\n",
       "     <td></td>       <th>coef</th>     <th>std err</th>      <th>z</th>      <th>P>|z|</th>  <th>[0.025</th>    <th>0.975]</th>  \n",
       "</tr>\n",
       "<tr>\n",
       "  <th>sigma2</th> <td>  6.11e-05</td> <td> 5.15e-07</td> <td>  118.588</td> <td> 0.000</td> <td> 6.01e-05</td> <td> 6.21e-05</td>\n",
       "</tr>\n",
       "</table>\n",
       "<table class=\"simpletable\">\n",
       "<tr>\n",
       "  <th>Ljung-Box (Q):</th>          <td>61.33</td> <th>  Jarque-Bera (JB):  </th> <td>20105.01</td>\n",
       "</tr>\n",
       "<tr>\n",
       "  <th>Prob(Q):</th>                <td>0.02</td>  <th>  Prob(JB):          </th>   <td>0.00</td>  \n",
       "</tr>\n",
       "<tr>\n",
       "  <th>Heteroskedasticity (H):</th> <td>0.66</td>  <th>  Skew:              </th>   <td>-0.38</td> \n",
       "</tr>\n",
       "<tr>\n",
       "  <th>Prob(H) (two-sided):</th>    <td>0.00</td>  <th>  Kurtosis:          </th>   <td>13.20</td> \n",
       "</tr>\n",
       "</table><br/><br/>Warnings:<br/>[1] Covariance matrix calculated using the outer product of gradients (complex-step)."
      ],
      "text/plain": [
       "<class 'statsmodels.iolib.summary.Summary'>\n",
       "\"\"\"\n",
       "                               SARIMAX Results                                \n",
       "==============================================================================\n",
       "Dep. Variable:                      y   No. Observations:                 4612\n",
       "Model:               SARIMAX(0, 1, 0)   Log Likelihood               15826.945\n",
       "Date:                Wed, 05 Aug 2020   AIC                         -31651.890\n",
       "Time:                        21:35:38   BIC                         -31645.453\n",
       "Sample:                             0   HQIC                        -31649.624\n",
       "                               - 4612                                         \n",
       "Covariance Type:                  opg                                         \n",
       "==============================================================================\n",
       "                 coef    std err          z      P>|z|      [0.025      0.975]\n",
       "------------------------------------------------------------------------------\n",
       "sigma2       6.11e-05   5.15e-07    118.588      0.000    6.01e-05    6.21e-05\n",
       "===================================================================================\n",
       "Ljung-Box (Q):                       61.33   Jarque-Bera (JB):             20105.01\n",
       "Prob(Q):                              0.02   Prob(JB):                         0.00\n",
       "Heteroskedasticity (H):               0.66   Skew:                            -0.38\n",
       "Prob(H) (two-sided):                  0.00   Kurtosis:                        13.20\n",
       "===================================================================================\n",
       "\n",
       "Warnings:\n",
       "[1] Covariance matrix calculated using the outer product of gradients (complex-step).\n",
       "\"\"\""
      ]
     },
     "execution_count": 14,
     "metadata": {},
     "output_type": "execute_result"
    }
   ],
   "source": [
    "## Arima\n",
    "auto_arima(daily_maru['close'].dropna(), seasonal=False).summary()"
   ]
  },
  {
   "cell_type": "markdown",
   "metadata": {},
   "source": [
    "---"
   ]
  },
  {
   "cell_type": "markdown",
   "metadata": {},
   "source": [
    "## 1.1 Get patterns"
   ]
  },
  {
   "cell_type": "code",
   "execution_count": 15,
   "metadata": {},
   "outputs": [],
   "source": [
    "daily_pattern = pd.read_csv('/Users/stuartdaw/Documents/Capstone_data/patterns/dailyMarubozu.csv', \n",
    "                           parse_dates=True)"
   ]
  },
  {
   "cell_type": "code",
   "execution_count": 16,
   "metadata": {},
   "outputs": [],
   "source": [
    "daily_pattern['pattern_end'] = pd.to_datetime(daily_pattern['pattern_end'])"
   ]
  },
  {
   "cell_type": "code",
   "execution_count": 17,
   "metadata": {},
   "outputs": [
    {
     "data": {
      "text/plain": [
       "pattern_end   2000-10-20\n",
       "Name: 1, dtype: datetime64[ns]"
      ]
     },
     "execution_count": 17,
     "metadata": {},
     "output_type": "execute_result"
    }
   ],
   "source": [
    "daily_pattern.loc[1]"
   ]
  },
  {
   "cell_type": "code",
   "execution_count": 18,
   "metadata": {
    "scrolled": false
   },
   "outputs": [
    {
     "data": {
      "text/plain": [
       "64"
      ]
     },
     "execution_count": 18,
     "metadata": {},
     "output_type": "execute_result"
    }
   ],
   "source": [
    "len(daily_pattern)"
   ]
  },
  {
   "cell_type": "markdown",
   "metadata": {},
   "source": [
    "---"
   ]
  },
  {
   "cell_type": "code",
   "execution_count": 19,
   "metadata": {},
   "outputs": [],
   "source": [
    "def create_train_test_split(date, time_series, model_info):\n",
    "    test_end_date = time_series.loc[date,'date+5']\n",
    "    \n",
    "    train_test = time_series.loc[time_series.index <= test_end_date]\n",
    "  \n",
    "    target_value = time_series.loc[time_series.index == date,'exit_price'].item()\n",
    "    \n",
    "    train_test.insert(0, 'target_price', target_value)\n",
    "    \n",
    "    model_info['signal'] = time_series.loc[date,'marubozu']\n",
    "    \n",
    "    train_test.insert(0, 'signal', model_info['signal'])\n",
    "    \n",
    "    model_info['start'] = len(train_test)-5\n",
    "    model_info['end'] = len(train_test)-1\n",
    "    \n",
    "    model_info['train'] = train_test.iloc[:model_info['start']]\n",
    "    model_info['test'] = train_test.iloc[model_info['start']:]\n",
    "\n",
    "    return model_info"
   ]
  },
  {
   "cell_type": "code",
   "execution_count": 20,
   "metadata": {},
   "outputs": [],
   "source": [
    "def meet_threshold(row):\n",
    "    if row['signal'] == -1 and row['low'] <= row['target_price']:\n",
    "        return -1\n",
    "    elif row['signal'] == 1 and row['high'] >= row['target_price']:\n",
    "#         print(f\"row high: {row['high']} >= row dbl height: {row['target_price']}\" )\n",
    "        return 1    \n",
    "    else:\n",
    "        return 0"
   ]
  },
  {
   "cell_type": "code",
   "execution_count": 21,
   "metadata": {},
   "outputs": [],
   "source": [
    "def ml_decision(row):\n",
    "    if row['direction'] == -1 and row['preds'] <= row['target_price']:\n",
    "        return -1\n",
    "    elif row['direction'] == 1 and row['preds'] >= row['target_price']:\n",
    "        print(f\"preds: {row['preds']} >= row target: {row['target_price']}\" )\n",
    "        return 1    \n",
    "    else:\n",
    "        return 0"
   ]
  },
  {
   "cell_type": "code",
   "execution_count": 22,
   "metadata": {},
   "outputs": [],
   "source": [
    "def create_results_outcomes_dataframe(test): #, predictions):    \n",
    "    outcomes = pd.DataFrame()\n",
    "    outcomes['low'] = test['low']\n",
    "    outcomes['high'] = test['high']\n",
    "#     outcomes['preds'] = predictions.values\n",
    "    outcomes['target_price'] = test['target_price']\n",
    "    outcomes['direction'] = test['signal']\n",
    "    outcomes['correct_call'] = test.apply(meet_threshold, axis=1)\n",
    "\n",
    "    return outcomes"
   ]
  },
  {
   "cell_type": "code",
   "execution_count": 23,
   "metadata": {},
   "outputs": [],
   "source": [
    "def classify(outcomes):\n",
    "    \n",
    "    # As its the benchmark then it is assumed that that a buy/sell decision is made\n",
    "    \n",
    "    if max(outcomes['direction']) == 1:\n",
    "        \n",
    "        if max(outcomes['correct_call']) == 0:\n",
    "            return 'fp'\n",
    "        elif max(outcomes['correct_call']) == 1:\n",
    "            return 'tp'\n",
    "        \n",
    "    elif max(outcomes['direction']) == -1:\n",
    "        \n",
    "        if min(outcomes['correct_call']) == 0:\n",
    "            return 'fp'\n",
    "        elif min(outcomes['correct_call']) == -1:\n",
    "            return 'tp'\n",
    "        \n",
    "    else:\n",
    "        return 'ERROR'\n",
    "    "
   ]
  },
  {
   "cell_type": "code",
   "execution_count": 24,
   "metadata": {
    "scrolled": false
   },
   "outputs": [],
   "source": [
    "model_info = {\"train\":None,\"test\":None,\"start\":None,\"end\":None,\"signal\":None}\n",
    "benchmark_results = []\n",
    "\n",
    "for match in daily_pattern['pattern_end']:\n",
    "    \n",
    "    results_dict = {'name':None,'pattern':None,'date':None,\n",
    "                   'time_frame':None,'RMSE':None,\n",
    "                   'MSE':None, 'classification':None}\n",
    "    \n",
    "    results_dict['name'] = 'Bechmark: ' + str(match)\n",
    "    results_dict['strategy'] = 'Maribozu'\n",
    "    results_dict['time_frame'] = 'daily'\n",
    "\n",
    "    model_info = create_train_test_split(match, daily_maru, model_info)\n",
    "\n",
    "    if len(model_info['train']) < 10:\n",
    "        continue\n",
    "\n",
    "    outcomes = create_results_outcomes_dataframe(model_info['test'])\n",
    "\n",
    "    results_dict['classification'] = classify(outcomes)\n",
    "\n",
    "    benchmark_results.append(results_dict)\n",
    "\n"
   ]
  },
  {
   "cell_type": "code",
   "execution_count": 25,
   "metadata": {},
   "outputs": [],
   "source": [
    "# arima_results"
   ]
  },
  {
   "cell_type": "code",
   "execution_count": 26,
   "metadata": {},
   "outputs": [],
   "source": [
    "def create_cm(results):\n",
    "    \n",
    "    res_cm = [[0,0],\n",
    "              [0,0]]\n",
    "    \n",
    "    for result in results:\n",
    "        res = result['classification']\n",
    "        \n",
    "        if res == 'tp':\n",
    "            res_cm[0][0] += 1\n",
    "        elif res == 'fp':\n",
    "            res_cm[0][1] += 1\n",
    "        elif res == 'fn':\n",
    "            res_cm[1][0] += 1\n",
    "        elif res == 'tn':\n",
    "            res_cm[1][1] += 1\n",
    "    \n",
    "    return res_cm"
   ]
  },
  {
   "cell_type": "code",
   "execution_count": 27,
   "metadata": {},
   "outputs": [],
   "source": [
    "cm = create_cm(benchmark_results)"
   ]
  },
  {
   "cell_type": "code",
   "execution_count": 28,
   "metadata": {},
   "outputs": [
    {
     "data": {
      "text/html": [
       "<div>\n",
       "<style scoped>\n",
       "    .dataframe tbody tr th:only-of-type {\n",
       "        vertical-align: middle;\n",
       "    }\n",
       "\n",
       "    .dataframe tbody tr th {\n",
       "        vertical-align: top;\n",
       "    }\n",
       "\n",
       "    .dataframe thead th {\n",
       "        text-align: right;\n",
       "    }\n",
       "</style>\n",
       "<table border=\"1\" class=\"dataframe\">\n",
       "  <thead>\n",
       "    <tr style=\"text-align: right;\">\n",
       "      <th></th>\n",
       "      <th>actual success</th>\n",
       "      <th>actual non_success</th>\n",
       "    </tr>\n",
       "  </thead>\n",
       "  <tbody>\n",
       "    <tr>\n",
       "      <th>pred_success</th>\n",
       "      <td>40</td>\n",
       "      <td>24</td>\n",
       "    </tr>\n",
       "    <tr>\n",
       "      <th>pred_non_success</th>\n",
       "      <td>0</td>\n",
       "      <td>0</td>\n",
       "    </tr>\n",
       "  </tbody>\n",
       "</table>\n",
       "</div>"
      ],
      "text/plain": [
       "                  actual success  actual non_success\n",
       "pred_success                  40                  24\n",
       "pred_non_success               0                   0"
      ]
     },
     "execution_count": 28,
     "metadata": {},
     "output_type": "execute_result"
    }
   ],
   "source": [
    "cm_df = pd.DataFrame(cm, index=['pred_success', 'pred_non_success'], columns=['actual success', 'actual non_success'])\n",
    "cm_df"
   ]
  },
  {
   "cell_type": "code",
   "execution_count": 29,
   "metadata": {},
   "outputs": [],
   "source": [
    "def print_metrics(cm):\n",
    "    # Accuracy - how many did the model get right\n",
    "    # Total number of correct predictions / total number of predictions\n",
    "    acc= (cm[0][0]+cm[1][1])/(np.sum(cm))\n",
    "    \n",
    "    # Precision proportion of positive identifications that were actually correct\n",
    "    # True positives/ true positives + false positives)\n",
    "    prec = cm[0][0]/(cm[0][0]+cm[0][1])\n",
    "    \n",
    "    # Recall - proportion of actual positives that were correctly defined\n",
    "    # True positives/ true positives + false negatives\n",
    "    rec = cm[0][0]/(cm[0][0]+cm[1][0])\n",
    "\n",
    "    print(f\"Accuracy:\\t{round(acc,2)}\\nPrecision:\\t{round(prec,2)}\\nRecall:\\t\\t{round(rec,2)}\")"
   ]
  },
  {
   "cell_type": "code",
   "execution_count": 30,
   "metadata": {},
   "outputs": [
    {
     "name": "stdout",
     "output_type": "stream",
     "text": [
      "Accuracy:\t0.62\n",
      "Precision:\t0.62\n",
      "Recall:\t\t1.0\n"
     ]
    }
   ],
   "source": [
    "# Display the results\n",
    "print_metrics(cm)"
   ]
  },
  {
   "cell_type": "markdown",
   "metadata": {},
   "source": [
    "---"
   ]
  },
  {
   "cell_type": "markdown",
   "metadata": {},
   "source": [
    "## Baseline for Fractals"
   ]
  },
  {
   "cell_type": "markdown",
   "metadata": {},
   "source": [
    "##### 5 Load Data"
   ]
  },
  {
   "cell_type": "code",
   "execution_count": 116,
   "metadata": {},
   "outputs": [],
   "source": [
    "daily_fract = pd.read_csv('/Users/stuartdaw/Documents/Capstone_data/data/resampled/eur-usddailyfractals.csv', \n",
    "                    index_col='date', parse_dates=True)"
   ]
  },
  {
   "cell_type": "code",
   "execution_count": 117,
   "metadata": {},
   "outputs": [
    {
     "data": {
      "text/plain": [
       "DatetimeIndex(['2000-07-17', '2000-07-18', '2000-07-19', '2000-07-20',\n",
       "               '2000-07-21', '2000-07-24', '2000-07-25', '2000-07-26',\n",
       "               '2000-07-27', '2000-07-28',\n",
       "               ...\n",
       "               '2019-12-11', '2019-12-12', '2019-12-13', '2019-12-16',\n",
       "               '2019-12-17', '2019-12-18', '2019-12-19', '2019-12-20',\n",
       "               '2019-12-23', '2019-12-24'],\n",
       "              dtype='datetime64[ns]', name='date', length=4632, freq=None)"
      ]
     },
     "execution_count": 117,
     "metadata": {},
     "output_type": "execute_result"
    }
   ],
   "source": [
    "daily_fract.index"
   ]
  },
  {
   "cell_type": "code",
   "execution_count": 118,
   "metadata": {},
   "outputs": [
    {
     "data": {
      "text/plain": [
       "Index(['open', 'high', 'low', 'close', 'mid', 'wk_mv_avg', 'mnth_mv_avg',\n",
       "       'volatility_3_day', 'volatility_10_day', 'pct_chge_3_prds',\n",
       "       'pct_chge_5_prds', 'pct_chge_10_prds', 'height', 'height-1', 'height-2',\n",
       "       'height-3', 'direction', 'gold_usd', 'gold_euro', 'day-1_high',\n",
       "       'day-2_high', 'day-3_high', 'day-4_high', 'day-1_low', 'day-2_low',\n",
       "       'day-3_low', 'day-4_low', 'day-1_open', 'day-2_open', 'day-3_open',\n",
       "       'day-4_open', 'day-1_close', 'day-2_close', 'day-3_close',\n",
       "       'day-4_close', 'day+1_open', 'day+1_high', 'day+1_low', 'day+1_close',\n",
       "       'day+2_high', 'day+2_low', 'day+3_high', 'day+3_low', 'day+4_high',\n",
       "       'day+4_low', 'day+5_high', 'day+5_low', '5_day_avg', 'fractal_end',\n",
       "       'day+1_frac', 'day+2_frac', 'day+3_frac', 'day+4_frac', 'select',\n",
       "       'exit_price', 'target', 'date+5', 'fractal'],\n",
       "      dtype='object')"
      ]
     },
     "execution_count": 118,
     "metadata": {},
     "output_type": "execute_result"
    }
   ],
   "source": [
    "daily_fract.columns"
   ]
  },
  {
   "cell_type": "code",
   "execution_count": 119,
   "metadata": {},
   "outputs": [
    {
     "data": {
      "text/html": [
       "<div>\n",
       "<style scoped>\n",
       "    .dataframe tbody tr th:only-of-type {\n",
       "        vertical-align: middle;\n",
       "    }\n",
       "\n",
       "    .dataframe tbody tr th {\n",
       "        vertical-align: top;\n",
       "    }\n",
       "\n",
       "    .dataframe thead th {\n",
       "        text-align: right;\n",
       "    }\n",
       "</style>\n",
       "<table border=\"1\" class=\"dataframe\">\n",
       "  <thead>\n",
       "    <tr style=\"text-align: right;\">\n",
       "      <th></th>\n",
       "      <th>open</th>\n",
       "      <th>high</th>\n",
       "      <th>low</th>\n",
       "      <th>close</th>\n",
       "      <th>mid</th>\n",
       "      <th>wk_mv_avg</th>\n",
       "      <th>mnth_mv_avg</th>\n",
       "      <th>volatility_3_day</th>\n",
       "      <th>volatility_10_day</th>\n",
       "      <th>pct_chge_3_prds</th>\n",
       "      <th>pct_chge_5_prds</th>\n",
       "      <th>pct_chge_10_prds</th>\n",
       "      <th>height</th>\n",
       "      <th>height-1</th>\n",
       "      <th>height-2</th>\n",
       "      <th>height-3</th>\n",
       "      <th>direction</th>\n",
       "      <th>gold_usd</th>\n",
       "      <th>gold_euro</th>\n",
       "      <th>day-1_high</th>\n",
       "      <th>day-2_high</th>\n",
       "      <th>day-3_high</th>\n",
       "      <th>day-4_high</th>\n",
       "      <th>day-1_low</th>\n",
       "      <th>day-2_low</th>\n",
       "      <th>day-3_low</th>\n",
       "      <th>day-4_low</th>\n",
       "      <th>day-1_open</th>\n",
       "      <th>day-2_open</th>\n",
       "      <th>day-3_open</th>\n",
       "      <th>day-4_open</th>\n",
       "      <th>day-1_close</th>\n",
       "      <th>day-2_close</th>\n",
       "      <th>day-3_close</th>\n",
       "      <th>day-4_close</th>\n",
       "      <th>day+1_open</th>\n",
       "      <th>day+1_high</th>\n",
       "      <th>day+1_low</th>\n",
       "      <th>day+1_close</th>\n",
       "      <th>day+2_high</th>\n",
       "      <th>day+2_low</th>\n",
       "      <th>day+3_high</th>\n",
       "      <th>day+3_low</th>\n",
       "      <th>day+4_high</th>\n",
       "      <th>day+4_low</th>\n",
       "      <th>day+5_high</th>\n",
       "      <th>day+5_low</th>\n",
       "      <th>5_day_avg</th>\n",
       "      <th>fractal_end</th>\n",
       "      <th>day+1_frac</th>\n",
       "      <th>day+2_frac</th>\n",
       "      <th>day+3_frac</th>\n",
       "      <th>day+4_frac</th>\n",
       "      <th>select</th>\n",
       "      <th>exit_price</th>\n",
       "      <th>target</th>\n",
       "      <th>date+5</th>\n",
       "      <th>fractal</th>\n",
       "    </tr>\n",
       "    <tr>\n",
       "      <th>date</th>\n",
       "      <th></th>\n",
       "      <th></th>\n",
       "      <th></th>\n",
       "      <th></th>\n",
       "      <th></th>\n",
       "      <th></th>\n",
       "      <th></th>\n",
       "      <th></th>\n",
       "      <th></th>\n",
       "      <th></th>\n",
       "      <th></th>\n",
       "      <th></th>\n",
       "      <th></th>\n",
       "      <th></th>\n",
       "      <th></th>\n",
       "      <th></th>\n",
       "      <th></th>\n",
       "      <th></th>\n",
       "      <th></th>\n",
       "      <th></th>\n",
       "      <th></th>\n",
       "      <th></th>\n",
       "      <th></th>\n",
       "      <th></th>\n",
       "      <th></th>\n",
       "      <th></th>\n",
       "      <th></th>\n",
       "      <th></th>\n",
       "      <th></th>\n",
       "      <th></th>\n",
       "      <th></th>\n",
       "      <th></th>\n",
       "      <th></th>\n",
       "      <th></th>\n",
       "      <th></th>\n",
       "      <th></th>\n",
       "      <th></th>\n",
       "      <th></th>\n",
       "      <th></th>\n",
       "      <th></th>\n",
       "      <th></th>\n",
       "      <th></th>\n",
       "      <th></th>\n",
       "      <th></th>\n",
       "      <th></th>\n",
       "      <th></th>\n",
       "      <th></th>\n",
       "      <th></th>\n",
       "      <th></th>\n",
       "      <th></th>\n",
       "      <th></th>\n",
       "      <th></th>\n",
       "      <th></th>\n",
       "      <th></th>\n",
       "      <th></th>\n",
       "      <th></th>\n",
       "      <th></th>\n",
       "      <th></th>\n",
       "    </tr>\n",
       "  </thead>\n",
       "  <tbody>\n",
       "    <tr>\n",
       "      <th>2000-07-17</th>\n",
       "      <td>0.9382</td>\n",
       "      <td>0.9402</td>\n",
       "      <td>0.9342</td>\n",
       "      <td>0.9360</td>\n",
       "      <td>0.93710</td>\n",
       "      <td>0.94217</td>\n",
       "      <td>0.947100</td>\n",
       "      <td>0.004282</td>\n",
       "      <td>0.003440</td>\n",
       "      <td>-0.009408</td>\n",
       "      <td>-0.016013</td>\n",
       "      <td>-0.014875</td>\n",
       "      <td>0.0022</td>\n",
       "      <td>0.0030</td>\n",
       "      <td>0.0062</td>\n",
       "      <td>0.0086</td>\n",
       "      <td>0</td>\n",
       "      <td>98.1</td>\n",
       "      <td>123.3</td>\n",
       "      <td>0.9389</td>\n",
       "      <td>0.9425</td>\n",
       "      <td>0.9517</td>\n",
       "      <td>0.9569</td>\n",
       "      <td>0.9318</td>\n",
       "      <td>0.9330</td>\n",
       "      <td>0.9396</td>\n",
       "      <td>0.9496</td>\n",
       "      <td>0.9353</td>\n",
       "      <td>0.9416</td>\n",
       "      <td>0.9503</td>\n",
       "      <td>0.9545</td>\n",
       "      <td>0.9383</td>\n",
       "      <td>0.9354</td>\n",
       "      <td>0.9417</td>\n",
       "      <td>0.9504</td>\n",
       "      <td>0.9361</td>\n",
       "      <td>0.9368</td>\n",
       "      <td>0.9227</td>\n",
       "      <td>0.9256</td>\n",
       "      <td>0.9270</td>\n",
       "      <td>0.9193</td>\n",
       "      <td>0.9342</td>\n",
       "      <td>0.9204</td>\n",
       "      <td>0.9384</td>\n",
       "      <td>0.9319</td>\n",
       "      <td>0.9367</td>\n",
       "      <td>0.9313</td>\n",
       "      <td>0.00500</td>\n",
       "      <td>0</td>\n",
       "      <td>0.0</td>\n",
       "      <td>0.0</td>\n",
       "      <td>0.0</td>\n",
       "      <td>0.0</td>\n",
       "      <td>0</td>\n",
       "      <td>0.9360</td>\n",
       "      <td>0.0</td>\n",
       "      <td>2000-07-24</td>\n",
       "      <td>0</td>\n",
       "    </tr>\n",
       "    <tr>\n",
       "      <th>2000-07-18</th>\n",
       "      <td>0.9361</td>\n",
       "      <td>0.9368</td>\n",
       "      <td>0.9227</td>\n",
       "      <td>0.9256</td>\n",
       "      <td>0.93085</td>\n",
       "      <td>0.93785</td>\n",
       "      <td>0.945633</td>\n",
       "      <td>0.003582</td>\n",
       "      <td>0.003797</td>\n",
       "      <td>-0.008151</td>\n",
       "      <td>-0.022678</td>\n",
       "      <td>-0.020519</td>\n",
       "      <td>0.0105</td>\n",
       "      <td>0.0022</td>\n",
       "      <td>0.0030</td>\n",
       "      <td>0.0062</td>\n",
       "      <td>0</td>\n",
       "      <td>98.3</td>\n",
       "      <td>123.8</td>\n",
       "      <td>0.9402</td>\n",
       "      <td>0.9389</td>\n",
       "      <td>0.9425</td>\n",
       "      <td>0.9517</td>\n",
       "      <td>0.9342</td>\n",
       "      <td>0.9318</td>\n",
       "      <td>0.9330</td>\n",
       "      <td>0.9396</td>\n",
       "      <td>0.9382</td>\n",
       "      <td>0.9353</td>\n",
       "      <td>0.9416</td>\n",
       "      <td>0.9503</td>\n",
       "      <td>0.9360</td>\n",
       "      <td>0.9383</td>\n",
       "      <td>0.9354</td>\n",
       "      <td>0.9417</td>\n",
       "      <td>0.9255</td>\n",
       "      <td>0.9270</td>\n",
       "      <td>0.9193</td>\n",
       "      <td>0.9246</td>\n",
       "      <td>0.9342</td>\n",
       "      <td>0.9204</td>\n",
       "      <td>0.9384</td>\n",
       "      <td>0.9319</td>\n",
       "      <td>0.9367</td>\n",
       "      <td>0.9313</td>\n",
       "      <td>0.9433</td>\n",
       "      <td>0.9329</td>\n",
       "      <td>0.00610</td>\n",
       "      <td>0</td>\n",
       "      <td>0.0</td>\n",
       "      <td>0.0</td>\n",
       "      <td>0.0</td>\n",
       "      <td>0.0</td>\n",
       "      <td>0</td>\n",
       "      <td>0.9256</td>\n",
       "      <td>0.0</td>\n",
       "      <td>2000-07-25</td>\n",
       "      <td>0</td>\n",
       "    </tr>\n",
       "    <tr>\n",
       "      <th>2000-07-19</th>\n",
       "      <td>0.9255</td>\n",
       "      <td>0.9270</td>\n",
       "      <td>0.9193</td>\n",
       "      <td>0.9246</td>\n",
       "      <td>0.92505</td>\n",
       "      <td>0.93366</td>\n",
       "      <td>0.944207</td>\n",
       "      <td>0.003915</td>\n",
       "      <td>0.003618</td>\n",
       "      <td>-0.012543</td>\n",
       "      <td>-0.022146</td>\n",
       "      <td>-0.029125</td>\n",
       "      <td>0.0009</td>\n",
       "      <td>0.0105</td>\n",
       "      <td>0.0022</td>\n",
       "      <td>0.0030</td>\n",
       "      <td>0</td>\n",
       "      <td>97.0</td>\n",
       "      <td>123.3</td>\n",
       "      <td>0.9368</td>\n",
       "      <td>0.9402</td>\n",
       "      <td>0.9389</td>\n",
       "      <td>0.9425</td>\n",
       "      <td>0.9227</td>\n",
       "      <td>0.9342</td>\n",
       "      <td>0.9318</td>\n",
       "      <td>0.9330</td>\n",
       "      <td>0.9361</td>\n",
       "      <td>0.9382</td>\n",
       "      <td>0.9353</td>\n",
       "      <td>0.9416</td>\n",
       "      <td>0.9256</td>\n",
       "      <td>0.9360</td>\n",
       "      <td>0.9383</td>\n",
       "      <td>0.9354</td>\n",
       "      <td>0.9245</td>\n",
       "      <td>0.9342</td>\n",
       "      <td>0.9204</td>\n",
       "      <td>0.9325</td>\n",
       "      <td>0.9384</td>\n",
       "      <td>0.9319</td>\n",
       "      <td>0.9367</td>\n",
       "      <td>0.9313</td>\n",
       "      <td>0.9433</td>\n",
       "      <td>0.9329</td>\n",
       "      <td>0.9450</td>\n",
       "      <td>0.9391</td>\n",
       "      <td>0.00500</td>\n",
       "      <td>0</td>\n",
       "      <td>0.0</td>\n",
       "      <td>0.0</td>\n",
       "      <td>0.0</td>\n",
       "      <td>0.0</td>\n",
       "      <td>0</td>\n",
       "      <td>0.9246</td>\n",
       "      <td>0.0</td>\n",
       "      <td>2000-07-26</td>\n",
       "      <td>0</td>\n",
       "    </tr>\n",
       "    <tr>\n",
       "      <th>2000-07-20</th>\n",
       "      <td>0.9245</td>\n",
       "      <td>0.9342</td>\n",
       "      <td>0.9204</td>\n",
       "      <td>0.9325</td>\n",
       "      <td>0.92850</td>\n",
       "      <td>0.93166</td>\n",
       "      <td>0.943221</td>\n",
       "      <td>0.005881</td>\n",
       "      <td>0.004167</td>\n",
       "      <td>-0.009177</td>\n",
       "      <td>-0.010655</td>\n",
       "      <td>-0.024531</td>\n",
       "      <td>0.0080</td>\n",
       "      <td>0.0009</td>\n",
       "      <td>0.0105</td>\n",
       "      <td>0.0022</td>\n",
       "      <td>0</td>\n",
       "      <td>97.1</td>\n",
       "      <td>123.3</td>\n",
       "      <td>0.9270</td>\n",
       "      <td>0.9368</td>\n",
       "      <td>0.9402</td>\n",
       "      <td>0.9389</td>\n",
       "      <td>0.9193</td>\n",
       "      <td>0.9227</td>\n",
       "      <td>0.9342</td>\n",
       "      <td>0.9318</td>\n",
       "      <td>0.9255</td>\n",
       "      <td>0.9361</td>\n",
       "      <td>0.9382</td>\n",
       "      <td>0.9353</td>\n",
       "      <td>0.9246</td>\n",
       "      <td>0.9256</td>\n",
       "      <td>0.9360</td>\n",
       "      <td>0.9383</td>\n",
       "      <td>0.9324</td>\n",
       "      <td>0.9384</td>\n",
       "      <td>0.9319</td>\n",
       "      <td>0.9365</td>\n",
       "      <td>0.9367</td>\n",
       "      <td>0.9313</td>\n",
       "      <td>0.9433</td>\n",
       "      <td>0.9329</td>\n",
       "      <td>0.9450</td>\n",
       "      <td>0.9391</td>\n",
       "      <td>0.9444</td>\n",
       "      <td>0.9314</td>\n",
       "      <td>0.00500</td>\n",
       "      <td>0</td>\n",
       "      <td>0.0</td>\n",
       "      <td>0.0</td>\n",
       "      <td>0.0</td>\n",
       "      <td>0.0</td>\n",
       "      <td>0</td>\n",
       "      <td>0.9325</td>\n",
       "      <td>0.0</td>\n",
       "      <td>2000-07-27</td>\n",
       "      <td>0</td>\n",
       "    </tr>\n",
       "    <tr>\n",
       "      <th>2000-07-21</th>\n",
       "      <td>0.9324</td>\n",
       "      <td>0.9384</td>\n",
       "      <td>0.9319</td>\n",
       "      <td>0.9365</td>\n",
       "      <td>0.93445</td>\n",
       "      <td>0.93119</td>\n",
       "      <td>0.942879</td>\n",
       "      <td>0.006660</td>\n",
       "      <td>0.005033</td>\n",
       "      <td>0.003867</td>\n",
       "      <td>-0.002509</td>\n",
       "      <td>-0.016575</td>\n",
       "      <td>0.0041</td>\n",
       "      <td>0.0080</td>\n",
       "      <td>0.0009</td>\n",
       "      <td>0.0105</td>\n",
       "      <td>0</td>\n",
       "      <td>97.1</td>\n",
       "      <td>122.2</td>\n",
       "      <td>0.9342</td>\n",
       "      <td>0.9270</td>\n",
       "      <td>0.9368</td>\n",
       "      <td>0.9402</td>\n",
       "      <td>0.9204</td>\n",
       "      <td>0.9193</td>\n",
       "      <td>0.9227</td>\n",
       "      <td>0.9342</td>\n",
       "      <td>0.9245</td>\n",
       "      <td>0.9255</td>\n",
       "      <td>0.9361</td>\n",
       "      <td>0.9382</td>\n",
       "      <td>0.9325</td>\n",
       "      <td>0.9246</td>\n",
       "      <td>0.9256</td>\n",
       "      <td>0.9360</td>\n",
       "      <td>0.9366</td>\n",
       "      <td>0.9367</td>\n",
       "      <td>0.9313</td>\n",
       "      <td>0.9330</td>\n",
       "      <td>0.9433</td>\n",
       "      <td>0.9329</td>\n",
       "      <td>0.9450</td>\n",
       "      <td>0.9391</td>\n",
       "      <td>0.9444</td>\n",
       "      <td>0.9314</td>\n",
       "      <td>0.9338</td>\n",
       "      <td>0.9229</td>\n",
       "      <td>0.00514</td>\n",
       "      <td>0</td>\n",
       "      <td>0.0</td>\n",
       "      <td>0.0</td>\n",
       "      <td>0.0</td>\n",
       "      <td>0.0</td>\n",
       "      <td>0</td>\n",
       "      <td>0.9365</td>\n",
       "      <td>0.0</td>\n",
       "      <td>2000-07-28</td>\n",
       "      <td>0</td>\n",
       "    </tr>\n",
       "  </tbody>\n",
       "</table>\n",
       "</div>"
      ],
      "text/plain": [
       "              open    high     low   close      mid  wk_mv_avg  mnth_mv_avg  \\\n",
       "date                                                                          \n",
       "2000-07-17  0.9382  0.9402  0.9342  0.9360  0.93710    0.94217     0.947100   \n",
       "2000-07-18  0.9361  0.9368  0.9227  0.9256  0.93085    0.93785     0.945633   \n",
       "2000-07-19  0.9255  0.9270  0.9193  0.9246  0.92505    0.93366     0.944207   \n",
       "2000-07-20  0.9245  0.9342  0.9204  0.9325  0.92850    0.93166     0.943221   \n",
       "2000-07-21  0.9324  0.9384  0.9319  0.9365  0.93445    0.93119     0.942879   \n",
       "\n",
       "            volatility_3_day  volatility_10_day  pct_chge_3_prds  \\\n",
       "date                                                               \n",
       "2000-07-17          0.004282           0.003440        -0.009408   \n",
       "2000-07-18          0.003582           0.003797        -0.008151   \n",
       "2000-07-19          0.003915           0.003618        -0.012543   \n",
       "2000-07-20          0.005881           0.004167        -0.009177   \n",
       "2000-07-21          0.006660           0.005033         0.003867   \n",
       "\n",
       "            pct_chge_5_prds  pct_chge_10_prds  height  height-1  height-2  \\\n",
       "date                                                                        \n",
       "2000-07-17        -0.016013         -0.014875  0.0022    0.0030    0.0062   \n",
       "2000-07-18        -0.022678         -0.020519  0.0105    0.0022    0.0030   \n",
       "2000-07-19        -0.022146         -0.029125  0.0009    0.0105    0.0022   \n",
       "2000-07-20        -0.010655         -0.024531  0.0080    0.0009    0.0105   \n",
       "2000-07-21        -0.002509         -0.016575  0.0041    0.0080    0.0009   \n",
       "\n",
       "            height-3  direction  gold_usd  gold_euro  day-1_high  day-2_high  \\\n",
       "date                                                                           \n",
       "2000-07-17    0.0086          0      98.1      123.3      0.9389      0.9425   \n",
       "2000-07-18    0.0062          0      98.3      123.8      0.9402      0.9389   \n",
       "2000-07-19    0.0030          0      97.0      123.3      0.9368      0.9402   \n",
       "2000-07-20    0.0022          0      97.1      123.3      0.9270      0.9368   \n",
       "2000-07-21    0.0105          0      97.1      122.2      0.9342      0.9270   \n",
       "\n",
       "            day-3_high  day-4_high  day-1_low  day-2_low  day-3_low  \\\n",
       "date                                                                  \n",
       "2000-07-17      0.9517      0.9569     0.9318     0.9330     0.9396   \n",
       "2000-07-18      0.9425      0.9517     0.9342     0.9318     0.9330   \n",
       "2000-07-19      0.9389      0.9425     0.9227     0.9342     0.9318   \n",
       "2000-07-20      0.9402      0.9389     0.9193     0.9227     0.9342   \n",
       "2000-07-21      0.9368      0.9402     0.9204     0.9193     0.9227   \n",
       "\n",
       "            day-4_low  day-1_open  day-2_open  day-3_open  day-4_open  \\\n",
       "date                                                                    \n",
       "2000-07-17     0.9496      0.9353      0.9416      0.9503      0.9545   \n",
       "2000-07-18     0.9396      0.9382      0.9353      0.9416      0.9503   \n",
       "2000-07-19     0.9330      0.9361      0.9382      0.9353      0.9416   \n",
       "2000-07-20     0.9318      0.9255      0.9361      0.9382      0.9353   \n",
       "2000-07-21     0.9342      0.9245      0.9255      0.9361      0.9382   \n",
       "\n",
       "            day-1_close  day-2_close  day-3_close  day-4_close  day+1_open  \\\n",
       "date                                                                         \n",
       "2000-07-17       0.9383       0.9354       0.9417       0.9504      0.9361   \n",
       "2000-07-18       0.9360       0.9383       0.9354       0.9417      0.9255   \n",
       "2000-07-19       0.9256       0.9360       0.9383       0.9354      0.9245   \n",
       "2000-07-20       0.9246       0.9256       0.9360       0.9383      0.9324   \n",
       "2000-07-21       0.9325       0.9246       0.9256       0.9360      0.9366   \n",
       "\n",
       "            day+1_high  day+1_low  day+1_close  day+2_high  day+2_low  \\\n",
       "date                                                                    \n",
       "2000-07-17      0.9368     0.9227       0.9256      0.9270     0.9193   \n",
       "2000-07-18      0.9270     0.9193       0.9246      0.9342     0.9204   \n",
       "2000-07-19      0.9342     0.9204       0.9325      0.9384     0.9319   \n",
       "2000-07-20      0.9384     0.9319       0.9365      0.9367     0.9313   \n",
       "2000-07-21      0.9367     0.9313       0.9330      0.9433     0.9329   \n",
       "\n",
       "            day+3_high  day+3_low  day+4_high  day+4_low  day+5_high  \\\n",
       "date                                                                   \n",
       "2000-07-17      0.9342     0.9204      0.9384     0.9319      0.9367   \n",
       "2000-07-18      0.9384     0.9319      0.9367     0.9313      0.9433   \n",
       "2000-07-19      0.9367     0.9313      0.9433     0.9329      0.9450   \n",
       "2000-07-20      0.9433     0.9329      0.9450     0.9391      0.9444   \n",
       "2000-07-21      0.9450     0.9391      0.9444     0.9314      0.9338   \n",
       "\n",
       "            day+5_low  5_day_avg  fractal_end  day+1_frac  day+2_frac  \\\n",
       "date                                                                    \n",
       "2000-07-17     0.9313    0.00500            0         0.0         0.0   \n",
       "2000-07-18     0.9329    0.00610            0         0.0         0.0   \n",
       "2000-07-19     0.9391    0.00500            0         0.0         0.0   \n",
       "2000-07-20     0.9314    0.00500            0         0.0         0.0   \n",
       "2000-07-21     0.9229    0.00514            0         0.0         0.0   \n",
       "\n",
       "            day+3_frac  day+4_frac  select  exit_price  target      date+5  \\\n",
       "date                                                                         \n",
       "2000-07-17         0.0         0.0       0      0.9360     0.0  2000-07-24   \n",
       "2000-07-18         0.0         0.0       0      0.9256     0.0  2000-07-25   \n",
       "2000-07-19         0.0         0.0       0      0.9246     0.0  2000-07-26   \n",
       "2000-07-20         0.0         0.0       0      0.9325     0.0  2000-07-27   \n",
       "2000-07-21         0.0         0.0       0      0.9365     0.0  2000-07-28   \n",
       "\n",
       "            fractal  \n",
       "date                 \n",
       "2000-07-17        0  \n",
       "2000-07-18        0  \n",
       "2000-07-19        0  \n",
       "2000-07-20        0  \n",
       "2000-07-21        0  "
      ]
     },
     "execution_count": 119,
     "metadata": {},
     "output_type": "execute_result"
    }
   ],
   "source": [
    "daily_fract.head()"
   ]
  },
  {
   "cell_type": "code",
   "execution_count": 120,
   "metadata": {},
   "outputs": [
    {
     "data": {
      "text/plain": [
       "(4632, 58)"
      ]
     },
     "execution_count": 120,
     "metadata": {},
     "output_type": "execute_result"
    }
   ],
   "source": [
    "daily_fract.shape"
   ]
  },
  {
   "cell_type": "code",
   "execution_count": 121,
   "metadata": {},
   "outputs": [
    {
     "data": {
      "text/plain": [
       "DatetimeIndex(['2000-07-17', '2000-07-18', '2000-07-19', '2000-07-20',\n",
       "               '2000-07-21', '2000-07-24', '2000-07-25', '2000-07-26',\n",
       "               '2000-07-27', '2000-07-28',\n",
       "               ...\n",
       "               '2019-12-11', '2019-12-12', '2019-12-13', '2019-12-16',\n",
       "               '2019-12-17', '2019-12-18', '2019-12-19', '2019-12-20',\n",
       "               '2019-12-23', '2019-12-24'],\n",
       "              dtype='datetime64[ns]', name='date', length=4632, freq=None)"
      ]
     },
     "execution_count": 121,
     "metadata": {},
     "output_type": "execute_result"
    }
   ],
   "source": [
    "daily_fract.index"
   ]
  },
  {
   "cell_type": "code",
   "execution_count": 122,
   "metadata": {},
   "outputs": [],
   "source": [
    "daily_fract['date+5'] = pd.to_datetime(daily_fract['date+5'])"
   ]
  },
  {
   "cell_type": "code",
   "execution_count": 123,
   "metadata": {},
   "outputs": [
    {
     "data": {
      "text/plain": [
       "Timestamp('2000-07-25 00:00:00')"
      ]
     },
     "execution_count": 123,
     "metadata": {},
     "output_type": "execute_result"
    }
   ],
   "source": [
    "daily_fract.loc[daily_fract.index[1],'date+5']"
   ]
  },
  {
   "cell_type": "code",
   "execution_count": 124,
   "metadata": {},
   "outputs": [
    {
     "data": {
      "text/plain": [
       "pandas._libs.tslibs.timestamps.Timestamp"
      ]
     },
     "execution_count": 124,
     "metadata": {},
     "output_type": "execute_result"
    }
   ],
   "source": [
    "type(daily_fract['date+5'][0])"
   ]
  },
  {
   "cell_type": "markdown",
   "metadata": {},
   "source": [
    "# Get fractal patterns"
   ]
  },
  {
   "cell_type": "code",
   "execution_count": 125,
   "metadata": {},
   "outputs": [],
   "source": [
    "fractal_pattern = pd.read_csv('/Users/stuartdaw/Documents/Capstone_data/patterns/dailyfractals.csv', \n",
    "                           parse_dates=True)"
   ]
  },
  {
   "cell_type": "code",
   "execution_count": 126,
   "metadata": {},
   "outputs": [],
   "source": [
    "fractal_pattern['pattern_end'] = pd.to_datetime(fractal_pattern['pattern_end'])"
   ]
  },
  {
   "cell_type": "code",
   "execution_count": 127,
   "metadata": {},
   "outputs": [
    {
     "data": {
      "text/plain": [
       "pattern_end   2000-08-22\n",
       "Name: 1, dtype: datetime64[ns]"
      ]
     },
     "execution_count": 127,
     "metadata": {},
     "output_type": "execute_result"
    }
   ],
   "source": [
    "fractal_pattern.loc[1]"
   ]
  },
  {
   "cell_type": "code",
   "execution_count": 128,
   "metadata": {
    "scrolled": false
   },
   "outputs": [
    {
     "data": {
      "text/plain": [
       "299"
      ]
     },
     "execution_count": 128,
     "metadata": {},
     "output_type": "execute_result"
    }
   ],
   "source": [
    "len(fractal_pattern)"
   ]
  },
  {
   "cell_type": "markdown",
   "metadata": {},
   "source": [
    "---"
   ]
  },
  {
   "cell_type": "code",
   "execution_count": null,
   "metadata": {},
   "outputs": [],
   "source": []
  },
  {
   "cell_type": "code",
   "execution_count": 129,
   "metadata": {},
   "outputs": [
    {
     "data": {
      "text/plain": [
       "pattern_end   2019-05-15\n",
       "Name: 290, dtype: datetime64[ns]"
      ]
     },
     "execution_count": 129,
     "metadata": {},
     "output_type": "execute_result"
    }
   ],
   "source": [
    "fractal_pattern.loc[290]"
   ]
  },
  {
   "cell_type": "code",
   "execution_count": 131,
   "metadata": {},
   "outputs": [
    {
     "data": {
      "text/html": [
       "<div>\n",
       "<style scoped>\n",
       "    .dataframe tbody tr th:only-of-type {\n",
       "        vertical-align: middle;\n",
       "    }\n",
       "\n",
       "    .dataframe tbody tr th {\n",
       "        vertical-align: top;\n",
       "    }\n",
       "\n",
       "    .dataframe thead th {\n",
       "        text-align: right;\n",
       "    }\n",
       "</style>\n",
       "<table border=\"1\" class=\"dataframe\">\n",
       "  <thead>\n",
       "    <tr style=\"text-align: right;\">\n",
       "      <th></th>\n",
       "      <th>open</th>\n",
       "      <th>high</th>\n",
       "      <th>low</th>\n",
       "      <th>close</th>\n",
       "      <th>mid</th>\n",
       "      <th>wk_mv_avg</th>\n",
       "      <th>mnth_mv_avg</th>\n",
       "      <th>volatility_3_day</th>\n",
       "      <th>volatility_10_day</th>\n",
       "      <th>pct_chge_3_prds</th>\n",
       "      <th>pct_chge_5_prds</th>\n",
       "      <th>pct_chge_10_prds</th>\n",
       "      <th>height</th>\n",
       "      <th>height-1</th>\n",
       "      <th>height-2</th>\n",
       "      <th>height-3</th>\n",
       "      <th>direction</th>\n",
       "      <th>gold_usd</th>\n",
       "      <th>gold_euro</th>\n",
       "      <th>day-1_high</th>\n",
       "      <th>day-2_high</th>\n",
       "      <th>day-3_high</th>\n",
       "      <th>day-4_high</th>\n",
       "      <th>day-1_low</th>\n",
       "      <th>day-2_low</th>\n",
       "      <th>day-3_low</th>\n",
       "      <th>day-4_low</th>\n",
       "      <th>day-1_open</th>\n",
       "      <th>day-2_open</th>\n",
       "      <th>day-3_open</th>\n",
       "      <th>day-4_open</th>\n",
       "      <th>day-1_close</th>\n",
       "      <th>day-2_close</th>\n",
       "      <th>day-3_close</th>\n",
       "      <th>day-4_close</th>\n",
       "      <th>day+1_open</th>\n",
       "      <th>day+1_high</th>\n",
       "      <th>day+1_low</th>\n",
       "      <th>day+1_close</th>\n",
       "      <th>day+2_high</th>\n",
       "      <th>day+2_low</th>\n",
       "      <th>day+3_high</th>\n",
       "      <th>day+3_low</th>\n",
       "      <th>day+4_high</th>\n",
       "      <th>day+4_low</th>\n",
       "      <th>day+5_high</th>\n",
       "      <th>day+5_low</th>\n",
       "      <th>5_day_avg</th>\n",
       "      <th>fractal_end</th>\n",
       "      <th>day+1_frac</th>\n",
       "      <th>day+2_frac</th>\n",
       "      <th>day+3_frac</th>\n",
       "      <th>day+4_frac</th>\n",
       "      <th>select</th>\n",
       "      <th>exit_price</th>\n",
       "      <th>target</th>\n",
       "      <th>date+5</th>\n",
       "      <th>fractal</th>\n",
       "    </tr>\n",
       "    <tr>\n",
       "      <th>date</th>\n",
       "      <th></th>\n",
       "      <th></th>\n",
       "      <th></th>\n",
       "      <th></th>\n",
       "      <th></th>\n",
       "      <th></th>\n",
       "      <th></th>\n",
       "      <th></th>\n",
       "      <th></th>\n",
       "      <th></th>\n",
       "      <th></th>\n",
       "      <th></th>\n",
       "      <th></th>\n",
       "      <th></th>\n",
       "      <th></th>\n",
       "      <th></th>\n",
       "      <th></th>\n",
       "      <th></th>\n",
       "      <th></th>\n",
       "      <th></th>\n",
       "      <th></th>\n",
       "      <th></th>\n",
       "      <th></th>\n",
       "      <th></th>\n",
       "      <th></th>\n",
       "      <th></th>\n",
       "      <th></th>\n",
       "      <th></th>\n",
       "      <th></th>\n",
       "      <th></th>\n",
       "      <th></th>\n",
       "      <th></th>\n",
       "      <th></th>\n",
       "      <th></th>\n",
       "      <th></th>\n",
       "      <th></th>\n",
       "      <th></th>\n",
       "      <th></th>\n",
       "      <th></th>\n",
       "      <th></th>\n",
       "      <th></th>\n",
       "      <th></th>\n",
       "      <th></th>\n",
       "      <th></th>\n",
       "      <th></th>\n",
       "      <th></th>\n",
       "      <th></th>\n",
       "      <th></th>\n",
       "      <th></th>\n",
       "      <th></th>\n",
       "      <th></th>\n",
       "      <th></th>\n",
       "      <th></th>\n",
       "      <th></th>\n",
       "      <th></th>\n",
       "      <th></th>\n",
       "      <th></th>\n",
       "      <th></th>\n",
       "    </tr>\n",
       "  </thead>\n",
       "  <tbody>\n",
       "    <tr>\n",
       "      <th>2019-05-15</th>\n",
       "      <td>1.12085</td>\n",
       "      <td>1.12245</td>\n",
       "      <td>1.11779</td>\n",
       "      <td>1.12085</td>\n",
       "      <td>1.12085</td>\n",
       "      <td>1.122131</td>\n",
       "      <td>1.121067</td>\n",
       "      <td>0.000943</td>\n",
       "      <td>0.001272</td>\n",
       "      <td>-0.001875</td>\n",
       "      <td>0.001</td>\n",
       "      <td>-0.000321</td>\n",
       "      <td>0.0</td>\n",
       "      <td>0.00309</td>\n",
       "      <td>0.00095</td>\n",
       "      <td>0.00001</td>\n",
       "      <td>1</td>\n",
       "      <td>451.4</td>\n",
       "      <td>473.0</td>\n",
       "      <td>1.12439</td>\n",
       "      <td>1.12635</td>\n",
       "      <td>1.12536</td>\n",
       "      <td>1.12509</td>\n",
       "      <td>1.12007</td>\n",
       "      <td>1.12191</td>\n",
       "      <td>1.12177</td>\n",
       "      <td>1.11734</td>\n",
       "      <td>1.12393</td>\n",
       "      <td>1.12297</td>\n",
       "      <td>1.12295</td>\n",
       "      <td>1.11908</td>\n",
       "      <td>1.12084</td>\n",
       "      <td>1.12392</td>\n",
       "      <td>1.12296</td>\n",
       "      <td>1.12296</td>\n",
       "      <td>1.12086</td>\n",
       "      <td>1.12238</td>\n",
       "      <td>1.11662</td>\n",
       "      <td>1.11773</td>\n",
       "      <td>1.11841</td>\n",
       "      <td>1.11531</td>\n",
       "      <td>1.11748</td>\n",
       "      <td>1.11506</td>\n",
       "      <td>1.1188</td>\n",
       "      <td>1.11419</td>\n",
       "      <td>1.11802</td>\n",
       "      <td>1.1148</td>\n",
       "      <td>0.005</td>\n",
       "      <td>1</td>\n",
       "      <td>0.0</td>\n",
       "      <td>0.0</td>\n",
       "      <td>0.0</td>\n",
       "      <td>0.0</td>\n",
       "      <td>1</td>\n",
       "      <td>1.12585</td>\n",
       "      <td>1.12238</td>\n",
       "      <td>2019-05-22</td>\n",
       "      <td>1</td>\n",
       "    </tr>\n",
       "  </tbody>\n",
       "</table>\n",
       "</div>"
      ],
      "text/plain": [
       "               open     high      low    close      mid  wk_mv_avg  \\\n",
       "date                                                                 \n",
       "2019-05-15  1.12085  1.12245  1.11779  1.12085  1.12085   1.122131   \n",
       "\n",
       "            mnth_mv_avg  volatility_3_day  volatility_10_day  pct_chge_3_prds  \\\n",
       "date                                                                            \n",
       "2019-05-15     1.121067          0.000943           0.001272        -0.001875   \n",
       "\n",
       "            pct_chge_5_prds  pct_chge_10_prds  height  height-1  height-2  \\\n",
       "date                                                                        \n",
       "2019-05-15            0.001         -0.000321     0.0   0.00309   0.00095   \n",
       "\n",
       "            height-3  direction  gold_usd  gold_euro  day-1_high  day-2_high  \\\n",
       "date                                                                           \n",
       "2019-05-15   0.00001          1     451.4      473.0     1.12439     1.12635   \n",
       "\n",
       "            day-3_high  day-4_high  day-1_low  day-2_low  day-3_low  \\\n",
       "date                                                                  \n",
       "2019-05-15     1.12536     1.12509    1.12007    1.12191    1.12177   \n",
       "\n",
       "            day-4_low  day-1_open  day-2_open  day-3_open  day-4_open  \\\n",
       "date                                                                    \n",
       "2019-05-15    1.11734     1.12393     1.12297     1.12295     1.11908   \n",
       "\n",
       "            day-1_close  day-2_close  day-3_close  day-4_close  day+1_open  \\\n",
       "date                                                                         \n",
       "2019-05-15      1.12084      1.12392      1.12296      1.12296     1.12086   \n",
       "\n",
       "            day+1_high  day+1_low  day+1_close  day+2_high  day+2_low  \\\n",
       "date                                                                    \n",
       "2019-05-15     1.12238    1.11662      1.11773     1.11841    1.11531   \n",
       "\n",
       "            day+3_high  day+3_low  day+4_high  day+4_low  day+5_high  \\\n",
       "date                                                                   \n",
       "2019-05-15     1.11748    1.11506      1.1188    1.11419     1.11802   \n",
       "\n",
       "            day+5_low  5_day_avg  fractal_end  day+1_frac  day+2_frac  \\\n",
       "date                                                                    \n",
       "2019-05-15     1.1148      0.005            1         0.0         0.0   \n",
       "\n",
       "            day+3_frac  day+4_frac  select  exit_price   target     date+5  \\\n",
       "date                                                                         \n",
       "2019-05-15         0.0         0.0       1     1.12585  1.12238 2019-05-22   \n",
       "\n",
       "            fractal  \n",
       "date                 \n",
       "2019-05-15        1  "
      ]
     },
     "execution_count": 131,
     "metadata": {},
     "output_type": "execute_result"
    }
   ],
   "source": [
    "daily_fract.loc[daily_fract.index == '2019-05-15']"
   ]
  },
  {
   "cell_type": "code",
   "execution_count": 96,
   "metadata": {},
   "outputs": [],
   "source": [
    "def create_train_test_split(date, time_series, model_info):\n",
    "#     test_end_date = time_series.loc[date,'date+5']\n",
    "    test_end_loc = time_series.index.get_loc(date) + 6\n",
    "\n",
    "#     train_test = time_series.loc[time_series.index <= test_end_date]\n",
    "    train_test = time_series.iloc[:test_end_loc]\n",
    "\n",
    "    target_value = time_series.loc[time_series.index == date,'exit_price'].item()\n",
    "    \n",
    "    train_test.insert(0, 'target_price', target_value)\n",
    "    \n",
    "    model_info['signal'] = time_series.loc[date,'fractal_end']\n",
    "    \n",
    "    train_test.insert(0, 'signal', model_info['signal'])\n",
    "    \n",
    "    model_info['start'] = len(train_test)-5\n",
    "    model_info['end'] = len(train_test)-1\n",
    "    \n",
    "    model_info['train'] = train_test.iloc[:model_info['start']]\n",
    "    model_info['test'] = train_test.iloc[model_info['start']:]\n",
    "\n",
    "    return model_info"
   ]
  },
  {
   "cell_type": "code",
   "execution_count": 97,
   "metadata": {},
   "outputs": [],
   "source": [
    "def meet_threshold(row):\n",
    "    if row['signal'] == -1 and row['low'] <= row['target_price']:\n",
    "        return -1\n",
    "    elif row['signal'] == 1 and row['high'] >= row['target_price']:\n",
    "#         print(f\"row high: {row['high']} >= row dbl height: {row['target_price']}\" )\n",
    "        return 1    \n",
    "    else:\n",
    "        return 0"
   ]
  },
  {
   "cell_type": "code",
   "execution_count": 98,
   "metadata": {},
   "outputs": [],
   "source": [
    "# def get_5_day_price(row):\n",
    "    "
   ]
  },
  {
   "cell_type": "code",
   "execution_count": 99,
   "metadata": {},
   "outputs": [],
   "source": [
    "def ml_decision(row):\n",
    "    if row['direction'] == -1 and row['preds'] <= row['target_price']:\n",
    "        return -1\n",
    "    elif row['direction'] == 1 and row['preds'] >= row['target_price']:\n",
    "        print(f\"preds: {row['preds']} >= row target: {row['target_price']}\" )\n",
    "        return 1    \n",
    "    else:\n",
    "        return 0"
   ]
  },
  {
   "cell_type": "code",
   "execution_count": 111,
   "metadata": {},
   "outputs": [],
   "source": [
    "def create_results_outcomes_dataframe(test): #, predictions):    \n",
    "    outcomes = pd.DataFrame()\n",
    "    outcomes['low'] = test['low']\n",
    "    outcomes['high'] = test['high']\n",
    "    outcomes['5_day_avg'] = test['5_day_avg']\n",
    "    outcomes['open'] = test['open']\n",
    "    outcomes['close'] = test['close']\n",
    "    outcomes['target_price'] = test['target_price']\n",
    "    outcomes['direction'] = test['signal']\n",
    "    outcomes['correct_call'] = test.apply(meet_threshold, axis=1)\n",
    "\n",
    "    return outcomes"
   ]
  },
  {
   "cell_type": "code",
   "execution_count": 112,
   "metadata": {},
   "outputs": [],
   "source": [
    "def classify(outcomes):\n",
    "    \n",
    "    # As its the benchmark then it is assumed that that a buy/sell decision is made\n",
    "    \n",
    "    if max(outcomes['direction']) == 1:\n",
    "        \n",
    "        if max(outcomes['correct_call']) == 0:\n",
    "            return 'fp'\n",
    "        elif max(outcomes['correct_call']) == 1:\n",
    "            return 'tp'\n",
    "        \n",
    "    elif max(outcomes['direction']) == -1:\n",
    "        \n",
    "        if min(outcomes['correct_call']) == 0:\n",
    "            return 'fp'\n",
    "        elif min(outcomes['correct_call']) == -1:\n",
    "            return 'tp'\n",
    "        \n",
    "    else:\n",
    "        return 'ERROR'\n",
    "    "
   ]
  },
  {
   "cell_type": "code",
   "execution_count": 132,
   "metadata": {},
   "outputs": [
    {
     "data": {
      "text/html": [
       "<div>\n",
       "<style scoped>\n",
       "    .dataframe tbody tr th:only-of-type {\n",
       "        vertical-align: middle;\n",
       "    }\n",
       "\n",
       "    .dataframe tbody tr th {\n",
       "        vertical-align: top;\n",
       "    }\n",
       "\n",
       "    .dataframe thead th {\n",
       "        text-align: right;\n",
       "    }\n",
       "</style>\n",
       "<table border=\"1\" class=\"dataframe\">\n",
       "  <thead>\n",
       "    <tr style=\"text-align: right;\">\n",
       "      <th></th>\n",
       "      <th>open</th>\n",
       "      <th>high</th>\n",
       "      <th>low</th>\n",
       "      <th>close</th>\n",
       "      <th>mid</th>\n",
       "      <th>wk_mv_avg</th>\n",
       "      <th>mnth_mv_avg</th>\n",
       "      <th>volatility_3_day</th>\n",
       "      <th>volatility_10_day</th>\n",
       "      <th>pct_chge_3_prds</th>\n",
       "      <th>pct_chge_5_prds</th>\n",
       "      <th>pct_chge_10_prds</th>\n",
       "      <th>height</th>\n",
       "      <th>height-1</th>\n",
       "      <th>height-2</th>\n",
       "      <th>height-3</th>\n",
       "      <th>direction</th>\n",
       "      <th>gold_usd</th>\n",
       "      <th>gold_euro</th>\n",
       "      <th>day-1_high</th>\n",
       "      <th>day-2_high</th>\n",
       "      <th>day-3_high</th>\n",
       "      <th>day-4_high</th>\n",
       "      <th>day-1_low</th>\n",
       "      <th>day-2_low</th>\n",
       "      <th>day-3_low</th>\n",
       "      <th>day-4_low</th>\n",
       "      <th>day-1_open</th>\n",
       "      <th>day-2_open</th>\n",
       "      <th>day-3_open</th>\n",
       "      <th>day-4_open</th>\n",
       "      <th>day-1_close</th>\n",
       "      <th>day-2_close</th>\n",
       "      <th>day-3_close</th>\n",
       "      <th>day-4_close</th>\n",
       "      <th>day+1_open</th>\n",
       "      <th>day+1_high</th>\n",
       "      <th>day+1_low</th>\n",
       "      <th>day+1_close</th>\n",
       "      <th>day+2_high</th>\n",
       "      <th>day+2_low</th>\n",
       "      <th>day+3_high</th>\n",
       "      <th>day+3_low</th>\n",
       "      <th>day+4_high</th>\n",
       "      <th>day+4_low</th>\n",
       "      <th>day+5_high</th>\n",
       "      <th>day+5_low</th>\n",
       "      <th>5_day_avg</th>\n",
       "      <th>fractal_end</th>\n",
       "      <th>day+1_frac</th>\n",
       "      <th>day+2_frac</th>\n",
       "      <th>day+3_frac</th>\n",
       "      <th>day+4_frac</th>\n",
       "      <th>select</th>\n",
       "      <th>exit_price</th>\n",
       "      <th>target</th>\n",
       "      <th>date+5</th>\n",
       "      <th>fractal</th>\n",
       "    </tr>\n",
       "    <tr>\n",
       "      <th>date</th>\n",
       "      <th></th>\n",
       "      <th></th>\n",
       "      <th></th>\n",
       "      <th></th>\n",
       "      <th></th>\n",
       "      <th></th>\n",
       "      <th></th>\n",
       "      <th></th>\n",
       "      <th></th>\n",
       "      <th></th>\n",
       "      <th></th>\n",
       "      <th></th>\n",
       "      <th></th>\n",
       "      <th></th>\n",
       "      <th></th>\n",
       "      <th></th>\n",
       "      <th></th>\n",
       "      <th></th>\n",
       "      <th></th>\n",
       "      <th></th>\n",
       "      <th></th>\n",
       "      <th></th>\n",
       "      <th></th>\n",
       "      <th></th>\n",
       "      <th></th>\n",
       "      <th></th>\n",
       "      <th></th>\n",
       "      <th></th>\n",
       "      <th></th>\n",
       "      <th></th>\n",
       "      <th></th>\n",
       "      <th></th>\n",
       "      <th></th>\n",
       "      <th></th>\n",
       "      <th></th>\n",
       "      <th></th>\n",
       "      <th></th>\n",
       "      <th></th>\n",
       "      <th></th>\n",
       "      <th></th>\n",
       "      <th></th>\n",
       "      <th></th>\n",
       "      <th></th>\n",
       "      <th></th>\n",
       "      <th></th>\n",
       "      <th></th>\n",
       "      <th></th>\n",
       "      <th></th>\n",
       "      <th></th>\n",
       "      <th></th>\n",
       "      <th></th>\n",
       "      <th></th>\n",
       "      <th></th>\n",
       "      <th></th>\n",
       "      <th></th>\n",
       "      <th></th>\n",
       "      <th></th>\n",
       "      <th></th>\n",
       "    </tr>\n",
       "  </thead>\n",
       "  <tbody>\n",
       "    <tr>\n",
       "      <th>2000-07-28</th>\n",
       "      <td>0.932</td>\n",
       "      <td>0.9338</td>\n",
       "      <td>0.9229</td>\n",
       "      <td>0.9241</td>\n",
       "      <td>0.92805</td>\n",
       "      <td>0.93597</td>\n",
       "      <td>0.941517</td>\n",
       "      <td>0.008063</td>\n",
       "      <td>0.005738</td>\n",
       "      <td>-0.009605</td>\n",
       "      <td>-0.006849</td>\n",
       "      <td>-0.00934</td>\n",
       "      <td>0.0079</td>\n",
       "      <td>0.0115</td>\n",
       "      <td>0.0024</td>\n",
       "      <td>0.0083</td>\n",
       "      <td>1</td>\n",
       "      <td>96.6</td>\n",
       "      <td>122.4</td>\n",
       "      <td>0.9444</td>\n",
       "      <td>0.945</td>\n",
       "      <td>0.9433</td>\n",
       "      <td>0.9367</td>\n",
       "      <td>0.9314</td>\n",
       "      <td>0.9391</td>\n",
       "      <td>0.9329</td>\n",
       "      <td>0.9313</td>\n",
       "      <td>0.9434</td>\n",
       "      <td>0.9411</td>\n",
       "      <td>0.9329</td>\n",
       "      <td>0.9366</td>\n",
       "      <td>0.9319</td>\n",
       "      <td>0.9435</td>\n",
       "      <td>0.9412</td>\n",
       "      <td>0.933</td>\n",
       "      <td>0.9241</td>\n",
       "      <td>0.9295</td>\n",
       "      <td>0.9224</td>\n",
       "      <td>0.9274</td>\n",
       "      <td>0.9293</td>\n",
       "      <td>0.9135</td>\n",
       "      <td>0.9192</td>\n",
       "      <td>0.9117</td>\n",
       "      <td>0.9174</td>\n",
       "      <td>0.8997</td>\n",
       "      <td>0.9103</td>\n",
       "      <td>0.9015</td>\n",
       "      <td>0.00674</td>\n",
       "      <td>1</td>\n",
       "      <td>0.0</td>\n",
       "      <td>0.0</td>\n",
       "      <td>0.0</td>\n",
       "      <td>0.0</td>\n",
       "      <td>1</td>\n",
       "      <td>0.93084</td>\n",
       "      <td>0.9295</td>\n",
       "      <td>2000-08-04</td>\n",
       "      <td>1</td>\n",
       "    </tr>\n",
       "  </tbody>\n",
       "</table>\n",
       "</div>"
      ],
      "text/plain": [
       "             open    high     low   close      mid  wk_mv_avg  mnth_mv_avg  \\\n",
       "date                                                                         \n",
       "2000-07-28  0.932  0.9338  0.9229  0.9241  0.92805    0.93597     0.941517   \n",
       "\n",
       "            volatility_3_day  volatility_10_day  pct_chge_3_prds  \\\n",
       "date                                                               \n",
       "2000-07-28          0.008063           0.005738        -0.009605   \n",
       "\n",
       "            pct_chge_5_prds  pct_chge_10_prds  height  height-1  height-2  \\\n",
       "date                                                                        \n",
       "2000-07-28        -0.006849          -0.00934  0.0079    0.0115    0.0024   \n",
       "\n",
       "            height-3  direction  gold_usd  gold_euro  day-1_high  day-2_high  \\\n",
       "date                                                                           \n",
       "2000-07-28    0.0083          1      96.6      122.4      0.9444       0.945   \n",
       "\n",
       "            day-3_high  day-4_high  day-1_low  day-2_low  day-3_low  \\\n",
       "date                                                                  \n",
       "2000-07-28      0.9433      0.9367     0.9314     0.9391     0.9329   \n",
       "\n",
       "            day-4_low  day-1_open  day-2_open  day-3_open  day-4_open  \\\n",
       "date                                                                    \n",
       "2000-07-28     0.9313      0.9434      0.9411      0.9329      0.9366   \n",
       "\n",
       "            day-1_close  day-2_close  day-3_close  day-4_close  day+1_open  \\\n",
       "date                                                                         \n",
       "2000-07-28       0.9319       0.9435       0.9412        0.933      0.9241   \n",
       "\n",
       "            day+1_high  day+1_low  day+1_close  day+2_high  day+2_low  \\\n",
       "date                                                                    \n",
       "2000-07-28      0.9295     0.9224       0.9274      0.9293     0.9135   \n",
       "\n",
       "            day+3_high  day+3_low  day+4_high  day+4_low  day+5_high  \\\n",
       "date                                                                   \n",
       "2000-07-28      0.9192     0.9117      0.9174     0.8997      0.9103   \n",
       "\n",
       "            day+5_low  5_day_avg  fractal_end  day+1_frac  day+2_frac  \\\n",
       "date                                                                    \n",
       "2000-07-28     0.9015    0.00674            1         0.0         0.0   \n",
       "\n",
       "            day+3_frac  day+4_frac  select  exit_price  target     date+5  \\\n",
       "date                                                                        \n",
       "2000-07-28         0.0         0.0       1     0.93084  0.9295 2000-08-04   \n",
       "\n",
       "            fractal  \n",
       "date                 \n",
       "2000-07-28        1  "
      ]
     },
     "execution_count": 132,
     "metadata": {},
     "output_type": "execute_result"
    }
   ],
   "source": [
    "daily_fract.loc[daily_fract.index == '2000-07-28']"
   ]
  },
  {
   "cell_type": "code",
   "execution_count": 134,
   "metadata": {
    "scrolled": false
   },
   "outputs": [],
   "source": [
    "model_info = {\"train\":None,\"test\":None,\"start\":None,\"end\":None,\"signal\":None}\n",
    "benchmark_results = []\n",
    "\n",
    "for match in fractal_pattern['pattern_end']:\n",
    "#     print(match)\n",
    "    results_dict = {'name':None,'pattern':None,'date':None,\n",
    "                   'time_frame':None,'RMSE':None,\n",
    "                   'MSE':None, 'classification':None}\n",
    "    \n",
    "    results_dict['name'] = 'Bechmark: ' + str(match)\n",
    "    results_dict['strategy'] = 'Maribozu'\n",
    "    results_dict['time_frame'] = 'daily'\n",
    "\n",
    "    model_info = create_train_test_split(match, daily_fract, model_info)\n",
    "\n",
    "    if len(model_info['train']) < 10:\n",
    "        continue\n",
    "\n",
    "    outcomes = create_results_outcomes_dataframe(model_info['test'])\n",
    "    results_dict['classification'] = classify(outcomes)\n",
    "#     print(results_dict['classification'])\n",
    "#     print(outcomes)\n",
    "\n",
    "    benchmark_results.append(results_dict)\n"
   ]
  },
  {
   "cell_type": "code",
   "execution_count": 135,
   "metadata": {},
   "outputs": [],
   "source": [
    "def create_cm(results):\n",
    "    \n",
    "    res_cm = [[0,0],\n",
    "              [0,0]]\n",
    "    \n",
    "    for result in results:\n",
    "        res = result['classification']\n",
    "        \n",
    "        if res == 'tp':\n",
    "            res_cm[0][0] += 1\n",
    "        elif res == 'fp':\n",
    "            res_cm[0][1] += 1\n",
    "        elif res == 'fn':\n",
    "            res_cm[1][0] += 1\n",
    "        elif res == 'tn':\n",
    "            res_cm[1][1] += 1\n",
    "    \n",
    "    return res_cm"
   ]
  },
  {
   "cell_type": "code",
   "execution_count": 136,
   "metadata": {},
   "outputs": [],
   "source": [
    "cm = create_cm(benchmark_results)"
   ]
  },
  {
   "cell_type": "code",
   "execution_count": 137,
   "metadata": {},
   "outputs": [
    {
     "data": {
      "text/html": [
       "<div>\n",
       "<style scoped>\n",
       "    .dataframe tbody tr th:only-of-type {\n",
       "        vertical-align: middle;\n",
       "    }\n",
       "\n",
       "    .dataframe tbody tr th {\n",
       "        vertical-align: top;\n",
       "    }\n",
       "\n",
       "    .dataframe thead th {\n",
       "        text-align: right;\n",
       "    }\n",
       "</style>\n",
       "<table border=\"1\" class=\"dataframe\">\n",
       "  <thead>\n",
       "    <tr style=\"text-align: right;\">\n",
       "      <th></th>\n",
       "      <th>actual success</th>\n",
       "      <th>actual non_success</th>\n",
       "    </tr>\n",
       "  </thead>\n",
       "  <tbody>\n",
       "    <tr>\n",
       "      <th>pred_success</th>\n",
       "      <td>191</td>\n",
       "      <td>108</td>\n",
       "    </tr>\n",
       "    <tr>\n",
       "      <th>pred_non_success</th>\n",
       "      <td>0</td>\n",
       "      <td>0</td>\n",
       "    </tr>\n",
       "  </tbody>\n",
       "</table>\n",
       "</div>"
      ],
      "text/plain": [
       "                  actual success  actual non_success\n",
       "pred_success                 191                 108\n",
       "pred_non_success               0                   0"
      ]
     },
     "execution_count": 137,
     "metadata": {},
     "output_type": "execute_result"
    }
   ],
   "source": [
    "cm_df = pd.DataFrame(cm, index=['pred_success', 'pred_non_success'], columns=['actual success', 'actual non_success'])\n",
    "cm_df"
   ]
  },
  {
   "cell_type": "code",
   "execution_count": 138,
   "metadata": {},
   "outputs": [],
   "source": [
    "def print_metrics(cm):\n",
    "    # Accuracy - how many did the model get right\n",
    "    # Total number of correct predictions / total number of predictions\n",
    "    acc= (cm[0][0]+cm[1][1])/(np.sum(cm))\n",
    "    \n",
    "    # Precision proportion of positive identifications that were actually correct\n",
    "    # True positives/ true positives + false positives)\n",
    "    prec = cm[0][0]/(cm[0][0]+cm[0][1])\n",
    "    \n",
    "    # Recall - proportion of actual positives that were correctly defined\n",
    "    # True positives/ true positives + false negatives\n",
    "    rec = cm[0][0]/(cm[0][0]+cm[1][0])\n",
    "\n",
    "    print(f\"Accuracy:\\t{round(acc,2)}\\nPrecision:\\t{round(prec,2)}\\nRecall:\\t\\t{round(rec,2)}\")"
   ]
  },
  {
   "cell_type": "code",
   "execution_count": 139,
   "metadata": {},
   "outputs": [
    {
     "name": "stdout",
     "output_type": "stream",
     "text": [
      "Accuracy:\t0.64\n",
      "Precision:\t0.64\n",
      "Recall:\t\t1.0\n"
     ]
    }
   ],
   "source": [
    "# Display the results\n",
    "print_metrics(cm)"
   ]
  },
  {
   "cell_type": "code",
   "execution_count": null,
   "metadata": {},
   "outputs": [],
   "source": []
  },
  {
   "cell_type": "code",
   "execution_count": null,
   "metadata": {},
   "outputs": [],
   "source": []
  },
  {
   "cell_type": "code",
   "execution_count": null,
   "metadata": {},
   "outputs": [],
   "source": []
  },
  {
   "cell_type": "code",
   "execution_count": null,
   "metadata": {},
   "outputs": [],
   "source": []
  },
  {
   "cell_type": "code",
   "execution_count": null,
   "metadata": {},
   "outputs": [],
   "source": []
  },
  {
   "cell_type": "code",
   "execution_count": null,
   "metadata": {},
   "outputs": [],
   "source": []
  },
  {
   "cell_type": "code",
   "execution_count": null,
   "metadata": {},
   "outputs": [],
   "source": []
  },
  {
   "cell_type": "code",
   "execution_count": null,
   "metadata": {},
   "outputs": [],
   "source": []
  },
  {
   "cell_type": "code",
   "execution_count": null,
   "metadata": {},
   "outputs": [],
   "source": []
  },
  {
   "cell_type": "code",
   "execution_count": null,
   "metadata": {},
   "outputs": [],
   "source": []
  },
  {
   "cell_type": "code",
   "execution_count": null,
   "metadata": {},
   "outputs": [],
   "source": []
  },
  {
   "cell_type": "code",
   "execution_count": null,
   "metadata": {},
   "outputs": [],
   "source": []
  },
  {
   "cell_type": "code",
   "execution_count": null,
   "metadata": {},
   "outputs": [],
   "source": []
  },
  {
   "cell_type": "code",
   "execution_count": null,
   "metadata": {},
   "outputs": [],
   "source": []
  },
  {
   "cell_type": "code",
   "execution_count": null,
   "metadata": {},
   "outputs": [],
   "source": []
  },
  {
   "cell_type": "code",
   "execution_count": null,
   "metadata": {},
   "outputs": [],
   "source": []
  },
  {
   "cell_type": "code",
   "execution_count": null,
   "metadata": {},
   "outputs": [],
   "source": []
  },
  {
   "cell_type": "code",
   "execution_count": null,
   "metadata": {},
   "outputs": [],
   "source": []
  },
  {
   "cell_type": "code",
   "execution_count": null,
   "metadata": {},
   "outputs": [],
   "source": []
  },
  {
   "cell_type": "code",
   "execution_count": null,
   "metadata": {},
   "outputs": [],
   "source": []
  },
  {
   "cell_type": "code",
   "execution_count": null,
   "metadata": {},
   "outputs": [],
   "source": []
  },
  {
   "cell_type": "code",
   "execution_count": null,
   "metadata": {},
   "outputs": [],
   "source": []
  },
  {
   "cell_type": "code",
   "execution_count": null,
   "metadata": {},
   "outputs": [],
   "source": []
  },
  {
   "cell_type": "code",
   "execution_count": null,
   "metadata": {},
   "outputs": [],
   "source": []
  },
  {
   "cell_type": "code",
   "execution_count": null,
   "metadata": {},
   "outputs": [],
   "source": []
  },
  {
   "cell_type": "code",
   "execution_count": null,
   "metadata": {},
   "outputs": [],
   "source": []
  },
  {
   "cell_type": "code",
   "execution_count": null,
   "metadata": {},
   "outputs": [],
   "source": []
  },
  {
   "cell_type": "code",
   "execution_count": null,
   "metadata": {},
   "outputs": [],
   "source": []
  },
  {
   "cell_type": "code",
   "execution_count": null,
   "metadata": {},
   "outputs": [],
   "source": []
  },
  {
   "cell_type": "code",
   "execution_count": null,
   "metadata": {},
   "outputs": [],
   "source": []
  },
  {
   "cell_type": "code",
   "execution_count": null,
   "metadata": {},
   "outputs": [],
   "source": []
  },
  {
   "cell_type": "code",
   "execution_count": null,
   "metadata": {},
   "outputs": [],
   "source": []
  },
  {
   "cell_type": "code",
   "execution_count": null,
   "metadata": {},
   "outputs": [],
   "source": []
  },
  {
   "cell_type": "code",
   "execution_count": null,
   "metadata": {},
   "outputs": [],
   "source": []
  },
  {
   "cell_type": "code",
   "execution_count": null,
   "metadata": {},
   "outputs": [],
   "source": []
  },
  {
   "cell_type": "code",
   "execution_count": null,
   "metadata": {},
   "outputs": [],
   "source": []
  },
  {
   "cell_type": "code",
   "execution_count": null,
   "metadata": {},
   "outputs": [],
   "source": []
  },
  {
   "cell_type": "code",
   "execution_count": null,
   "metadata": {},
   "outputs": [],
   "source": []
  },
  {
   "cell_type": "code",
   "execution_count": null,
   "metadata": {},
   "outputs": [],
   "source": []
  },
  {
   "cell_type": "code",
   "execution_count": null,
   "metadata": {},
   "outputs": [],
   "source": []
  },
  {
   "cell_type": "code",
   "execution_count": null,
   "metadata": {},
   "outputs": [],
   "source": []
  },
  {
   "cell_type": "markdown",
   "metadata": {},
   "source": [
    "## 1.2 Train Test Split"
   ]
  },
  {
   "cell_type": "code",
   "execution_count": null,
   "metadata": {},
   "outputs": [],
   "source": [
    "type(daily.loc[daily.index == daily_pattern.loc[10]['pattern_end']].index[0])"
   ]
  },
  {
   "cell_type": "code",
   "execution_count": null,
   "metadata": {},
   "outputs": [],
   "source": [
    "daily.loc[daily.index == daily_pattern.loc[10]['pattern_end']].index[0]"
   ]
  },
  {
   "cell_type": "code",
   "execution_count": null,
   "metadata": {},
   "outputs": [],
   "source": []
  },
  {
   "cell_type": "code",
   "execution_count": null,
   "metadata": {},
   "outputs": [],
   "source": []
  },
  {
   "cell_type": "code",
   "execution_count": null,
   "metadata": {},
   "outputs": [],
   "source": [
    "daily_pattern.index"
   ]
  },
  {
   "cell_type": "code",
   "execution_count": null,
   "metadata": {},
   "outputs": [],
   "source": [
    "# Test 1 date out\n",
    "curr_pattern = daily.loc[daily.index == daily_pattern.loc[10]['pattern_end']].index[0]\n",
    "curr_pattern"
   ]
  },
  {
   "cell_type": "code",
   "execution_count": null,
   "metadata": {},
   "outputs": [],
   "source": [
    "daily.index"
   ]
  },
  {
   "cell_type": "code",
   "execution_count": null,
   "metadata": {},
   "outputs": [],
   "source": [
    "test_end_date = daily.loc[daily.loc[daily.index == daily_pattern.loc[10]['pattern_end']].index[0],'date+5']\n",
    "test_end_date"
   ]
  },
  {
   "cell_type": "code",
   "execution_count": null,
   "metadata": {},
   "outputs": [],
   "source": [
    "# daily.loc[daily.index == curr_pattern]"
   ]
  },
  {
   "cell_type": "code",
   "execution_count": null,
   "metadata": {},
   "outputs": [],
   "source": [
    "train_test = daily.loc[daily.index <= test_end_date]\n",
    "# train_test = daily.loc[daily.index <= '2004-2-28 00:00:00']"
   ]
  },
  {
   "cell_type": "code",
   "execution_count": null,
   "metadata": {},
   "outputs": [],
   "source": [
    "# daily.loc[daily.index <= end_date]"
   ]
  },
  {
   "cell_type": "code",
   "execution_count": null,
   "metadata": {},
   "outputs": [],
   "source": [
    "# daily.loc[daily.index == daily_pattern.loc[10]['pattern_end'],'double_height']"
   ]
  },
  {
   "cell_type": "code",
   "execution_count": null,
   "metadata": {},
   "outputs": [],
   "source": [
    "target_value = daily.loc[daily.index == daily_pattern.loc[10,'pattern_end'],'double_height'].item()\n",
    "target_value"
   ]
  },
  {
   "cell_type": "code",
   "execution_count": null,
   "metadata": {},
   "outputs": [],
   "source": [
    "# def choose_exit_price(row, target_price, signal=-1):\n",
    "#     if signal == -1:\n",
    "#         return target_price\n",
    "# #         return row['close'] - (row['height'] * 1)\n",
    "#     else:\n",
    "#         return target_price\n",
    "\n",
    "# #         return row['close'] + (row['height'] * 1)"
   ]
  },
  {
   "cell_type": "code",
   "execution_count": null,
   "metadata": {},
   "outputs": [],
   "source": [
    "train_test"
   ]
  },
  {
   "cell_type": "code",
   "execution_count": null,
   "metadata": {},
   "outputs": [],
   "source": [
    "# train_test['double_height'] = train_test.apply(choose_exit_price, axis=1)\n",
    "# train_test['double_height'] = daily.loc[daily.index == daily_pattern.loc[10,'pattern_end'],'double_height'].item()\n",
    "#train_test.loc['double_height'] = [target_value for x in train_test.loc[:,['double_height']]]\n",
    "train_test.insert(0, 'target_price', target_value)\n",
    "# train_test.insert(0, 'signal', signal)"
   ]
  },
  {
   "cell_type": "code",
   "execution_count": null,
   "metadata": {},
   "outputs": [],
   "source": [
    "signal = daily.loc[daily.index == daily_pattern.loc[10,'pattern_end'],'marubozu'].item()\n",
    "signal"
   ]
  },
  {
   "cell_type": "code",
   "execution_count": null,
   "metadata": {},
   "outputs": [],
   "source": [
    "train_test.head()"
   ]
  },
  {
   "cell_type": "code",
   "execution_count": null,
   "metadata": {
    "scrolled": true
   },
   "outputs": [],
   "source": [
    "[signal] * (len(train_test)-1)"
   ]
  },
  {
   "cell_type": "code",
   "execution_count": null,
   "metadata": {},
   "outputs": [],
   "source": [
    "#train_test.loc[:,['signal']] = [signal] * (len(train_test))\n",
    "# train_test.loc[:,['signal']] = [signal]\n",
    "# df.insert(0, 'A', 'foo')\n",
    "train_test.insert(0, 'signal', signal)"
   ]
  },
  {
   "cell_type": "code",
   "execution_count": null,
   "metadata": {},
   "outputs": [],
   "source": [
    "train_test.tail(6)"
   ]
  },
  {
   "cell_type": "code",
   "execution_count": null,
   "metadata": {},
   "outputs": [],
   "source": [
    "# start=len(train)\n",
    "# end=len(train)+len(test)-1\n",
    "start = len(train_test)-5\n",
    "end = len(train_test)-1\n",
    "start, end"
   ]
  },
  {
   "cell_type": "code",
   "execution_count": null,
   "metadata": {},
   "outputs": [],
   "source": [
    "# Set for testing\n",
    "train = train_test.iloc[:start]\n",
    "test = train_test.iloc[start:]"
   ]
  },
  {
   "cell_type": "code",
   "execution_count": null,
   "metadata": {},
   "outputs": [],
   "source": [
    "test.head()"
   ]
  },
  {
   "cell_type": "code",
   "execution_count": null,
   "metadata": {},
   "outputs": [],
   "source": [
    "def train_test_plot(train, test):\n",
    "    plt.figure(figsize=(16, 8))\n",
    "    plt.plot(train, c='blue')\n",
    "    plt.plot(test, c='orange');"
   ]
  },
  {
   "cell_type": "code",
   "execution_count": null,
   "metadata": {},
   "outputs": [],
   "source": [
    "# This plot confirms that our train test split makes sense\n",
    "train_test_plot(train['close'], test['close'])"
   ]
  },
  {
   "cell_type": "code",
   "execution_count": null,
   "metadata": {},
   "outputs": [],
   "source": [
    "auto_arima(daily['close'].dropna(), seasonal=False).summary()"
   ]
  },
  {
   "cell_type": "code",
   "execution_count": null,
   "metadata": {},
   "outputs": [],
   "source": [
    "train"
   ]
  },
  {
   "cell_type": "code",
   "execution_count": null,
   "metadata": {},
   "outputs": [],
   "source": [
    "model = ARIMA(train['low'], order=(0,1,0))\n",
    "results = model.fit()\n",
    "results.summary()"
   ]
  },
  {
   "cell_type": "code",
   "execution_count": null,
   "metadata": {
    "scrolled": true
   },
   "outputs": [],
   "source": [
    "predictions = results.predict(start=start, end=end, dynamic=False, typ='levels').rename('ARIMA-0-1-0 Predictions')"
   ]
  },
  {
   "cell_type": "code",
   "execution_count": null,
   "metadata": {},
   "outputs": [],
   "source": [
    "predictions.values"
   ]
  },
  {
   "cell_type": "code",
   "execution_count": null,
   "metadata": {},
   "outputs": [],
   "source": [
    "type(predictions)"
   ]
  },
  {
   "cell_type": "code",
   "execution_count": null,
   "metadata": {},
   "outputs": [],
   "source": [
    "def justified(row):\n",
    "    \n",
    "    if row['signal'] == -1 and row['low'] <= row['target_price']:\n",
    "        return 1\n",
    "    elif row['signal'] == 1 and row['high'] >= row['target_price']:\n",
    "        return 1    \n",
    "    else:\n",
    "        return 0"
   ]
  },
  {
   "cell_type": "code",
   "execution_count": null,
   "metadata": {},
   "outputs": [],
   "source": [
    "outcomes = pd.DataFrame()\n",
    "outcomes['low'] = test['low']\n",
    "outcomes['high'] = test['high']\n",
    "\n",
    "outcomes['preds'] = predictions.values\n",
    "outcomes['target_price'] = test['target_price']\n",
    "# outcomes['direction'] = test['signal']\n",
    "outcomes['signal_match'] = test.apply(justified, axis=1)\n",
    "\n",
    "#daily_pre['target_price'] = daily_pre.apply(choose_exit_price, axis=1)\n",
    "# outcomes.append(predictions, ignore_index=True)\n",
    "outcomes"
   ]
  },
  {
   "cell_type": "code",
   "execution_count": null,
   "metadata": {},
   "outputs": [],
   "source": [
    "# predictions['date']  = test.index\n",
    "#predictions.reset_index(test.index)"
   ]
  },
  {
   "cell_type": "code",
   "execution_count": null,
   "metadata": {},
   "outputs": [],
   "source": [
    "# predictions.reindex(test.index)"
   ]
  },
  {
   "cell_type": "code",
   "execution_count": null,
   "metadata": {},
   "outputs": [],
   "source": [
    "type(predictions)"
   ]
  },
  {
   "cell_type": "code",
   "execution_count": null,
   "metadata": {},
   "outputs": [],
   "source": [
    "test.head()['close'].isnull().sum()"
   ]
  },
  {
   "cell_type": "code",
   "execution_count": null,
   "metadata": {},
   "outputs": [],
   "source": [
    "train.head()['close'].isnull().sum()"
   ]
  },
  {
   "cell_type": "code",
   "execution_count": null,
   "metadata": {},
   "outputs": [],
   "source": [
    "outcomes['low'].plot(legend=True, figsize=(12,8))\n",
    "outcomes['preds'].plot(legend=True);\n",
    "outcomes['target_price'].plot(legend=True);\n",
    "\n",
    "# predictions.plot(legend=True)"
   ]
  },
  {
   "cell_type": "code",
   "execution_count": null,
   "metadata": {},
   "outputs": [],
   "source": [
    "\n",
    "error = mean_squared_error(test['close'], predictions)\n",
    "print(f'ARIMA(0,1,0) MSE Error: {error:11.10}')\n",
    "\n",
    "\n",
    "error = rmse(test['close'], predictions)\n",
    "print(f'ARIMA(0,1,0) RMSE Error: {error:11.10}')"
   ]
  },
  {
   "cell_type": "code",
   "execution_count": null,
   "metadata": {},
   "outputs": [],
   "source": [
    "results = {'algo':'','name':'','date':'', 'time_frame':'','success':'','RMSE':'', 'MSE':'', 'classification':'' }\n"
   ]
  },
  {
   "cell_type": "code",
   "execution_count": null,
   "metadata": {},
   "outputs": [],
   "source": [
    "daily.columns"
   ]
  },
  {
   "cell_type": "markdown",
   "metadata": {},
   "source": [
    "---"
   ]
  },
  {
   "cell_type": "markdown",
   "metadata": {},
   "source": [
    "# SARIMAX\n"
   ]
  },
  {
   "cell_type": "code",
   "execution_count": null,
   "metadata": {},
   "outputs": [],
   "source": [
    "# daily = daily.resample('B').agg({'open':'first','high':'max',\n",
    "#                                         'low':'min', 'close':'last'})"
   ]
  },
  {
   "cell_type": "code",
   "execution_count": null,
   "metadata": {},
   "outputs": [],
   "source": [
    "daily.index"
   ]
  },
  {
   "cell_type": "code",
   "execution_count": null,
   "metadata": {},
   "outputs": [],
   "source": [
    "daily['close'].dropna(inplace=True)"
   ]
  },
  {
   "cell_type": "code",
   "execution_count": null,
   "metadata": {},
   "outputs": [],
   "source": [
    "result = seasonal_decompose(daily['close'], model='add', period=400 )\n",
    "result.plot();"
   ]
  },
  {
   "cell_type": "code",
   "execution_count": null,
   "metadata": {},
   "outputs": [],
   "source": [
    "%%time\n",
    "auto_arima(daily['close'], seasonal=True, maxiter=10000).summary()"
   ]
  },
  {
   "cell_type": "code",
   "execution_count": null,
   "metadata": {},
   "outputs": [],
   "source": [
    "model = SARIMAX(train['close'], order=(0,1,0), seasonal_order=(1,0,1,12))"
   ]
  },
  {
   "cell_type": "code",
   "execution_count": null,
   "metadata": {},
   "outputs": [],
   "source": [
    "len(train)"
   ]
  },
  {
   "cell_type": "code",
   "execution_count": null,
   "metadata": {},
   "outputs": [],
   "source": [
    "train.columns"
   ]
  },
  {
   "cell_type": "code",
   "execution_count": null,
   "metadata": {},
   "outputs": [],
   "source": [
    "# Starting MSE and (P, D, Q).\n",
    "mse = 99 * (10 ** 16)\n",
    "final_P = 0\n",
    "final_D = 0\n",
    "final_Q = 0\n",
    "\n",
    "for P in range(3):\n",
    "    for Q in range(3):\n",
    "        for D in range(3):\n",
    "            try:\n",
    "                # Instantiate SARIMA model.\n",
    "                sarima = SARIMAX(endog = train['close'],\n",
    "                                 order = (0, 1, 0),              # (p, d, q)\n",
    "                                 seasonal_order = (P, D, Q, 12)) # (P, D, Q, S)\n",
    "\n",
    "                # Fit SARIMA model.\n",
    "                model = sarima.fit()\n",
    "\n",
    "                # Generate predictions based on training set.\n",
    "                # Start at time period 0 and end at 1028.\n",
    "                preds = model.predict(start=0, end=1028)\n",
    "\n",
    "                # Evaluate predictions.\n",
    "                print(f'The MSE for (1, 0, 0)x({P},{D},{Q},12) is: {mean_squared_error(train[\"close\"], preds)}')\n",
    "                \n",
    "                # Save for final report.\n",
    "                if mse > mean_squared_error(train['close'], preds):\n",
    "                    mse = mean_squared_error(train['close'], preds)\n",
    "                    final_P = P\n",
    "                    final_D = D\n",
    "                    final_Q = Q\n",
    "                \n",
    "            except:\n",
    "                print(f\"p: {P}, D: {D}, Q: {Q}\")\n",
    "                pass\n",
    "\n",
    "print(f'Our model that minimizes MSE on the training data is the SARIMA(1, 0, 0)x({final_P},{final_D},{final_Q},420).')\n",
    "print(f'This model has an MSE of {mse}.')"
   ]
  },
  {
   "cell_type": "code",
   "execution_count": null,
   "metadata": {},
   "outputs": [],
   "source": []
  },
  {
   "cell_type": "code",
   "execution_count": null,
   "metadata": {},
   "outputs": [],
   "source": []
  },
  {
   "cell_type": "code",
   "execution_count": null,
   "metadata": {},
   "outputs": [],
   "source": []
  }
 ],
 "metadata": {
  "kernelspec": {
   "display_name": "Python 3",
   "language": "python",
   "name": "python3"
  },
  "language_info": {
   "codemirror_mode": {
    "name": "ipython",
    "version": 3
   },
   "file_extension": ".py",
   "mimetype": "text/x-python",
   "name": "python",
   "nbconvert_exporter": "python",
   "pygments_lexer": "ipython3",
   "version": "3.7.6"
  }
 },
 "nbformat": 4,
 "nbformat_minor": 4
}
