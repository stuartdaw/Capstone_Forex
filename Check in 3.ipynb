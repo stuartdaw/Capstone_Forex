{
 "cells": [
  {
   "cell_type": "markdown",
   "metadata": {},
   "source": [
    "# Capstone check in 3\n",
    "\n",
    "\n",
    "The finish line is in sight! You should have your data in hand and some models made. This portion of the Capstone contains two parts to help really hone your model and develop mastery over your final project.\n",
    "Goal: A written progress report on your project and a detailed 1:1 with your instructor.\n",
    " \n",
    "Requirements\n",
    "The actual deliverable for this section is fairly small. You are expected to submit, via this Google form, a progress report detailing where you are with your Capstone. The format and content is up to you but, at a minimum, we expect the following:\n",
    "\n"
   ]
  },
  {
   "cell_type": "markdown",
   "metadata": {},
   "source": [
    "---"
   ]
  },
  {
   "cell_type": "markdown",
   "metadata": {},
   "source": [
    "1.\tDo you have data fully in hand and if not, what blockers are you facing?\n",
    "    + Yes I have the data. Need to create the "
   ]
  },
  {
   "cell_type": "markdown",
   "metadata": {},
   "source": [
    "---"
   ]
  },
  {
   "cell_type": "markdown",
   "metadata": {},
   "source": [
    "2.\tHave you done a full EDA on all of your data?\n",
    "\n",
    "    + I have done first round. I expect I may have more to do. I have to confirm that holidays and early closes are causing the missing values."
   ]
  },
  {
   "cell_type": "markdown",
   "metadata": {},
   "source": [
    "---"
   ]
  },
  {
   "cell_type": "markdown",
   "metadata": {},
   "source": [
    "3.\tHave you begun the modeling process? How accurate are your predictions so far?\n",
    "\n",
    "    + Not yet."
   ]
  },
  {
   "cell_type": "markdown",
   "metadata": {},
   "source": [
    "---"
   ]
  },
  {
   "cell_type": "markdown",
   "metadata": {},
   "source": [
    "4.\tWhat blockers are you facing, including processing power, data acquisition, modeling difficulties, data cleaning, etc.? How can we help you overcome those challenges?\n",
    "\n",
    "    + I need to understand the seasonality test. Then I can decide whether to use SARIMAX or not.\n",
    "    + I have to investigate how to use prophet API and Model."
   ]
  },
  {
   "cell_type": "markdown",
   "metadata": {},
   "source": [
    "---"
   ]
  },
  {
   "cell_type": "markdown",
   "metadata": {},
   "source": [
    "5.\tHave you changed topics since your lightning talk? Since you submitted your Problem Statement and EDA? If so, do you have the necessary data in hand (and the requisite EDA completed) to continue moving forward?\n",
    "\n",
    "    + No more project changes\n",
    "    + Yes – have the raw data"
   ]
  },
  {
   "cell_type": "markdown",
   "metadata": {},
   "source": [
    "---"
   ]
  },
  {
   "cell_type": "markdown",
   "metadata": {},
   "source": [
    "6.\tWhat is your timeline for the next week and a half? What do you have to get done versus what would you like to get done?\n",
    "\n",
    "\n",
    "+ By early next week\n",
    "    + EDA done for first strategy\n",
    "    + Clean up notebooks and have structure in place\n",
    "    + Create the first dataset for the model to predict\n",
    "    + Use Logistic regression and ARIMAX for first run"
   ]
  },
  {
   "cell_type": "markdown",
   "metadata": {},
   "source": [
    "---"
   ]
  },
  {
   "attachments": {},
   "cell_type": "markdown",
   "metadata": {},
   "source": [
    "7.\tWhat topics do you want to discuss during your 1:1?\n",
    "\n",
    "\n",
    "+ I would rather have a short discussion and progress more with the feature creation and modelling and discuss next week in depth."
   ]
  }
 ],
 "metadata": {
  "kernelspec": {
   "display_name": "Python 3",
   "language": "python",
   "name": "python3"
  },
  "language_info": {
   "codemirror_mode": {
    "name": "ipython",
    "version": 3
   },
   "file_extension": ".py",
   "mimetype": "text/x-python",
   "name": "python",
   "nbconvert_exporter": "python",
   "pygments_lexer": "ipython3",
   "version": "3.7.6"
  }
 },
 "nbformat": 4,
 "nbformat_minor": 4
}
