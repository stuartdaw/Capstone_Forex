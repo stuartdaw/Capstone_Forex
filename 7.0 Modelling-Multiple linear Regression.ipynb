{
 "cells": [
  {
   "cell_type": "markdown",
   "metadata": {},
   "source": [
    "# 07 Modelling-Multiple linear Regression\n"
   ]
  },
  {
   "cell_type": "markdown",
   "metadata": {},
   "source": [
    "Work book summary:\n",
    "\n",
    "In this work book I take the results from the Arimax model as it performed better than the Prophet model and create a feature to feed into a Mulitple linear regression model. The aim is to see if that can help improve the predictions of the model using these predictions.\n",
    "\n",
    "I also looked at the coefficients from the model to see if it was using the predictions. It was an important feature but it wasnt the most important one,.\n",
    "\n",
    "I choose 3 regularisation patterns Ridge, Lasso and elasticnet and picked elasticnet\n",
    "\n",
    "The results were:\n",
    "\n",
    "Marubuzo:\n",
    "+ Accuracy:\t    0.5\n",
    "+ Precision:    0.55\n",
    "+ Recall:       0.67\n",
    "\n",
    "\n",
    "Fractals:\n",
    "+ Accuracy:\t    0.72\n",
    "+ Precision:\t0.84\n",
    "+ Recall:\t\t0.72\n",
    "\n",
    "The fractals patterns precision has improved well."
   ]
  },
  {
   "cell_type": "markdown",
   "metadata": {},
   "source": [
    "---"
   ]
  },
  {
   "cell_type": "markdown",
   "metadata": {},
   "source": [
    "# Contents\n",
    "\n",
    "- [1.0 About MLR](#1.0-About-MLR)\n",
    "- [2.0 Marubozu](#2.0-Marubozu])\n",
    "    - [2.1 Load Data](#2.1-Load-Data)\n",
    "    - [2.2 Create Features list](#2.2-Create-Features-list)\n",
    "    - [2.3 Check correlation](#2.3-Check-correlation)\n",
    "    - [2.4 Train/Test Split](#2.4-Train/Test-Split)\n",
    "    - [2.5 Model](#2.5-Model)\n",
    "    - [2.6 Interprete Model](#2.6-Interprete-Model)\n",
    "    - [2.7 Create Confusion Matrix](#2.7-Create-Confusion-Matrix)\n",
    "- [3.0 Fractals](#3.0-Fractals)\n",
    "    - [3.1 Load Data](#3.1-Load-Data)\n",
    "    - [3.2 Create Features list](#3.2-Create-Features-list)\n",
    "    - [3.3 Check correlation](#3.3-Check-correlation)\n",
    "    - [3.4 Train/Test Split](#3.4-Train/Test-Split)\n",
    "    - [3.5 Model](#3.5-Model)\n",
    "    - [3.6 Interprete Model](#3.6-Interprete-Model)\n",
    "    - [3.7 Create Confusion Matrix](#3.7-Create-Confusion-Matrix)"
   ]
  },
  {
   "cell_type": "code",
   "execution_count": 1,
   "metadata": {},
   "outputs": [],
   "source": [
    "import pandas as pd\n",
    "import numpy as np\n",
    "import seaborn as sns\n",
    "import matplotlib.pyplot as plt\n",
    "\n",
    "plt.style.use('fivethirtyeight') \n",
    "%matplotlib inline\n",
    "import datetime\n",
    "# import calendar\n",
    "\n",
    "from sklearn.metrics import r2_score, mean_squared_error\n",
    "# import plotly.graph_objects as go\n",
    "import warnings\n",
    "warnings.filterwarnings(\"ignore\")\n",
    "\n",
    "from scipy import stats\n",
    "from sklearn.model_selection import train_test_split, cross_val_score, GridSearchCV\n",
    "from sklearn.preprocessing import StandardScaler, PolynomialFeatures\n",
    "from sklearn.linear_model import LinearRegression, Ridge, Lasso, ElasticNet, RidgeCV, LassoCV, ElasticNetCV\n",
    "from statsmodels.tools.eval_measures import rmse\n"
   ]
  },
  {
   "cell_type": "code",
   "execution_count": 2,
   "metadata": {},
   "outputs": [],
   "source": [
    "pd.set_option('display.max_columns', None)"
   ]
  },
  {
   "cell_type": "markdown",
   "metadata": {},
   "source": [
    "---"
   ]
  },
  {
   "cell_type": "markdown",
   "metadata": {},
   "source": [
    "# 1.0  Model"
   ]
  },
  {
   "cell_type": "markdown",
   "metadata": {},
   "source": [
    "I have chosen to use Multiple Linear Regression to predict the price of the next 5 time frames using several regularisation penalty terms.\n",
    "\n",
    "\n",
    "+ Lasso - Quickly brings the coefficients down to 0 when they are not used in the model\n",
    "\n",
    "\n",
    "+ Ridge - penalises high coefficients and reduces the impact of that feature on the model\n",
    "\n",
    "\n",
    "+ ElasticNet - this uses a ratio of both ridge and lasso and L2 which can provide the best of both"
   ]
  },
  {
   "cell_type": "markdown",
   "metadata": {},
   "source": [
    "---"
   ]
  },
  {
   "cell_type": "markdown",
   "metadata": {},
   "source": [
    "# 2.0 Marubozu"
   ]
  },
  {
   "cell_type": "markdown",
   "metadata": {},
   "source": [
    "## 2.1 Load Data"
   ]
  },
  {
   "cell_type": "markdown",
   "metadata": {},
   "source": [
    "#### EUR/USD"
   ]
  },
  {
   "cell_type": "code",
   "execution_count": 3,
   "metadata": {},
   "outputs": [],
   "source": [
    "# read in the daily data\n",
    "daily = pd.read_csv('/Users/stuartdaw/Documents/Capstone_data/data/resampled/eur-usddailyMarubozu.csv', \n",
    "                    index_col='date', parse_dates=True)"
   ]
  },
  {
   "cell_type": "code",
   "execution_count": 4,
   "metadata": {},
   "outputs": [
    {
     "data": {
      "text/html": [
       "<div>\n",
       "<style scoped>\n",
       "    .dataframe tbody tr th:only-of-type {\n",
       "        vertical-align: middle;\n",
       "    }\n",
       "\n",
       "    .dataframe tbody tr th {\n",
       "        vertical-align: top;\n",
       "    }\n",
       "\n",
       "    .dataframe thead th {\n",
       "        text-align: right;\n",
       "    }\n",
       "</style>\n",
       "<table border=\"1\" class=\"dataframe\">\n",
       "  <thead>\n",
       "    <tr style=\"text-align: right;\">\n",
       "      <th></th>\n",
       "      <th>open</th>\n",
       "      <th>high</th>\n",
       "      <th>low</th>\n",
       "      <th>close</th>\n",
       "      <th>mid</th>\n",
       "      <th>wk_mv_avg</th>\n",
       "      <th>mnth_mv_avg</th>\n",
       "      <th>volatility_3_day</th>\n",
       "      <th>volatility_10_day</th>\n",
       "      <th>pct_chge_3_prds</th>\n",
       "      <th>pct_chge_5_prds</th>\n",
       "      <th>pct_chge_10_prds</th>\n",
       "      <th>height</th>\n",
       "      <th>height-1</th>\n",
       "      <th>height-2</th>\n",
       "      <th>height-3</th>\n",
       "      <th>direction</th>\n",
       "      <th>gold_usd</th>\n",
       "      <th>gold_euro</th>\n",
       "      <th>marubozu</th>\n",
       "      <th>marubozu+1</th>\n",
       "      <th>marubozu-1</th>\n",
       "      <th>marubozu-2</th>\n",
       "      <th>day-1_open</th>\n",
       "      <th>day-2_open</th>\n",
       "      <th>day-3_open</th>\n",
       "      <th>day-1_high</th>\n",
       "      <th>day-2_high</th>\n",
       "      <th>day-3_high</th>\n",
       "      <th>day-1_low</th>\n",
       "      <th>day-2_low</th>\n",
       "      <th>day-3_low</th>\n",
       "      <th>day-1_close</th>\n",
       "      <th>day-2_close</th>\n",
       "      <th>day-3_close</th>\n",
       "      <th>day+1_open</th>\n",
       "      <th>day+1_high</th>\n",
       "      <th>day+1_low</th>\n",
       "      <th>day+1_close</th>\n",
       "      <th>day+2_high</th>\n",
       "      <th>day+2_low</th>\n",
       "      <th>day+3_high</th>\n",
       "      <th>day+3_low</th>\n",
       "      <th>day+4_high</th>\n",
       "      <th>day+4_low</th>\n",
       "      <th>day+5_high</th>\n",
       "      <th>day+5_low</th>\n",
       "      <th>exit_price</th>\n",
       "      <th>select</th>\n",
       "      <th>target</th>\n",
       "      <th>date+5</th>\n",
       "    </tr>\n",
       "    <tr>\n",
       "      <th>date</th>\n",
       "      <th></th>\n",
       "      <th></th>\n",
       "      <th></th>\n",
       "      <th></th>\n",
       "      <th></th>\n",
       "      <th></th>\n",
       "      <th></th>\n",
       "      <th></th>\n",
       "      <th></th>\n",
       "      <th></th>\n",
       "      <th></th>\n",
       "      <th></th>\n",
       "      <th></th>\n",
       "      <th></th>\n",
       "      <th></th>\n",
       "      <th></th>\n",
       "      <th></th>\n",
       "      <th></th>\n",
       "      <th></th>\n",
       "      <th></th>\n",
       "      <th></th>\n",
       "      <th></th>\n",
       "      <th></th>\n",
       "      <th></th>\n",
       "      <th></th>\n",
       "      <th></th>\n",
       "      <th></th>\n",
       "      <th></th>\n",
       "      <th></th>\n",
       "      <th></th>\n",
       "      <th></th>\n",
       "      <th></th>\n",
       "      <th></th>\n",
       "      <th></th>\n",
       "      <th></th>\n",
       "      <th></th>\n",
       "      <th></th>\n",
       "      <th></th>\n",
       "      <th></th>\n",
       "      <th></th>\n",
       "      <th></th>\n",
       "      <th></th>\n",
       "      <th></th>\n",
       "      <th></th>\n",
       "      <th></th>\n",
       "      <th></th>\n",
       "      <th></th>\n",
       "      <th></th>\n",
       "      <th></th>\n",
       "      <th></th>\n",
       "      <th></th>\n",
       "    </tr>\n",
       "  </thead>\n",
       "  <tbody>\n",
       "    <tr>\n",
       "      <th>2000-07-14</th>\n",
       "      <td>0.9353</td>\n",
       "      <td>0.9389</td>\n",
       "      <td>0.9318</td>\n",
       "      <td>0.9383</td>\n",
       "      <td>0.93680</td>\n",
       "      <td>0.94522</td>\n",
       "      <td>0.948145</td>\n",
       "      <td>0.003250</td>\n",
       "      <td>0.003387</td>\n",
       "      <td>-0.016431</td>\n",
       "      <td>-0.014102</td>\n",
       "      <td>-0.017514</td>\n",
       "      <td>0.0030</td>\n",
       "      <td>0.0062</td>\n",
       "      <td>0.0086</td>\n",
       "      <td>0.0041</td>\n",
       "      <td>1.0</td>\n",
       "      <td>97.4</td>\n",
       "      <td>122.0</td>\n",
       "      <td>0</td>\n",
       "      <td>0.0</td>\n",
       "      <td>-1.0</td>\n",
       "      <td>-1.0</td>\n",
       "      <td>0.9416</td>\n",
       "      <td>0.9503</td>\n",
       "      <td>0.9545</td>\n",
       "      <td>0.9425</td>\n",
       "      <td>0.9517</td>\n",
       "      <td>0.9569</td>\n",
       "      <td>0.9330</td>\n",
       "      <td>0.9396</td>\n",
       "      <td>0.9496</td>\n",
       "      <td>0.9354</td>\n",
       "      <td>0.9417</td>\n",
       "      <td>0.9504</td>\n",
       "      <td>0.9382</td>\n",
       "      <td>0.9402</td>\n",
       "      <td>0.9342</td>\n",
       "      <td>0.9360</td>\n",
       "      <td>0.9368</td>\n",
       "      <td>0.9227</td>\n",
       "      <td>0.9270</td>\n",
       "      <td>0.9193</td>\n",
       "      <td>0.9342</td>\n",
       "      <td>0.9204</td>\n",
       "      <td>0.9384</td>\n",
       "      <td>0.9319</td>\n",
       "      <td>0.9413</td>\n",
       "      <td>0</td>\n",
       "      <td>0.9402</td>\n",
       "      <td>2000-07-21</td>\n",
       "    </tr>\n",
       "    <tr>\n",
       "      <th>2000-07-17</th>\n",
       "      <td>0.9382</td>\n",
       "      <td>0.9402</td>\n",
       "      <td>0.9342</td>\n",
       "      <td>0.9360</td>\n",
       "      <td>0.93710</td>\n",
       "      <td>0.94217</td>\n",
       "      <td>0.947100</td>\n",
       "      <td>0.004282</td>\n",
       "      <td>0.003440</td>\n",
       "      <td>-0.009408</td>\n",
       "      <td>-0.016013</td>\n",
       "      <td>-0.014875</td>\n",
       "      <td>0.0022</td>\n",
       "      <td>0.0030</td>\n",
       "      <td>0.0062</td>\n",
       "      <td>0.0086</td>\n",
       "      <td>-1.0</td>\n",
       "      <td>98.1</td>\n",
       "      <td>123.3</td>\n",
       "      <td>0</td>\n",
       "      <td>-1.0</td>\n",
       "      <td>0.0</td>\n",
       "      <td>-1.0</td>\n",
       "      <td>0.9353</td>\n",
       "      <td>0.9416</td>\n",
       "      <td>0.9503</td>\n",
       "      <td>0.9389</td>\n",
       "      <td>0.9425</td>\n",
       "      <td>0.9517</td>\n",
       "      <td>0.9318</td>\n",
       "      <td>0.9330</td>\n",
       "      <td>0.9396</td>\n",
       "      <td>0.9383</td>\n",
       "      <td>0.9354</td>\n",
       "      <td>0.9417</td>\n",
       "      <td>0.9361</td>\n",
       "      <td>0.9368</td>\n",
       "      <td>0.9227</td>\n",
       "      <td>0.9256</td>\n",
       "      <td>0.9270</td>\n",
       "      <td>0.9193</td>\n",
       "      <td>0.9342</td>\n",
       "      <td>0.9204</td>\n",
       "      <td>0.9384</td>\n",
       "      <td>0.9319</td>\n",
       "      <td>0.9367</td>\n",
       "      <td>0.9313</td>\n",
       "      <td>0.9338</td>\n",
       "      <td>0</td>\n",
       "      <td>0.9193</td>\n",
       "      <td>2000-07-24</td>\n",
       "    </tr>\n",
       "    <tr>\n",
       "      <th>2000-07-18</th>\n",
       "      <td>0.9361</td>\n",
       "      <td>0.9368</td>\n",
       "      <td>0.9227</td>\n",
       "      <td>0.9256</td>\n",
       "      <td>0.93085</td>\n",
       "      <td>0.93785</td>\n",
       "      <td>0.945633</td>\n",
       "      <td>0.003582</td>\n",
       "      <td>0.003797</td>\n",
       "      <td>-0.008151</td>\n",
       "      <td>-0.022678</td>\n",
       "      <td>-0.020519</td>\n",
       "      <td>0.0105</td>\n",
       "      <td>0.0022</td>\n",
       "      <td>0.0030</td>\n",
       "      <td>0.0062</td>\n",
       "      <td>-1.0</td>\n",
       "      <td>98.3</td>\n",
       "      <td>123.8</td>\n",
       "      <td>-1</td>\n",
       "      <td>0.0</td>\n",
       "      <td>0.0</td>\n",
       "      <td>0.0</td>\n",
       "      <td>0.9382</td>\n",
       "      <td>0.9353</td>\n",
       "      <td>0.9416</td>\n",
       "      <td>0.9402</td>\n",
       "      <td>0.9389</td>\n",
       "      <td>0.9425</td>\n",
       "      <td>0.9342</td>\n",
       "      <td>0.9318</td>\n",
       "      <td>0.9330</td>\n",
       "      <td>0.9360</td>\n",
       "      <td>0.9383</td>\n",
       "      <td>0.9354</td>\n",
       "      <td>0.9255</td>\n",
       "      <td>0.9270</td>\n",
       "      <td>0.9193</td>\n",
       "      <td>0.9246</td>\n",
       "      <td>0.9342</td>\n",
       "      <td>0.9204</td>\n",
       "      <td>0.9384</td>\n",
       "      <td>0.9319</td>\n",
       "      <td>0.9367</td>\n",
       "      <td>0.9313</td>\n",
       "      <td>0.9433</td>\n",
       "      <td>0.9329</td>\n",
       "      <td>0.9151</td>\n",
       "      <td>0</td>\n",
       "      <td>0.9193</td>\n",
       "      <td>2000-07-25</td>\n",
       "    </tr>\n",
       "    <tr>\n",
       "      <th>2000-07-19</th>\n",
       "      <td>0.9255</td>\n",
       "      <td>0.9270</td>\n",
       "      <td>0.9193</td>\n",
       "      <td>0.9246</td>\n",
       "      <td>0.92505</td>\n",
       "      <td>0.93366</td>\n",
       "      <td>0.944207</td>\n",
       "      <td>0.003915</td>\n",
       "      <td>0.003618</td>\n",
       "      <td>-0.012543</td>\n",
       "      <td>-0.022146</td>\n",
       "      <td>-0.029125</td>\n",
       "      <td>0.0009</td>\n",
       "      <td>0.0105</td>\n",
       "      <td>0.0022</td>\n",
       "      <td>0.0030</td>\n",
       "      <td>-1.0</td>\n",
       "      <td>97.0</td>\n",
       "      <td>123.3</td>\n",
       "      <td>0</td>\n",
       "      <td>1.0</td>\n",
       "      <td>-1.0</td>\n",
       "      <td>0.0</td>\n",
       "      <td>0.9361</td>\n",
       "      <td>0.9382</td>\n",
       "      <td>0.9353</td>\n",
       "      <td>0.9368</td>\n",
       "      <td>0.9402</td>\n",
       "      <td>0.9389</td>\n",
       "      <td>0.9227</td>\n",
       "      <td>0.9342</td>\n",
       "      <td>0.9318</td>\n",
       "      <td>0.9256</td>\n",
       "      <td>0.9360</td>\n",
       "      <td>0.9383</td>\n",
       "      <td>0.9245</td>\n",
       "      <td>0.9342</td>\n",
       "      <td>0.9204</td>\n",
       "      <td>0.9325</td>\n",
       "      <td>0.9384</td>\n",
       "      <td>0.9319</td>\n",
       "      <td>0.9367</td>\n",
       "      <td>0.9313</td>\n",
       "      <td>0.9433</td>\n",
       "      <td>0.9329</td>\n",
       "      <td>0.9450</td>\n",
       "      <td>0.9391</td>\n",
       "      <td>0.9237</td>\n",
       "      <td>0</td>\n",
       "      <td>0.9204</td>\n",
       "      <td>2000-07-26</td>\n",
       "    </tr>\n",
       "    <tr>\n",
       "      <th>2000-07-20</th>\n",
       "      <td>0.9245</td>\n",
       "      <td>0.9342</td>\n",
       "      <td>0.9204</td>\n",
       "      <td>0.9325</td>\n",
       "      <td>0.92850</td>\n",
       "      <td>0.93166</td>\n",
       "      <td>0.943221</td>\n",
       "      <td>0.005881</td>\n",
       "      <td>0.004167</td>\n",
       "      <td>-0.009177</td>\n",
       "      <td>-0.010655</td>\n",
       "      <td>-0.024531</td>\n",
       "      <td>0.0080</td>\n",
       "      <td>0.0009</td>\n",
       "      <td>0.0105</td>\n",
       "      <td>0.0022</td>\n",
       "      <td>1.0</td>\n",
       "      <td>97.1</td>\n",
       "      <td>123.3</td>\n",
       "      <td>1</td>\n",
       "      <td>0.0</td>\n",
       "      <td>0.0</td>\n",
       "      <td>-1.0</td>\n",
       "      <td>0.9255</td>\n",
       "      <td>0.9361</td>\n",
       "      <td>0.9382</td>\n",
       "      <td>0.9270</td>\n",
       "      <td>0.9368</td>\n",
       "      <td>0.9402</td>\n",
       "      <td>0.9193</td>\n",
       "      <td>0.9227</td>\n",
       "      <td>0.9342</td>\n",
       "      <td>0.9246</td>\n",
       "      <td>0.9256</td>\n",
       "      <td>0.9360</td>\n",
       "      <td>0.9324</td>\n",
       "      <td>0.9384</td>\n",
       "      <td>0.9319</td>\n",
       "      <td>0.9365</td>\n",
       "      <td>0.9367</td>\n",
       "      <td>0.9313</td>\n",
       "      <td>0.9433</td>\n",
       "      <td>0.9329</td>\n",
       "      <td>0.9450</td>\n",
       "      <td>0.9391</td>\n",
       "      <td>0.9444</td>\n",
       "      <td>0.9314</td>\n",
       "      <td>0.9405</td>\n",
       "      <td>0</td>\n",
       "      <td>0.9450</td>\n",
       "      <td>2000-07-27</td>\n",
       "    </tr>\n",
       "  </tbody>\n",
       "</table>\n",
       "</div>"
      ],
      "text/plain": [
       "              open    high     low   close      mid  wk_mv_avg  mnth_mv_avg  \\\n",
       "date                                                                          \n",
       "2000-07-14  0.9353  0.9389  0.9318  0.9383  0.93680    0.94522     0.948145   \n",
       "2000-07-17  0.9382  0.9402  0.9342  0.9360  0.93710    0.94217     0.947100   \n",
       "2000-07-18  0.9361  0.9368  0.9227  0.9256  0.93085    0.93785     0.945633   \n",
       "2000-07-19  0.9255  0.9270  0.9193  0.9246  0.92505    0.93366     0.944207   \n",
       "2000-07-20  0.9245  0.9342  0.9204  0.9325  0.92850    0.93166     0.943221   \n",
       "\n",
       "            volatility_3_day  volatility_10_day  pct_chge_3_prds  \\\n",
       "date                                                               \n",
       "2000-07-14          0.003250           0.003387        -0.016431   \n",
       "2000-07-17          0.004282           0.003440        -0.009408   \n",
       "2000-07-18          0.003582           0.003797        -0.008151   \n",
       "2000-07-19          0.003915           0.003618        -0.012543   \n",
       "2000-07-20          0.005881           0.004167        -0.009177   \n",
       "\n",
       "            pct_chge_5_prds  pct_chge_10_prds  height  height-1  height-2  \\\n",
       "date                                                                        \n",
       "2000-07-14        -0.014102         -0.017514  0.0030    0.0062    0.0086   \n",
       "2000-07-17        -0.016013         -0.014875  0.0022    0.0030    0.0062   \n",
       "2000-07-18        -0.022678         -0.020519  0.0105    0.0022    0.0030   \n",
       "2000-07-19        -0.022146         -0.029125  0.0009    0.0105    0.0022   \n",
       "2000-07-20        -0.010655         -0.024531  0.0080    0.0009    0.0105   \n",
       "\n",
       "            height-3  direction  gold_usd  gold_euro  marubozu  marubozu+1  \\\n",
       "date                                                                         \n",
       "2000-07-14    0.0041        1.0      97.4      122.0         0         0.0   \n",
       "2000-07-17    0.0086       -1.0      98.1      123.3         0        -1.0   \n",
       "2000-07-18    0.0062       -1.0      98.3      123.8        -1         0.0   \n",
       "2000-07-19    0.0030       -1.0      97.0      123.3         0         1.0   \n",
       "2000-07-20    0.0022        1.0      97.1      123.3         1         0.0   \n",
       "\n",
       "            marubozu-1  marubozu-2  day-1_open  day-2_open  day-3_open  \\\n",
       "date                                                                     \n",
       "2000-07-14        -1.0        -1.0      0.9416      0.9503      0.9545   \n",
       "2000-07-17         0.0        -1.0      0.9353      0.9416      0.9503   \n",
       "2000-07-18         0.0         0.0      0.9382      0.9353      0.9416   \n",
       "2000-07-19        -1.0         0.0      0.9361      0.9382      0.9353   \n",
       "2000-07-20         0.0        -1.0      0.9255      0.9361      0.9382   \n",
       "\n",
       "            day-1_high  day-2_high  day-3_high  day-1_low  day-2_low  \\\n",
       "date                                                                   \n",
       "2000-07-14      0.9425      0.9517      0.9569     0.9330     0.9396   \n",
       "2000-07-17      0.9389      0.9425      0.9517     0.9318     0.9330   \n",
       "2000-07-18      0.9402      0.9389      0.9425     0.9342     0.9318   \n",
       "2000-07-19      0.9368      0.9402      0.9389     0.9227     0.9342   \n",
       "2000-07-20      0.9270      0.9368      0.9402     0.9193     0.9227   \n",
       "\n",
       "            day-3_low  day-1_close  day-2_close  day-3_close  day+1_open  \\\n",
       "date                                                                       \n",
       "2000-07-14     0.9496       0.9354       0.9417       0.9504      0.9382   \n",
       "2000-07-17     0.9396       0.9383       0.9354       0.9417      0.9361   \n",
       "2000-07-18     0.9330       0.9360       0.9383       0.9354      0.9255   \n",
       "2000-07-19     0.9318       0.9256       0.9360       0.9383      0.9245   \n",
       "2000-07-20     0.9342       0.9246       0.9256       0.9360      0.9324   \n",
       "\n",
       "            day+1_high  day+1_low  day+1_close  day+2_high  day+2_low  \\\n",
       "date                                                                    \n",
       "2000-07-14      0.9402     0.9342       0.9360      0.9368     0.9227   \n",
       "2000-07-17      0.9368     0.9227       0.9256      0.9270     0.9193   \n",
       "2000-07-18      0.9270     0.9193       0.9246      0.9342     0.9204   \n",
       "2000-07-19      0.9342     0.9204       0.9325      0.9384     0.9319   \n",
       "2000-07-20      0.9384     0.9319       0.9365      0.9367     0.9313   \n",
       "\n",
       "            day+3_high  day+3_low  day+4_high  day+4_low  day+5_high  \\\n",
       "date                                                                   \n",
       "2000-07-14      0.9270     0.9193      0.9342     0.9204      0.9384   \n",
       "2000-07-17      0.9342     0.9204      0.9384     0.9319      0.9367   \n",
       "2000-07-18      0.9384     0.9319      0.9367     0.9313      0.9433   \n",
       "2000-07-19      0.9367     0.9313      0.9433     0.9329      0.9450   \n",
       "2000-07-20      0.9433     0.9329      0.9450     0.9391      0.9444   \n",
       "\n",
       "            day+5_low  exit_price  select  target      date+5  \n",
       "date                                                           \n",
       "2000-07-14     0.9319      0.9413       0  0.9402  2000-07-21  \n",
       "2000-07-17     0.9313      0.9338       0  0.9193  2000-07-24  \n",
       "2000-07-18     0.9329      0.9151       0  0.9193  2000-07-25  \n",
       "2000-07-19     0.9391      0.9237       0  0.9204  2000-07-26  \n",
       "2000-07-20     0.9314      0.9405       0  0.9450  2000-07-27  "
      ]
     },
     "execution_count": 4,
     "metadata": {},
     "output_type": "execute_result"
    }
   ],
   "source": [
    "daily.head()"
   ]
  },
  {
   "cell_type": "code",
   "execution_count": 5,
   "metadata": {},
   "outputs": [
    {
     "data": {
      "text/plain": [
       "(4612, 51)"
      ]
     },
     "execution_count": 5,
     "metadata": {},
     "output_type": "execute_result"
    }
   ],
   "source": [
    "daily.shape"
   ]
  },
  {
   "cell_type": "markdown",
   "metadata": {},
   "source": [
    "#### Results from the arima model"
   ]
  },
  {
   "cell_type": "code",
   "execution_count": 6,
   "metadata": {},
   "outputs": [],
   "source": [
    "strat_res_mb = pd.read_csv('/Users/stuartdaw/Documents/Capstone_data/model_results/arima_results_mb.csv', \n",
    "                           parse_dates=True)"
   ]
  },
  {
   "cell_type": "code",
   "execution_count": 7,
   "metadata": {},
   "outputs": [
    {
     "data": {
      "text/html": [
       "<div>\n",
       "<style scoped>\n",
       "    .dataframe tbody tr th:only-of-type {\n",
       "        vertical-align: middle;\n",
       "    }\n",
       "\n",
       "    .dataframe tbody tr th {\n",
       "        vertical-align: top;\n",
       "    }\n",
       "\n",
       "    .dataframe thead th {\n",
       "        text-align: right;\n",
       "    }\n",
       "</style>\n",
       "<table border=\"1\" class=\"dataframe\">\n",
       "  <thead>\n",
       "    <tr style=\"text-align: right;\">\n",
       "      <th></th>\n",
       "      <th>name</th>\n",
       "      <th>strategy</th>\n",
       "      <th>date</th>\n",
       "      <th>time_frame</th>\n",
       "      <th>RMSE</th>\n",
       "      <th>MSE</th>\n",
       "      <th>classification</th>\n",
       "    </tr>\n",
       "  </thead>\n",
       "  <tbody>\n",
       "    <tr>\n",
       "      <th>59</th>\n",
       "      <td>arima-0-1-0</td>\n",
       "      <td>marubozu</td>\n",
       "      <td>2018-09-17</td>\n",
       "      <td>daily</td>\n",
       "      <td>0.004317</td>\n",
       "      <td>0.000019</td>\n",
       "      <td>tp</td>\n",
       "    </tr>\n",
       "    <tr>\n",
       "      <th>60</th>\n",
       "      <td>arima-0-1-0</td>\n",
       "      <td>marubozu</td>\n",
       "      <td>2018-10-22</td>\n",
       "      <td>daily</td>\n",
       "      <td>0.012050</td>\n",
       "      <td>0.000145</td>\n",
       "      <td>fn</td>\n",
       "    </tr>\n",
       "    <tr>\n",
       "      <th>61</th>\n",
       "      <td>arima-0-1-0</td>\n",
       "      <td>marubozu</td>\n",
       "      <td>2018-12-10</td>\n",
       "      <td>daily</td>\n",
       "      <td>0.008124</td>\n",
       "      <td>0.000066</td>\n",
       "      <td>fn</td>\n",
       "    </tr>\n",
       "    <tr>\n",
       "      <th>62</th>\n",
       "      <td>arima-0-1-0</td>\n",
       "      <td>marubozu</td>\n",
       "      <td>2019-01-31</td>\n",
       "      <td>daily</td>\n",
       "      <td>0.009717</td>\n",
       "      <td>0.000094</td>\n",
       "      <td>fn</td>\n",
       "    </tr>\n",
       "    <tr>\n",
       "      <th>63</th>\n",
       "      <td>arima-0-1-0</td>\n",
       "      <td>marubozu</td>\n",
       "      <td>2019-02-13</td>\n",
       "      <td>daily</td>\n",
       "      <td>0.002301</td>\n",
       "      <td>0.000005</td>\n",
       "      <td>tn</td>\n",
       "    </tr>\n",
       "  </tbody>\n",
       "</table>\n",
       "</div>"
      ],
      "text/plain": [
       "           name  strategy        date time_frame      RMSE       MSE  \\\n",
       "59  arima-0-1-0  marubozu  2018-09-17      daily  0.004317  0.000019   \n",
       "60  arima-0-1-0  marubozu  2018-10-22      daily  0.012050  0.000145   \n",
       "61  arima-0-1-0  marubozu  2018-12-10      daily  0.008124  0.000066   \n",
       "62  arima-0-1-0  marubozu  2019-01-31      daily  0.009717  0.000094   \n",
       "63  arima-0-1-0  marubozu  2019-02-13      daily  0.002301  0.000005   \n",
       "\n",
       "   classification  \n",
       "59             tp  \n",
       "60             fn  \n",
       "61             fn  \n",
       "62             fn  \n",
       "63             tn  "
      ]
     },
     "execution_count": 7,
     "metadata": {},
     "output_type": "execute_result"
    }
   ],
   "source": [
    "strat_res_mb.tail()"
   ]
  },
  {
   "cell_type": "code",
   "execution_count": 8,
   "metadata": {},
   "outputs": [
    {
     "data": {
      "text/plain": [
       "64"
      ]
     },
     "execution_count": 8,
     "metadata": {},
     "output_type": "execute_result"
    }
   ],
   "source": [
    "len(strat_res_mb)"
   ]
  },
  {
   "cell_type": "markdown",
   "metadata": {},
   "source": [
    "#### Marubozu"
   ]
  },
  {
   "cell_type": "code",
   "execution_count": 9,
   "metadata": {
    "scrolled": true
   },
   "outputs": [
    {
     "data": {
      "text/html": [
       "<div>\n",
       "<style scoped>\n",
       "    .dataframe tbody tr th:only-of-type {\n",
       "        vertical-align: middle;\n",
       "    }\n",
       "\n",
       "    .dataframe tbody tr th {\n",
       "        vertical-align: top;\n",
       "    }\n",
       "\n",
       "    .dataframe thead th {\n",
       "        text-align: right;\n",
       "    }\n",
       "</style>\n",
       "<table border=\"1\" class=\"dataframe\">\n",
       "  <thead>\n",
       "    <tr style=\"text-align: right;\">\n",
       "      <th></th>\n",
       "      <th>pattern_end</th>\n",
       "    </tr>\n",
       "  </thead>\n",
       "  <tbody>\n",
       "    <tr>\n",
       "      <th>0</th>\n",
       "      <td>2000-10-11</td>\n",
       "    </tr>\n",
       "    <tr>\n",
       "      <th>1</th>\n",
       "      <td>2000-10-20</td>\n",
       "    </tr>\n",
       "    <tr>\n",
       "      <th>2</th>\n",
       "      <td>2001-04-05</td>\n",
       "    </tr>\n",
       "    <tr>\n",
       "      <th>3</th>\n",
       "      <td>2001-04-09</td>\n",
       "    </tr>\n",
       "    <tr>\n",
       "      <th>4</th>\n",
       "      <td>2001-08-20</td>\n",
       "    </tr>\n",
       "  </tbody>\n",
       "</table>\n",
       "</div>"
      ],
      "text/plain": [
       "  pattern_end\n",
       "0  2000-10-11\n",
       "1  2000-10-20\n",
       "2  2001-04-05\n",
       "3  2001-04-09\n",
       "4  2001-08-20"
      ]
     },
     "execution_count": 9,
     "metadata": {},
     "output_type": "execute_result"
    }
   ],
   "source": [
    "daily_pattern = pd.read_csv('/Users/stuartdaw/Documents/Capstone_data/patterns/dailyMarubozu.csv', \n",
    "                           parse_dates=True)\n",
    "daily_pattern.head()"
   ]
  },
  {
   "cell_type": "markdown",
   "metadata": {},
   "source": [
    "## 2.2 Create features list"
   ]
  },
  {
   "cell_type": "code",
   "execution_count": 10,
   "metadata": {},
   "outputs": [
    {
     "data": {
      "text/plain": [
       "(64, 51)"
      ]
     },
     "execution_count": 10,
     "metadata": {},
     "output_type": "execute_result"
    }
   ],
   "source": [
    "features = daily[daily.index.isin(daily_pattern['pattern_end'])]\n",
    "features.shape"
   ]
  },
  {
   "cell_type": "code",
   "execution_count": 11,
   "metadata": {},
   "outputs": [
    {
     "data": {
      "text/plain": [
       "(64, 51)"
      ]
     },
     "execution_count": 11,
     "metadata": {},
     "output_type": "execute_result"
    }
   ],
   "source": [
    "features = features[features.index.isin(strat_res_mb['date'])]\n",
    "features.shape"
   ]
  },
  {
   "cell_type": "code",
   "execution_count": 12,
   "metadata": {},
   "outputs": [
    {
     "data": {
      "text/html": [
       "<div>\n",
       "<style scoped>\n",
       "    .dataframe tbody tr th:only-of-type {\n",
       "        vertical-align: middle;\n",
       "    }\n",
       "\n",
       "    .dataframe tbody tr th {\n",
       "        vertical-align: top;\n",
       "    }\n",
       "\n",
       "    .dataframe thead th {\n",
       "        text-align: right;\n",
       "    }\n",
       "</style>\n",
       "<table border=\"1\" class=\"dataframe\">\n",
       "  <thead>\n",
       "    <tr style=\"text-align: right;\">\n",
       "      <th></th>\n",
       "      <th>open</th>\n",
       "      <th>high</th>\n",
       "      <th>low</th>\n",
       "      <th>close</th>\n",
       "      <th>mid</th>\n",
       "      <th>wk_mv_avg</th>\n",
       "      <th>mnth_mv_avg</th>\n",
       "      <th>volatility_3_day</th>\n",
       "      <th>volatility_10_day</th>\n",
       "      <th>pct_chge_3_prds</th>\n",
       "      <th>pct_chge_5_prds</th>\n",
       "      <th>pct_chge_10_prds</th>\n",
       "      <th>height</th>\n",
       "      <th>height-1</th>\n",
       "      <th>height-2</th>\n",
       "      <th>height-3</th>\n",
       "      <th>direction</th>\n",
       "      <th>gold_usd</th>\n",
       "      <th>gold_euro</th>\n",
       "      <th>marubozu</th>\n",
       "      <th>marubozu+1</th>\n",
       "      <th>marubozu-1</th>\n",
       "      <th>marubozu-2</th>\n",
       "      <th>day-1_open</th>\n",
       "      <th>day-2_open</th>\n",
       "      <th>day-3_open</th>\n",
       "      <th>day-1_high</th>\n",
       "      <th>day-2_high</th>\n",
       "      <th>day-3_high</th>\n",
       "      <th>day-1_low</th>\n",
       "      <th>day-2_low</th>\n",
       "      <th>day-3_low</th>\n",
       "      <th>day-1_close</th>\n",
       "      <th>day-2_close</th>\n",
       "      <th>day-3_close</th>\n",
       "      <th>day+1_open</th>\n",
       "      <th>day+1_high</th>\n",
       "      <th>day+1_low</th>\n",
       "      <th>day+1_close</th>\n",
       "      <th>day+2_high</th>\n",
       "      <th>day+2_low</th>\n",
       "      <th>day+3_high</th>\n",
       "      <th>day+3_low</th>\n",
       "      <th>day+4_high</th>\n",
       "      <th>day+4_low</th>\n",
       "      <th>day+5_high</th>\n",
       "      <th>day+5_low</th>\n",
       "      <th>exit_price</th>\n",
       "      <th>select</th>\n",
       "      <th>target</th>\n",
       "      <th>date+5</th>\n",
       "      <th>ml_signal</th>\n",
       "    </tr>\n",
       "    <tr>\n",
       "      <th>date</th>\n",
       "      <th></th>\n",
       "      <th></th>\n",
       "      <th></th>\n",
       "      <th></th>\n",
       "      <th></th>\n",
       "      <th></th>\n",
       "      <th></th>\n",
       "      <th></th>\n",
       "      <th></th>\n",
       "      <th></th>\n",
       "      <th></th>\n",
       "      <th></th>\n",
       "      <th></th>\n",
       "      <th></th>\n",
       "      <th></th>\n",
       "      <th></th>\n",
       "      <th></th>\n",
       "      <th></th>\n",
       "      <th></th>\n",
       "      <th></th>\n",
       "      <th></th>\n",
       "      <th></th>\n",
       "      <th></th>\n",
       "      <th></th>\n",
       "      <th></th>\n",
       "      <th></th>\n",
       "      <th></th>\n",
       "      <th></th>\n",
       "      <th></th>\n",
       "      <th></th>\n",
       "      <th></th>\n",
       "      <th></th>\n",
       "      <th></th>\n",
       "      <th></th>\n",
       "      <th></th>\n",
       "      <th></th>\n",
       "      <th></th>\n",
       "      <th></th>\n",
       "      <th></th>\n",
       "      <th></th>\n",
       "      <th></th>\n",
       "      <th></th>\n",
       "      <th></th>\n",
       "      <th></th>\n",
       "      <th></th>\n",
       "      <th></th>\n",
       "      <th></th>\n",
       "      <th></th>\n",
       "      <th></th>\n",
       "      <th></th>\n",
       "      <th></th>\n",
       "      <th></th>\n",
       "    </tr>\n",
       "  </thead>\n",
       "  <tbody>\n",
       "    <tr>\n",
       "      <th>2000-10-11</th>\n",
       "      <td>0.8733</td>\n",
       "      <td>0.8764</td>\n",
       "      <td>0.8644</td>\n",
       "      <td>0.8677</td>\n",
       "      <td>0.87050</td>\n",
       "      <td>0.87046</td>\n",
       "      <td>0.869214</td>\n",
       "      <td>0.001513</td>\n",
       "      <td>0.001716</td>\n",
       "      <td>0.000632</td>\n",
       "      <td>-0.006392</td>\n",
       "      <td>-0.014491</td>\n",
       "      <td>0.0056</td>\n",
       "      <td>0.0053</td>\n",
       "      <td>0.0019</td>\n",
       "      <td>0.0003</td>\n",
       "      <td>-1.0</td>\n",
       "      <td>94.8</td>\n",
       "      <td>127.4</td>\n",
       "      <td>-1</td>\n",
       "      <td>0.0</td>\n",
       "      <td>1.0</td>\n",
       "      <td>0.0</td>\n",
       "      <td>0.8679</td>\n",
       "      <td>0.8699</td>\n",
       "      <td>0.8701</td>\n",
       "      <td>0.8747</td>\n",
       "      <td>0.8710</td>\n",
       "      <td>0.8743</td>\n",
       "      <td>0.8670</td>\n",
       "      <td>0.8665</td>\n",
       "      <td>0.8674</td>\n",
       "      <td>0.8732</td>\n",
       "      <td>0.8680</td>\n",
       "      <td>0.8698</td>\n",
       "      <td>0.8676</td>\n",
       "      <td>0.8682</td>\n",
       "      <td>0.8597</td>\n",
       "      <td>0.8628</td>\n",
       "      <td>0.8660</td>\n",
       "      <td>0.8530</td>\n",
       "      <td>0.8557</td>\n",
       "      <td>0.8462</td>\n",
       "      <td>0.8565</td>\n",
       "      <td>0.8480</td>\n",
       "      <td>0.8579</td>\n",
       "      <td>0.8327</td>\n",
       "      <td>0.8621</td>\n",
       "      <td>1</td>\n",
       "      <td>0.8327</td>\n",
       "      <td>2000-10-18</td>\n",
       "      <td>tp</td>\n",
       "    </tr>\n",
       "    <tr>\n",
       "      <th>2000-10-20</th>\n",
       "      <td>0.8471</td>\n",
       "      <td>0.8475</td>\n",
       "      <td>0.8351</td>\n",
       "      <td>0.8401</td>\n",
       "      <td>0.84360</td>\n",
       "      <td>0.84774</td>\n",
       "      <td>0.867864</td>\n",
       "      <td>0.002844</td>\n",
       "      <td>0.003502</td>\n",
       "      <td>-0.009801</td>\n",
       "      <td>-0.017985</td>\n",
       "      <td>-0.030289</td>\n",
       "      <td>0.0070</td>\n",
       "      <td>0.0071</td>\n",
       "      <td>0.0146</td>\n",
       "      <td>0.0053</td>\n",
       "      <td>-1.0</td>\n",
       "      <td>94.0</td>\n",
       "      <td>131.8</td>\n",
       "      <td>-1</td>\n",
       "      <td>0.0</td>\n",
       "      <td>1.0</td>\n",
       "      <td>-1.0</td>\n",
       "      <td>0.8401</td>\n",
       "      <td>0.8546</td>\n",
       "      <td>0.8493</td>\n",
       "      <td>0.8487</td>\n",
       "      <td>0.8579</td>\n",
       "      <td>0.8565</td>\n",
       "      <td>0.8383</td>\n",
       "      <td>0.8327</td>\n",
       "      <td>0.8480</td>\n",
       "      <td>0.8472</td>\n",
       "      <td>0.8400</td>\n",
       "      <td>0.8546</td>\n",
       "      <td>0.8402</td>\n",
       "      <td>0.8426</td>\n",
       "      <td>0.8345</td>\n",
       "      <td>0.8367</td>\n",
       "      <td>0.8400</td>\n",
       "      <td>0.8349</td>\n",
       "      <td>0.8389</td>\n",
       "      <td>0.8249</td>\n",
       "      <td>0.8325</td>\n",
       "      <td>0.8229</td>\n",
       "      <td>0.8446</td>\n",
       "      <td>0.8290</td>\n",
       "      <td>0.8331</td>\n",
       "      <td>1</td>\n",
       "      <td>0.8229</td>\n",
       "      <td>2000-10-27</td>\n",
       "      <td>tp</td>\n",
       "    </tr>\n",
       "    <tr>\n",
       "      <th>2001-04-05</th>\n",
       "      <td>0.9066</td>\n",
       "      <td>0.9091</td>\n",
       "      <td>0.8943</td>\n",
       "      <td>0.8967</td>\n",
       "      <td>0.90165</td>\n",
       "      <td>0.89036</td>\n",
       "      <td>0.901571</td>\n",
       "      <td>0.007044</td>\n",
       "      <td>0.006930</td>\n",
       "      <td>0.024369</td>\n",
       "      <td>0.020832</td>\n",
       "      <td>0.010988</td>\n",
       "      <td>0.0099</td>\n",
       "      <td>0.0100</td>\n",
       "      <td>0.0138</td>\n",
       "      <td>0.0054</td>\n",
       "      <td>-1.0</td>\n",
       "      <td>89.7</td>\n",
       "      <td>117.5</td>\n",
       "      <td>-1</td>\n",
       "      <td>1.0</td>\n",
       "      <td>1.0</td>\n",
       "      <td>1.0</td>\n",
       "      <td>0.8966</td>\n",
       "      <td>0.8829</td>\n",
       "      <td>0.8775</td>\n",
       "      <td>0.9080</td>\n",
       "      <td>0.8987</td>\n",
       "      <td>0.8837</td>\n",
       "      <td>0.8937</td>\n",
       "      <td>0.8821</td>\n",
       "      <td>0.8745</td>\n",
       "      <td>0.9066</td>\n",
       "      <td>0.8967</td>\n",
       "      <td>0.8829</td>\n",
       "      <td>0.8966</td>\n",
       "      <td>0.9051</td>\n",
       "      <td>0.8927</td>\n",
       "      <td>0.9034</td>\n",
       "      <td>0.9051</td>\n",
       "      <td>0.8947</td>\n",
       "      <td>0.8995</td>\n",
       "      <td>0.8868</td>\n",
       "      <td>0.8918</td>\n",
       "      <td>0.8814</td>\n",
       "      <td>0.8946</td>\n",
       "      <td>0.8840</td>\n",
       "      <td>0.8868</td>\n",
       "      <td>1</td>\n",
       "      <td>0.8814</td>\n",
       "      <td>2001-04-12</td>\n",
       "      <td>tp</td>\n",
       "    </tr>\n",
       "    <tr>\n",
       "      <th>2001-04-09</th>\n",
       "      <td>0.9035</td>\n",
       "      <td>0.9051</td>\n",
       "      <td>0.8947</td>\n",
       "      <td>0.8965</td>\n",
       "      <td>0.90000</td>\n",
       "      <td>0.89861</td>\n",
       "      <td>0.898467</td>\n",
       "      <td>0.001073</td>\n",
       "      <td>0.006785</td>\n",
       "      <td>-0.001775</td>\n",
       "      <td>0.022495</td>\n",
       "      <td>0.006937</td>\n",
       "      <td>0.0070</td>\n",
       "      <td>0.0068</td>\n",
       "      <td>0.0099</td>\n",
       "      <td>0.0100</td>\n",
       "      <td>-1.0</td>\n",
       "      <td>90.0</td>\n",
       "      <td>117.2</td>\n",
       "      <td>-1</td>\n",
       "      <td>-1.0</td>\n",
       "      <td>1.0</td>\n",
       "      <td>-1.0</td>\n",
       "      <td>0.8966</td>\n",
       "      <td>0.9066</td>\n",
       "      <td>0.8966</td>\n",
       "      <td>0.9051</td>\n",
       "      <td>0.9091</td>\n",
       "      <td>0.9080</td>\n",
       "      <td>0.8927</td>\n",
       "      <td>0.8943</td>\n",
       "      <td>0.8937</td>\n",
       "      <td>0.9034</td>\n",
       "      <td>0.8967</td>\n",
       "      <td>0.9066</td>\n",
       "      <td>0.8964</td>\n",
       "      <td>0.8995</td>\n",
       "      <td>0.8868</td>\n",
       "      <td>0.8898</td>\n",
       "      <td>0.8918</td>\n",
       "      <td>0.8814</td>\n",
       "      <td>0.8946</td>\n",
       "      <td>0.8840</td>\n",
       "      <td>0.8933</td>\n",
       "      <td>0.8891</td>\n",
       "      <td>0.8895</td>\n",
       "      <td>0.8834</td>\n",
       "      <td>0.8895</td>\n",
       "      <td>1</td>\n",
       "      <td>0.8814</td>\n",
       "      <td>2001-04-16</td>\n",
       "      <td>tp</td>\n",
       "    </tr>\n",
       "    <tr>\n",
       "      <th>2001-08-20</th>\n",
       "      <td>0.9178</td>\n",
       "      <td>0.9205</td>\n",
       "      <td>0.9113</td>\n",
       "      <td>0.9126</td>\n",
       "      <td>0.91520</td>\n",
       "      <td>0.91110</td>\n",
       "      <td>0.887862</td>\n",
       "      <td>0.002255</td>\n",
       "      <td>0.003879</td>\n",
       "      <td>0.005714</td>\n",
       "      <td>0.021771</td>\n",
       "      <td>0.039350</td>\n",
       "      <td>0.0052</td>\n",
       "      <td>0.0053</td>\n",
       "      <td>0.0031</td>\n",
       "      <td>0.0110</td>\n",
       "      <td>-1.0</td>\n",
       "      <td>96.1</td>\n",
       "      <td>123.7</td>\n",
       "      <td>-1</td>\n",
       "      <td>0.0</td>\n",
       "      <td>1.0</td>\n",
       "      <td>0.0</td>\n",
       "      <td>0.9124</td>\n",
       "      <td>0.9156</td>\n",
       "      <td>0.9045</td>\n",
       "      <td>0.9184</td>\n",
       "      <td>0.9203</td>\n",
       "      <td>0.9171</td>\n",
       "      <td>0.9105</td>\n",
       "      <td>0.9093</td>\n",
       "      <td>0.9034</td>\n",
       "      <td>0.9177</td>\n",
       "      <td>0.9125</td>\n",
       "      <td>0.9155</td>\n",
       "      <td>0.9125</td>\n",
       "      <td>0.9185</td>\n",
       "      <td>0.9082</td>\n",
       "      <td>0.9168</td>\n",
       "      <td>0.9242</td>\n",
       "      <td>0.9123</td>\n",
       "      <td>0.9170</td>\n",
       "      <td>0.9101</td>\n",
       "      <td>0.9169</td>\n",
       "      <td>0.9078</td>\n",
       "      <td>0.9125</td>\n",
       "      <td>0.9087</td>\n",
       "      <td>0.9074</td>\n",
       "      <td>1</td>\n",
       "      <td>0.9078</td>\n",
       "      <td>2001-08-27</td>\n",
       "      <td>tp</td>\n",
       "    </tr>\n",
       "  </tbody>\n",
       "</table>\n",
       "</div>"
      ],
      "text/plain": [
       "              open    high     low   close      mid  wk_mv_avg  mnth_mv_avg  \\\n",
       "date                                                                          \n",
       "2000-10-11  0.8733  0.8764  0.8644  0.8677  0.87050    0.87046     0.869214   \n",
       "2000-10-20  0.8471  0.8475  0.8351  0.8401  0.84360    0.84774     0.867864   \n",
       "2001-04-05  0.9066  0.9091  0.8943  0.8967  0.90165    0.89036     0.901571   \n",
       "2001-04-09  0.9035  0.9051  0.8947  0.8965  0.90000    0.89861     0.898467   \n",
       "2001-08-20  0.9178  0.9205  0.9113  0.9126  0.91520    0.91110     0.887862   \n",
       "\n",
       "            volatility_3_day  volatility_10_day  pct_chge_3_prds  \\\n",
       "date                                                               \n",
       "2000-10-11          0.001513           0.001716         0.000632   \n",
       "2000-10-20          0.002844           0.003502        -0.009801   \n",
       "2001-04-05          0.007044           0.006930         0.024369   \n",
       "2001-04-09          0.001073           0.006785        -0.001775   \n",
       "2001-08-20          0.002255           0.003879         0.005714   \n",
       "\n",
       "            pct_chge_5_prds  pct_chge_10_prds  height  height-1  height-2  \\\n",
       "date                                                                        \n",
       "2000-10-11        -0.006392         -0.014491  0.0056    0.0053    0.0019   \n",
       "2000-10-20        -0.017985         -0.030289  0.0070    0.0071    0.0146   \n",
       "2001-04-05         0.020832          0.010988  0.0099    0.0100    0.0138   \n",
       "2001-04-09         0.022495          0.006937  0.0070    0.0068    0.0099   \n",
       "2001-08-20         0.021771          0.039350  0.0052    0.0053    0.0031   \n",
       "\n",
       "            height-3  direction  gold_usd  gold_euro  marubozu  marubozu+1  \\\n",
       "date                                                                         \n",
       "2000-10-11    0.0003       -1.0      94.8      127.4        -1         0.0   \n",
       "2000-10-20    0.0053       -1.0      94.0      131.8        -1         0.0   \n",
       "2001-04-05    0.0054       -1.0      89.7      117.5        -1         1.0   \n",
       "2001-04-09    0.0100       -1.0      90.0      117.2        -1        -1.0   \n",
       "2001-08-20    0.0110       -1.0      96.1      123.7        -1         0.0   \n",
       "\n",
       "            marubozu-1  marubozu-2  day-1_open  day-2_open  day-3_open  \\\n",
       "date                                                                     \n",
       "2000-10-11         1.0         0.0      0.8679      0.8699      0.8701   \n",
       "2000-10-20         1.0        -1.0      0.8401      0.8546      0.8493   \n",
       "2001-04-05         1.0         1.0      0.8966      0.8829      0.8775   \n",
       "2001-04-09         1.0        -1.0      0.8966      0.9066      0.8966   \n",
       "2001-08-20         1.0         0.0      0.9124      0.9156      0.9045   \n",
       "\n",
       "            day-1_high  day-2_high  day-3_high  day-1_low  day-2_low  \\\n",
       "date                                                                   \n",
       "2000-10-11      0.8747      0.8710      0.8743     0.8670     0.8665   \n",
       "2000-10-20      0.8487      0.8579      0.8565     0.8383     0.8327   \n",
       "2001-04-05      0.9080      0.8987      0.8837     0.8937     0.8821   \n",
       "2001-04-09      0.9051      0.9091      0.9080     0.8927     0.8943   \n",
       "2001-08-20      0.9184      0.9203      0.9171     0.9105     0.9093   \n",
       "\n",
       "            day-3_low  day-1_close  day-2_close  day-3_close  day+1_open  \\\n",
       "date                                                                       \n",
       "2000-10-11     0.8674       0.8732       0.8680       0.8698      0.8676   \n",
       "2000-10-20     0.8480       0.8472       0.8400       0.8546      0.8402   \n",
       "2001-04-05     0.8745       0.9066       0.8967       0.8829      0.8966   \n",
       "2001-04-09     0.8937       0.9034       0.8967       0.9066      0.8964   \n",
       "2001-08-20     0.9034       0.9177       0.9125       0.9155      0.9125   \n",
       "\n",
       "            day+1_high  day+1_low  day+1_close  day+2_high  day+2_low  \\\n",
       "date                                                                    \n",
       "2000-10-11      0.8682     0.8597       0.8628      0.8660     0.8530   \n",
       "2000-10-20      0.8426     0.8345       0.8367      0.8400     0.8349   \n",
       "2001-04-05      0.9051     0.8927       0.9034      0.9051     0.8947   \n",
       "2001-04-09      0.8995     0.8868       0.8898      0.8918     0.8814   \n",
       "2001-08-20      0.9185     0.9082       0.9168      0.9242     0.9123   \n",
       "\n",
       "            day+3_high  day+3_low  day+4_high  day+4_low  day+5_high  \\\n",
       "date                                                                   \n",
       "2000-10-11      0.8557     0.8462      0.8565     0.8480      0.8579   \n",
       "2000-10-20      0.8389     0.8249      0.8325     0.8229      0.8446   \n",
       "2001-04-05      0.8995     0.8868      0.8918     0.8814      0.8946   \n",
       "2001-04-09      0.8946     0.8840      0.8933     0.8891      0.8895   \n",
       "2001-08-20      0.9170     0.9101      0.9169     0.9078      0.9125   \n",
       "\n",
       "            day+5_low  exit_price  select  target      date+5 ml_signal  \n",
       "date                                                                     \n",
       "2000-10-11     0.8327      0.8621       1  0.8327  2000-10-18        tp  \n",
       "2000-10-20     0.8290      0.8331       1  0.8229  2000-10-27        tp  \n",
       "2001-04-05     0.8840      0.8868       1  0.8814  2001-04-12        tp  \n",
       "2001-04-09     0.8834      0.8895       1  0.8814  2001-04-16        tp  \n",
       "2001-08-20     0.9087      0.9074       1  0.9078  2001-08-27        tp  "
      ]
     },
     "execution_count": 12,
     "metadata": {},
     "output_type": "execute_result"
    }
   ],
   "source": [
    "# Add Arima results as a feature to the dataset\n",
    "results_series = list(strat_res_mb['classification'])\n",
    "features['ml_signal'] = results_series\n",
    "features.head()"
   ]
  },
  {
   "cell_type": "code",
   "execution_count": 13,
   "metadata": {},
   "outputs": [
    {
     "data": {
      "text/plain": [
       "direction\n",
       "-1.0    36\n",
       " 1.0    28\n",
       "Name: open, dtype: int64"
      ]
     },
     "execution_count": 13,
     "metadata": {},
     "output_type": "execute_result"
    }
   ],
   "source": [
    "# See number of signals\n",
    "features.groupby('direction').count()['open']"
   ]
  },
  {
   "cell_type": "code",
   "execution_count": 14,
   "metadata": {},
   "outputs": [
    {
     "data": {
      "text/plain": [
       "ml_signal\n",
       "fn    27\n",
       "fp     5\n",
       "tn    18\n",
       "tp    14\n",
       "Name: open, dtype: int64"
      ]
     },
     "execution_count": 14,
     "metadata": {},
     "output_type": "execute_result"
    }
   ],
   "source": [
    "# count number of signals\n",
    "features.groupby('ml_signal').count()['open']"
   ]
  },
  {
   "cell_type": "code",
   "execution_count": 15,
   "metadata": {},
   "outputs": [],
   "source": [
    "# convert the signal into -1 or plus one to denote success and the direction\n",
    "def convert_signal(row):\n",
    "    if row['ml_signal'] == 'tp':\n",
    "        return row['direction']\n",
    "    else:\n",
    "        return 0"
   ]
  },
  {
   "cell_type": "code",
   "execution_count": 16,
   "metadata": {},
   "outputs": [],
   "source": [
    "features['ml_signal'] = features.apply(convert_signal, axis=1)"
   ]
  },
  {
   "cell_type": "code",
   "execution_count": 17,
   "metadata": {},
   "outputs": [
    {
     "data": {
      "text/plain": [
       "ml_signal\n",
       "-1.0     7\n",
       " 0.0    50\n",
       " 1.0     7\n",
       "Name: open, dtype: int64"
      ]
     },
     "execution_count": 17,
     "metadata": {},
     "output_type": "execute_result"
    }
   ],
   "source": [
    "# count number of signals\n",
    "features.groupby('ml_signal').count()['open']"
   ]
  },
  {
   "cell_type": "markdown",
   "metadata": {},
   "source": [
    "---"
   ]
  },
  {
   "cell_type": "markdown",
   "metadata": {},
   "source": [
    "## 2.3 Check Correlation"
   ]
  },
  {
   "cell_type": "code",
   "execution_count": 18,
   "metadata": {},
   "outputs": [],
   "source": [
    "# Only look at important ones\n",
    "corr_df = features.drop(['marubozu+1','day+1_open', 'day+1_high', 'day+1_low', 'day+1_close', 'day+2_high',\n",
    "       'day+2_low', 'day+3_high', 'day+3_low', 'day+4_high', 'day+4_low',\n",
    "       'day+5_high', 'day+5_low', 'exit_price', 'select', 'date+5'], axis=1)\n"
   ]
  },
  {
   "cell_type": "code",
   "execution_count": 19,
   "metadata": {},
   "outputs": [
    {
     "data": {
      "text/html": [
       "<div>\n",
       "<style scoped>\n",
       "    .dataframe tbody tr th:only-of-type {\n",
       "        vertical-align: middle;\n",
       "    }\n",
       "\n",
       "    .dataframe tbody tr th {\n",
       "        vertical-align: top;\n",
       "    }\n",
       "\n",
       "    .dataframe thead th {\n",
       "        text-align: right;\n",
       "    }\n",
       "</style>\n",
       "<table border=\"1\" class=\"dataframe\">\n",
       "  <thead>\n",
       "    <tr style=\"text-align: right;\">\n",
       "      <th></th>\n",
       "      <th>open</th>\n",
       "      <th>high</th>\n",
       "      <th>low</th>\n",
       "      <th>close</th>\n",
       "      <th>mid</th>\n",
       "      <th>wk_mv_avg</th>\n",
       "      <th>mnth_mv_avg</th>\n",
       "      <th>volatility_3_day</th>\n",
       "      <th>volatility_10_day</th>\n",
       "      <th>pct_chge_3_prds</th>\n",
       "      <th>pct_chge_5_prds</th>\n",
       "      <th>pct_chge_10_prds</th>\n",
       "      <th>height</th>\n",
       "      <th>height-1</th>\n",
       "      <th>height-2</th>\n",
       "      <th>height-3</th>\n",
       "      <th>direction</th>\n",
       "      <th>gold_usd</th>\n",
       "      <th>gold_euro</th>\n",
       "      <th>marubozu</th>\n",
       "      <th>marubozu-1</th>\n",
       "      <th>marubozu-2</th>\n",
       "      <th>day-1_open</th>\n",
       "      <th>day-2_open</th>\n",
       "      <th>day-3_open</th>\n",
       "      <th>day-1_high</th>\n",
       "      <th>day-2_high</th>\n",
       "      <th>day-3_high</th>\n",
       "      <th>day-1_low</th>\n",
       "      <th>day-2_low</th>\n",
       "      <th>day-3_low</th>\n",
       "      <th>day-1_close</th>\n",
       "      <th>day-2_close</th>\n",
       "      <th>day-3_close</th>\n",
       "      <th>target</th>\n",
       "      <th>ml_signal</th>\n",
       "    </tr>\n",
       "    <tr>\n",
       "      <th>date</th>\n",
       "      <th></th>\n",
       "      <th></th>\n",
       "      <th></th>\n",
       "      <th></th>\n",
       "      <th></th>\n",
       "      <th></th>\n",
       "      <th></th>\n",
       "      <th></th>\n",
       "      <th></th>\n",
       "      <th></th>\n",
       "      <th></th>\n",
       "      <th></th>\n",
       "      <th></th>\n",
       "      <th></th>\n",
       "      <th></th>\n",
       "      <th></th>\n",
       "      <th></th>\n",
       "      <th></th>\n",
       "      <th></th>\n",
       "      <th></th>\n",
       "      <th></th>\n",
       "      <th></th>\n",
       "      <th></th>\n",
       "      <th></th>\n",
       "      <th></th>\n",
       "      <th></th>\n",
       "      <th></th>\n",
       "      <th></th>\n",
       "      <th></th>\n",
       "      <th></th>\n",
       "      <th></th>\n",
       "      <th></th>\n",
       "      <th></th>\n",
       "      <th></th>\n",
       "      <th></th>\n",
       "      <th></th>\n",
       "    </tr>\n",
       "  </thead>\n",
       "  <tbody>\n",
       "    <tr>\n",
       "      <th>2000-10-11</th>\n",
       "      <td>0.8733</td>\n",
       "      <td>0.8764</td>\n",
       "      <td>0.8644</td>\n",
       "      <td>0.8677</td>\n",
       "      <td>0.87050</td>\n",
       "      <td>0.87046</td>\n",
       "      <td>0.869214</td>\n",
       "      <td>0.001513</td>\n",
       "      <td>0.001716</td>\n",
       "      <td>0.000632</td>\n",
       "      <td>-0.006392</td>\n",
       "      <td>-0.014491</td>\n",
       "      <td>0.0056</td>\n",
       "      <td>0.0053</td>\n",
       "      <td>0.0019</td>\n",
       "      <td>0.0003</td>\n",
       "      <td>-1.0</td>\n",
       "      <td>94.8</td>\n",
       "      <td>127.4</td>\n",
       "      <td>-1</td>\n",
       "      <td>1.0</td>\n",
       "      <td>0.0</td>\n",
       "      <td>0.8679</td>\n",
       "      <td>0.8699</td>\n",
       "      <td>0.8701</td>\n",
       "      <td>0.8747</td>\n",
       "      <td>0.8710</td>\n",
       "      <td>0.8743</td>\n",
       "      <td>0.8670</td>\n",
       "      <td>0.8665</td>\n",
       "      <td>0.8674</td>\n",
       "      <td>0.8732</td>\n",
       "      <td>0.8680</td>\n",
       "      <td>0.8698</td>\n",
       "      <td>0.8327</td>\n",
       "      <td>-1.0</td>\n",
       "    </tr>\n",
       "    <tr>\n",
       "      <th>2000-10-20</th>\n",
       "      <td>0.8471</td>\n",
       "      <td>0.8475</td>\n",
       "      <td>0.8351</td>\n",
       "      <td>0.8401</td>\n",
       "      <td>0.84360</td>\n",
       "      <td>0.84774</td>\n",
       "      <td>0.867864</td>\n",
       "      <td>0.002844</td>\n",
       "      <td>0.003502</td>\n",
       "      <td>-0.009801</td>\n",
       "      <td>-0.017985</td>\n",
       "      <td>-0.030289</td>\n",
       "      <td>0.0070</td>\n",
       "      <td>0.0071</td>\n",
       "      <td>0.0146</td>\n",
       "      <td>0.0053</td>\n",
       "      <td>-1.0</td>\n",
       "      <td>94.0</td>\n",
       "      <td>131.8</td>\n",
       "      <td>-1</td>\n",
       "      <td>1.0</td>\n",
       "      <td>-1.0</td>\n",
       "      <td>0.8401</td>\n",
       "      <td>0.8546</td>\n",
       "      <td>0.8493</td>\n",
       "      <td>0.8487</td>\n",
       "      <td>0.8579</td>\n",
       "      <td>0.8565</td>\n",
       "      <td>0.8383</td>\n",
       "      <td>0.8327</td>\n",
       "      <td>0.8480</td>\n",
       "      <td>0.8472</td>\n",
       "      <td>0.8400</td>\n",
       "      <td>0.8546</td>\n",
       "      <td>0.8229</td>\n",
       "      <td>-1.0</td>\n",
       "    </tr>\n",
       "    <tr>\n",
       "      <th>2001-04-05</th>\n",
       "      <td>0.9066</td>\n",
       "      <td>0.9091</td>\n",
       "      <td>0.8943</td>\n",
       "      <td>0.8967</td>\n",
       "      <td>0.90165</td>\n",
       "      <td>0.89036</td>\n",
       "      <td>0.901571</td>\n",
       "      <td>0.007044</td>\n",
       "      <td>0.006930</td>\n",
       "      <td>0.024369</td>\n",
       "      <td>0.020832</td>\n",
       "      <td>0.010988</td>\n",
       "      <td>0.0099</td>\n",
       "      <td>0.0100</td>\n",
       "      <td>0.0138</td>\n",
       "      <td>0.0054</td>\n",
       "      <td>-1.0</td>\n",
       "      <td>89.7</td>\n",
       "      <td>117.5</td>\n",
       "      <td>-1</td>\n",
       "      <td>1.0</td>\n",
       "      <td>1.0</td>\n",
       "      <td>0.8966</td>\n",
       "      <td>0.8829</td>\n",
       "      <td>0.8775</td>\n",
       "      <td>0.9080</td>\n",
       "      <td>0.8987</td>\n",
       "      <td>0.8837</td>\n",
       "      <td>0.8937</td>\n",
       "      <td>0.8821</td>\n",
       "      <td>0.8745</td>\n",
       "      <td>0.9066</td>\n",
       "      <td>0.8967</td>\n",
       "      <td>0.8829</td>\n",
       "      <td>0.8814</td>\n",
       "      <td>-1.0</td>\n",
       "    </tr>\n",
       "    <tr>\n",
       "      <th>2001-04-09</th>\n",
       "      <td>0.9035</td>\n",
       "      <td>0.9051</td>\n",
       "      <td>0.8947</td>\n",
       "      <td>0.8965</td>\n",
       "      <td>0.90000</td>\n",
       "      <td>0.89861</td>\n",
       "      <td>0.898467</td>\n",
       "      <td>0.001073</td>\n",
       "      <td>0.006785</td>\n",
       "      <td>-0.001775</td>\n",
       "      <td>0.022495</td>\n",
       "      <td>0.006937</td>\n",
       "      <td>0.0070</td>\n",
       "      <td>0.0068</td>\n",
       "      <td>0.0099</td>\n",
       "      <td>0.0100</td>\n",
       "      <td>-1.0</td>\n",
       "      <td>90.0</td>\n",
       "      <td>117.2</td>\n",
       "      <td>-1</td>\n",
       "      <td>1.0</td>\n",
       "      <td>-1.0</td>\n",
       "      <td>0.8966</td>\n",
       "      <td>0.9066</td>\n",
       "      <td>0.8966</td>\n",
       "      <td>0.9051</td>\n",
       "      <td>0.9091</td>\n",
       "      <td>0.9080</td>\n",
       "      <td>0.8927</td>\n",
       "      <td>0.8943</td>\n",
       "      <td>0.8937</td>\n",
       "      <td>0.9034</td>\n",
       "      <td>0.8967</td>\n",
       "      <td>0.9066</td>\n",
       "      <td>0.8814</td>\n",
       "      <td>-1.0</td>\n",
       "    </tr>\n",
       "    <tr>\n",
       "      <th>2001-08-20</th>\n",
       "      <td>0.9178</td>\n",
       "      <td>0.9205</td>\n",
       "      <td>0.9113</td>\n",
       "      <td>0.9126</td>\n",
       "      <td>0.91520</td>\n",
       "      <td>0.91110</td>\n",
       "      <td>0.887862</td>\n",
       "      <td>0.002255</td>\n",
       "      <td>0.003879</td>\n",
       "      <td>0.005714</td>\n",
       "      <td>0.021771</td>\n",
       "      <td>0.039350</td>\n",
       "      <td>0.0052</td>\n",
       "      <td>0.0053</td>\n",
       "      <td>0.0031</td>\n",
       "      <td>0.0110</td>\n",
       "      <td>-1.0</td>\n",
       "      <td>96.1</td>\n",
       "      <td>123.7</td>\n",
       "      <td>-1</td>\n",
       "      <td>1.0</td>\n",
       "      <td>0.0</td>\n",
       "      <td>0.9124</td>\n",
       "      <td>0.9156</td>\n",
       "      <td>0.9045</td>\n",
       "      <td>0.9184</td>\n",
       "      <td>0.9203</td>\n",
       "      <td>0.9171</td>\n",
       "      <td>0.9105</td>\n",
       "      <td>0.9093</td>\n",
       "      <td>0.9034</td>\n",
       "      <td>0.9177</td>\n",
       "      <td>0.9125</td>\n",
       "      <td>0.9155</td>\n",
       "      <td>0.9078</td>\n",
       "      <td>-1.0</td>\n",
       "    </tr>\n",
       "  </tbody>\n",
       "</table>\n",
       "</div>"
      ],
      "text/plain": [
       "              open    high     low   close      mid  wk_mv_avg  mnth_mv_avg  \\\n",
       "date                                                                          \n",
       "2000-10-11  0.8733  0.8764  0.8644  0.8677  0.87050    0.87046     0.869214   \n",
       "2000-10-20  0.8471  0.8475  0.8351  0.8401  0.84360    0.84774     0.867864   \n",
       "2001-04-05  0.9066  0.9091  0.8943  0.8967  0.90165    0.89036     0.901571   \n",
       "2001-04-09  0.9035  0.9051  0.8947  0.8965  0.90000    0.89861     0.898467   \n",
       "2001-08-20  0.9178  0.9205  0.9113  0.9126  0.91520    0.91110     0.887862   \n",
       "\n",
       "            volatility_3_day  volatility_10_day  pct_chge_3_prds  \\\n",
       "date                                                               \n",
       "2000-10-11          0.001513           0.001716         0.000632   \n",
       "2000-10-20          0.002844           0.003502        -0.009801   \n",
       "2001-04-05          0.007044           0.006930         0.024369   \n",
       "2001-04-09          0.001073           0.006785        -0.001775   \n",
       "2001-08-20          0.002255           0.003879         0.005714   \n",
       "\n",
       "            pct_chge_5_prds  pct_chge_10_prds  height  height-1  height-2  \\\n",
       "date                                                                        \n",
       "2000-10-11        -0.006392         -0.014491  0.0056    0.0053    0.0019   \n",
       "2000-10-20        -0.017985         -0.030289  0.0070    0.0071    0.0146   \n",
       "2001-04-05         0.020832          0.010988  0.0099    0.0100    0.0138   \n",
       "2001-04-09         0.022495          0.006937  0.0070    0.0068    0.0099   \n",
       "2001-08-20         0.021771          0.039350  0.0052    0.0053    0.0031   \n",
       "\n",
       "            height-3  direction  gold_usd  gold_euro  marubozu  marubozu-1  \\\n",
       "date                                                                         \n",
       "2000-10-11    0.0003       -1.0      94.8      127.4        -1         1.0   \n",
       "2000-10-20    0.0053       -1.0      94.0      131.8        -1         1.0   \n",
       "2001-04-05    0.0054       -1.0      89.7      117.5        -1         1.0   \n",
       "2001-04-09    0.0100       -1.0      90.0      117.2        -1         1.0   \n",
       "2001-08-20    0.0110       -1.0      96.1      123.7        -1         1.0   \n",
       "\n",
       "            marubozu-2  day-1_open  day-2_open  day-3_open  day-1_high  \\\n",
       "date                                                                     \n",
       "2000-10-11         0.0      0.8679      0.8699      0.8701      0.8747   \n",
       "2000-10-20        -1.0      0.8401      0.8546      0.8493      0.8487   \n",
       "2001-04-05         1.0      0.8966      0.8829      0.8775      0.9080   \n",
       "2001-04-09        -1.0      0.8966      0.9066      0.8966      0.9051   \n",
       "2001-08-20         0.0      0.9124      0.9156      0.9045      0.9184   \n",
       "\n",
       "            day-2_high  day-3_high  day-1_low  day-2_low  day-3_low  \\\n",
       "date                                                                  \n",
       "2000-10-11      0.8710      0.8743     0.8670     0.8665     0.8674   \n",
       "2000-10-20      0.8579      0.8565     0.8383     0.8327     0.8480   \n",
       "2001-04-05      0.8987      0.8837     0.8937     0.8821     0.8745   \n",
       "2001-04-09      0.9091      0.9080     0.8927     0.8943     0.8937   \n",
       "2001-08-20      0.9203      0.9171     0.9105     0.9093     0.9034   \n",
       "\n",
       "            day-1_close  day-2_close  day-3_close  target  ml_signal  \n",
       "date                                                                  \n",
       "2000-10-11       0.8732       0.8680       0.8698  0.8327       -1.0  \n",
       "2000-10-20       0.8472       0.8400       0.8546  0.8229       -1.0  \n",
       "2001-04-05       0.9066       0.8967       0.8829  0.8814       -1.0  \n",
       "2001-04-09       0.9034       0.8967       0.9066  0.8814       -1.0  \n",
       "2001-08-20       0.9177       0.9125       0.9155  0.9078       -1.0  "
      ]
     },
     "execution_count": 19,
     "metadata": {},
     "output_type": "execute_result"
    }
   ],
   "source": [
    "corr_df.head()"
   ]
  },
  {
   "cell_type": "code",
   "execution_count": 20,
   "metadata": {},
   "outputs": [
    {
     "data": {
      "image/png": "[encoded data removed]",
      "text/plain": [
       "<Figure size 864x1440 with 2 Axes>"
      ]
     },
     "metadata": {
      "needs_background": "light"
     },
     "output_type": "display_data"
    }
   ],
   "source": [
    "figure = plt.figure(figsize=(12,20))\n",
    "sns.heatmap(corr_df.corr()[['target']].sort_values('target',ascending=False),annot=True, cmap='coolwarm', center=0);"
   ]
  },
  {
   "cell_type": "markdown",
   "metadata": {},
   "source": [
    "A lot of the features are highly correlated - I will leave them in a let ridge and lasso penalties remove the unecessary featues. I will then go back and remove my own features. "
   ]
  },
  {
   "cell_type": "markdown",
   "metadata": {},
   "source": [
    "---"
   ]
  },
  {
   "cell_type": "markdown",
   "metadata": {},
   "source": [
    "## 2.4 Train/Test Split"
   ]
  },
  {
   "cell_type": "code",
   "execution_count": 21,
   "metadata": {},
   "outputs": [],
   "source": [
    "## Features and scaling"
   ]
  },
  {
   "cell_type": "code",
   "execution_count": 22,
   "metadata": {
    "scrolled": true
   },
   "outputs": [
    {
     "data": {
      "text/plain": [
       "Index(['open', 'high', 'low', 'close', 'mid', 'wk_mv_avg', 'mnth_mv_avg',\n",
       "       'volatility_3_day', 'volatility_10_day', 'pct_chge_3_prds',\n",
       "       'pct_chge_5_prds', 'pct_chge_10_prds', 'height', 'height-1', 'height-2',\n",
       "       'height-3', 'direction', 'gold_usd', 'gold_euro', 'marubozu',\n",
       "       'marubozu+1', 'marubozu-1', 'marubozu-2', 'day-1_open', 'day-2_open',\n",
       "       'day-3_open', 'day-1_high', 'day-2_high', 'day-3_high', 'day-1_low',\n",
       "       'day-2_low', 'day-3_low', 'day-1_close', 'day-2_close', 'day-3_close',\n",
       "       'day+1_open', 'day+1_high', 'day+1_low', 'day+1_close', 'day+2_high',\n",
       "       'day+2_low', 'day+3_high', 'day+3_low', 'day+4_high', 'day+4_low',\n",
       "       'day+5_high', 'day+5_low', 'exit_price', 'select', 'target', 'date+5',\n",
       "       'ml_signal'],\n",
       "      dtype='object')"
      ]
     },
     "execution_count": 22,
     "metadata": {},
     "output_type": "execute_result"
    }
   ],
   "source": [
    "features.columns"
   ]
  },
  {
   "cell_type": "code",
   "execution_count": 23,
   "metadata": {},
   "outputs": [],
   "source": [
    "features_df = features.drop(['height-1', 'height-2',\n",
    "       'height-3', 'marubozu',\n",
    "       'marubozu+1', 'marubozu-1', 'marubozu-2', 'day-1_open', 'day-2_open',\n",
    "       'day-3_open', 'day-1_high', 'day-2_high', 'day-3_high', 'day-1_low',\n",
    "       'day-2_low', 'day-3_low', 'day-1_close', 'day-2_close', 'day-3_close',\n",
    "       'day+1_open', 'day+1_high', 'day+1_low', 'day+1_close', 'day+2_high',\n",
    "       'day+2_low', 'day+3_high', 'day+3_low', 'day+4_high', 'day+4_low',\n",
    "       'day+5_high', 'day+5_low', 'exit_price', 'select', 'target', 'date+5'], axis=1)"
   ]
  },
  {
   "cell_type": "code",
   "execution_count": 24,
   "metadata": {},
   "outputs": [],
   "source": [
    "X = features_df\n",
    "y = features['target']"
   ]
  },
  {
   "cell_type": "code",
   "execution_count": 25,
   "metadata": {},
   "outputs": [],
   "source": [
    "#Train test split\n",
    "X_train, X_test, y_train, y_test = train_test_split(X,y,random_state=15)"
   ]
  },
  {
   "cell_type": "code",
   "execution_count": 26,
   "metadata": {},
   "outputs": [],
   "source": [
    "#Standardize the data\n",
    "ss = StandardScaler()\n",
    "X_train_ss = ss.fit_transform(X_train)\n",
    "X_test_ss = ss.transform(X_test)"
   ]
  },
  {
   "cell_type": "markdown",
   "metadata": {},
   "source": [
    "# 2.5 Model"
   ]
  },
  {
   "cell_type": "code",
   "execution_count": 27,
   "metadata": {},
   "outputs": [],
   "source": [
    "#I instantiate the various models\n",
    "lr = LinearRegression()\n",
    "\n",
    "lasso = LassoCV(n_alphas=200)\n",
    "\n",
    "ridge = RidgeCV(alphas=np.linspace(.1, 10, 100))\n",
    "\n",
    "enet = ElasticNetCV(l1_ratio=np.linspace(0.001, 1, 50), n_alphas = 100)"
   ]
  },
  {
   "cell_type": "code",
   "execution_count": 28,
   "metadata": {},
   "outputs": [],
   "source": [
    "# Do cross validation"
   ]
  },
  {
   "cell_type": "code",
   "execution_count": 29,
   "metadata": {},
   "outputs": [
    {
     "data": {
      "text/plain": [
       "0.9955833769501027"
      ]
     },
     "execution_count": 29,
     "metadata": {},
     "output_type": "execute_result"
    }
   ],
   "source": [
    "lr_scores = cross_val_score(lr, X_train, y_train, cv=5)\n",
    "lr_scores.mean()"
   ]
  },
  {
   "cell_type": "code",
   "execution_count": 30,
   "metadata": {},
   "outputs": [
    {
     "data": {
      "text/plain": [
       "0.994823106651266"
      ]
     },
     "execution_count": 30,
     "metadata": {},
     "output_type": "execute_result"
    }
   ],
   "source": [
    "lasso_scores = cross_val_score(lasso, X_train_ss, y_train, cv=5)\n",
    "lasso_scores.mean()"
   ]
  },
  {
   "cell_type": "code",
   "execution_count": 31,
   "metadata": {},
   "outputs": [
    {
     "data": {
      "text/plain": [
       "0.9951963106202358"
      ]
     },
     "execution_count": 31,
     "metadata": {},
     "output_type": "execute_result"
    }
   ],
   "source": [
    "ridge_scores = cross_val_score(ridge, X_train_ss, y_train, cv=5)\n",
    "ridge_scores.mean()"
   ]
  },
  {
   "cell_type": "code",
   "execution_count": 32,
   "metadata": {},
   "outputs": [
    {
     "data": {
      "text/plain": [
       "0.9948610161084593"
      ]
     },
     "execution_count": 32,
     "metadata": {},
     "output_type": "execute_result"
    }
   ],
   "source": [
    "enet_scores = cross_val_score(enet, X_train_ss, y_train, cv=5)\n",
    "enet_scores.mean()"
   ]
  },
  {
   "cell_type": "markdown",
   "metadata": {},
   "source": [
    "Normal regression performed the best. However I will ue elasticnet as it was close and I feel it will generalise better on new datasets."
   ]
  },
  {
   "cell_type": "code",
   "execution_count": 33,
   "metadata": {},
   "outputs": [],
   "source": [
    "# Final run using the Test Data"
   ]
  },
  {
   "cell_type": "code",
   "execution_count": 34,
   "metadata": {},
   "outputs": [
    {
     "data": {
      "text/plain": [
       "ElasticNetCV(alphas=None, copy_X=True, cv=None, eps=0.001, fit_intercept=True,\n",
       "             l1_ratio=array([0.001     , 0.02138776, 0.04177551, 0.06216327, 0.08255102,\n",
       "       0.10293878, 0.12332653, 0.14371429, 0.16410204, 0.1844898 ,\n",
       "       0.20487755, 0.22526531, 0.24565306, 0.26604082, 0.28642857,\n",
       "       0.30681633, 0.32720408, 0.34759184, 0.36797959, 0.38836735,\n",
       "       0.4087551 , 0.42914286, 0.44953061, 0.46991837, 0.4...\n",
       "       0.61263265, 0.63302041, 0.65340816, 0.67379592, 0.69418367,\n",
       "       0.71457143, 0.73495918, 0.75534694, 0.77573469, 0.79612245,\n",
       "       0.8165102 , 0.83689796, 0.85728571, 0.87767347, 0.89806122,\n",
       "       0.91844898, 0.93883673, 0.95922449, 0.97961224, 1.        ]),\n",
       "             max_iter=1000, n_alphas=100, n_jobs=None, normalize=False,\n",
       "             positive=False, precompute='auto', random_state=None,\n",
       "             selection='cyclic', tol=0.0001, verbose=0)"
      ]
     },
     "execution_count": 34,
     "metadata": {},
     "output_type": "execute_result"
    }
   ],
   "source": [
    "# fit the model\n",
    "enet.fit(X_train_ss, y_train)"
   ]
  },
  {
   "cell_type": "code",
   "execution_count": 35,
   "metadata": {},
   "outputs": [
    {
     "data": {
      "text/plain": [
       "0.9973777755480328"
      ]
     },
     "execution_count": 35,
     "metadata": {},
     "output_type": "execute_result"
    }
   ],
   "source": [
    "# score the model on train\n",
    "enet.score(X_train_ss, y_train)"
   ]
  },
  {
   "cell_type": "code",
   "execution_count": 36,
   "metadata": {
    "scrolled": true
   },
   "outputs": [
    {
     "data": {
      "text/plain": [
       "0.9933414784502105"
      ]
     },
     "execution_count": 36,
     "metadata": {},
     "output_type": "execute_result"
    }
   ],
   "source": [
    "# score the model on unseen data\n",
    "enet.score(X_test_ss, y_test)"
   ]
  },
  {
   "cell_type": "markdown",
   "metadata": {},
   "source": [
    "#### There is some overfitting but still generalised well"
   ]
  },
  {
   "cell_type": "code",
   "execution_count": 37,
   "metadata": {},
   "outputs": [
    {
     "data": {
      "text/plain": [
       "0.9933414784502105"
      ]
     },
     "execution_count": 37,
     "metadata": {},
     "output_type": "execute_result"
    }
   ],
   "source": [
    "# Get predictions\n",
    "yhat = enet.predict(X_test_ss)\n",
    "r2_score(y_test, yhat)"
   ]
  },
  {
   "cell_type": "code",
   "execution_count": 38,
   "metadata": {},
   "outputs": [],
   "source": [
    "residuals = y_test - yhat"
   ]
  },
  {
   "cell_type": "code",
   "execution_count": 39,
   "metadata": {},
   "outputs": [
    {
     "data": {
      "text/plain": [
       "Text(0.5, 0, 'Predictions')"
      ]
     },
     "execution_count": 39,
     "metadata": {},
     "output_type": "execute_result"
    },
    {
     "data": {
      "image/png": "[encoded data removed]",
      "text/plain": [
       "<Figure size 720x720 with 1 Axes>"
      ]
     },
     "metadata": {
      "needs_background": "light"
     },
     "output_type": "display_data"
    }
   ],
   "source": [
    "# Plot to show the correlation between prediction and value.\n",
    "f, ax = plt.subplots(figsize=(10,10))\n",
    "sns.scatterplot(y_test, yhat);\n",
    "ax.plot(y_test.min(), y_test.max(),\n",
    "        y_test, y_test, color='r');\n",
    "plt.title(\"Relationship between predictions and actual prices\") \n",
    "plt.ylabel(\"Forex price\")\n",
    "plt.xlabel(\"Predictions\") "
   ]
  },
  {
   "cell_type": "markdown",
   "metadata": {},
   "source": [
    "The price predictions are visually quite accurate"
   ]
  },
  {
   "cell_type": "code",
   "execution_count": 40,
   "metadata": {},
   "outputs": [
    {
     "data": {
      "text/plain": [
       "Text(0.5, 0, 'Predictions')"
      ]
     },
     "execution_count": 40,
     "metadata": {},
     "output_type": "execute_result"
    },
    {
     "data": {
      "image/png": "[encoded data removed]",
      "text/plain": [
       "<Figure size 720x720 with 1 Axes>"
      ]
     },
     "metadata": {
      "needs_background": "light"
     },
     "output_type": "display_data"
    }
   ],
   "source": [
    "#plt.scatter(yhat, residuals);\n",
    "\n",
    "f, ax = plt.subplots(figsize=(10,10))\n",
    "sns.scatterplot(yhat, residuals);\n",
    "ax.axhline(0, ls='--', color='r')\n",
    "plt.title(\"Relationship between residuals and actual prices\") \n",
    "plt.ylabel(\"Residuals\")\n",
    "plt.xlabel(\"Predictions\")"
   ]
  },
  {
   "cell_type": "markdown",
   "metadata": {},
   "source": [
    "The residuals are distributed evenly which is important"
   ]
  },
  {
   "cell_type": "markdown",
   "metadata": {},
   "source": [
    "## 2.6 Interprete Model"
   ]
  },
  {
   "cell_type": "code",
   "execution_count": 41,
   "metadata": {},
   "outputs": [
    {
     "data": {
      "text/html": [
       "<div>\n",
       "<style scoped>\n",
       "    .dataframe tbody tr th:only-of-type {\n",
       "        vertical-align: middle;\n",
       "    }\n",
       "\n",
       "    .dataframe tbody tr th {\n",
       "        vertical-align: top;\n",
       "    }\n",
       "\n",
       "    .dataframe thead th {\n",
       "        text-align: right;\n",
       "    }\n",
       "</style>\n",
       "<table border=\"1\" class=\"dataframe\">\n",
       "  <thead>\n",
       "    <tr style=\"text-align: right;\">\n",
       "      <th></th>\n",
       "      <th>feature</th>\n",
       "      <th>coef</th>\n",
       "    </tr>\n",
       "  </thead>\n",
       "  <tbody>\n",
       "    <tr>\n",
       "      <th>0</th>\n",
       "      <td>open</td>\n",
       "      <td>0.108149</td>\n",
       "    </tr>\n",
       "    <tr>\n",
       "      <th>1</th>\n",
       "      <td>high</td>\n",
       "      <td>0.036152</td>\n",
       "    </tr>\n",
       "    <tr>\n",
       "      <th>3</th>\n",
       "      <td>close</td>\n",
       "      <td>0.020952</td>\n",
       "    </tr>\n",
       "    <tr>\n",
       "      <th>13</th>\n",
       "      <td>direction</td>\n",
       "      <td>0.017402</td>\n",
       "    </tr>\n",
       "    <tr>\n",
       "      <th>11</th>\n",
       "      <td>pct_chge_10_prds</td>\n",
       "      <td>0.004407</td>\n",
       "    </tr>\n",
       "    <tr>\n",
       "      <th>16</th>\n",
       "      <td>ml_signal</td>\n",
       "      <td>0.004174</td>\n",
       "    </tr>\n",
       "    <tr>\n",
       "      <th>12</th>\n",
       "      <td>height</td>\n",
       "      <td>0.001287</td>\n",
       "    </tr>\n",
       "    <tr>\n",
       "      <th>15</th>\n",
       "      <td>gold_euro</td>\n",
       "      <td>0.000613</td>\n",
       "    </tr>\n",
       "    <tr>\n",
       "      <th>6</th>\n",
       "      <td>mnth_mv_avg</td>\n",
       "      <td>0.000000</td>\n",
       "    </tr>\n",
       "    <tr>\n",
       "      <th>5</th>\n",
       "      <td>wk_mv_avg</td>\n",
       "      <td>0.000000</td>\n",
       "    </tr>\n",
       "    <tr>\n",
       "      <th>9</th>\n",
       "      <td>pct_chge_3_prds</td>\n",
       "      <td>0.000000</td>\n",
       "    </tr>\n",
       "    <tr>\n",
       "      <th>4</th>\n",
       "      <td>mid</td>\n",
       "      <td>0.000000</td>\n",
       "    </tr>\n",
       "    <tr>\n",
       "      <th>2</th>\n",
       "      <td>low</td>\n",
       "      <td>0.000000</td>\n",
       "    </tr>\n",
       "    <tr>\n",
       "      <th>14</th>\n",
       "      <td>gold_usd</td>\n",
       "      <td>0.000000</td>\n",
       "    </tr>\n",
       "    <tr>\n",
       "      <th>8</th>\n",
       "      <td>volatility_10_day</td>\n",
       "      <td>-0.000000</td>\n",
       "    </tr>\n",
       "    <tr>\n",
       "      <th>7</th>\n",
       "      <td>volatility_3_day</td>\n",
       "      <td>-0.001019</td>\n",
       "    </tr>\n",
       "    <tr>\n",
       "      <th>10</th>\n",
       "      <td>pct_chge_5_prds</td>\n",
       "      <td>-0.004582</td>\n",
       "    </tr>\n",
       "  </tbody>\n",
       "</table>\n",
       "</div>"
      ],
      "text/plain": [
       "              feature      coef\n",
       "0                open  0.108149\n",
       "1                high  0.036152\n",
       "3               close  0.020952\n",
       "13          direction  0.017402\n",
       "11   pct_chge_10_prds  0.004407\n",
       "16          ml_signal  0.004174\n",
       "12             height  0.001287\n",
       "15          gold_euro  0.000613\n",
       "6         mnth_mv_avg  0.000000\n",
       "5           wk_mv_avg  0.000000\n",
       "9     pct_chge_3_prds  0.000000\n",
       "4                 mid  0.000000\n",
       "2                 low  0.000000\n",
       "14           gold_usd  0.000000\n",
       "8   volatility_10_day -0.000000\n",
       "7    volatility_3_day -0.001019\n",
       "10    pct_chge_5_prds -0.004582"
      ]
     },
     "execution_count": 41,
     "metadata": {},
     "output_type": "execute_result"
    }
   ],
   "source": [
    "# combine dataframes for analysis\n",
    "model_coefs = pd.DataFrame(enet.coef_, index=X.columns)\n",
    "\n",
    "model_coefs.rename(columns={0:'coef'}, inplace=True)\n",
    "model_coefs.reset_index(inplace=True)\n",
    "model_coefs.sort_values('coef',ascending=False, inplace=True)\n",
    "model_coefs.rename(columns={'index':'feature'}, inplace=True)\n",
    "model_coefs"
   ]
  },
  {
   "cell_type": "code",
   "execution_count": 42,
   "metadata": {},
   "outputs": [
    {
     "data": {
      "image/png": "[encoded data removed]",
      "text/plain": [
       "<Figure size 720x720 with 1 Axes>"
      ]
     },
     "metadata": {
      "needs_background": "light"
     },
     "output_type": "display_data"
    }
   ],
   "source": [
    "# Plot the graph to show top and bottom features.\n",
    "\n",
    "f, ax = plt.subplots(figsize=(10,10))\n",
    "sns.barplot(model_coefs['coef'],model_coefs['feature']);\n",
    "plt.title(\"Positive and Negative features impacting prices\") \n",
    "plt.ylabel(\"Features\")\n",
    "plt.xlabel(\"Coefficients\") ;"
   ]
  },
  {
   "cell_type": "markdown",
   "metadata": {},
   "source": [
    "## 2.7 Create Confusion Matrix"
   ]
  },
  {
   "cell_type": "code",
   "execution_count": 43,
   "metadata": {},
   "outputs": [],
   "source": [
    "# add predictions\n",
    "final_res_enet = X_test\n",
    "final_res_enet['yhat'] = yhat\n",
    "final_res_enet;"
   ]
  },
  {
   "cell_type": "code",
   "execution_count": 44,
   "metadata": {},
   "outputs": [
    {
     "data": {
      "text/html": [
       "<div>\n",
       "<style scoped>\n",
       "    .dataframe tbody tr th:only-of-type {\n",
       "        vertical-align: middle;\n",
       "    }\n",
       "\n",
       "    .dataframe tbody tr th {\n",
       "        vertical-align: top;\n",
       "    }\n",
       "\n",
       "    .dataframe thead th {\n",
       "        text-align: right;\n",
       "    }\n",
       "</style>\n",
       "<table border=\"1\" class=\"dataframe\">\n",
       "  <thead>\n",
       "    <tr style=\"text-align: right;\">\n",
       "      <th></th>\n",
       "      <th>open</th>\n",
       "      <th>high</th>\n",
       "      <th>low</th>\n",
       "      <th>close</th>\n",
       "      <th>yhat</th>\n",
       "    </tr>\n",
       "    <tr>\n",
       "      <th>date</th>\n",
       "      <th></th>\n",
       "      <th></th>\n",
       "      <th></th>\n",
       "      <th></th>\n",
       "      <th></th>\n",
       "    </tr>\n",
       "  </thead>\n",
       "  <tbody>\n",
       "    <tr>\n",
       "      <th>2006-03-31</th>\n",
       "      <td>1.2159</td>\n",
       "      <td>1.2164</td>\n",
       "      <td>1.2066</td>\n",
       "      <td>1.2072</td>\n",
       "      <td>1.190058</td>\n",
       "    </tr>\n",
       "    <tr>\n",
       "      <th>2006-08-02</th>\n",
       "      <td>1.2830</td>\n",
       "      <td>1.2830</td>\n",
       "      <td>1.2743</td>\n",
       "      <td>1.2755</td>\n",
       "      <td>1.260746</td>\n",
       "    </tr>\n",
       "    <tr>\n",
       "      <th>2008-06-19</th>\n",
       "      <td>1.5570</td>\n",
       "      <td>1.5588</td>\n",
       "      <td>1.5468</td>\n",
       "      <td>1.5513</td>\n",
       "      <td>1.523050</td>\n",
       "    </tr>\n",
       "    <tr>\n",
       "      <th>2009-06-03</th>\n",
       "      <td>1.4304</td>\n",
       "      <td>1.4338</td>\n",
       "      <td>1.4109</td>\n",
       "      <td>1.4168</td>\n",
       "      <td>1.403645</td>\n",
       "    </tr>\n",
       "    <tr>\n",
       "      <th>2010-03-05</th>\n",
       "      <td>1.3589</td>\n",
       "      <td>1.3690</td>\n",
       "      <td>1.3529</td>\n",
       "      <td>1.3677</td>\n",
       "      <td>1.372100</td>\n",
       "    </tr>\n",
       "  </tbody>\n",
       "</table>\n",
       "</div>"
      ],
      "text/plain": [
       "              open    high     low   close      yhat\n",
       "date                                                \n",
       "2006-03-31  1.2159  1.2164  1.2066  1.2072  1.190058\n",
       "2006-08-02  1.2830  1.2830  1.2743  1.2755  1.260746\n",
       "2008-06-19  1.5570  1.5588  1.5468  1.5513  1.523050\n",
       "2009-06-03  1.4304  1.4338  1.4109  1.4168  1.403645\n",
       "2010-03-05  1.3589  1.3690  1.3529  1.3677  1.372100"
      ]
     },
     "execution_count": 44,
     "metadata": {},
     "output_type": "execute_result"
    }
   ],
   "source": [
    "# filter dataframe\n",
    "final_res_enet.sort_index(inplace=True)\n",
    "final_res_enet[['open','high','low','close','yhat']].head()"
   ]
  },
  {
   "cell_type": "code",
   "execution_count": 45,
   "metadata": {},
   "outputs": [],
   "source": [
    "# get the result dates\n",
    "result_dates = final_res_enet.index"
   ]
  },
  {
   "cell_type": "code",
   "execution_count": 46,
   "metadata": {},
   "outputs": [],
   "source": [
    "prepare_res = features.drop(['ml_signal','mid','wk_mv_avg', 'mnth_mv_avg',\n",
    "       'volatility_3_day', 'volatility_10_day', 'pct_chge_3_prds',\n",
    "       'pct_chge_5_prds', 'pct_chge_10_prds', 'height-1', 'height-2',\n",
    "       'height-3', 'gold_usd', 'gold_euro', 'marubozu',\n",
    "       'marubozu+1', 'marubozu-1', 'marubozu-2', 'day-1_open', 'day-2_open',\n",
    "       'day-3_open', 'day-1_high', 'day-2_high', 'day-3_high', 'day-1_low',\n",
    "       'day-2_low', 'day-3_low', 'day-1_close', 'day-2_close', 'day-3_close',\n",
    "       'day+1_open', 'day+1_high', 'day+1_low', 'day+1_close', 'day+2_high',\n",
    "       'day+2_low', 'day+3_high', 'day+3_low', 'day+4_high', 'day+4_low',\n",
    "       'day+5_high', 'day+5_low', 'select', 'date+5'], axis=1)"
   ]
  },
  {
   "cell_type": "code",
   "execution_count": 47,
   "metadata": {},
   "outputs": [],
   "source": [
    "# create the confusion matrix dataframe\n",
    "create_cm_df = prepare_res.loc[prepare_res.index.isin(result_dates)]\n",
    "create_cm_df;"
   ]
  },
  {
   "cell_type": "code",
   "execution_count": 48,
   "metadata": {},
   "outputs": [],
   "source": [
    "# add predictions\n",
    "create_cm_df['yhat'] = final_res_enet[['yhat']]\n",
    "create_cm_df.rename(columns={'exit_price':'threshold','target':'actual_best'}, inplace=True)"
   ]
  },
  {
   "cell_type": "code",
   "execution_count": 49,
   "metadata": {},
   "outputs": [],
   "source": [
    "def classify_row(row):\n",
    "    \n",
    "    if row['direction'] == -1:\n",
    "        if row['actual_best'] <= row['threshold']:\n",
    "            return 1\n",
    "        else:\n",
    "            return 0\n",
    "    elif row['direction'] == 1:\n",
    "        if row['actual_best'] >= row['threshold']:\n",
    "            return 1\n",
    "        else:\n",
    "            return 0"
   ]
  },
  {
   "cell_type": "code",
   "execution_count": 50,
   "metadata": {},
   "outputs": [],
   "source": [
    "def classify_mlr(row):\n",
    "    \n",
    "    if row['direction'] == -1:\n",
    "        if row['yhat'] <= row['threshold']:\n",
    "            return 1\n",
    "        else:\n",
    "            return 0\n",
    "    elif row['direction'] == 1:\n",
    "        if row['yhat'] >= row['threshold']:\n",
    "            return 1\n",
    "        else:\n",
    "            return 0"
   ]
  },
  {
   "cell_type": "code",
   "execution_count": 51,
   "metadata": {},
   "outputs": [],
   "source": [
    "create_cm_df['correct_decision'] = create_cm_df.apply(classify_row, axis=1)"
   ]
  },
  {
   "cell_type": "code",
   "execution_count": 52,
   "metadata": {},
   "outputs": [],
   "source": [
    "create_cm_df['ml_decision'] = create_cm_df.apply(classify_mlr, axis=1)"
   ]
  },
  {
   "cell_type": "code",
   "execution_count": 53,
   "metadata": {},
   "outputs": [],
   "source": [
    "def clasify_cm(row):\n",
    "    if row['correct_decision'] == 1 and row['ml_decision'] ==1:\n",
    "        return 'tp'\n",
    "    elif row['correct_decision'] == 0 and row['ml_decision'] == 0:\n",
    "        return 'tn'\n",
    "    elif row['correct_decision'] == 0 and row['ml_decision'] == 1:\n",
    "        return 'fp'\n",
    "    elif row['correct_decision'] == 1 and row['ml_decision'] == 0:\n",
    "        return 'fn'"
   ]
  },
  {
   "cell_type": "code",
   "execution_count": 54,
   "metadata": {},
   "outputs": [],
   "source": [
    "create_cm_df['outcome'] = create_cm_df.apply(clasify_cm, axis=1)"
   ]
  },
  {
   "cell_type": "code",
   "execution_count": 55,
   "metadata": {},
   "outputs": [],
   "source": [
    "def create_cm(enet_res):\n",
    "    \n",
    "    res_cm = [[0,0],\n",
    "              [0,0]]\n",
    "    \n",
    "    for res in enet_res:\n",
    "        if res == 'tp':\n",
    "            res_cm[0][0] += 1\n",
    "        elif res == 'fp':\n",
    "            res_cm[0][1] += 1\n",
    "        elif res == 'fn':\n",
    "            res_cm[1][0] += 1\n",
    "        elif res == 'tn':\n",
    "            res_cm[1][1] += 1\n",
    "    \n",
    "    return res_cm"
   ]
  },
  {
   "cell_type": "code",
   "execution_count": 56,
   "metadata": {},
   "outputs": [],
   "source": [
    "cm = create_cm(create_cm_df['outcome'])"
   ]
  },
  {
   "cell_type": "code",
   "execution_count": 57,
   "metadata": {},
   "outputs": [
    {
     "data": {
      "text/html": [
       "<div>\n",
       "<style scoped>\n",
       "    .dataframe tbody tr th:only-of-type {\n",
       "        vertical-align: middle;\n",
       "    }\n",
       "\n",
       "    .dataframe tbody tr th {\n",
       "        vertical-align: top;\n",
       "    }\n",
       "\n",
       "    .dataframe thead th {\n",
       "        text-align: right;\n",
       "    }\n",
       "</style>\n",
       "<table border=\"1\" class=\"dataframe\">\n",
       "  <thead>\n",
       "    <tr style=\"text-align: right;\">\n",
       "      <th></th>\n",
       "      <th>actual success</th>\n",
       "      <th>actual non_success</th>\n",
       "    </tr>\n",
       "  </thead>\n",
       "  <tbody>\n",
       "    <tr>\n",
       "      <th>pred_success</th>\n",
       "      <td>6</td>\n",
       "      <td>5</td>\n",
       "    </tr>\n",
       "    <tr>\n",
       "      <th>pred_non_success</th>\n",
       "      <td>3</td>\n",
       "      <td>2</td>\n",
       "    </tr>\n",
       "  </tbody>\n",
       "</table>\n",
       "</div>"
      ],
      "text/plain": [
       "                  actual success  actual non_success\n",
       "pred_success                   6                   5\n",
       "pred_non_success               3                   2"
      ]
     },
     "execution_count": 57,
     "metadata": {},
     "output_type": "execute_result"
    }
   ],
   "source": [
    "cm_df = pd.DataFrame(cm, index=['pred_success', 'pred_non_success'], columns=['actual success', 'actual non_success'])\n",
    "cm_df"
   ]
  },
  {
   "cell_type": "code",
   "execution_count": 58,
   "metadata": {},
   "outputs": [],
   "source": [
    "def print_metrics(cm):\n",
    "    # Accuracy - how many did the model get right\n",
    "    # Total number of correct predictions / total number of predictions\n",
    "    acc= (cm[0][0]+cm[1][1])/(np.sum(cm))\n",
    "    \n",
    "    # Precision proportion of positive identifications that were actually correct\n",
    "    # True positives/ true positives + false positives)\n",
    "    prec = cm[0][0]/(cm[0][0]+cm[0][1])\n",
    "    \n",
    "    # Recall - proportion of actual positives that were correctly defined\n",
    "    # True positives/ true positives + false negatives\n",
    "    rec = cm[0][0]/(cm[0][0]+cm[1][0])\n",
    "\n",
    "    print(f\"Accuracy:\\t{round(acc,2)}\\nPrecision:\\t{round(prec,2)}\\nRecall:\\t\\t{round(rec,2)}\")\n"
   ]
  },
  {
   "cell_type": "code",
   "execution_count": 59,
   "metadata": {
    "scrolled": true
   },
   "outputs": [
    {
     "name": "stdout",
     "output_type": "stream",
     "text": [
      "Accuracy:\t0.5\n",
      "Precision:\t0.55\n",
      "Recall:\t\t0.67\n"
     ]
    }
   ],
   "source": [
    "# Display the results\n",
    "print_metrics(cm)"
   ]
  },
  {
   "cell_type": "markdown",
   "metadata": {},
   "source": [
    "---"
   ]
  },
  {
   "cell_type": "markdown",
   "metadata": {},
   "source": [
    "# 3.0 Fractals"
   ]
  },
  {
   "cell_type": "markdown",
   "metadata": {},
   "source": [
    "## 3.1 Load Data¶"
   ]
  },
  {
   "cell_type": "code",
   "execution_count": 60,
   "metadata": {},
   "outputs": [],
   "source": [
    "# read in the daily data\n",
    "daily_fract = pd.read_csv('/Users/stuartdaw/Documents/Capstone_data/data/resampled/eur-usddailyfractals.csv', \n",
    "                    index_col='date', parse_dates=True)"
   ]
  },
  {
   "cell_type": "code",
   "execution_count": 61,
   "metadata": {},
   "outputs": [
    {
     "data": {
      "text/html": [
       "<div>\n",
       "<style scoped>\n",
       "    .dataframe tbody tr th:only-of-type {\n",
       "        vertical-align: middle;\n",
       "    }\n",
       "\n",
       "    .dataframe tbody tr th {\n",
       "        vertical-align: top;\n",
       "    }\n",
       "\n",
       "    .dataframe thead th {\n",
       "        text-align: right;\n",
       "    }\n",
       "</style>\n",
       "<table border=\"1\" class=\"dataframe\">\n",
       "  <thead>\n",
       "    <tr style=\"text-align: right;\">\n",
       "      <th></th>\n",
       "      <th>open</th>\n",
       "      <th>high</th>\n",
       "      <th>low</th>\n",
       "      <th>close</th>\n",
       "      <th>mid</th>\n",
       "      <th>wk_mv_avg</th>\n",
       "      <th>mnth_mv_avg</th>\n",
       "      <th>volatility_3_day</th>\n",
       "      <th>volatility_10_day</th>\n",
       "      <th>pct_chge_3_prds</th>\n",
       "      <th>pct_chge_5_prds</th>\n",
       "      <th>pct_chge_10_prds</th>\n",
       "      <th>height</th>\n",
       "      <th>height-1</th>\n",
       "      <th>height-2</th>\n",
       "      <th>height-3</th>\n",
       "      <th>direction</th>\n",
       "      <th>gold_usd</th>\n",
       "      <th>gold_euro</th>\n",
       "      <th>day-1_high</th>\n",
       "      <th>day-2_high</th>\n",
       "      <th>day-3_high</th>\n",
       "      <th>day-4_high</th>\n",
       "      <th>day-1_low</th>\n",
       "      <th>day-2_low</th>\n",
       "      <th>day-3_low</th>\n",
       "      <th>day-4_low</th>\n",
       "      <th>day-1_open</th>\n",
       "      <th>day-2_open</th>\n",
       "      <th>day-3_open</th>\n",
       "      <th>day-4_open</th>\n",
       "      <th>day-1_close</th>\n",
       "      <th>day-2_close</th>\n",
       "      <th>day-3_close</th>\n",
       "      <th>day-4_close</th>\n",
       "      <th>day+1_open</th>\n",
       "      <th>day+1_high</th>\n",
       "      <th>day+1_low</th>\n",
       "      <th>day+1_close</th>\n",
       "      <th>day+2_high</th>\n",
       "      <th>day+2_low</th>\n",
       "      <th>day+3_high</th>\n",
       "      <th>day+3_low</th>\n",
       "      <th>day+4_high</th>\n",
       "      <th>day+4_low</th>\n",
       "      <th>day+5_high</th>\n",
       "      <th>day+5_low</th>\n",
       "      <th>5_day_avg</th>\n",
       "      <th>fractal_end</th>\n",
       "      <th>day+1_frac</th>\n",
       "      <th>day+2_frac</th>\n",
       "      <th>day+3_frac</th>\n",
       "      <th>day+4_frac</th>\n",
       "      <th>select</th>\n",
       "      <th>exit_price</th>\n",
       "      <th>target</th>\n",
       "      <th>date+5</th>\n",
       "      <th>fractal</th>\n",
       "    </tr>\n",
       "    <tr>\n",
       "      <th>date</th>\n",
       "      <th></th>\n",
       "      <th></th>\n",
       "      <th></th>\n",
       "      <th></th>\n",
       "      <th></th>\n",
       "      <th></th>\n",
       "      <th></th>\n",
       "      <th></th>\n",
       "      <th></th>\n",
       "      <th></th>\n",
       "      <th></th>\n",
       "      <th></th>\n",
       "      <th></th>\n",
       "      <th></th>\n",
       "      <th></th>\n",
       "      <th></th>\n",
       "      <th></th>\n",
       "      <th></th>\n",
       "      <th></th>\n",
       "      <th></th>\n",
       "      <th></th>\n",
       "      <th></th>\n",
       "      <th></th>\n",
       "      <th></th>\n",
       "      <th></th>\n",
       "      <th></th>\n",
       "      <th></th>\n",
       "      <th></th>\n",
       "      <th></th>\n",
       "      <th></th>\n",
       "      <th></th>\n",
       "      <th></th>\n",
       "      <th></th>\n",
       "      <th></th>\n",
       "      <th></th>\n",
       "      <th></th>\n",
       "      <th></th>\n",
       "      <th></th>\n",
       "      <th></th>\n",
       "      <th></th>\n",
       "      <th></th>\n",
       "      <th></th>\n",
       "      <th></th>\n",
       "      <th></th>\n",
       "      <th></th>\n",
       "      <th></th>\n",
       "      <th></th>\n",
       "      <th></th>\n",
       "      <th></th>\n",
       "      <th></th>\n",
       "      <th></th>\n",
       "      <th></th>\n",
       "      <th></th>\n",
       "      <th></th>\n",
       "      <th></th>\n",
       "      <th></th>\n",
       "      <th></th>\n",
       "      <th></th>\n",
       "    </tr>\n",
       "  </thead>\n",
       "  <tbody>\n",
       "    <tr>\n",
       "      <th>2000-07-17</th>\n",
       "      <td>0.9382</td>\n",
       "      <td>0.9402</td>\n",
       "      <td>0.9342</td>\n",
       "      <td>0.9360</td>\n",
       "      <td>0.93710</td>\n",
       "      <td>0.94217</td>\n",
       "      <td>0.947100</td>\n",
       "      <td>0.004282</td>\n",
       "      <td>0.003440</td>\n",
       "      <td>-0.009408</td>\n",
       "      <td>-0.016013</td>\n",
       "      <td>-0.014875</td>\n",
       "      <td>0.0022</td>\n",
       "      <td>0.0030</td>\n",
       "      <td>0.0062</td>\n",
       "      <td>0.0086</td>\n",
       "      <td>0</td>\n",
       "      <td>98.1</td>\n",
       "      <td>123.3</td>\n",
       "      <td>0.9389</td>\n",
       "      <td>0.9425</td>\n",
       "      <td>0.9517</td>\n",
       "      <td>0.9569</td>\n",
       "      <td>0.9318</td>\n",
       "      <td>0.9330</td>\n",
       "      <td>0.9396</td>\n",
       "      <td>0.9496</td>\n",
       "      <td>0.9353</td>\n",
       "      <td>0.9416</td>\n",
       "      <td>0.9503</td>\n",
       "      <td>0.9545</td>\n",
       "      <td>0.9383</td>\n",
       "      <td>0.9354</td>\n",
       "      <td>0.9417</td>\n",
       "      <td>0.9504</td>\n",
       "      <td>0.9361</td>\n",
       "      <td>0.9368</td>\n",
       "      <td>0.9227</td>\n",
       "      <td>0.9256</td>\n",
       "      <td>0.9270</td>\n",
       "      <td>0.9193</td>\n",
       "      <td>0.9342</td>\n",
       "      <td>0.9204</td>\n",
       "      <td>0.9384</td>\n",
       "      <td>0.9319</td>\n",
       "      <td>0.9367</td>\n",
       "      <td>0.9313</td>\n",
       "      <td>0.00500</td>\n",
       "      <td>0</td>\n",
       "      <td>0.0</td>\n",
       "      <td>0.0</td>\n",
       "      <td>0.0</td>\n",
       "      <td>-1.0</td>\n",
       "      <td>0</td>\n",
       "      <td>0.93600</td>\n",
       "      <td>0.0000</td>\n",
       "      <td>2000-07-24</td>\n",
       "      <td>0</td>\n",
       "    </tr>\n",
       "    <tr>\n",
       "      <th>2000-07-18</th>\n",
       "      <td>0.9361</td>\n",
       "      <td>0.9368</td>\n",
       "      <td>0.9227</td>\n",
       "      <td>0.9256</td>\n",
       "      <td>0.93085</td>\n",
       "      <td>0.93785</td>\n",
       "      <td>0.945633</td>\n",
       "      <td>0.003582</td>\n",
       "      <td>0.003797</td>\n",
       "      <td>-0.008151</td>\n",
       "      <td>-0.022678</td>\n",
       "      <td>-0.020519</td>\n",
       "      <td>0.0105</td>\n",
       "      <td>0.0022</td>\n",
       "      <td>0.0030</td>\n",
       "      <td>0.0062</td>\n",
       "      <td>0</td>\n",
       "      <td>98.3</td>\n",
       "      <td>123.8</td>\n",
       "      <td>0.9402</td>\n",
       "      <td>0.9389</td>\n",
       "      <td>0.9425</td>\n",
       "      <td>0.9517</td>\n",
       "      <td>0.9342</td>\n",
       "      <td>0.9318</td>\n",
       "      <td>0.9330</td>\n",
       "      <td>0.9396</td>\n",
       "      <td>0.9382</td>\n",
       "      <td>0.9353</td>\n",
       "      <td>0.9416</td>\n",
       "      <td>0.9503</td>\n",
       "      <td>0.9360</td>\n",
       "      <td>0.9383</td>\n",
       "      <td>0.9354</td>\n",
       "      <td>0.9417</td>\n",
       "      <td>0.9255</td>\n",
       "      <td>0.9270</td>\n",
       "      <td>0.9193</td>\n",
       "      <td>0.9246</td>\n",
       "      <td>0.9342</td>\n",
       "      <td>0.9204</td>\n",
       "      <td>0.9384</td>\n",
       "      <td>0.9319</td>\n",
       "      <td>0.9367</td>\n",
       "      <td>0.9313</td>\n",
       "      <td>0.9433</td>\n",
       "      <td>0.9329</td>\n",
       "      <td>0.00610</td>\n",
       "      <td>0</td>\n",
       "      <td>0.0</td>\n",
       "      <td>0.0</td>\n",
       "      <td>-1.0</td>\n",
       "      <td>0.0</td>\n",
       "      <td>0</td>\n",
       "      <td>0.92560</td>\n",
       "      <td>0.0000</td>\n",
       "      <td>2000-07-25</td>\n",
       "      <td>0</td>\n",
       "    </tr>\n",
       "    <tr>\n",
       "      <th>2000-07-19</th>\n",
       "      <td>0.9255</td>\n",
       "      <td>0.9270</td>\n",
       "      <td>0.9193</td>\n",
       "      <td>0.9246</td>\n",
       "      <td>0.92505</td>\n",
       "      <td>0.93366</td>\n",
       "      <td>0.944207</td>\n",
       "      <td>0.003915</td>\n",
       "      <td>0.003618</td>\n",
       "      <td>-0.012543</td>\n",
       "      <td>-0.022146</td>\n",
       "      <td>-0.029125</td>\n",
       "      <td>0.0009</td>\n",
       "      <td>0.0105</td>\n",
       "      <td>0.0022</td>\n",
       "      <td>0.0030</td>\n",
       "      <td>0</td>\n",
       "      <td>97.0</td>\n",
       "      <td>123.3</td>\n",
       "      <td>0.9368</td>\n",
       "      <td>0.9402</td>\n",
       "      <td>0.9389</td>\n",
       "      <td>0.9425</td>\n",
       "      <td>0.9227</td>\n",
       "      <td>0.9342</td>\n",
       "      <td>0.9318</td>\n",
       "      <td>0.9330</td>\n",
       "      <td>0.9361</td>\n",
       "      <td>0.9382</td>\n",
       "      <td>0.9353</td>\n",
       "      <td>0.9416</td>\n",
       "      <td>0.9256</td>\n",
       "      <td>0.9360</td>\n",
       "      <td>0.9383</td>\n",
       "      <td>0.9354</td>\n",
       "      <td>0.9245</td>\n",
       "      <td>0.9342</td>\n",
       "      <td>0.9204</td>\n",
       "      <td>0.9325</td>\n",
       "      <td>0.9384</td>\n",
       "      <td>0.9319</td>\n",
       "      <td>0.9367</td>\n",
       "      <td>0.9313</td>\n",
       "      <td>0.9433</td>\n",
       "      <td>0.9329</td>\n",
       "      <td>0.9450</td>\n",
       "      <td>0.9391</td>\n",
       "      <td>0.00500</td>\n",
       "      <td>0</td>\n",
       "      <td>0.0</td>\n",
       "      <td>-1.0</td>\n",
       "      <td>0.0</td>\n",
       "      <td>0.0</td>\n",
       "      <td>0</td>\n",
       "      <td>0.92460</td>\n",
       "      <td>0.0000</td>\n",
       "      <td>2000-07-26</td>\n",
       "      <td>0</td>\n",
       "    </tr>\n",
       "    <tr>\n",
       "      <th>2000-07-20</th>\n",
       "      <td>0.9245</td>\n",
       "      <td>0.9342</td>\n",
       "      <td>0.9204</td>\n",
       "      <td>0.9325</td>\n",
       "      <td>0.92850</td>\n",
       "      <td>0.93166</td>\n",
       "      <td>0.943221</td>\n",
       "      <td>0.005881</td>\n",
       "      <td>0.004167</td>\n",
       "      <td>-0.009177</td>\n",
       "      <td>-0.010655</td>\n",
       "      <td>-0.024531</td>\n",
       "      <td>0.0080</td>\n",
       "      <td>0.0009</td>\n",
       "      <td>0.0105</td>\n",
       "      <td>0.0022</td>\n",
       "      <td>0</td>\n",
       "      <td>97.1</td>\n",
       "      <td>123.3</td>\n",
       "      <td>0.9270</td>\n",
       "      <td>0.9368</td>\n",
       "      <td>0.9402</td>\n",
       "      <td>0.9389</td>\n",
       "      <td>0.9193</td>\n",
       "      <td>0.9227</td>\n",
       "      <td>0.9342</td>\n",
       "      <td>0.9318</td>\n",
       "      <td>0.9255</td>\n",
       "      <td>0.9361</td>\n",
       "      <td>0.9382</td>\n",
       "      <td>0.9353</td>\n",
       "      <td>0.9246</td>\n",
       "      <td>0.9256</td>\n",
       "      <td>0.9360</td>\n",
       "      <td>0.9383</td>\n",
       "      <td>0.9324</td>\n",
       "      <td>0.9384</td>\n",
       "      <td>0.9319</td>\n",
       "      <td>0.9365</td>\n",
       "      <td>0.9367</td>\n",
       "      <td>0.9313</td>\n",
       "      <td>0.9433</td>\n",
       "      <td>0.9329</td>\n",
       "      <td>0.9450</td>\n",
       "      <td>0.9391</td>\n",
       "      <td>0.9444</td>\n",
       "      <td>0.9314</td>\n",
       "      <td>0.00500</td>\n",
       "      <td>0</td>\n",
       "      <td>-1.0</td>\n",
       "      <td>0.0</td>\n",
       "      <td>0.0</td>\n",
       "      <td>0.0</td>\n",
       "      <td>0</td>\n",
       "      <td>0.93250</td>\n",
       "      <td>0.0000</td>\n",
       "      <td>2000-07-27</td>\n",
       "      <td>0</td>\n",
       "    </tr>\n",
       "    <tr>\n",
       "      <th>2000-07-21</th>\n",
       "      <td>0.9324</td>\n",
       "      <td>0.9384</td>\n",
       "      <td>0.9319</td>\n",
       "      <td>0.9365</td>\n",
       "      <td>0.93445</td>\n",
       "      <td>0.93119</td>\n",
       "      <td>0.942879</td>\n",
       "      <td>0.006660</td>\n",
       "      <td>0.005033</td>\n",
       "      <td>0.003867</td>\n",
       "      <td>-0.002509</td>\n",
       "      <td>-0.016575</td>\n",
       "      <td>0.0041</td>\n",
       "      <td>0.0080</td>\n",
       "      <td>0.0009</td>\n",
       "      <td>0.0105</td>\n",
       "      <td>-1</td>\n",
       "      <td>97.1</td>\n",
       "      <td>122.2</td>\n",
       "      <td>0.9342</td>\n",
       "      <td>0.9270</td>\n",
       "      <td>0.9368</td>\n",
       "      <td>0.9402</td>\n",
       "      <td>0.9204</td>\n",
       "      <td>0.9193</td>\n",
       "      <td>0.9227</td>\n",
       "      <td>0.9342</td>\n",
       "      <td>0.9245</td>\n",
       "      <td>0.9255</td>\n",
       "      <td>0.9361</td>\n",
       "      <td>0.9382</td>\n",
       "      <td>0.9325</td>\n",
       "      <td>0.9246</td>\n",
       "      <td>0.9256</td>\n",
       "      <td>0.9360</td>\n",
       "      <td>0.9366</td>\n",
       "      <td>0.9367</td>\n",
       "      <td>0.9313</td>\n",
       "      <td>0.9330</td>\n",
       "      <td>0.9433</td>\n",
       "      <td>0.9329</td>\n",
       "      <td>0.9450</td>\n",
       "      <td>0.9391</td>\n",
       "      <td>0.9444</td>\n",
       "      <td>0.9314</td>\n",
       "      <td>0.9338</td>\n",
       "      <td>0.9229</td>\n",
       "      <td>0.00514</td>\n",
       "      <td>-1</td>\n",
       "      <td>0.0</td>\n",
       "      <td>0.0</td>\n",
       "      <td>0.0</td>\n",
       "      <td>0.0</td>\n",
       "      <td>1</td>\n",
       "      <td>0.93136</td>\n",
       "      <td>0.9229</td>\n",
       "      <td>2000-07-28</td>\n",
       "      <td>0</td>\n",
       "    </tr>\n",
       "  </tbody>\n",
       "</table>\n",
       "</div>"
      ],
      "text/plain": [
       "              open    high     low   close      mid  wk_mv_avg  mnth_mv_avg  \\\n",
       "date                                                                          \n",
       "2000-07-17  0.9382  0.9402  0.9342  0.9360  0.93710    0.94217     0.947100   \n",
       "2000-07-18  0.9361  0.9368  0.9227  0.9256  0.93085    0.93785     0.945633   \n",
       "2000-07-19  0.9255  0.9270  0.9193  0.9246  0.92505    0.93366     0.944207   \n",
       "2000-07-20  0.9245  0.9342  0.9204  0.9325  0.92850    0.93166     0.943221   \n",
       "2000-07-21  0.9324  0.9384  0.9319  0.9365  0.93445    0.93119     0.942879   \n",
       "\n",
       "            volatility_3_day  volatility_10_day  pct_chge_3_prds  \\\n",
       "date                                                               \n",
       "2000-07-17          0.004282           0.003440        -0.009408   \n",
       "2000-07-18          0.003582           0.003797        -0.008151   \n",
       "2000-07-19          0.003915           0.003618        -0.012543   \n",
       "2000-07-20          0.005881           0.004167        -0.009177   \n",
       "2000-07-21          0.006660           0.005033         0.003867   \n",
       "\n",
       "            pct_chge_5_prds  pct_chge_10_prds  height  height-1  height-2  \\\n",
       "date                                                                        \n",
       "2000-07-17        -0.016013         -0.014875  0.0022    0.0030    0.0062   \n",
       "2000-07-18        -0.022678         -0.020519  0.0105    0.0022    0.0030   \n",
       "2000-07-19        -0.022146         -0.029125  0.0009    0.0105    0.0022   \n",
       "2000-07-20        -0.010655         -0.024531  0.0080    0.0009    0.0105   \n",
       "2000-07-21        -0.002509         -0.016575  0.0041    0.0080    0.0009   \n",
       "\n",
       "            height-3  direction  gold_usd  gold_euro  day-1_high  day-2_high  \\\n",
       "date                                                                           \n",
       "2000-07-17    0.0086          0      98.1      123.3      0.9389      0.9425   \n",
       "2000-07-18    0.0062          0      98.3      123.8      0.9402      0.9389   \n",
       "2000-07-19    0.0030          0      97.0      123.3      0.9368      0.9402   \n",
       "2000-07-20    0.0022          0      97.1      123.3      0.9270      0.9368   \n",
       "2000-07-21    0.0105         -1      97.1      122.2      0.9342      0.9270   \n",
       "\n",
       "            day-3_high  day-4_high  day-1_low  day-2_low  day-3_low  \\\n",
       "date                                                                  \n",
       "2000-07-17      0.9517      0.9569     0.9318     0.9330     0.9396   \n",
       "2000-07-18      0.9425      0.9517     0.9342     0.9318     0.9330   \n",
       "2000-07-19      0.9389      0.9425     0.9227     0.9342     0.9318   \n",
       "2000-07-20      0.9402      0.9389     0.9193     0.9227     0.9342   \n",
       "2000-07-21      0.9368      0.9402     0.9204     0.9193     0.9227   \n",
       "\n",
       "            day-4_low  day-1_open  day-2_open  day-3_open  day-4_open  \\\n",
       "date                                                                    \n",
       "2000-07-17     0.9496      0.9353      0.9416      0.9503      0.9545   \n",
       "2000-07-18     0.9396      0.9382      0.9353      0.9416      0.9503   \n",
       "2000-07-19     0.9330      0.9361      0.9382      0.9353      0.9416   \n",
       "2000-07-20     0.9318      0.9255      0.9361      0.9382      0.9353   \n",
       "2000-07-21     0.9342      0.9245      0.9255      0.9361      0.9382   \n",
       "\n",
       "            day-1_close  day-2_close  day-3_close  day-4_close  day+1_open  \\\n",
       "date                                                                         \n",
       "2000-07-17       0.9383       0.9354       0.9417       0.9504      0.9361   \n",
       "2000-07-18       0.9360       0.9383       0.9354       0.9417      0.9255   \n",
       "2000-07-19       0.9256       0.9360       0.9383       0.9354      0.9245   \n",
       "2000-07-20       0.9246       0.9256       0.9360       0.9383      0.9324   \n",
       "2000-07-21       0.9325       0.9246       0.9256       0.9360      0.9366   \n",
       "\n",
       "            day+1_high  day+1_low  day+1_close  day+2_high  day+2_low  \\\n",
       "date                                                                    \n",
       "2000-07-17      0.9368     0.9227       0.9256      0.9270     0.9193   \n",
       "2000-07-18      0.9270     0.9193       0.9246      0.9342     0.9204   \n",
       "2000-07-19      0.9342     0.9204       0.9325      0.9384     0.9319   \n",
       "2000-07-20      0.9384     0.9319       0.9365      0.9367     0.9313   \n",
       "2000-07-21      0.9367     0.9313       0.9330      0.9433     0.9329   \n",
       "\n",
       "            day+3_high  day+3_low  day+4_high  day+4_low  day+5_high  \\\n",
       "date                                                                   \n",
       "2000-07-17      0.9342     0.9204      0.9384     0.9319      0.9367   \n",
       "2000-07-18      0.9384     0.9319      0.9367     0.9313      0.9433   \n",
       "2000-07-19      0.9367     0.9313      0.9433     0.9329      0.9450   \n",
       "2000-07-20      0.9433     0.9329      0.9450     0.9391      0.9444   \n",
       "2000-07-21      0.9450     0.9391      0.9444     0.9314      0.9338   \n",
       "\n",
       "            day+5_low  5_day_avg  fractal_end  day+1_frac  day+2_frac  \\\n",
       "date                                                                    \n",
       "2000-07-17     0.9313    0.00500            0         0.0         0.0   \n",
       "2000-07-18     0.9329    0.00610            0         0.0         0.0   \n",
       "2000-07-19     0.9391    0.00500            0         0.0        -1.0   \n",
       "2000-07-20     0.9314    0.00500            0        -1.0         0.0   \n",
       "2000-07-21     0.9229    0.00514           -1         0.0         0.0   \n",
       "\n",
       "            day+3_frac  day+4_frac  select  exit_price  target      date+5  \\\n",
       "date                                                                         \n",
       "2000-07-17         0.0        -1.0       0     0.93600  0.0000  2000-07-24   \n",
       "2000-07-18        -1.0         0.0       0     0.92560  0.0000  2000-07-25   \n",
       "2000-07-19         0.0         0.0       0     0.92460  0.0000  2000-07-26   \n",
       "2000-07-20         0.0         0.0       0     0.93250  0.0000  2000-07-27   \n",
       "2000-07-21         0.0         0.0       1     0.93136  0.9229  2000-07-28   \n",
       "\n",
       "            fractal  \n",
       "date                 \n",
       "2000-07-17        0  \n",
       "2000-07-18        0  \n",
       "2000-07-19        0  \n",
       "2000-07-20        0  \n",
       "2000-07-21        0  "
      ]
     },
     "execution_count": 61,
     "metadata": {},
     "output_type": "execute_result"
    }
   ],
   "source": [
    "daily_fract.head()"
   ]
  },
  {
   "cell_type": "code",
   "execution_count": 62,
   "metadata": {},
   "outputs": [
    {
     "data": {
      "text/plain": [
       "(4632, 58)"
      ]
     },
     "execution_count": 62,
     "metadata": {},
     "output_type": "execute_result"
    }
   ],
   "source": [
    "daily_fract.shape"
   ]
  },
  {
   "cell_type": "code",
   "execution_count": 63,
   "metadata": {},
   "outputs": [],
   "source": [
    "# get fractal strategy results\n",
    "strat_res_fr = pd.read_csv('/Users/stuartdaw/Documents/Capstone_data/model_results/arima_results_fr.csv', \n",
    "                           parse_dates=True)"
   ]
  },
  {
   "cell_type": "code",
   "execution_count": 64,
   "metadata": {},
   "outputs": [
    {
     "data": {
      "text/html": [
       "<div>\n",
       "<style scoped>\n",
       "    .dataframe tbody tr th:only-of-type {\n",
       "        vertical-align: middle;\n",
       "    }\n",
       "\n",
       "    .dataframe tbody tr th {\n",
       "        vertical-align: top;\n",
       "    }\n",
       "\n",
       "    .dataframe thead th {\n",
       "        text-align: right;\n",
       "    }\n",
       "</style>\n",
       "<table border=\"1\" class=\"dataframe\">\n",
       "  <thead>\n",
       "    <tr style=\"text-align: right;\">\n",
       "      <th></th>\n",
       "      <th>name</th>\n",
       "      <th>strategy</th>\n",
       "      <th>date</th>\n",
       "      <th>time_frame</th>\n",
       "      <th>RMSE</th>\n",
       "      <th>MSE</th>\n",
       "      <th>classification</th>\n",
       "    </tr>\n",
       "  </thead>\n",
       "  <tbody>\n",
       "    <tr>\n",
       "      <th>607</th>\n",
       "      <td>arima-0-1-0</td>\n",
       "      <td>fractals</td>\n",
       "      <td>2019-10-03</td>\n",
       "      <td>daily</td>\n",
       "      <td>0.001674</td>\n",
       "      <td>0.000003</td>\n",
       "      <td>tn</td>\n",
       "    </tr>\n",
       "    <tr>\n",
       "      <th>608</th>\n",
       "      <td>arima-0-1-0</td>\n",
       "      <td>fractals</td>\n",
       "      <td>2019-10-23</td>\n",
       "      <td>daily</td>\n",
       "      <td>0.004562</td>\n",
       "      <td>0.000021</td>\n",
       "      <td>fp</td>\n",
       "    </tr>\n",
       "    <tr>\n",
       "      <th>609</th>\n",
       "      <td>arima-0-1-0</td>\n",
       "      <td>fractals</td>\n",
       "      <td>2019-11-18</td>\n",
       "      <td>daily</td>\n",
       "      <td>0.005665</td>\n",
       "      <td>0.000032</td>\n",
       "      <td>fn</td>\n",
       "    </tr>\n",
       "    <tr>\n",
       "      <th>610</th>\n",
       "      <td>arima-0-1-0</td>\n",
       "      <td>fractals</td>\n",
       "      <td>2019-11-20</td>\n",
       "      <td>daily</td>\n",
       "      <td>0.007602</td>\n",
       "      <td>0.000058</td>\n",
       "      <td>fp</td>\n",
       "    </tr>\n",
       "    <tr>\n",
       "      <th>611</th>\n",
       "      <td>arima-0-1-0</td>\n",
       "      <td>fractals</td>\n",
       "      <td>2019-12-16</td>\n",
       "      <td>daily</td>\n",
       "      <td>0.006449</td>\n",
       "      <td>0.000042</td>\n",
       "      <td>fp</td>\n",
       "    </tr>\n",
       "  </tbody>\n",
       "</table>\n",
       "</div>"
      ],
      "text/plain": [
       "            name  strategy        date time_frame      RMSE       MSE  \\\n",
       "607  arima-0-1-0  fractals  2019-10-03      daily  0.001674  0.000003   \n",
       "608  arima-0-1-0  fractals  2019-10-23      daily  0.004562  0.000021   \n",
       "609  arima-0-1-0  fractals  2019-11-18      daily  0.005665  0.000032   \n",
       "610  arima-0-1-0  fractals  2019-11-20      daily  0.007602  0.000058   \n",
       "611  arima-0-1-0  fractals  2019-12-16      daily  0.006449  0.000042   \n",
       "\n",
       "    classification  \n",
       "607             tn  \n",
       "608             fp  \n",
       "609             fn  \n",
       "610             fp  \n",
       "611             fp  "
      ]
     },
     "execution_count": 64,
     "metadata": {},
     "output_type": "execute_result"
    }
   ],
   "source": [
    "strat_res_fr.tail(5)"
   ]
  },
  {
   "cell_type": "code",
   "execution_count": 65,
   "metadata": {},
   "outputs": [
    {
     "data": {
      "text/plain": [
       "612"
      ]
     },
     "execution_count": 65,
     "metadata": {},
     "output_type": "execute_result"
    }
   ],
   "source": [
    "len(strat_res_fr)"
   ]
  },
  {
   "cell_type": "markdown",
   "metadata": {},
   "source": [
    "---"
   ]
  },
  {
   "cell_type": "markdown",
   "metadata": {},
   "source": [
    "## 3.2 Create Features list"
   ]
  },
  {
   "cell_type": "code",
   "execution_count": 66,
   "metadata": {},
   "outputs": [
    {
     "data": {
      "text/html": [
       "<div>\n",
       "<style scoped>\n",
       "    .dataframe tbody tr th:only-of-type {\n",
       "        vertical-align: middle;\n",
       "    }\n",
       "\n",
       "    .dataframe tbody tr th {\n",
       "        vertical-align: top;\n",
       "    }\n",
       "\n",
       "    .dataframe thead th {\n",
       "        text-align: right;\n",
       "    }\n",
       "</style>\n",
       "<table border=\"1\" class=\"dataframe\">\n",
       "  <thead>\n",
       "    <tr style=\"text-align: right;\">\n",
       "      <th></th>\n",
       "      <th>pattern_end</th>\n",
       "    </tr>\n",
       "  </thead>\n",
       "  <tbody>\n",
       "    <tr>\n",
       "      <th>0</th>\n",
       "      <td>2000-07-21</td>\n",
       "    </tr>\n",
       "    <tr>\n",
       "      <th>1</th>\n",
       "      <td>2000-07-28</td>\n",
       "    </tr>\n",
       "    <tr>\n",
       "      <th>2</th>\n",
       "      <td>2000-08-07</td>\n",
       "    </tr>\n",
       "    <tr>\n",
       "      <th>3</th>\n",
       "      <td>2000-08-22</td>\n",
       "    </tr>\n",
       "    <tr>\n",
       "      <th>4</th>\n",
       "      <td>2000-08-29</td>\n",
       "    </tr>\n",
       "  </tbody>\n",
       "</table>\n",
       "</div>"
      ],
      "text/plain": [
       "  pattern_end\n",
       "0  2000-07-21\n",
       "1  2000-07-28\n",
       "2  2000-08-07\n",
       "3  2000-08-22\n",
       "4  2000-08-29"
      ]
     },
     "execution_count": 66,
     "metadata": {},
     "output_type": "execute_result"
    }
   ],
   "source": [
    "# get fractal pattern list\n",
    "fractal_pattern = pd.read_csv('/Users/stuartdaw/Documents/Capstone_data/patterns/dailyfractals.csv', \n",
    "                           parse_dates=True)\n",
    "fractal_pattern.head()"
   ]
  },
  {
   "cell_type": "code",
   "execution_count": 67,
   "metadata": {},
   "outputs": [
    {
     "data": {
      "text/plain": [
       "(613, 58)"
      ]
     },
     "execution_count": 67,
     "metadata": {},
     "output_type": "execute_result"
    }
   ],
   "source": [
    "features_fr = daily_fract[daily_fract.index.isin(fractal_pattern['pattern_end'])]\n",
    "features_fr.shape"
   ]
  },
  {
   "cell_type": "code",
   "execution_count": 68,
   "metadata": {},
   "outputs": [
    {
     "data": {
      "text/plain": [
       "(612, 58)"
      ]
     },
     "execution_count": 68,
     "metadata": {},
     "output_type": "execute_result"
    }
   ],
   "source": [
    "features_fr = features_fr[features_fr.index.isin(strat_res_fr['date'])]\n",
    "features_fr.shape"
   ]
  },
  {
   "cell_type": "code",
   "execution_count": 69,
   "metadata": {},
   "outputs": [],
   "source": [
    "# add the arima signal to the data\n",
    "results_series_fr = list(strat_res_fr['classification'])\n",
    "features_fr['ml_signal'] = results_series_fr\n",
    "features_fr;"
   ]
  },
  {
   "cell_type": "code",
   "execution_count": 70,
   "metadata": {},
   "outputs": [
    {
     "data": {
      "text/plain": [
       "direction\n",
       "-1    314\n",
       " 1    298\n",
       "Name: open, dtype: int64"
      ]
     },
     "execution_count": 70,
     "metadata": {},
     "output_type": "execute_result"
    }
   ],
   "source": [
    "# count number of features\n",
    "features_fr.groupby('direction').count()['open']"
   ]
  },
  {
   "cell_type": "code",
   "execution_count": 71,
   "metadata": {},
   "outputs": [
    {
     "data": {
      "text/plain": [
       "ml_signal\n",
       "fn    151\n",
       "fp    116\n",
       "tn     86\n",
       "tp    259\n",
       "Name: open, dtype: int64"
      ]
     },
     "execution_count": 71,
     "metadata": {},
     "output_type": "execute_result"
    }
   ],
   "source": [
    "features_fr.groupby('ml_signal').count()['open']"
   ]
  },
  {
   "cell_type": "code",
   "execution_count": 72,
   "metadata": {},
   "outputs": [],
   "source": [
    "def convert_signal(row):\n",
    "    if row['ml_signal'] == 'tp':\n",
    "        return row['direction']\n",
    "    else:\n",
    "        return 0"
   ]
  },
  {
   "cell_type": "code",
   "execution_count": 73,
   "metadata": {},
   "outputs": [],
   "source": [
    "features_fr['ml_signal'] = features_fr.apply(convert_signal, axis=1)"
   ]
  },
  {
   "cell_type": "code",
   "execution_count": 74,
   "metadata": {},
   "outputs": [
    {
     "data": {
      "text/plain": [
       "ml_signal\n",
       "-1    110\n",
       " 0    353\n",
       " 1    149\n",
       "Name: open, dtype: int64"
      ]
     },
     "execution_count": 74,
     "metadata": {},
     "output_type": "execute_result"
    }
   ],
   "source": [
    "features_fr.groupby('ml_signal').count()['open']"
   ]
  },
  {
   "cell_type": "markdown",
   "metadata": {},
   "source": [
    "---"
   ]
  },
  {
   "cell_type": "markdown",
   "metadata": {},
   "source": [
    "---"
   ]
  },
  {
   "cell_type": "markdown",
   "metadata": {},
   "source": [
    "## 3.3 Check correlation"
   ]
  },
  {
   "cell_type": "code",
   "execution_count": 75,
   "metadata": {},
   "outputs": [],
   "source": [
    "corr_df_fr = features_fr.drop(['high', 'low', 'close', 'mid','height', 'height-1', 'height-2',\n",
    "       'height-3', 'direction','day-1_high','day-1_close','day-1_low','day-1_open',\n",
    "       'day-2_high', 'day-3_high', 'day-4_high', 'day-2_low',\n",
    "       'day-3_low', 'day-4_low', 'day-2_open', 'day-3_open',\n",
    "       'day-4_open', 'day-2_close', 'day-3_close',\n",
    "       'day-4_close', 'day+1_open', 'day+1_high', 'day+1_low', 'day+1_close',\n",
    "       'day+2_high', 'day+2_low', 'day+3_high', 'day+3_low', 'day+4_high',\n",
    "       'day+4_low', 'day+5_high', 'day+5_low', 'fractal_end',\n",
    "       'day+1_frac', 'day+2_frac', 'day+3_frac', 'day+4_frac', 'select',\n",
    "       'exit_price', 'date+5', 'fractal'], axis=1)\n"
   ]
  },
  {
   "cell_type": "code",
   "execution_count": 76,
   "metadata": {},
   "outputs": [
    {
     "data": {
      "text/html": [
       "<div>\n",
       "<style scoped>\n",
       "    .dataframe tbody tr th:only-of-type {\n",
       "        vertical-align: middle;\n",
       "    }\n",
       "\n",
       "    .dataframe tbody tr th {\n",
       "        vertical-align: top;\n",
       "    }\n",
       "\n",
       "    .dataframe thead th {\n",
       "        text-align: right;\n",
       "    }\n",
       "</style>\n",
       "<table border=\"1\" class=\"dataframe\">\n",
       "  <thead>\n",
       "    <tr style=\"text-align: right;\">\n",
       "      <th></th>\n",
       "      <th>open</th>\n",
       "      <th>wk_mv_avg</th>\n",
       "      <th>mnth_mv_avg</th>\n",
       "      <th>volatility_3_day</th>\n",
       "      <th>volatility_10_day</th>\n",
       "      <th>pct_chge_3_prds</th>\n",
       "      <th>pct_chge_5_prds</th>\n",
       "      <th>pct_chge_10_prds</th>\n",
       "      <th>gold_usd</th>\n",
       "      <th>gold_euro</th>\n",
       "      <th>5_day_avg</th>\n",
       "      <th>target</th>\n",
       "      <th>ml_signal</th>\n",
       "    </tr>\n",
       "    <tr>\n",
       "      <th>date</th>\n",
       "      <th></th>\n",
       "      <th></th>\n",
       "      <th></th>\n",
       "      <th></th>\n",
       "      <th></th>\n",
       "      <th></th>\n",
       "      <th></th>\n",
       "      <th></th>\n",
       "      <th></th>\n",
       "      <th></th>\n",
       "      <th></th>\n",
       "      <th></th>\n",
       "      <th></th>\n",
       "    </tr>\n",
       "  </thead>\n",
       "  <tbody>\n",
       "    <tr>\n",
       "      <th>2000-07-28</th>\n",
       "      <td>0.9320</td>\n",
       "      <td>0.93597</td>\n",
       "      <td>0.941517</td>\n",
       "      <td>0.008063</td>\n",
       "      <td>0.005738</td>\n",
       "      <td>-0.009605</td>\n",
       "      <td>-0.006849</td>\n",
       "      <td>-0.009340</td>\n",
       "      <td>96.6</td>\n",
       "      <td>122.4</td>\n",
       "      <td>0.00674</td>\n",
       "      <td>0.9295</td>\n",
       "      <td>0</td>\n",
       "    </tr>\n",
       "    <tr>\n",
       "      <th>2000-08-07</th>\n",
       "      <td>0.9090</td>\n",
       "      <td>0.91307</td>\n",
       "      <td>0.931095</td>\n",
       "      <td>0.004558</td>\n",
       "      <td>0.004815</td>\n",
       "      <td>-0.009052</td>\n",
       "      <td>-0.018472</td>\n",
       "      <td>-0.027974</td>\n",
       "      <td>94.9</td>\n",
       "      <td>122.7</td>\n",
       "      <td>0.00546</td>\n",
       "      <td>0.8965</td>\n",
       "      <td>-1</td>\n",
       "    </tr>\n",
       "    <tr>\n",
       "      <th>2000-08-22</th>\n",
       "      <td>0.9024</td>\n",
       "      <td>0.90927</td>\n",
       "      <td>0.915057</td>\n",
       "      <td>0.002085</td>\n",
       "      <td>0.005123</td>\n",
       "      <td>-0.019383</td>\n",
       "      <td>-0.014703</td>\n",
       "      <td>-0.007406</td>\n",
       "      <td>95.0</td>\n",
       "      <td>124.2</td>\n",
       "      <td>0.00500</td>\n",
       "      <td>0.9075</td>\n",
       "      <td>0</td>\n",
       "    </tr>\n",
       "    <tr>\n",
       "      <th>2000-08-29</th>\n",
       "      <td>0.8992</td>\n",
       "      <td>0.89958</td>\n",
       "      <td>0.906824</td>\n",
       "      <td>0.003953</td>\n",
       "      <td>0.004445</td>\n",
       "      <td>-0.004609</td>\n",
       "      <td>-0.001893</td>\n",
       "      <td>-0.016568</td>\n",
       "      <td>95.2</td>\n",
       "      <td>124.7</td>\n",
       "      <td>0.00520</td>\n",
       "      <td>0.9040</td>\n",
       "      <td>0</td>\n",
       "    </tr>\n",
       "    <tr>\n",
       "      <th>2000-09-04</th>\n",
       "      <td>0.9017</td>\n",
       "      <td>0.89552</td>\n",
       "      <td>0.903233</td>\n",
       "      <td>0.003867</td>\n",
       "      <td>0.004178</td>\n",
       "      <td>0.006656</td>\n",
       "      <td>-0.002052</td>\n",
       "      <td>-0.005691</td>\n",
       "      <td>96.1</td>\n",
       "      <td>125.5</td>\n",
       "      <td>0.00560</td>\n",
       "      <td>0.8571</td>\n",
       "      <td>-1</td>\n",
       "    </tr>\n",
       "  </tbody>\n",
       "</table>\n",
       "</div>"
      ],
      "text/plain": [
       "              open  wk_mv_avg  mnth_mv_avg  volatility_3_day  \\\n",
       "date                                                           \n",
       "2000-07-28  0.9320    0.93597     0.941517          0.008063   \n",
       "2000-08-07  0.9090    0.91307     0.931095          0.004558   \n",
       "2000-08-22  0.9024    0.90927     0.915057          0.002085   \n",
       "2000-08-29  0.8992    0.89958     0.906824          0.003953   \n",
       "2000-09-04  0.9017    0.89552     0.903233          0.003867   \n",
       "\n",
       "            volatility_10_day  pct_chge_3_prds  pct_chge_5_prds  \\\n",
       "date                                                              \n",
       "2000-07-28           0.005738        -0.009605        -0.006849   \n",
       "2000-08-07           0.004815        -0.009052        -0.018472   \n",
       "2000-08-22           0.005123        -0.019383        -0.014703   \n",
       "2000-08-29           0.004445        -0.004609        -0.001893   \n",
       "2000-09-04           0.004178         0.006656        -0.002052   \n",
       "\n",
       "            pct_chge_10_prds  gold_usd  gold_euro  5_day_avg  target  \\\n",
       "date                                                                   \n",
       "2000-07-28         -0.009340      96.6      122.4    0.00674  0.9295   \n",
       "2000-08-07         -0.027974      94.9      122.7    0.00546  0.8965   \n",
       "2000-08-22         -0.007406      95.0      124.2    0.00500  0.9075   \n",
       "2000-08-29         -0.016568      95.2      124.7    0.00520  0.9040   \n",
       "2000-09-04         -0.005691      96.1      125.5    0.00560  0.8571   \n",
       "\n",
       "            ml_signal  \n",
       "date                   \n",
       "2000-07-28          0  \n",
       "2000-08-07         -1  \n",
       "2000-08-22          0  \n",
       "2000-08-29          0  \n",
       "2000-09-04         -1  "
      ]
     },
     "execution_count": 76,
     "metadata": {},
     "output_type": "execute_result"
    }
   ],
   "source": [
    "corr_df_fr.head()"
   ]
  },
  {
   "cell_type": "code",
   "execution_count": 77,
   "metadata": {},
   "outputs": [
    {
     "data": {
      "image/png": "[encoded data removed]",
      "text/plain": [
       "<Figure size 864x1440 with 2 Axes>"
      ]
     },
     "metadata": {
      "needs_background": "light"
     },
     "output_type": "display_data"
    }
   ],
   "source": [
    "figure = plt.figure(figsize=(12,20))\n",
    "sns.heatmap(corr_df_fr.corr()[['target']].sort_values('target',ascending=False),annot=True, cmap='coolwarm', center=0);"
   ]
  },
  {
   "cell_type": "markdown",
   "metadata": {},
   "source": [
    "A lot of the features are highly correlated - I will leave them in a let ridge and lasso penalties remove the unecessary featues. I will then go back and remove my own features. "
   ]
  },
  {
   "cell_type": "markdown",
   "metadata": {},
   "source": [
    "---"
   ]
  },
  {
   "cell_type": "markdown",
   "metadata": {},
   "source": [
    "## 3.4 Train/Test Split"
   ]
  },
  {
   "cell_type": "code",
   "execution_count": 78,
   "metadata": {},
   "outputs": [],
   "source": [
    "## Features and scaling"
   ]
  },
  {
   "cell_type": "code",
   "execution_count": 79,
   "metadata": {},
   "outputs": [],
   "source": [
    "features_df_fr = features_fr.drop(['mid','height', 'height-1', 'height-2',\n",
    "       'height-3', 'direction','day-1_high','day-1_close','day-1_low','day-1_open',\n",
    "       'day-2_high', 'day-3_high', 'day-4_high', 'day-2_low',\n",
    "       'day-3_low', 'day-4_low', 'day-2_open', 'day-3_open',\n",
    "       'day-4_open', 'day-2_close', 'day-3_close',\n",
    "       'day-4_close', 'day+1_open', 'day+1_high', 'day+1_low', 'day+1_close',\n",
    "       'day+2_high', 'day+2_low', 'day+3_high', 'day+3_low', 'day+4_high',\n",
    "       'day+4_low', 'day+5_high', 'day+5_low', 'fractal_end',\n",
    "       'day+1_frac', 'day+2_frac', 'day+3_frac', 'day+4_frac', 'select',\n",
    "       'exit_price', 'date+5', 'fractal','target'], axis=1)"
   ]
  },
  {
   "cell_type": "code",
   "execution_count": 80,
   "metadata": {},
   "outputs": [],
   "source": [
    "X = features_df_fr\n",
    "y = features_fr['target']"
   ]
  },
  {
   "cell_type": "code",
   "execution_count": 81,
   "metadata": {},
   "outputs": [],
   "source": [
    "#Train test split\n",
    "X_train, X_test, y_train, y_test = train_test_split(X,y,random_state=15)\n",
    "\n",
    "#Standardize data\n",
    "ss = StandardScaler()\n",
    "X_train_ss = ss.fit_transform(X_train)\n",
    "X_test_ss = ss.transform(X_test)"
   ]
  },
  {
   "cell_type": "markdown",
   "metadata": {},
   "source": [
    "# 3.5 Model"
   ]
  },
  {
   "cell_type": "code",
   "execution_count": 82,
   "metadata": {},
   "outputs": [],
   "source": [
    "#I instantiate the various models\n",
    "lr = LinearRegression()\n",
    "\n",
    "lasso = LassoCV(n_alphas=200)\n",
    "\n",
    "ridge = RidgeCV(alphas=np.linspace(.1, 10, 100))\n",
    "\n",
    "enet = ElasticNetCV(l1_ratio=np.linspace(0.001, 1, 100), n_alphas = 100)"
   ]
  },
  {
   "cell_type": "code",
   "execution_count": 83,
   "metadata": {},
   "outputs": [
    {
     "data": {
      "text/plain": [
       "0.9936025622785785"
      ]
     },
     "execution_count": 83,
     "metadata": {},
     "output_type": "execute_result"
    }
   ],
   "source": [
    "lr_scores = cross_val_score(lr, X_train, y_train, cv=5)\n",
    "lr_scores.mean()"
   ]
  },
  {
   "cell_type": "code",
   "execution_count": 84,
   "metadata": {},
   "outputs": [
    {
     "data": {
      "text/plain": [
       "0.9930245789453565"
      ]
     },
     "execution_count": 84,
     "metadata": {},
     "output_type": "execute_result"
    }
   ],
   "source": [
    "lasso_scores = cross_val_score(lasso, X_train_ss, y_train, cv=5)\n",
    "lasso_scores.mean()"
   ]
  },
  {
   "cell_type": "code",
   "execution_count": 85,
   "metadata": {},
   "outputs": [
    {
     "data": {
      "text/plain": [
       "0.99338830614736"
      ]
     },
     "execution_count": 85,
     "metadata": {},
     "output_type": "execute_result"
    }
   ],
   "source": [
    "ridge_scores = cross_val_score(ridge, X_train_ss, y_train, cv=5)\n",
    "ridge_scores.mean()"
   ]
  },
  {
   "cell_type": "code",
   "execution_count": 86,
   "metadata": {},
   "outputs": [
    {
     "data": {
      "text/plain": [
       "0.9929902216803935"
      ]
     },
     "execution_count": 86,
     "metadata": {},
     "output_type": "execute_result"
    }
   ],
   "source": [
    "enet_scores = cross_val_score(enet, X_train_ss, y_train, cv=5)\n",
    "enet_scores.mean()"
   ]
  },
  {
   "cell_type": "markdown",
   "metadata": {},
   "source": [
    "lasso was best, but enet should be able to be tuned to beat it or at least match it."
   ]
  },
  {
   "cell_type": "code",
   "execution_count": 87,
   "metadata": {},
   "outputs": [
    {
     "data": {
      "text/plain": [
       "ElasticNetCV(alphas=None, copy_X=True, cv=None, eps=0.001, fit_intercept=True,\n",
       "             l1_ratio=array([0.001     , 0.01109091, 0.02118182, 0.03127273, 0.04136364,\n",
       "       0.05145455, 0.06154545, 0.07163636, 0.08172727, 0.09181818,\n",
       "       0.10190909, 0.112     , 0.12209091, 0.13218182, 0.14227273,\n",
       "       0.15236364, 0.16245455, 0.17254545, 0.18263636, 0.19272727,\n",
       "       0.20281818, 0.21290909, 0.223     , 0.23309091, 0.24318182,...\n",
       "       0.80827273, 0.81836364, 0.82845455, 0.83854545, 0.84863636,\n",
       "       0.85872727, 0.86881818, 0.87890909, 0.889     , 0.89909091,\n",
       "       0.90918182, 0.91927273, 0.92936364, 0.93945455, 0.94954545,\n",
       "       0.95963636, 0.96972727, 0.97981818, 0.98990909, 1.        ]),\n",
       "             max_iter=1000, n_alphas=100, n_jobs=None, normalize=False,\n",
       "             positive=False, precompute='auto', random_state=None,\n",
       "             selection='cyclic', tol=0.0001, verbose=0)"
      ]
     },
     "execution_count": 87,
     "metadata": {},
     "output_type": "execute_result"
    }
   ],
   "source": [
    "enet.fit(X_train_ss, y_train)"
   ]
  },
  {
   "cell_type": "code",
   "execution_count": 88,
   "metadata": {},
   "outputs": [
    {
     "data": {
      "text/plain": [
       "0.9938622950053597"
      ]
     },
     "execution_count": 88,
     "metadata": {},
     "output_type": "execute_result"
    }
   ],
   "source": [
    "enet.score(X_train_ss, y_train)"
   ]
  },
  {
   "cell_type": "code",
   "execution_count": 89,
   "metadata": {
    "scrolled": true
   },
   "outputs": [
    {
     "data": {
      "text/plain": [
       "0.9948463731744758"
      ]
     },
     "execution_count": 89,
     "metadata": {},
     "output_type": "execute_result"
    }
   ],
   "source": [
    "enet.score(X_test_ss, y_test)"
   ]
  },
  {
   "cell_type": "code",
   "execution_count": 90,
   "metadata": {},
   "outputs": [
    {
     "data": {
      "text/plain": [
       "0.9948463731744758"
      ]
     },
     "execution_count": 90,
     "metadata": {},
     "output_type": "execute_result"
    }
   ],
   "source": [
    "yhat = enet.predict(X_test_ss)\n",
    "r2_score(y_test, yhat)"
   ]
  },
  {
   "cell_type": "code",
   "execution_count": 91,
   "metadata": {},
   "outputs": [
    {
     "name": "stdout",
     "output_type": "stream",
     "text": [
      "The root mean squared error of the model is 0.00012357153191568443\n"
     ]
    }
   ],
   "source": [
    "mse = (mean_squared_error(y_test, yhat))\n",
    "print(\"The root mean squared error of the model is \" + str(mse))"
   ]
  },
  {
   "cell_type": "code",
   "execution_count": 92,
   "metadata": {},
   "outputs": [],
   "source": [
    "residuals = y_test - yhat"
   ]
  },
  {
   "cell_type": "code",
   "execution_count": 93,
   "metadata": {},
   "outputs": [
    {
     "data": {
      "text/plain": [
       "Text(0.5, 0, 'Predictions')"
      ]
     },
     "execution_count": 93,
     "metadata": {},
     "output_type": "execute_result"
    },
    {
     "data": {
      "image/png": "[encoded data removed]",
      "text/plain": [
       "<Figure size 720x720 with 1 Axes>"
      ]
     },
     "metadata": {
      "needs_background": "light"
     },
     "output_type": "display_data"
    }
   ],
   "source": [
    "# Plot to show the correlation between prediction and value.\n",
    "f, ax = plt.subplots(figsize=(10,10))\n",
    "sns.scatterplot(y_test, yhat);\n",
    "ax.plot(y_test.min(), y_test.max(),\n",
    "        y_test, y_test, color='r');\n",
    "plt.title(\"Relationship between predictions and actual prices\") \n",
    "plt.ylabel(\"Forex price\")\n",
    "plt.xlabel(\"Predictions\") "
   ]
  },
  {
   "cell_type": "markdown",
   "metadata": {},
   "source": [
    "The predicton and real values are visually look close. Small differences in the scale of data can be misleading though."
   ]
  },
  {
   "cell_type": "code",
   "execution_count": 94,
   "metadata": {},
   "outputs": [
    {
     "data": {
      "text/plain": [
       "Text(0.5, 0, 'Predictions')"
      ]
     },
     "execution_count": 94,
     "metadata": {},
     "output_type": "execute_result"
    },
    {
     "data": {
      "image/png": "[encoded data removed]",
      "text/plain": [
       "<Figure size 720x720 with 1 Axes>"
      ]
     },
     "metadata": {
      "needs_background": "light"
     },
     "output_type": "display_data"
    }
   ],
   "source": [
    "#plt.scatter(yhat, residuals);\n",
    "\n",
    "f, ax = plt.subplots(figsize=(10,10))\n",
    "sns.scatterplot(yhat, residuals);\n",
    "ax.axhline(0, ls='--', color='r')\n",
    "plt.title(\"Relationship between residuals and actual prices\") \n",
    "plt.ylabel(\"Residuals\")\n",
    "plt.xlabel(\"Predictions\")"
   ]
  },
  {
   "cell_type": "markdown",
   "metadata": {},
   "source": [
    "The resisudals are spread out which is the correct sign."
   ]
  },
  {
   "cell_type": "markdown",
   "metadata": {},
   "source": [
    "---"
   ]
  },
  {
   "cell_type": "markdown",
   "metadata": {},
   "source": [
    "## 3.6 Interprete Model"
   ]
  },
  {
   "cell_type": "code",
   "execution_count": 95,
   "metadata": {},
   "outputs": [
    {
     "data": {
      "text/html": [
       "<div>\n",
       "<style scoped>\n",
       "    .dataframe tbody tr th:only-of-type {\n",
       "        vertical-align: middle;\n",
       "    }\n",
       "\n",
       "    .dataframe tbody tr th {\n",
       "        vertical-align: top;\n",
       "    }\n",
       "\n",
       "    .dataframe thead th {\n",
       "        text-align: right;\n",
       "    }\n",
       "</style>\n",
       "<table border=\"1\" class=\"dataframe\">\n",
       "  <thead>\n",
       "    <tr style=\"text-align: right;\">\n",
       "      <th></th>\n",
       "      <th>feature</th>\n",
       "      <th>coef</th>\n",
       "    </tr>\n",
       "  </thead>\n",
       "  <tbody>\n",
       "    <tr>\n",
       "      <th>3</th>\n",
       "      <td>close</td>\n",
       "      <td>0.075524</td>\n",
       "    </tr>\n",
       "    <tr>\n",
       "      <th>2</th>\n",
       "      <td>low</td>\n",
       "      <td>0.036556</td>\n",
       "    </tr>\n",
       "    <tr>\n",
       "      <th>1</th>\n",
       "      <td>high</td>\n",
       "      <td>0.027367</td>\n",
       "    </tr>\n",
       "    <tr>\n",
       "      <th>0</th>\n",
       "      <td>open</td>\n",
       "      <td>0.009266</td>\n",
       "    </tr>\n",
       "    <tr>\n",
       "      <th>14</th>\n",
       "      <td>ml_signal</td>\n",
       "      <td>0.008776</td>\n",
       "    </tr>\n",
       "    <tr>\n",
       "      <th>9</th>\n",
       "      <td>pct_chge_5_prds</td>\n",
       "      <td>0.005188</td>\n",
       "    </tr>\n",
       "    <tr>\n",
       "      <th>4</th>\n",
       "      <td>wk_mv_avg</td>\n",
       "      <td>0.001092</td>\n",
       "    </tr>\n",
       "    <tr>\n",
       "      <th>7</th>\n",
       "      <td>volatility_10_day</td>\n",
       "      <td>0.000301</td>\n",
       "    </tr>\n",
       "    <tr>\n",
       "      <th>10</th>\n",
       "      <td>pct_chge_10_prds</td>\n",
       "      <td>0.000071</td>\n",
       "    </tr>\n",
       "    <tr>\n",
       "      <th>5</th>\n",
       "      <td>mnth_mv_avg</td>\n",
       "      <td>0.000000</td>\n",
       "    </tr>\n",
       "    <tr>\n",
       "      <th>6</th>\n",
       "      <td>volatility_3_day</td>\n",
       "      <td>-0.000000</td>\n",
       "    </tr>\n",
       "    <tr>\n",
       "      <th>11</th>\n",
       "      <td>gold_usd</td>\n",
       "      <td>-0.000000</td>\n",
       "    </tr>\n",
       "    <tr>\n",
       "      <th>13</th>\n",
       "      <td>5_day_avg</td>\n",
       "      <td>-0.000381</td>\n",
       "    </tr>\n",
       "    <tr>\n",
       "      <th>12</th>\n",
       "      <td>gold_euro</td>\n",
       "      <td>-0.001097</td>\n",
       "    </tr>\n",
       "    <tr>\n",
       "      <th>8</th>\n",
       "      <td>pct_chge_3_prds</td>\n",
       "      <td>-0.005020</td>\n",
       "    </tr>\n",
       "  </tbody>\n",
       "</table>\n",
       "</div>"
      ],
      "text/plain": [
       "              feature      coef\n",
       "3               close  0.075524\n",
       "2                 low  0.036556\n",
       "1                high  0.027367\n",
       "0                open  0.009266\n",
       "14          ml_signal  0.008776\n",
       "9     pct_chge_5_prds  0.005188\n",
       "4           wk_mv_avg  0.001092\n",
       "7   volatility_10_day  0.000301\n",
       "10   pct_chge_10_prds  0.000071\n",
       "5         mnth_mv_avg  0.000000\n",
       "6    volatility_3_day -0.000000\n",
       "11           gold_usd -0.000000\n",
       "13          5_day_avg -0.000381\n",
       "12          gold_euro -0.001097\n",
       "8     pct_chge_3_prds -0.005020"
      ]
     },
     "execution_count": 95,
     "metadata": {},
     "output_type": "execute_result"
    }
   ],
   "source": [
    "model_coefs = pd.DataFrame(enet.coef_, index=X.columns)\n",
    "\n",
    "model_coefs.rename(columns={0:'coef'}, inplace=True)\n",
    "model_coefs.reset_index(inplace=True)\n",
    "model_coefs.sort_values('coef',ascending=False, inplace=True)\n",
    "model_coefs.rename(columns={'index':'feature'}, inplace=True)\n",
    "model_coefs"
   ]
  },
  {
   "cell_type": "code",
   "execution_count": 96,
   "metadata": {},
   "outputs": [
    {
     "data": {
      "image/png": "[encoded data removed]",
      "text/plain": [
       "<Figure size 720x720 with 1 Axes>"
      ]
     },
     "metadata": {
      "needs_background": "light"
     },
     "output_type": "display_data"
    }
   ],
   "source": [
    "# Plot the graph to show top and bottom features.\n",
    "\n",
    "f, ax = plt.subplots(figsize=(10,10))\n",
    "sns.barplot(model_coefs['coef'],model_coefs['feature']);\n",
    "plt.title(\"Top positive and negative features impacting prices\") \n",
    "plt.ylabel(\"Features\")\n",
    "plt.xlabel(\"Coefficients\") ;"
   ]
  },
  {
   "cell_type": "markdown",
   "metadata": {},
   "source": [
    "Machine learning signal is an important feature. It is not as important as the prior days pricing."
   ]
  },
  {
   "cell_type": "markdown",
   "metadata": {},
   "source": [
    "## 3.7 Create Confusion Matrix"
   ]
  },
  {
   "cell_type": "code",
   "execution_count": 97,
   "metadata": {},
   "outputs": [
    {
     "data": {
      "text/html": [
       "<div>\n",
       "<style scoped>\n",
       "    .dataframe tbody tr th:only-of-type {\n",
       "        vertical-align: middle;\n",
       "    }\n",
       "\n",
       "    .dataframe tbody tr th {\n",
       "        vertical-align: top;\n",
       "    }\n",
       "\n",
       "    .dataframe thead th {\n",
       "        text-align: right;\n",
       "    }\n",
       "</style>\n",
       "<table border=\"1\" class=\"dataframe\">\n",
       "  <thead>\n",
       "    <tr style=\"text-align: right;\">\n",
       "      <th></th>\n",
       "      <th>open</th>\n",
       "      <th>high</th>\n",
       "      <th>low</th>\n",
       "      <th>close</th>\n",
       "      <th>wk_mv_avg</th>\n",
       "      <th>mnth_mv_avg</th>\n",
       "      <th>volatility_3_day</th>\n",
       "      <th>volatility_10_day</th>\n",
       "      <th>pct_chge_3_prds</th>\n",
       "      <th>pct_chge_5_prds</th>\n",
       "      <th>pct_chge_10_prds</th>\n",
       "      <th>gold_usd</th>\n",
       "      <th>gold_euro</th>\n",
       "      <th>5_day_avg</th>\n",
       "      <th>ml_signal</th>\n",
       "      <th>yhat</th>\n",
       "    </tr>\n",
       "    <tr>\n",
       "      <th>date</th>\n",
       "      <th></th>\n",
       "      <th></th>\n",
       "      <th></th>\n",
       "      <th></th>\n",
       "      <th></th>\n",
       "      <th></th>\n",
       "      <th></th>\n",
       "      <th></th>\n",
       "      <th></th>\n",
       "      <th></th>\n",
       "      <th></th>\n",
       "      <th></th>\n",
       "      <th></th>\n",
       "      <th></th>\n",
       "      <th></th>\n",
       "      <th></th>\n",
       "    </tr>\n",
       "  </thead>\n",
       "  <tbody>\n",
       "    <tr>\n",
       "      <th>2002-09-23</th>\n",
       "      <td>0.98190</td>\n",
       "      <td>0.98600</td>\n",
       "      <td>0.97540</td>\n",
       "      <td>0.97780</td>\n",
       "      <td>0.978550</td>\n",
       "      <td>0.981250</td>\n",
       "      <td>0.005596</td>\n",
       "      <td>0.005015</td>\n",
       "      <td>0.003790</td>\n",
       "      <td>0.012399</td>\n",
       "      <td>-0.002342</td>\n",
       "      <td>112.1</td>\n",
       "      <td>133.8</td>\n",
       "      <td>0.005940</td>\n",
       "      <td>0</td>\n",
       "      <td>0.986769</td>\n",
       "    </tr>\n",
       "    <tr>\n",
       "      <th>2010-04-02</th>\n",
       "      <td>1.35660</td>\n",
       "      <td>1.35810</td>\n",
       "      <td>1.34740</td>\n",
       "      <td>1.35210</td>\n",
       "      <td>1.348760</td>\n",
       "      <td>1.356733</td>\n",
       "      <td>0.003393</td>\n",
       "      <td>0.004644</td>\n",
       "      <td>0.007551</td>\n",
       "      <td>0.011728</td>\n",
       "      <td>-0.001843</td>\n",
       "      <td>390.4</td>\n",
       "      <td>338.6</td>\n",
       "      <td>0.007080</td>\n",
       "      <td>0</td>\n",
       "      <td>1.350224</td>\n",
       "    </tr>\n",
       "    <tr>\n",
       "      <th>2016-01-15</th>\n",
       "      <td>1.08830</td>\n",
       "      <td>1.09845</td>\n",
       "      <td>1.08608</td>\n",
       "      <td>1.08960</td>\n",
       "      <td>1.087780</td>\n",
       "      <td>1.089140</td>\n",
       "      <td>0.001291</td>\n",
       "      <td>0.003556</td>\n",
       "      <td>0.003183</td>\n",
       "      <td>-0.000418</td>\n",
       "      <td>0.001361</td>\n",
       "      <td>380.0</td>\n",
       "      <td>407.5</td>\n",
       "      <td>0.005000</td>\n",
       "      <td>0</td>\n",
       "      <td>1.088041</td>\n",
       "    </tr>\n",
       "    <tr>\n",
       "      <th>2007-07-04</th>\n",
       "      <td>1.36160</td>\n",
       "      <td>1.36320</td>\n",
       "      <td>1.36080</td>\n",
       "      <td>1.36140</td>\n",
       "      <td>1.355050</td>\n",
       "      <td>1.344100</td>\n",
       "      <td>0.003577</td>\n",
       "      <td>0.002526</td>\n",
       "      <td>0.009491</td>\n",
       "      <td>0.012117</td>\n",
       "      <td>0.014795</td>\n",
       "      <td>227.3</td>\n",
       "      <td>195.9</td>\n",
       "      <td>0.005000</td>\n",
       "      <td>1</td>\n",
       "      <td>1.372850</td>\n",
       "    </tr>\n",
       "    <tr>\n",
       "      <th>2016-01-22</th>\n",
       "      <td>1.08342</td>\n",
       "      <td>1.08628</td>\n",
       "      <td>1.07882</td>\n",
       "      <td>1.08110</td>\n",
       "      <td>1.088396</td>\n",
       "      <td>1.088444</td>\n",
       "      <td>0.002859</td>\n",
       "      <td>0.002760</td>\n",
       "      <td>-0.008992</td>\n",
       "      <td>-0.006144</td>\n",
       "      <td>-0.006559</td>\n",
       "      <td>380.9</td>\n",
       "      <td>413.2</td>\n",
       "      <td>0.005000</td>\n",
       "      <td>1</td>\n",
       "      <td>1.097755</td>\n",
       "    </tr>\n",
       "    <tr>\n",
       "      <th>...</th>\n",
       "      <td>...</td>\n",
       "      <td>...</td>\n",
       "      <td>...</td>\n",
       "      <td>...</td>\n",
       "      <td>...</td>\n",
       "      <td>...</td>\n",
       "      <td>...</td>\n",
       "      <td>...</td>\n",
       "      <td>...</td>\n",
       "      <td>...</td>\n",
       "      <td>...</td>\n",
       "      <td>...</td>\n",
       "      <td>...</td>\n",
       "      <td>...</td>\n",
       "      <td>...</td>\n",
       "      <td>...</td>\n",
       "    </tr>\n",
       "    <tr>\n",
       "      <th>2004-08-03</th>\n",
       "      <td>1.20300</td>\n",
       "      <td>1.20770</td>\n",
       "      <td>1.19960</td>\n",
       "      <td>1.20330</td>\n",
       "      <td>1.205130</td>\n",
       "      <td>1.225683</td>\n",
       "      <td>0.000589</td>\n",
       "      <td>0.002132</td>\n",
       "      <td>-0.002032</td>\n",
       "      <td>-0.006318</td>\n",
       "      <td>-0.027718</td>\n",
       "      <td>135.8</td>\n",
       "      <td>132.2</td>\n",
       "      <td>0.005000</td>\n",
       "      <td>0</td>\n",
       "      <td>1.201452</td>\n",
       "    </tr>\n",
       "    <tr>\n",
       "      <th>2009-10-20</th>\n",
       "      <td>1.49730</td>\n",
       "      <td>1.49900</td>\n",
       "      <td>1.48820</td>\n",
       "      <td>1.49230</td>\n",
       "      <td>1.492810</td>\n",
       "      <td>1.474362</td>\n",
       "      <td>0.002185</td>\n",
       "      <td>0.002801</td>\n",
       "      <td>0.000435</td>\n",
       "      <td>0.008127</td>\n",
       "      <td>0.016560</td>\n",
       "      <td>368.9</td>\n",
       "      <td>289.9</td>\n",
       "      <td>0.005580</td>\n",
       "      <td>0</td>\n",
       "      <td>1.491893</td>\n",
       "    </tr>\n",
       "    <tr>\n",
       "      <th>2004-12-17</th>\n",
       "      <td>1.32640</td>\n",
       "      <td>1.33410</td>\n",
       "      <td>1.32290</td>\n",
       "      <td>1.33240</td>\n",
       "      <td>1.331500</td>\n",
       "      <td>1.326438</td>\n",
       "      <td>0.004010</td>\n",
       "      <td>0.003616</td>\n",
       "      <td>-0.000414</td>\n",
       "      <td>0.002980</td>\n",
       "      <td>-0.005387</td>\n",
       "      <td>152.5</td>\n",
       "      <td>135.1</td>\n",
       "      <td>0.006720</td>\n",
       "      <td>0</td>\n",
       "      <td>1.330305</td>\n",
       "    </tr>\n",
       "    <tr>\n",
       "      <th>2011-12-12</th>\n",
       "      <td>1.33348</td>\n",
       "      <td>1.33566</td>\n",
       "      <td>1.31603</td>\n",
       "      <td>1.32005</td>\n",
       "      <td>1.335628</td>\n",
       "      <td>1.341956</td>\n",
       "      <td>0.001290</td>\n",
       "      <td>0.003382</td>\n",
       "      <td>-0.010800</td>\n",
       "      <td>-0.009026</td>\n",
       "      <td>-0.003631</td>\n",
       "      <td>576.6</td>\n",
       "      <td>512.4</td>\n",
       "      <td>0.005356</td>\n",
       "      <td>0</td>\n",
       "      <td>1.321038</td>\n",
       "    </tr>\n",
       "    <tr>\n",
       "      <th>2001-06-22</th>\n",
       "      <td>0.85370</td>\n",
       "      <td>0.86050</td>\n",
       "      <td>0.85150</td>\n",
       "      <td>0.86000</td>\n",
       "      <td>0.856810</td>\n",
       "      <td>0.853893</td>\n",
       "      <td>0.002338</td>\n",
       "      <td>0.004117</td>\n",
       "      <td>0.000350</td>\n",
       "      <td>-0.006723</td>\n",
       "      <td>0.007822</td>\n",
       "      <td>95.0</td>\n",
       "      <td>130.5</td>\n",
       "      <td>0.005000</td>\n",
       "      <td>-1</td>\n",
       "      <td>0.846041</td>\n",
       "    </tr>\n",
       "  </tbody>\n",
       "</table>\n",
       "<p>153 rows × 16 columns</p>\n",
       "</div>"
      ],
      "text/plain": [
       "               open     high      low    close  wk_mv_avg  mnth_mv_avg  \\\n",
       "date                                                                     \n",
       "2002-09-23  0.98190  0.98600  0.97540  0.97780   0.978550     0.981250   \n",
       "2010-04-02  1.35660  1.35810  1.34740  1.35210   1.348760     1.356733   \n",
       "2016-01-15  1.08830  1.09845  1.08608  1.08960   1.087780     1.089140   \n",
       "2007-07-04  1.36160  1.36320  1.36080  1.36140   1.355050     1.344100   \n",
       "2016-01-22  1.08342  1.08628  1.07882  1.08110   1.088396     1.088444   \n",
       "...             ...      ...      ...      ...        ...          ...   \n",
       "2004-08-03  1.20300  1.20770  1.19960  1.20330   1.205130     1.225683   \n",
       "2009-10-20  1.49730  1.49900  1.48820  1.49230   1.492810     1.474362   \n",
       "2004-12-17  1.32640  1.33410  1.32290  1.33240   1.331500     1.326438   \n",
       "2011-12-12  1.33348  1.33566  1.31603  1.32005   1.335628     1.341956   \n",
       "2001-06-22  0.85370  0.86050  0.85150  0.86000   0.856810     0.853893   \n",
       "\n",
       "            volatility_3_day  volatility_10_day  pct_chge_3_prds  \\\n",
       "date                                                               \n",
       "2002-09-23          0.005596           0.005015         0.003790   \n",
       "2010-04-02          0.003393           0.004644         0.007551   \n",
       "2016-01-15          0.001291           0.003556         0.003183   \n",
       "2007-07-04          0.003577           0.002526         0.009491   \n",
       "2016-01-22          0.002859           0.002760        -0.008992   \n",
       "...                      ...                ...              ...   \n",
       "2004-08-03          0.000589           0.002132        -0.002032   \n",
       "2009-10-20          0.002185           0.002801         0.000435   \n",
       "2004-12-17          0.004010           0.003616        -0.000414   \n",
       "2011-12-12          0.001290           0.003382        -0.010800   \n",
       "2001-06-22          0.002338           0.004117         0.000350   \n",
       "\n",
       "            pct_chge_5_prds  pct_chge_10_prds  gold_usd  gold_euro  5_day_avg  \\\n",
       "date                                                                            \n",
       "2002-09-23         0.012399         -0.002342     112.1      133.8   0.005940   \n",
       "2010-04-02         0.011728         -0.001843     390.4      338.6   0.007080   \n",
       "2016-01-15        -0.000418          0.001361     380.0      407.5   0.005000   \n",
       "2007-07-04         0.012117          0.014795     227.3      195.9   0.005000   \n",
       "2016-01-22        -0.006144         -0.006559     380.9      413.2   0.005000   \n",
       "...                     ...               ...       ...        ...        ...   \n",
       "2004-08-03        -0.006318         -0.027718     135.8      132.2   0.005000   \n",
       "2009-10-20         0.008127          0.016560     368.9      289.9   0.005580   \n",
       "2004-12-17         0.002980         -0.005387     152.5      135.1   0.006720   \n",
       "2011-12-12        -0.009026         -0.003631     576.6      512.4   0.005356   \n",
       "2001-06-22        -0.006723          0.007822      95.0      130.5   0.005000   \n",
       "\n",
       "            ml_signal      yhat  \n",
       "date                             \n",
       "2002-09-23          0  0.986769  \n",
       "2010-04-02          0  1.350224  \n",
       "2016-01-15          0  1.088041  \n",
       "2007-07-04          1  1.372850  \n",
       "2016-01-22          1  1.097755  \n",
       "...               ...       ...  \n",
       "2004-08-03          0  1.201452  \n",
       "2009-10-20          0  1.491893  \n",
       "2004-12-17          0  1.330305  \n",
       "2011-12-12          0  1.321038  \n",
       "2001-06-22         -1  0.846041  \n",
       "\n",
       "[153 rows x 16 columns]"
      ]
     },
     "execution_count": 97,
     "metadata": {},
     "output_type": "execute_result"
    }
   ],
   "source": [
    "# get predictions\n",
    "final_res_enet = X_test\n",
    "final_res_enet['yhat'] = yhat\n",
    "final_res_enet"
   ]
  },
  {
   "cell_type": "code",
   "execution_count": 98,
   "metadata": {},
   "outputs": [
    {
     "data": {
      "text/html": [
       "<div>\n",
       "<style scoped>\n",
       "    .dataframe tbody tr th:only-of-type {\n",
       "        vertical-align: middle;\n",
       "    }\n",
       "\n",
       "    .dataframe tbody tr th {\n",
       "        vertical-align: top;\n",
       "    }\n",
       "\n",
       "    .dataframe thead th {\n",
       "        text-align: right;\n",
       "    }\n",
       "</style>\n",
       "<table border=\"1\" class=\"dataframe\">\n",
       "  <thead>\n",
       "    <tr style=\"text-align: right;\">\n",
       "      <th></th>\n",
       "      <th>open</th>\n",
       "      <th>high</th>\n",
       "      <th>low</th>\n",
       "      <th>close</th>\n",
       "      <th>yhat</th>\n",
       "    </tr>\n",
       "    <tr>\n",
       "      <th>date</th>\n",
       "      <th></th>\n",
       "      <th></th>\n",
       "      <th></th>\n",
       "      <th></th>\n",
       "      <th></th>\n",
       "    </tr>\n",
       "  </thead>\n",
       "  <tbody>\n",
       "    <tr>\n",
       "      <th>2000-08-22</th>\n",
       "      <td>0.9024</td>\n",
       "      <td>0.9035</td>\n",
       "      <td>0.8933</td>\n",
       "      <td>0.8936</td>\n",
       "      <td>0.906124</td>\n",
       "    </tr>\n",
       "    <tr>\n",
       "      <th>2000-09-29</th>\n",
       "      <td>0.8813</td>\n",
       "      <td>0.8852</td>\n",
       "      <td>0.8752</td>\n",
       "      <td>0.8828</td>\n",
       "      <td>0.891801</td>\n",
       "    </tr>\n",
       "    <tr>\n",
       "      <th>2000-10-13</th>\n",
       "      <td>0.8627</td>\n",
       "      <td>0.8660</td>\n",
       "      <td>0.8530</td>\n",
       "      <td>0.8554</td>\n",
       "      <td>0.864593</td>\n",
       "    </tr>\n",
       "    <tr>\n",
       "      <th>2000-10-30</th>\n",
       "      <td>0.8414</td>\n",
       "      <td>0.8530</td>\n",
       "      <td>0.8396</td>\n",
       "      <td>0.8410</td>\n",
       "      <td>0.843707</td>\n",
       "    </tr>\n",
       "    <tr>\n",
       "      <th>2000-11-14</th>\n",
       "      <td>0.8593</td>\n",
       "      <td>0.8618</td>\n",
       "      <td>0.8549</td>\n",
       "      <td>0.8588</td>\n",
       "      <td>0.863879</td>\n",
       "    </tr>\n",
       "  </tbody>\n",
       "</table>\n",
       "</div>"
      ],
      "text/plain": [
       "              open    high     low   close      yhat\n",
       "date                                                \n",
       "2000-08-22  0.9024  0.9035  0.8933  0.8936  0.906124\n",
       "2000-09-29  0.8813  0.8852  0.8752  0.8828  0.891801\n",
       "2000-10-13  0.8627  0.8660  0.8530  0.8554  0.864593\n",
       "2000-10-30  0.8414  0.8530  0.8396  0.8410  0.843707\n",
       "2000-11-14  0.8593  0.8618  0.8549  0.8588  0.863879"
      ]
     },
     "execution_count": 98,
     "metadata": {},
     "output_type": "execute_result"
    }
   ],
   "source": [
    "# filter columns\n",
    "final_res_enet.sort_index(inplace=True)\n",
    "final_res_enet[['open','high','low','close','yhat']].head()"
   ]
  },
  {
   "cell_type": "code",
   "execution_count": 99,
   "metadata": {},
   "outputs": [],
   "source": [
    "# get result dates\n",
    "result_dates = final_res_enet.index"
   ]
  },
  {
   "cell_type": "code",
   "execution_count": 100,
   "metadata": {},
   "outputs": [],
   "source": [
    "prepare_res = features_fr.drop(['mid', 'height-1', 'height-2',\n",
    "       'height-3','day-1_high','day-1_close','day-1_low','day-1_open',\n",
    "       'day-2_high', 'day-3_high', 'day-4_high', 'day-2_low',\n",
    "       'day-3_low', 'day-4_low', 'day-2_open', 'day-3_open',\n",
    "       'day-4_open', 'day-2_close', 'day-3_close',\n",
    "       'day-4_close', 'day+1_open', 'day+1_high', 'day+1_low', 'day+1_close',\n",
    "       'day+2_high', 'day+2_low', 'day+3_high', 'day+3_low', 'day+4_high',\n",
    "       'day+4_low', 'day+5_high', 'day+5_low', 'fractal_end',\n",
    "       'day+1_frac', 'day+2_frac', 'day+3_frac', 'day+4_frac', 'select',\n",
    "       'date+5', 'fractal'], axis=1)"
   ]
  },
  {
   "cell_type": "code",
   "execution_count": 101,
   "metadata": {},
   "outputs": [],
   "source": [
    "# create the confusion matrix dataframe\n",
    "create_cm_df = prepare_res.loc[prepare_res.index.isin(result_dates)]\n",
    "create_cm_df;"
   ]
  },
  {
   "cell_type": "code",
   "execution_count": 102,
   "metadata": {},
   "outputs": [],
   "source": [
    "# Add predictions\n",
    "create_cm_df['yhat'] = final_res_enet[['yhat']]\n",
    "create_cm_df.rename(columns={'exit_price':'threshold','target':'actual_best'}, inplace=True)"
   ]
  },
  {
   "cell_type": "code",
   "execution_count": 103,
   "metadata": {},
   "outputs": [],
   "source": [
    "def classify_row(row):\n",
    "    \n",
    "    if row['direction'] == -1:\n",
    "        if row['actual_best'] <= row['threshold']:\n",
    "            return 1\n",
    "        else:\n",
    "            return 0\n",
    "    elif row['direction'] == 1:\n",
    "        if row['actual_best'] >= row['threshold']:\n",
    "            return 1\n",
    "        else:\n",
    "            return 0"
   ]
  },
  {
   "cell_type": "code",
   "execution_count": 104,
   "metadata": {},
   "outputs": [],
   "source": [
    "def classify_mlr(row):\n",
    "    \n",
    "    if row['direction'] == -1:\n",
    "        if row['yhat'] <= row['threshold']:\n",
    "            return 1\n",
    "        else:\n",
    "            return 0\n",
    "    elif row['direction'] == 1:\n",
    "        if row['yhat'] >= row['threshold']:\n",
    "            return 1\n",
    "        else:\n",
    "            return 0"
   ]
  },
  {
   "cell_type": "code",
   "execution_count": 105,
   "metadata": {},
   "outputs": [],
   "source": [
    "# classify the outcomes\n",
    "create_cm_df['correct_decision'] = create_cm_df.apply(classify_row, axis=1)"
   ]
  },
  {
   "cell_type": "code",
   "execution_count": 106,
   "metadata": {},
   "outputs": [],
   "source": [
    "create_cm_df['ml_decision'] = create_cm_df.apply(classify_mlr, axis=1)"
   ]
  },
  {
   "cell_type": "code",
   "execution_count": 107,
   "metadata": {},
   "outputs": [],
   "source": [
    "def clasify_cm(row):\n",
    "    if row['correct_decision'] == 1 and row['ml_decision'] ==1:\n",
    "        return 'tp'\n",
    "    elif row['correct_decision'] == 0 and row['ml_decision'] == 0:\n",
    "        return 'tn'\n",
    "    elif row['correct_decision'] == 0 and row['ml_decision'] == 1:\n",
    "        return 'fp'\n",
    "    elif row['correct_decision'] == 1 and row['ml_decision'] == 0:\n",
    "        return 'fn'"
   ]
  },
  {
   "cell_type": "code",
   "execution_count": 108,
   "metadata": {},
   "outputs": [
    {
     "data": {
      "text/html": [
       "<div>\n",
       "<style scoped>\n",
       "    .dataframe tbody tr th:only-of-type {\n",
       "        vertical-align: middle;\n",
       "    }\n",
       "\n",
       "    .dataframe tbody tr th {\n",
       "        vertical-align: top;\n",
       "    }\n",
       "\n",
       "    .dataframe thead th {\n",
       "        text-align: right;\n",
       "    }\n",
       "</style>\n",
       "<table border=\"1\" class=\"dataframe\">\n",
       "  <thead>\n",
       "    <tr style=\"text-align: right;\">\n",
       "      <th></th>\n",
       "      <th>open</th>\n",
       "      <th>high</th>\n",
       "      <th>low</th>\n",
       "      <th>close</th>\n",
       "      <th>5_day_avg</th>\n",
       "      <th>threshold</th>\n",
       "      <th>actual_best</th>\n",
       "      <th>ml_signal</th>\n",
       "      <th>yhat</th>\n",
       "      <th>correct_decision</th>\n",
       "      <th>ml_decision</th>\n",
       "      <th>direction</th>\n",
       "      <th>outcome</th>\n",
       "    </tr>\n",
       "    <tr>\n",
       "      <th>date</th>\n",
       "      <th></th>\n",
       "      <th></th>\n",
       "      <th></th>\n",
       "      <th></th>\n",
       "      <th></th>\n",
       "      <th></th>\n",
       "      <th></th>\n",
       "      <th></th>\n",
       "      <th></th>\n",
       "      <th></th>\n",
       "      <th></th>\n",
       "      <th></th>\n",
       "      <th></th>\n",
       "    </tr>\n",
       "  </thead>\n",
       "  <tbody>\n",
       "    <tr>\n",
       "      <th>2000-08-22</th>\n",
       "      <td>0.9024</td>\n",
       "      <td>0.9035</td>\n",
       "      <td>0.8933</td>\n",
       "      <td>0.8936</td>\n",
       "      <td>0.00500</td>\n",
       "      <td>0.89860</td>\n",
       "      <td>0.9075</td>\n",
       "      <td>0</td>\n",
       "      <td>0.906124</td>\n",
       "      <td>1</td>\n",
       "      <td>1</td>\n",
       "      <td>1</td>\n",
       "      <td>tp</td>\n",
       "    </tr>\n",
       "    <tr>\n",
       "      <th>2000-09-29</th>\n",
       "      <td>0.8813</td>\n",
       "      <td>0.8852</td>\n",
       "      <td>0.8752</td>\n",
       "      <td>0.8828</td>\n",
       "      <td>0.00500</td>\n",
       "      <td>0.88780</td>\n",
       "      <td>0.8861</td>\n",
       "      <td>0</td>\n",
       "      <td>0.891801</td>\n",
       "      <td>0</td>\n",
       "      <td>1</td>\n",
       "      <td>1</td>\n",
       "      <td>fp</td>\n",
       "    </tr>\n",
       "    <tr>\n",
       "      <th>2000-10-13</th>\n",
       "      <td>0.8627</td>\n",
       "      <td>0.8660</td>\n",
       "      <td>0.8530</td>\n",
       "      <td>0.8554</td>\n",
       "      <td>0.00500</td>\n",
       "      <td>0.86040</td>\n",
       "      <td>0.8579</td>\n",
       "      <td>0</td>\n",
       "      <td>0.864593</td>\n",
       "      <td>0</td>\n",
       "      <td>1</td>\n",
       "      <td>1</td>\n",
       "      <td>fp</td>\n",
       "    </tr>\n",
       "    <tr>\n",
       "      <th>2000-10-30</th>\n",
       "      <td>0.8414</td>\n",
       "      <td>0.8530</td>\n",
       "      <td>0.8396</td>\n",
       "      <td>0.8410</td>\n",
       "      <td>0.00500</td>\n",
       "      <td>0.83600</td>\n",
       "      <td>0.8388</td>\n",
       "      <td>0</td>\n",
       "      <td>0.843707</td>\n",
       "      <td>0</td>\n",
       "      <td>0</td>\n",
       "      <td>-1</td>\n",
       "      <td>tn</td>\n",
       "    </tr>\n",
       "    <tr>\n",
       "      <th>2000-11-14</th>\n",
       "      <td>0.8593</td>\n",
       "      <td>0.8618</td>\n",
       "      <td>0.8549</td>\n",
       "      <td>0.8588</td>\n",
       "      <td>0.00516</td>\n",
       "      <td>0.86396</td>\n",
       "      <td>0.8634</td>\n",
       "      <td>0</td>\n",
       "      <td>0.863879</td>\n",
       "      <td>0</td>\n",
       "      <td>0</td>\n",
       "      <td>1</td>\n",
       "      <td>tn</td>\n",
       "    </tr>\n",
       "    <tr>\n",
       "      <th>2001-03-22</th>\n",
       "      <td>0.8965</td>\n",
       "      <td>0.8969</td>\n",
       "      <td>0.8833</td>\n",
       "      <td>0.8872</td>\n",
       "      <td>0.00730</td>\n",
       "      <td>0.89450</td>\n",
       "      <td>0.8993</td>\n",
       "      <td>0</td>\n",
       "      <td>0.891614</td>\n",
       "      <td>1</td>\n",
       "      <td>0</td>\n",
       "      <td>1</td>\n",
       "      <td>fn</td>\n",
       "    </tr>\n",
       "    <tr>\n",
       "      <th>2001-04-26</th>\n",
       "      <td>0.8968</td>\n",
       "      <td>0.9050</td>\n",
       "      <td>0.8950</td>\n",
       "      <td>0.9047</td>\n",
       "      <td>0.00764</td>\n",
       "      <td>0.89706</td>\n",
       "      <td>0.8854</td>\n",
       "      <td>-1</td>\n",
       "      <td>0.900296</td>\n",
       "      <td>1</td>\n",
       "      <td>0</td>\n",
       "      <td>-1</td>\n",
       "      <td>fn</td>\n",
       "    </tr>\n",
       "    <tr>\n",
       "      <th>2001-06-22</th>\n",
       "      <td>0.8537</td>\n",
       "      <td>0.8605</td>\n",
       "      <td>0.8515</td>\n",
       "      <td>0.8600</td>\n",
       "      <td>0.00500</td>\n",
       "      <td>0.85500</td>\n",
       "      <td>0.8434</td>\n",
       "      <td>-1</td>\n",
       "      <td>0.846041</td>\n",
       "      <td>1</td>\n",
       "      <td>1</td>\n",
       "      <td>-1</td>\n",
       "      <td>tp</td>\n",
       "    </tr>\n",
       "    <tr>\n",
       "      <th>2001-09-04</th>\n",
       "      <td>0.9065</td>\n",
       "      <td>0.9066</td>\n",
       "      <td>0.8847</td>\n",
       "      <td>0.8871</td>\n",
       "      <td>0.00920</td>\n",
       "      <td>0.89630</td>\n",
       "      <td>0.9177</td>\n",
       "      <td>1</td>\n",
       "      <td>0.912408</td>\n",
       "      <td>1</td>\n",
       "      <td>1</td>\n",
       "      <td>1</td>\n",
       "      <td>tp</td>\n",
       "    </tr>\n",
       "    <tr>\n",
       "      <th>2001-09-25</th>\n",
       "      <td>0.9163</td>\n",
       "      <td>0.9251</td>\n",
       "      <td>0.9153</td>\n",
       "      <td>0.9239</td>\n",
       "      <td>0.00508</td>\n",
       "      <td>0.91882</td>\n",
       "      <td>0.9065</td>\n",
       "      <td>-1</td>\n",
       "      <td>0.914251</td>\n",
       "      <td>1</td>\n",
       "      <td>1</td>\n",
       "      <td>-1</td>\n",
       "      <td>tp</td>\n",
       "    </tr>\n",
       "  </tbody>\n",
       "</table>\n",
       "</div>"
      ],
      "text/plain": [
       "              open    high     low   close  5_day_avg  threshold  actual_best  \\\n",
       "date                                                                            \n",
       "2000-08-22  0.9024  0.9035  0.8933  0.8936    0.00500    0.89860       0.9075   \n",
       "2000-09-29  0.8813  0.8852  0.8752  0.8828    0.00500    0.88780       0.8861   \n",
       "2000-10-13  0.8627  0.8660  0.8530  0.8554    0.00500    0.86040       0.8579   \n",
       "2000-10-30  0.8414  0.8530  0.8396  0.8410    0.00500    0.83600       0.8388   \n",
       "2000-11-14  0.8593  0.8618  0.8549  0.8588    0.00516    0.86396       0.8634   \n",
       "2001-03-22  0.8965  0.8969  0.8833  0.8872    0.00730    0.89450       0.8993   \n",
       "2001-04-26  0.8968  0.9050  0.8950  0.9047    0.00764    0.89706       0.8854   \n",
       "2001-06-22  0.8537  0.8605  0.8515  0.8600    0.00500    0.85500       0.8434   \n",
       "2001-09-04  0.9065  0.9066  0.8847  0.8871    0.00920    0.89630       0.9177   \n",
       "2001-09-25  0.9163  0.9251  0.9153  0.9239    0.00508    0.91882       0.9065   \n",
       "\n",
       "            ml_signal      yhat  correct_decision  ml_decision  direction  \\\n",
       "date                                                                        \n",
       "2000-08-22          0  0.906124                 1            1          1   \n",
       "2000-09-29          0  0.891801                 0            1          1   \n",
       "2000-10-13          0  0.864593                 0            1          1   \n",
       "2000-10-30          0  0.843707                 0            0         -1   \n",
       "2000-11-14          0  0.863879                 0            0          1   \n",
       "2001-03-22          0  0.891614                 1            0          1   \n",
       "2001-04-26         -1  0.900296                 1            0         -1   \n",
       "2001-06-22         -1  0.846041                 1            1         -1   \n",
       "2001-09-04          1  0.912408                 1            1          1   \n",
       "2001-09-25         -1  0.914251                 1            1         -1   \n",
       "\n",
       "           outcome  \n",
       "date                \n",
       "2000-08-22      tp  \n",
       "2000-09-29      fp  \n",
       "2000-10-13      fp  \n",
       "2000-10-30      tn  \n",
       "2000-11-14      tn  \n",
       "2001-03-22      fn  \n",
       "2001-04-26      fn  \n",
       "2001-06-22      tp  \n",
       "2001-09-04      tp  \n",
       "2001-09-25      tp  "
      ]
     },
     "execution_count": 108,
     "metadata": {},
     "output_type": "execute_result"
    }
   ],
   "source": [
    "# check the dataframe\n",
    "create_cm_df['outcome'] = create_cm_df.apply(clasify_cm, axis=1)\n",
    "create_cm_df[['open','high','low','close','5_day_avg','threshold','actual_best','ml_signal',\n",
    "              'yhat','correct_decision','ml_decision','direction','outcome']].head(10)"
   ]
  },
  {
   "cell_type": "code",
   "execution_count": 109,
   "metadata": {},
   "outputs": [],
   "source": [
    "def create_cm(enet_res):\n",
    "    \n",
    "    res_cm = [[0,0],\n",
    "              [0,0]]\n",
    "    \n",
    "    for res in enet_res:\n",
    "        if res == 'tp':\n",
    "            res_cm[0][0] += 1\n",
    "        elif res == 'fp':\n",
    "            res_cm[0][1] += 1\n",
    "        elif res == 'fn':\n",
    "            res_cm[1][0] += 1\n",
    "        elif res == 'tn':\n",
    "            res_cm[1][1] += 1\n",
    "    \n",
    "    return res_cm"
   ]
  },
  {
   "cell_type": "code",
   "execution_count": 110,
   "metadata": {},
   "outputs": [],
   "source": [
    "cm = create_cm(create_cm_df['outcome'])"
   ]
  },
  {
   "cell_type": "code",
   "execution_count": 111,
   "metadata": {},
   "outputs": [
    {
     "data": {
      "text/html": [
       "<div>\n",
       "<style scoped>\n",
       "    .dataframe tbody tr th:only-of-type {\n",
       "        vertical-align: middle;\n",
       "    }\n",
       "\n",
       "    .dataframe tbody tr th {\n",
       "        vertical-align: top;\n",
       "    }\n",
       "\n",
       "    .dataframe thead th {\n",
       "        text-align: right;\n",
       "    }\n",
       "</style>\n",
       "<table border=\"1\" class=\"dataframe\">\n",
       "  <thead>\n",
       "    <tr style=\"text-align: right;\">\n",
       "      <th></th>\n",
       "      <th>actual success</th>\n",
       "      <th>actual non_success</th>\n",
       "    </tr>\n",
       "  </thead>\n",
       "  <tbody>\n",
       "    <tr>\n",
       "      <th>pred_success</th>\n",
       "      <td>76</td>\n",
       "      <td>14</td>\n",
       "    </tr>\n",
       "    <tr>\n",
       "      <th>pred_non_success</th>\n",
       "      <td>29</td>\n",
       "      <td>34</td>\n",
       "    </tr>\n",
       "  </tbody>\n",
       "</table>\n",
       "</div>"
      ],
      "text/plain": [
       "                  actual success  actual non_success\n",
       "pred_success                  76                  14\n",
       "pred_non_success              29                  34"
      ]
     },
     "execution_count": 111,
     "metadata": {},
     "output_type": "execute_result"
    }
   ],
   "source": [
    "cm_df = pd.DataFrame(cm, index=['pred_success', 'pred_non_success'], columns=['actual success', 'actual non_success'])\n",
    "cm_df"
   ]
  },
  {
   "cell_type": "code",
   "execution_count": 112,
   "metadata": {},
   "outputs": [],
   "source": [
    "def print_metrics(cm):\n",
    "    # Accuracy - how many did the model get right\n",
    "    # Total number of correct predictions / total number of predictions\n",
    "    acc= (cm[0][0]+cm[1][1])/(np.sum(cm))\n",
    "    \n",
    "    # Precision proportion of positive identifications that were actually correct\n",
    "    # True positives/ true positives + false positives)\n",
    "    prec = cm[0][0]/(cm[0][0]+cm[0][1])\n",
    "    \n",
    "    # Recall - proportion of actual positives that were correctly defined\n",
    "    # True positives/ true positives + false negatives\n",
    "    rec = cm[0][0]/(cm[0][0]+cm[1][0])\n",
    "\n",
    "    print(f\"Accuracy:\\t{round(acc,2)}\\nPrecision:\\t{round(prec,2)}\\nRecall:\\t\\t{round(rec,2)}\")\n"
   ]
  },
  {
   "cell_type": "code",
   "execution_count": 113,
   "metadata": {},
   "outputs": [
    {
     "name": "stdout",
     "output_type": "stream",
     "text": [
      "Accuracy:\t0.72\n",
      "Precision:\t0.84\n",
      "Recall:\t\t0.72\n"
     ]
    }
   ],
   "source": [
    "# Display the results\n",
    "print_metrics(cm)"
   ]
  }
 ],
 "metadata": {
  "kernelspec": {
   "display_name": "Python 3",
   "language": "python",
   "name": "python3"
  },
  "language_info": {
   "codemirror_mode": {
    "name": "ipython",
    "version": 3
   },
   "file_extension": ".py",
   "mimetype": "text/x-python",
   "name": "python",
   "nbconvert_exporter": "python",
   "pygments_lexer": "ipython3",
   "version": "3.7.6"
  }
 },
 "nbformat": 4,
 "nbformat_minor": 4
}
