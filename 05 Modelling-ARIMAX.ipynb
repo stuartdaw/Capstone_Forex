{
 "cells": [
  {
   "cell_type": "markdown",
   "metadata": {},
   "source": [
    "# 5.0 Modelling"
   ]
  },
  {
   "cell_type": "markdown",
   "metadata": {},
   "source": [
    "---"
   ]
  },
  {
   "cell_type": "markdown",
   "metadata": {},
   "source": [
    "# Contents\n",
    "    \n",
    "- [1.0 About ARIMAX Model](#1.0-About-ARIMAX-Model)\n",
    "- [2.0 Load Data](#2.0-Load-Data)\n",
    "    - [2.1 EUR/USD Data](#2.1-EUR/USD-Data)\n",
    "    - [2.2 Pattern Data](#2.2-Pattern-Data)\n",
    "- [3.0 Model](#3.0-Model)\n",
    "    - [3.1 Train/Test Split](#3.1-Train/Test-Split)\n",
    "    - [3.2 Fit Model](#3.2-Fit-Model)\n",
    "    - [3.3 Calculate Results](#3.3-Calculate-Results)\n",
    "    - [3.4 Run Model](#3.4-Run-Model)\n",
    "- [4.0 Results](#4.0-Results)\n",
    "- [5.0 Observations](#5.0-Observations)\n",
    "\n"
   ]
  },
  {
   "cell_type": "code",
   "execution_count": 1,
   "metadata": {},
   "outputs": [],
   "source": [
    "import pandas as pd\n",
    "import numpy as np\n",
    "import seaborn as sns\n",
    "import matplotlib.pyplot as plt\n",
    "%matplotlib inline\n",
    "import datetime\n",
    "import calendar\n",
    "\n",
    "from statsmodels.tsa.stattools import adfuller\n",
    "from statsmodels.tsa.seasonal import seasonal_decompose\n",
    "from statsmodels.tsa.statespace.sarimax import SARIMAX\n",
    "from statsmodels.tsa.arima_model import ARIMA, ARMA, ARMAResults, ARIMAResults\n",
    "from statsmodels.graphics.tsaplots import plot_acf, plot_pacf\n",
    "from sklearn.metrics import r2_score, mean_squared_error\n",
    "from pmdarima import auto_arima\n",
    "import plotly.graph_objects as go\n",
    "import warnings\n",
    "warnings.filterwarnings(\"ignore\")\n",
    "\n",
    "\n",
    "from sklearn.metrics import mean_squared_error\n",
    "from statsmodels.tools.eval_measures import rmse\n"
   ]
  },
  {
   "cell_type": "code",
   "execution_count": 2,
   "metadata": {},
   "outputs": [],
   "source": [
    "pd.set_option('display.max_columns', None)"
   ]
  },
  {
   "cell_type": "markdown",
   "metadata": {},
   "source": [
    "---"
   ]
  },
  {
   "cell_type": "markdown",
   "metadata": {},
   "source": [
    "# 1.0 About ARIMAX Model"
   ]
  },
  {
   "cell_type": "markdown",
   "metadata": {},
   "source": [
    "The Arima model has 3 components:\n",
    "\n",
    "+ Differencing Step - I - Integrated - Check for stationarity\n",
    "+ Autoregressive Piece - AR - long term trends\n",
    "+ Moving Average Piece - MA - Modelling sudden fluctuations\n",
    "\n",
    "Each part has input into the model P, D, Q.\n",
    "\n",
    "+ D is the order of differencing we found using the Augmented Dickey-Fuller test.\n",
    "+ P is the number of autoregressive terms in our model. PACF is used to estimate this.\n",
    "+ Q is to do with looking at the moving average.\n",
    "    + If PACF has a sharp cut off and lag-1 for the ACF is negative choose q to be the lag in the ACF before cut off.\n",
    "    + If PACF does not have a sharp cut off or lag -1 ACF is not negative choose q = 0"
   ]
  },
  {
   "cell_type": "markdown",
   "metadata": {},
   "source": [
    "Therefore based on the charts before I will use:\n",
    "    \n",
    "    + p = 1\n",
    "    + d = 1\n",
    "    + q = 0\n",
    "    \n",
    "However I will use auto_arima to help decide."
   ]
  },
  {
   "cell_type": "markdown",
   "metadata": {},
   "source": [
    "The X in the model stands for Exogenous features which are external features away from the time frame. The time series models look at time as a key factor. This is accurate when time is a key feature in determining price. For example stock control will be lnked to time as the more time the less stock is liekly.\n",
    "\n",
    "The FOREX market has a lot of external features which are important to drive the prices. Therefore I added gold price, volatility and 2 Moving Averages. The idea is the model can use the extra information to help predict the price."
   ]
  },
  {
   "cell_type": "markdown",
   "metadata": {},
   "source": [
    "---"
   ]
  },
  {
   "cell_type": "code",
   "execution_count": 3,
   "metadata": {},
   "outputs": [],
   "source": [
    "results = {'algo':'','name':'','date':'', 'time_frame':'','success':0,'RMSE':0, 'MSE':0, 'classification':'' }"
   ]
  },
  {
   "cell_type": "markdown",
   "metadata": {},
   "source": [
    "# 2.0 Load Data"
   ]
  },
  {
   "cell_type": "markdown",
   "metadata": {},
   "source": [
    "## 2.1 EUR/USD Data"
   ]
  },
  {
   "cell_type": "code",
   "execution_count": 4,
   "metadata": {},
   "outputs": [],
   "source": [
    "daily = pd.read_csv('/Users/stuartdaw/Documents/Capstone_data/data/resampled/eur-usd2daily.csv', index_col='date', parse_dates=True)\n",
    "# daily = pd.read_csv('/Users/stuartdaw/Documents/Capstone_data/data/resampled/eur-usd2daily.csv', \n",
    "#                     index_col='date', parse_dates=True)"
   ]
  },
  {
   "cell_type": "code",
   "execution_count": 5,
   "metadata": {},
   "outputs": [],
   "source": [
    "# daily.loc[(daily.index >= '2000-10-6') & (daily.index <= '2000-10-18')]"
   ]
  },
  {
   "cell_type": "code",
   "execution_count": 6,
   "metadata": {},
   "outputs": [
    {
     "data": {
      "text/plain": [
       "Index(['open', 'high', 'low', 'close', 'mid', 'wk_mv_avg', 'mnth_mv_avg',\n",
       "       'volatility_3_day', 'volatility_10_day', 'pct_chge_3_prds',\n",
       "       'pct_chge_5_prds', 'pct_chge_10_prds', 'height', 'height-1', 'height-2',\n",
       "       'height-3', 'direction', 'marubozu', 'marubozu+1', 'marubozu-1',\n",
       "       'marubozu-2', 'day-1_open', 'day-2_open', 'day-3_open', 'day-1_high',\n",
       "       'day-2_high', 'day-3_high', 'day-1_low', 'day-2_low', 'day-3_low',\n",
       "       'day-1_close', 'day-2_close', 'day-3_close', 'day+1_open', 'day+1_high',\n",
       "       'day+1_low', 'day+1_close', 'day+2_high', 'day+2_low', 'day+3_high',\n",
       "       'day+3_low', 'day+4_high', 'day+4_low', 'day+5_high', 'day+5_low',\n",
       "       'exit_price', 'select', 'target', 'date+5'],\n",
       "      dtype='object')"
      ]
     },
     "execution_count": 6,
     "metadata": {},
     "output_type": "execute_result"
    }
   ],
   "source": [
    "daily.columns"
   ]
  },
  {
   "cell_type": "code",
   "execution_count": 7,
   "metadata": {},
   "outputs": [
    {
     "data": {
      "text/html": [
       "<div>\n",
       "<style scoped>\n",
       "    .dataframe tbody tr th:only-of-type {\n",
       "        vertical-align: middle;\n",
       "    }\n",
       "\n",
       "    .dataframe tbody tr th {\n",
       "        vertical-align: top;\n",
       "    }\n",
       "\n",
       "    .dataframe thead th {\n",
       "        text-align: right;\n",
       "    }\n",
       "</style>\n",
       "<table border=\"1\" class=\"dataframe\">\n",
       "  <thead>\n",
       "    <tr style=\"text-align: right;\">\n",
       "      <th></th>\n",
       "      <th>open</th>\n",
       "      <th>high</th>\n",
       "      <th>low</th>\n",
       "      <th>close</th>\n",
       "      <th>mid</th>\n",
       "      <th>wk_mv_avg</th>\n",
       "      <th>mnth_mv_avg</th>\n",
       "      <th>volatility_3_day</th>\n",
       "      <th>volatility_10_day</th>\n",
       "      <th>pct_chge_3_prds</th>\n",
       "      <th>pct_chge_5_prds</th>\n",
       "      <th>pct_chge_10_prds</th>\n",
       "      <th>height</th>\n",
       "      <th>height-1</th>\n",
       "      <th>height-2</th>\n",
       "      <th>height-3</th>\n",
       "      <th>direction</th>\n",
       "      <th>marubozu</th>\n",
       "      <th>marubozu+1</th>\n",
       "      <th>marubozu-1</th>\n",
       "      <th>marubozu-2</th>\n",
       "      <th>day-1_open</th>\n",
       "      <th>day-2_open</th>\n",
       "      <th>day-3_open</th>\n",
       "      <th>day-1_high</th>\n",
       "      <th>day-2_high</th>\n",
       "      <th>day-3_high</th>\n",
       "      <th>day-1_low</th>\n",
       "      <th>day-2_low</th>\n",
       "      <th>day-3_low</th>\n",
       "      <th>day-1_close</th>\n",
       "      <th>day-2_close</th>\n",
       "      <th>day-3_close</th>\n",
       "      <th>day+1_open</th>\n",
       "      <th>day+1_high</th>\n",
       "      <th>day+1_low</th>\n",
       "      <th>day+1_close</th>\n",
       "      <th>day+2_high</th>\n",
       "      <th>day+2_low</th>\n",
       "      <th>day+3_high</th>\n",
       "      <th>day+3_low</th>\n",
       "      <th>day+4_high</th>\n",
       "      <th>day+4_low</th>\n",
       "      <th>day+5_high</th>\n",
       "      <th>day+5_low</th>\n",
       "      <th>exit_price</th>\n",
       "      <th>select</th>\n",
       "      <th>target</th>\n",
       "      <th>date+5</th>\n",
       "    </tr>\n",
       "    <tr>\n",
       "      <th>date</th>\n",
       "      <th></th>\n",
       "      <th></th>\n",
       "      <th></th>\n",
       "      <th></th>\n",
       "      <th></th>\n",
       "      <th></th>\n",
       "      <th></th>\n",
       "      <th></th>\n",
       "      <th></th>\n",
       "      <th></th>\n",
       "      <th></th>\n",
       "      <th></th>\n",
       "      <th></th>\n",
       "      <th></th>\n",
       "      <th></th>\n",
       "      <th></th>\n",
       "      <th></th>\n",
       "      <th></th>\n",
       "      <th></th>\n",
       "      <th></th>\n",
       "      <th></th>\n",
       "      <th></th>\n",
       "      <th></th>\n",
       "      <th></th>\n",
       "      <th></th>\n",
       "      <th></th>\n",
       "      <th></th>\n",
       "      <th></th>\n",
       "      <th></th>\n",
       "      <th></th>\n",
       "      <th></th>\n",
       "      <th></th>\n",
       "      <th></th>\n",
       "      <th></th>\n",
       "      <th></th>\n",
       "      <th></th>\n",
       "      <th></th>\n",
       "      <th></th>\n",
       "      <th></th>\n",
       "      <th></th>\n",
       "      <th></th>\n",
       "      <th></th>\n",
       "      <th></th>\n",
       "      <th></th>\n",
       "      <th></th>\n",
       "      <th></th>\n",
       "      <th></th>\n",
       "      <th></th>\n",
       "      <th></th>\n",
       "    </tr>\n",
       "  </thead>\n",
       "  <tbody>\n",
       "    <tr>\n",
       "      <th>2000-07-18</th>\n",
       "      <td>0.9361</td>\n",
       "      <td>0.9368</td>\n",
       "      <td>0.9227</td>\n",
       "      <td>0.9256</td>\n",
       "      <td>0.93085</td>\n",
       "      <td>0.93785</td>\n",
       "      <td>0.945633</td>\n",
       "      <td>0.003582</td>\n",
       "      <td>0.003797</td>\n",
       "      <td>-0.008151</td>\n",
       "      <td>-0.022678</td>\n",
       "      <td>-0.020519</td>\n",
       "      <td>0.0105</td>\n",
       "      <td>0.0022</td>\n",
       "      <td>0.0030</td>\n",
       "      <td>0.0062</td>\n",
       "      <td>-1</td>\n",
       "      <td>-1</td>\n",
       "      <td>0.0</td>\n",
       "      <td>0.0</td>\n",
       "      <td>0.0</td>\n",
       "      <td>0.9382</td>\n",
       "      <td>0.9353</td>\n",
       "      <td>0.9416</td>\n",
       "      <td>0.9402</td>\n",
       "      <td>0.9389</td>\n",
       "      <td>0.9425</td>\n",
       "      <td>0.9342</td>\n",
       "      <td>0.9318</td>\n",
       "      <td>0.9330</td>\n",
       "      <td>0.9360</td>\n",
       "      <td>0.9383</td>\n",
       "      <td>0.9354</td>\n",
       "      <td>0.9255</td>\n",
       "      <td>0.9270</td>\n",
       "      <td>0.9193</td>\n",
       "      <td>0.9246</td>\n",
       "      <td>0.9342</td>\n",
       "      <td>0.9204</td>\n",
       "      <td>0.9384</td>\n",
       "      <td>0.9319</td>\n",
       "      <td>0.9367</td>\n",
       "      <td>0.9313</td>\n",
       "      <td>0.9433</td>\n",
       "      <td>0.9329</td>\n",
       "      <td>0.9361</td>\n",
       "      <td>0</td>\n",
       "      <td>0.9193</td>\n",
       "      <td>2000-07-25</td>\n",
       "    </tr>\n",
       "    <tr>\n",
       "      <th>2000-07-20</th>\n",
       "      <td>0.9245</td>\n",
       "      <td>0.9342</td>\n",
       "      <td>0.9204</td>\n",
       "      <td>0.9325</td>\n",
       "      <td>0.92850</td>\n",
       "      <td>0.93166</td>\n",
       "      <td>0.943221</td>\n",
       "      <td>0.005881</td>\n",
       "      <td>0.004167</td>\n",
       "      <td>-0.009177</td>\n",
       "      <td>-0.010655</td>\n",
       "      <td>-0.024531</td>\n",
       "      <td>0.0080</td>\n",
       "      <td>0.0009</td>\n",
       "      <td>0.0105</td>\n",
       "      <td>0.0022</td>\n",
       "      <td>1</td>\n",
       "      <td>1</td>\n",
       "      <td>0.0</td>\n",
       "      <td>0.0</td>\n",
       "      <td>-1.0</td>\n",
       "      <td>0.9255</td>\n",
       "      <td>0.9361</td>\n",
       "      <td>0.9382</td>\n",
       "      <td>0.9270</td>\n",
       "      <td>0.9368</td>\n",
       "      <td>0.9402</td>\n",
       "      <td>0.9193</td>\n",
       "      <td>0.9227</td>\n",
       "      <td>0.9342</td>\n",
       "      <td>0.9246</td>\n",
       "      <td>0.9256</td>\n",
       "      <td>0.9360</td>\n",
       "      <td>0.9324</td>\n",
       "      <td>0.9384</td>\n",
       "      <td>0.9319</td>\n",
       "      <td>0.9365</td>\n",
       "      <td>0.9367</td>\n",
       "      <td>0.9313</td>\n",
       "      <td>0.9433</td>\n",
       "      <td>0.9329</td>\n",
       "      <td>0.9450</td>\n",
       "      <td>0.9391</td>\n",
       "      <td>0.9444</td>\n",
       "      <td>0.9314</td>\n",
       "      <td>0.9405</td>\n",
       "      <td>0</td>\n",
       "      <td>0.9450</td>\n",
       "      <td>2000-07-27</td>\n",
       "    </tr>\n",
       "    <tr>\n",
       "      <th>2000-07-25</th>\n",
       "      <td>0.9329</td>\n",
       "      <td>0.9433</td>\n",
       "      <td>0.9329</td>\n",
       "      <td>0.9412</td>\n",
       "      <td>0.93705</td>\n",
       "      <td>0.93197</td>\n",
       "      <td>0.942790</td>\n",
       "      <td>0.003070</td>\n",
       "      <td>0.005057</td>\n",
       "      <td>0.009208</td>\n",
       "      <td>0.006661</td>\n",
       "      <td>-0.016169</td>\n",
       "      <td>0.0083</td>\n",
       "      <td>0.0036</td>\n",
       "      <td>0.0041</td>\n",
       "      <td>0.0080</td>\n",
       "      <td>1</td>\n",
       "      <td>1</td>\n",
       "      <td>0.0</td>\n",
       "      <td>0.0</td>\n",
       "      <td>0.0</td>\n",
       "      <td>0.9366</td>\n",
       "      <td>0.9324</td>\n",
       "      <td>0.9245</td>\n",
       "      <td>0.9367</td>\n",
       "      <td>0.9384</td>\n",
       "      <td>0.9342</td>\n",
       "      <td>0.9313</td>\n",
       "      <td>0.9319</td>\n",
       "      <td>0.9204</td>\n",
       "      <td>0.9330</td>\n",
       "      <td>0.9365</td>\n",
       "      <td>0.9325</td>\n",
       "      <td>0.9411</td>\n",
       "      <td>0.9450</td>\n",
       "      <td>0.9391</td>\n",
       "      <td>0.9435</td>\n",
       "      <td>0.9444</td>\n",
       "      <td>0.9314</td>\n",
       "      <td>0.9338</td>\n",
       "      <td>0.9229</td>\n",
       "      <td>0.9295</td>\n",
       "      <td>0.9224</td>\n",
       "      <td>0.9293</td>\n",
       "      <td>0.9135</td>\n",
       "      <td>0.9495</td>\n",
       "      <td>0</td>\n",
       "      <td>0.9450</td>\n",
       "      <td>2000-08-01</td>\n",
       "    </tr>\n",
       "    <tr>\n",
       "      <th>2000-07-27</th>\n",
       "      <td>0.9434</td>\n",
       "      <td>0.9444</td>\n",
       "      <td>0.9314</td>\n",
       "      <td>0.9319</td>\n",
       "      <td>0.93765</td>\n",
       "      <td>0.93725</td>\n",
       "      <td>0.942469</td>\n",
       "      <td>0.005403</td>\n",
       "      <td>0.004752</td>\n",
       "      <td>0.003049</td>\n",
       "      <td>0.009855</td>\n",
       "      <td>-0.000906</td>\n",
       "      <td>0.0115</td>\n",
       "      <td>0.0024</td>\n",
       "      <td>0.0083</td>\n",
       "      <td>0.0036</td>\n",
       "      <td>-1</td>\n",
       "      <td>-1</td>\n",
       "      <td>-1.0</td>\n",
       "      <td>0.0</td>\n",
       "      <td>1.0</td>\n",
       "      <td>0.9411</td>\n",
       "      <td>0.9329</td>\n",
       "      <td>0.9366</td>\n",
       "      <td>0.9450</td>\n",
       "      <td>0.9433</td>\n",
       "      <td>0.9367</td>\n",
       "      <td>0.9391</td>\n",
       "      <td>0.9329</td>\n",
       "      <td>0.9313</td>\n",
       "      <td>0.9435</td>\n",
       "      <td>0.9412</td>\n",
       "      <td>0.9330</td>\n",
       "      <td>0.9320</td>\n",
       "      <td>0.9338</td>\n",
       "      <td>0.9229</td>\n",
       "      <td>0.9241</td>\n",
       "      <td>0.9295</td>\n",
       "      <td>0.9224</td>\n",
       "      <td>0.9293</td>\n",
       "      <td>0.9135</td>\n",
       "      <td>0.9192</td>\n",
       "      <td>0.9117</td>\n",
       "      <td>0.9174</td>\n",
       "      <td>0.8997</td>\n",
       "      <td>0.9434</td>\n",
       "      <td>0</td>\n",
       "      <td>0.8997</td>\n",
       "      <td>2000-08-03</td>\n",
       "    </tr>\n",
       "    <tr>\n",
       "      <th>2000-07-28</th>\n",
       "      <td>0.9320</td>\n",
       "      <td>0.9338</td>\n",
       "      <td>0.9229</td>\n",
       "      <td>0.9241</td>\n",
       "      <td>0.92805</td>\n",
       "      <td>0.93597</td>\n",
       "      <td>0.941517</td>\n",
       "      <td>0.008063</td>\n",
       "      <td>0.005738</td>\n",
       "      <td>-0.009605</td>\n",
       "      <td>-0.006849</td>\n",
       "      <td>-0.009340</td>\n",
       "      <td>0.0079</td>\n",
       "      <td>0.0115</td>\n",
       "      <td>0.0024</td>\n",
       "      <td>0.0083</td>\n",
       "      <td>-1</td>\n",
       "      <td>-1</td>\n",
       "      <td>0.0</td>\n",
       "      <td>-1.0</td>\n",
       "      <td>0.0</td>\n",
       "      <td>0.9434</td>\n",
       "      <td>0.9411</td>\n",
       "      <td>0.9329</td>\n",
       "      <td>0.9444</td>\n",
       "      <td>0.9450</td>\n",
       "      <td>0.9433</td>\n",
       "      <td>0.9314</td>\n",
       "      <td>0.9391</td>\n",
       "      <td>0.9329</td>\n",
       "      <td>0.9319</td>\n",
       "      <td>0.9435</td>\n",
       "      <td>0.9412</td>\n",
       "      <td>0.9241</td>\n",
       "      <td>0.9295</td>\n",
       "      <td>0.9224</td>\n",
       "      <td>0.9274</td>\n",
       "      <td>0.9293</td>\n",
       "      <td>0.9135</td>\n",
       "      <td>0.9192</td>\n",
       "      <td>0.9117</td>\n",
       "      <td>0.9174</td>\n",
       "      <td>0.8997</td>\n",
       "      <td>0.9103</td>\n",
       "      <td>0.9015</td>\n",
       "      <td>0.9320</td>\n",
       "      <td>0</td>\n",
       "      <td>0.8997</td>\n",
       "      <td>2000-08-04</td>\n",
       "    </tr>\n",
       "  </tbody>\n",
       "</table>\n",
       "</div>"
      ],
      "text/plain": [
       "              open    high     low   close      mid  wk_mv_avg  mnth_mv_avg  \\\n",
       "date                                                                          \n",
       "2000-07-18  0.9361  0.9368  0.9227  0.9256  0.93085    0.93785     0.945633   \n",
       "2000-07-20  0.9245  0.9342  0.9204  0.9325  0.92850    0.93166     0.943221   \n",
       "2000-07-25  0.9329  0.9433  0.9329  0.9412  0.93705    0.93197     0.942790   \n",
       "2000-07-27  0.9434  0.9444  0.9314  0.9319  0.93765    0.93725     0.942469   \n",
       "2000-07-28  0.9320  0.9338  0.9229  0.9241  0.92805    0.93597     0.941517   \n",
       "\n",
       "            volatility_3_day  volatility_10_day  pct_chge_3_prds  \\\n",
       "date                                                               \n",
       "2000-07-18          0.003582           0.003797        -0.008151   \n",
       "2000-07-20          0.005881           0.004167        -0.009177   \n",
       "2000-07-25          0.003070           0.005057         0.009208   \n",
       "2000-07-27          0.005403           0.004752         0.003049   \n",
       "2000-07-28          0.008063           0.005738        -0.009605   \n",
       "\n",
       "            pct_chge_5_prds  pct_chge_10_prds  height  height-1  height-2  \\\n",
       "date                                                                        \n",
       "2000-07-18        -0.022678         -0.020519  0.0105    0.0022    0.0030   \n",
       "2000-07-20        -0.010655         -0.024531  0.0080    0.0009    0.0105   \n",
       "2000-07-25         0.006661         -0.016169  0.0083    0.0036    0.0041   \n",
       "2000-07-27         0.009855         -0.000906  0.0115    0.0024    0.0083   \n",
       "2000-07-28        -0.006849         -0.009340  0.0079    0.0115    0.0024   \n",
       "\n",
       "            height-3  direction  marubozu  marubozu+1  marubozu-1  marubozu-2  \\\n",
       "date                                                                            \n",
       "2000-07-18    0.0062         -1        -1         0.0         0.0         0.0   \n",
       "2000-07-20    0.0022          1         1         0.0         0.0        -1.0   \n",
       "2000-07-25    0.0080          1         1         0.0         0.0         0.0   \n",
       "2000-07-27    0.0036         -1        -1        -1.0         0.0         1.0   \n",
       "2000-07-28    0.0083         -1        -1         0.0        -1.0         0.0   \n",
       "\n",
       "            day-1_open  day-2_open  day-3_open  day-1_high  day-2_high  \\\n",
       "date                                                                     \n",
       "2000-07-18      0.9382      0.9353      0.9416      0.9402      0.9389   \n",
       "2000-07-20      0.9255      0.9361      0.9382      0.9270      0.9368   \n",
       "2000-07-25      0.9366      0.9324      0.9245      0.9367      0.9384   \n",
       "2000-07-27      0.9411      0.9329      0.9366      0.9450      0.9433   \n",
       "2000-07-28      0.9434      0.9411      0.9329      0.9444      0.9450   \n",
       "\n",
       "            day-3_high  day-1_low  day-2_low  day-3_low  day-1_close  \\\n",
       "date                                                                   \n",
       "2000-07-18      0.9425     0.9342     0.9318     0.9330       0.9360   \n",
       "2000-07-20      0.9402     0.9193     0.9227     0.9342       0.9246   \n",
       "2000-07-25      0.9342     0.9313     0.9319     0.9204       0.9330   \n",
       "2000-07-27      0.9367     0.9391     0.9329     0.9313       0.9435   \n",
       "2000-07-28      0.9433     0.9314     0.9391     0.9329       0.9319   \n",
       "\n",
       "            day-2_close  day-3_close  day+1_open  day+1_high  day+1_low  \\\n",
       "date                                                                      \n",
       "2000-07-18       0.9383       0.9354      0.9255      0.9270     0.9193   \n",
       "2000-07-20       0.9256       0.9360      0.9324      0.9384     0.9319   \n",
       "2000-07-25       0.9365       0.9325      0.9411      0.9450     0.9391   \n",
       "2000-07-27       0.9412       0.9330      0.9320      0.9338     0.9229   \n",
       "2000-07-28       0.9435       0.9412      0.9241      0.9295     0.9224   \n",
       "\n",
       "            day+1_close  day+2_high  day+2_low  day+3_high  day+3_low  \\\n",
       "date                                                                    \n",
       "2000-07-18       0.9246      0.9342     0.9204      0.9384     0.9319   \n",
       "2000-07-20       0.9365      0.9367     0.9313      0.9433     0.9329   \n",
       "2000-07-25       0.9435      0.9444     0.9314      0.9338     0.9229   \n",
       "2000-07-27       0.9241      0.9295     0.9224      0.9293     0.9135   \n",
       "2000-07-28       0.9274      0.9293     0.9135      0.9192     0.9117   \n",
       "\n",
       "            day+4_high  day+4_low  day+5_high  day+5_low  exit_price  select  \\\n",
       "date                                                                           \n",
       "2000-07-18      0.9367     0.9313      0.9433     0.9329      0.9361       0   \n",
       "2000-07-20      0.9450     0.9391      0.9444     0.9314      0.9405       0   \n",
       "2000-07-25      0.9295     0.9224      0.9293     0.9135      0.9495       0   \n",
       "2000-07-27      0.9192     0.9117      0.9174     0.8997      0.9434       0   \n",
       "2000-07-28      0.9174     0.8997      0.9103     0.9015      0.9320       0   \n",
       "\n",
       "            target      date+5  \n",
       "date                            \n",
       "2000-07-18  0.9193  2000-07-25  \n",
       "2000-07-20  0.9450  2000-07-27  \n",
       "2000-07-25  0.9450  2000-08-01  \n",
       "2000-07-27  0.8997  2000-08-03  \n",
       "2000-07-28  0.8997  2000-08-04  "
      ]
     },
     "execution_count": 7,
     "metadata": {},
     "output_type": "execute_result"
    }
   ],
   "source": [
    "daily.head()"
   ]
  },
  {
   "cell_type": "code",
   "execution_count": 8,
   "metadata": {},
   "outputs": [],
   "source": [
    "### Get correct hyper parameters"
   ]
  },
  {
   "cell_type": "code",
   "execution_count": 9,
   "metadata": {},
   "outputs": [
    {
     "data": {
      "text/html": [
       "<table class=\"simpletable\">\n",
       "<caption>SARIMAX Results</caption>\n",
       "<tr>\n",
       "  <th>Dep. Variable:</th>           <td>y</td>        <th>  No. Observations:  </th>    <td>2056</td>   \n",
       "</tr>\n",
       "<tr>\n",
       "  <th>Model:</th>           <td>SARIMAX(0, 1, 0)</td> <th>  Log Likelihood     </th>  <td>6254.340</td> \n",
       "</tr>\n",
       "<tr>\n",
       "  <th>Date:</th>            <td>Tue, 04 Aug 2020</td> <th>  AIC                </th> <td>-12506.680</td>\n",
       "</tr>\n",
       "<tr>\n",
       "  <th>Time:</th>                <td>13:32:34</td>     <th>  BIC                </th> <td>-12501.052</td>\n",
       "</tr>\n",
       "<tr>\n",
       "  <th>Sample:</th>                  <td>0</td>        <th>  HQIC               </th> <td>-12504.617</td>\n",
       "</tr>\n",
       "<tr>\n",
       "  <th></th>                      <td> - 2056</td>     <th>                     </th>      <td> </td>    \n",
       "</tr>\n",
       "<tr>\n",
       "  <th>Covariance Type:</th>        <td>opg</td>       <th>                     </th>      <td> </td>    \n",
       "</tr>\n",
       "</table>\n",
       "<table class=\"simpletable\">\n",
       "<tr>\n",
       "     <td></td>       <th>coef</th>     <th>std err</th>      <th>z</th>      <th>P>|z|</th>  <th>[0.025</th>    <th>0.975]</th>  \n",
       "</tr>\n",
       "<tr>\n",
       "  <th>sigma2</th> <td>    0.0001</td> <td>  3.2e-06</td> <td>   41.576</td> <td> 0.000</td> <td>    0.000</td> <td>    0.000</td>\n",
       "</tr>\n",
       "</table>\n",
       "<table class=\"simpletable\">\n",
       "<tr>\n",
       "  <th>Ljung-Box (Q):</th>          <td>34.46</td> <th>  Jarque-Bera (JB):  </th> <td>159.63</td>\n",
       "</tr>\n",
       "<tr>\n",
       "  <th>Prob(Q):</th>                <td>0.72</td>  <th>  Prob(JB):          </th>  <td>0.00</td> \n",
       "</tr>\n",
       "<tr>\n",
       "  <th>Heteroskedasticity (H):</th> <td>0.84</td>  <th>  Skew:              </th>  <td>0.06</td> \n",
       "</tr>\n",
       "<tr>\n",
       "  <th>Prob(H) (two-sided):</th>    <td>0.03</td>  <th>  Kurtosis:          </th>  <td>4.36</td> \n",
       "</tr>\n",
       "</table><br/><br/>Warnings:<br/>[1] Covariance matrix calculated using the outer product of gradients (complex-step)."
      ],
      "text/plain": [
       "<class 'statsmodels.iolib.summary.Summary'>\n",
       "\"\"\"\n",
       "                               SARIMAX Results                                \n",
       "==============================================================================\n",
       "Dep. Variable:                      y   No. Observations:                 2056\n",
       "Model:               SARIMAX(0, 1, 0)   Log Likelihood                6254.340\n",
       "Date:                Tue, 04 Aug 2020   AIC                         -12506.680\n",
       "Time:                        13:32:34   BIC                         -12501.052\n",
       "Sample:                             0   HQIC                        -12504.617\n",
       "                               - 2056                                         \n",
       "Covariance Type:                  opg                                         \n",
       "==============================================================================\n",
       "                 coef    std err          z      P>|z|      [0.025      0.975]\n",
       "------------------------------------------------------------------------------\n",
       "sigma2         0.0001    3.2e-06     41.576      0.000       0.000       0.000\n",
       "===================================================================================\n",
       "Ljung-Box (Q):                       34.46   Jarque-Bera (JB):               159.63\n",
       "Prob(Q):                              0.72   Prob(JB):                         0.00\n",
       "Heteroskedasticity (H):               0.84   Skew:                             0.06\n",
       "Prob(H) (two-sided):                  0.03   Kurtosis:                         4.36\n",
       "===================================================================================\n",
       "\n",
       "Warnings:\n",
       "[1] Covariance matrix calculated using the outer product of gradients (complex-step).\n",
       "\"\"\""
      ]
     },
     "execution_count": 9,
     "metadata": {},
     "output_type": "execute_result"
    }
   ],
   "source": [
    "## Arima\n",
    "auto_arima(daily['close'].dropna(), seasonal=False).summary()"
   ]
  },
  {
   "cell_type": "markdown",
   "metadata": {},
   "source": [
    "---"
   ]
  },
  {
   "cell_type": "markdown",
   "metadata": {},
   "source": [
    "## 2.2 Pattern Data"
   ]
  },
  {
   "cell_type": "code",
   "execution_count": 10,
   "metadata": {},
   "outputs": [],
   "source": [
    "daily_pattern = pd.read_csv('/Users/stuartdaw/Documents/Capstone_data/data/targets/daily_pattern2.csv', \n",
    "                           parse_dates=True)"
   ]
  },
  {
   "cell_type": "code",
   "execution_count": 11,
   "metadata": {},
   "outputs": [
    {
     "data": {
      "text/html": [
       "<div>\n",
       "<style scoped>\n",
       "    .dataframe tbody tr th:only-of-type {\n",
       "        vertical-align: middle;\n",
       "    }\n",
       "\n",
       "    .dataframe tbody tr th {\n",
       "        vertical-align: top;\n",
       "    }\n",
       "\n",
       "    .dataframe thead th {\n",
       "        text-align: right;\n",
       "    }\n",
       "</style>\n",
       "<table border=\"1\" class=\"dataframe\">\n",
       "  <thead>\n",
       "    <tr style=\"text-align: right;\">\n",
       "      <th></th>\n",
       "      <th>pattern_end</th>\n",
       "    </tr>\n",
       "  </thead>\n",
       "  <tbody>\n",
       "    <tr>\n",
       "      <th>0</th>\n",
       "      <td>2000-10-11</td>\n",
       "    </tr>\n",
       "    <tr>\n",
       "      <th>1</th>\n",
       "      <td>2000-10-20</td>\n",
       "    </tr>\n",
       "    <tr>\n",
       "      <th>2</th>\n",
       "      <td>2001-04-05</td>\n",
       "    </tr>\n",
       "    <tr>\n",
       "      <th>3</th>\n",
       "      <td>2001-04-09</td>\n",
       "    </tr>\n",
       "    <tr>\n",
       "      <th>4</th>\n",
       "      <td>2001-08-20</td>\n",
       "    </tr>\n",
       "  </tbody>\n",
       "</table>\n",
       "</div>"
      ],
      "text/plain": [
       "  pattern_end\n",
       "0  2000-10-11\n",
       "1  2000-10-20\n",
       "2  2001-04-05\n",
       "3  2001-04-09\n",
       "4  2001-08-20"
      ]
     },
     "execution_count": 11,
     "metadata": {},
     "output_type": "execute_result"
    }
   ],
   "source": [
    "daily_pattern.head()"
   ]
  },
  {
   "cell_type": "code",
   "execution_count": 12,
   "metadata": {},
   "outputs": [],
   "source": [
    "daily_pattern['pattern_end'] = pd.to_datetime(daily_pattern['pattern_end'])"
   ]
  },
  {
   "cell_type": "code",
   "execution_count": 13,
   "metadata": {},
   "outputs": [
    {
     "data": {
      "text/plain": [
       "pattern_end   2000-10-11\n",
       "Name: 0, dtype: datetime64[ns]"
      ]
     },
     "execution_count": 13,
     "metadata": {},
     "output_type": "execute_result"
    }
   ],
   "source": [
    "daily_pattern.loc[0]"
   ]
  },
  {
   "cell_type": "code",
   "execution_count": 14,
   "metadata": {
    "scrolled": false
   },
   "outputs": [
    {
     "data": {
      "text/plain": [
       "62"
      ]
     },
     "execution_count": 14,
     "metadata": {},
     "output_type": "execute_result"
    }
   ],
   "source": [
    "len(daily_pattern)"
   ]
  },
  {
   "cell_type": "markdown",
   "metadata": {},
   "source": [
    "---"
   ]
  },
  {
   "cell_type": "markdown",
   "metadata": {},
   "source": [
    "# 3.0 Model"
   ]
  },
  {
   "cell_type": "code",
   "execution_count": 15,
   "metadata": {},
   "outputs": [],
   "source": [
    "# def create_train_test_split(date, time_series, model_info):\n",
    "#     test_end_date = time_series.loc[date,'date+5']\n",
    "    \n",
    "#     train_test = time_series.loc[time_series.index <= test_end_date]\n",
    "  \n",
    "#     target_value = time_series.loc[time_series.index == date,'double_height'].item()\n",
    "    \n",
    "#     train_test.insert(0, 'target_price', target_value)\n",
    "    \n",
    "#     model_info['signal'] = time_series.loc[date,'marubozu']\n",
    "    \n",
    "#     train_test.insert(0, 'signal', model_info['signal'])\n",
    "    \n",
    "#     model_info['start'] = len(train_test)-5\n",
    "#     model_info['end'] = len(train_test)-1\n",
    "    \n",
    "#     model_info['train'] = train_test.iloc[:model_info['start']]\n",
    "#     model_info['test'] = train_test.iloc[model_info['start']:]\n",
    "\n",
    "#     return model_info"
   ]
  },
  {
   "cell_type": "markdown",
   "metadata": {},
   "source": [
    "## 3.1 Train/Test Split"
   ]
  },
  {
   "cell_type": "code",
   "execution_count": 16,
   "metadata": {},
   "outputs": [],
   "source": [
    "def create_train_test_split(date, time_series, model_info):\n",
    "\n",
    "    # Get index of pattern and add 6 (so 5) extra rows for Test/train set\n",
    "    test_end_loc = time_series.index.get_loc(date) + 6\n",
    "    \n",
    "    # Create train/test set using index loc of pattern \n",
    "    train_test = time_series.iloc[:test_end_loc]\n",
    "    \n",
    "    # Set target values\n",
    "    target_value = time_series.loc[time_series.index == date,'exit_price'].item()\n",
    "    \n",
    "    # add target price to dataset\n",
    "    train_test.insert(0, 'target_price', target_value)\n",
    "    \n",
    "    # Add Signal so it can be determined whether we expect the price to go up or down.\n",
    "    model_info['signal'] = time_series.loc[date,'marubozu']\n",
    "    \n",
    "    # insert the signal to dataset\n",
    "    train_test.insert(0, 'signal', model_info['signal'])\n",
    "    \n",
    "    # create start and end points for the test/train splits\n",
    "    model_info['start'] = len(train_test)-5\n",
    "    model_info['end'] = len(train_test)-1\n",
    "    \n",
    "    # create the train and data sets\n",
    "    model_info['train'] = train_test.iloc[:model_info['start']]\n",
    "    model_info['test'] = train_test.iloc[model_info['start']:]\n",
    "\n",
    "    return model_info"
   ]
  },
  {
   "cell_type": "markdown",
   "metadata": {},
   "source": [
    "## 3.2 Fit Model"
   ]
  },
  {
   "cell_type": "code",
   "execution_count": 33,
   "metadata": {},
   "outputs": [],
   "source": [
    "def train_arima(model_info, p=0, d=1, q=0):\n",
    "#     exog=model_info['train']['wk_mv_av']\n",
    "    \n",
    "    exog = np.column_stack([model_info['train']['mnth_mv_avg'], \n",
    "                            model_info['train']['wk_mv_avg'],\n",
    "                            model_info['train']['volatility_3_day'],\n",
    "                            model_info['train']['gold_euro'],\n",
    "                            model_info['train']['gold_usd']])\n",
    "    \n",
    "    if model_info['signal'] == -1:\n",
    "        model = ARIMA(model_info['train']['low'], exog=exog, order=(p,d,q))\n",
    "    else:\n",
    "        model = ARIMA(model_info['train']['high'], exog=exog, order=(p,d,q))\n",
    "\n",
    "    results = model.fit()\n",
    "    predictions = results.predict(start=model_info['start'], \n",
    "                                  end=model_info['end'], exog=exog,\n",
    "                                  dynamic=True, \n",
    "                                  typ='levels').rename('ARIMA-0-1-0 Predictions')\n",
    "    \n",
    "    return results, predictions"
   ]
  },
  {
   "cell_type": "markdown",
   "metadata": {},
   "source": [
    "## 3.3 Calculate Results"
   ]
  },
  {
   "cell_type": "code",
   "execution_count": 34,
   "metadata": {},
   "outputs": [],
   "source": [
    "def meet_threshold(row):\n",
    "    if row['signal'] == -1 and row['low'] <= row['target_price']:\n",
    "        return -1\n",
    "    elif row['signal'] == 1 and row['high'] >= row['target_price']:\n",
    "        return 1    \n",
    "    else:\n",
    "        return 0"
   ]
  },
  {
   "cell_type": "code",
   "execution_count": 35,
   "metadata": {},
   "outputs": [],
   "source": [
    "def ml_decision(row):\n",
    "    if row['direction'] == -1 and row['preds'] <= row['target_price']:\n",
    "        return -1\n",
    "    elif row['direction'] == 1 and row['preds'] >= row['target_price']:\n",
    "        return 1    \n",
    "    else:\n",
    "        return 0"
   ]
  },
  {
   "cell_type": "code",
   "execution_count": 36,
   "metadata": {},
   "outputs": [],
   "source": [
    "def create_results_outcomes_dataframe(test, predictions):    \n",
    "    outcomes = pd.DataFrame()\n",
    "    outcomes['low'] = test['low']\n",
    "    outcomes['high'] = test['high']\n",
    "    outcomes['preds'] = predictions.values\n",
    "    outcomes['target_price'] = test['target_price']\n",
    "    outcomes['direction'] = test['signal']\n",
    "    outcomes['correct_call'] = test.apply(meet_threshold, axis=1)\n",
    "    return outcomes"
   ]
  },
  {
   "cell_type": "code",
   "execution_count": 37,
   "metadata": {},
   "outputs": [],
   "source": [
    "def print_chart(outcomes):\n",
    "    if model_info['signal'] == -1:\n",
    "        outcomes['low'].plot(legend=False, figsize=(12,8))\n",
    "    else:\n",
    "        outcomes['high'].plot(legend=False, figsize=(12,8))\n",
    "\n",
    "    outcomes['preds'].plot(legend=False);\n",
    "    outcomes['target_price'].plot(legend=False);"
   ]
  },
  {
   "cell_type": "code",
   "execution_count": 38,
   "metadata": {},
   "outputs": [],
   "source": [
    "def get_results(model_info):\n",
    "        \n",
    "    if model_info['signal'] == -1:\n",
    "        mse = mean_squared_error(model_info['test']['low'], predictions)\n",
    "        rmse_res = rmse(model_info['test']['low'], predictions)\n",
    "    else:\n",
    "        mse = mean_squared_error(model_info['test']['high'], predictions)\n",
    "        rmse_res = rmse(model_info['test']['high'], predictions)       \n",
    "    \n",
    "    return rmse_res, mse"
   ]
  },
  {
   "cell_type": "code",
   "execution_count": 39,
   "metadata": {},
   "outputs": [],
   "source": [
    "def classify(outcomes):\n",
    "    \n",
    "    if max(outcomes['direction']) == 1:\n",
    "        \n",
    "        if max(outcomes['correct_call']) == 0 and max(outcomes['ml_correct_call']) == 0:\n",
    "            return 'tn'\n",
    "        elif max(outcomes['correct_call']) == 1 and max(outcomes['ml_correct_call']) == 1:\n",
    "            return 'tp'\n",
    "        elif max(outcomes['correct_call']) == 0 and max(outcomes['ml_correct_call']) == 1:\n",
    "            return 'fp'\n",
    "        elif max(outcomes['correct_call']) == 1 and max(outcomes['ml_correct_call']) == 0:\n",
    "            return 'fn'\n",
    "        \n",
    "    elif max(outcomes['direction']) == -1:\n",
    "        \n",
    "        if min(outcomes['correct_call']) == 0 and min(outcomes['ml_correct_call']) == 0:\n",
    "            return 'tn'\n",
    "        elif min(outcomes['correct_call']) == -1 and min(outcomes['ml_correct_call']) == -1:\n",
    "            return 'tp'\n",
    "        elif min(outcomes['correct_call']) == 0 and min(outcomes['ml_correct_call']) == -1:\n",
    "            return 'fp'\n",
    "        elif min(outcomes['correct_call']) == -1 and min(outcomes['ml_correct_call']) == 0:\n",
    "            return 'fn'\n",
    "        \n",
    "    else:\n",
    "        return 'ERROR'\n",
    "    "
   ]
  },
  {
   "cell_type": "markdown",
   "metadata": {},
   "source": [
    "## 3.4 Run Model"
   ]
  },
  {
   "cell_type": "code",
   "execution_count": 40,
   "metadata": {},
   "outputs": [
    {
     "name": "stdout",
     "output_type": "stream",
     "text": [
      "2000-10-11 00:00:00 <class 'pandas._libs.tslibs.timestamps.Timestamp'>\n"
     ]
    },
    {
     "ename": "KeyError",
     "evalue": "'gold_euro'",
     "output_type": "error",
     "traceback": [
      "\u001b[0;31m---------------------------------------------------------------------------\u001b[0m",
      "\u001b[0;31mKeyError\u001b[0m                                  Traceback (most recent call last)",
      "\u001b[0;32m~/anaconda3/lib/python3.7/site-packages/pandas/core/indexes/base.py\u001b[0m in \u001b[0;36mget_loc\u001b[0;34m(self, key, method, tolerance)\u001b[0m\n\u001b[1;32m   2645\u001b[0m             \u001b[0;32mtry\u001b[0m\u001b[0;34m:\u001b[0m\u001b[0;34m\u001b[0m\u001b[0;34m\u001b[0m\u001b[0m\n\u001b[0;32m-> 2646\u001b[0;31m                 \u001b[0;32mreturn\u001b[0m \u001b[0mself\u001b[0m\u001b[0;34m.\u001b[0m\u001b[0m_engine\u001b[0m\u001b[0;34m.\u001b[0m\u001b[0mget_loc\u001b[0m\u001b[0;34m(\u001b[0m\u001b[0mkey\u001b[0m\u001b[0;34m)\u001b[0m\u001b[0;34m\u001b[0m\u001b[0;34m\u001b[0m\u001b[0m\n\u001b[0m\u001b[1;32m   2647\u001b[0m             \u001b[0;32mexcept\u001b[0m \u001b[0mKeyError\u001b[0m\u001b[0;34m:\u001b[0m\u001b[0;34m\u001b[0m\u001b[0;34m\u001b[0m\u001b[0m\n",
      "\u001b[0;32mpandas/_libs/index.pyx\u001b[0m in \u001b[0;36mpandas._libs.index.IndexEngine.get_loc\u001b[0;34m()\u001b[0m\n",
      "\u001b[0;32mpandas/_libs/index.pyx\u001b[0m in \u001b[0;36mpandas._libs.index.IndexEngine.get_loc\u001b[0;34m()\u001b[0m\n",
      "\u001b[0;32mpandas/_libs/hashtable_class_helper.pxi\u001b[0m in \u001b[0;36mpandas._libs.hashtable.PyObjectHashTable.get_item\u001b[0;34m()\u001b[0m\n",
      "\u001b[0;32mpandas/_libs/hashtable_class_helper.pxi\u001b[0m in \u001b[0;36mpandas._libs.hashtable.PyObjectHashTable.get_item\u001b[0;34m()\u001b[0m\n",
      "\u001b[0;31mKeyError\u001b[0m: 'gold_euro'",
      "\nDuring handling of the above exception, another exception occurred:\n",
      "\u001b[0;31mKeyError\u001b[0m                                  Traceback (most recent call last)",
      "\u001b[0;32m<ipython-input-40-42e90501b01b>\u001b[0m in \u001b[0;36m<module>\u001b[0;34m\u001b[0m\n\u001b[1;32m     21\u001b[0m         \u001b[0;32mcontinue\u001b[0m\u001b[0;34m\u001b[0m\u001b[0;34m\u001b[0m\u001b[0m\n\u001b[1;32m     22\u001b[0m \u001b[0;34m\u001b[0m\u001b[0m\n\u001b[0;32m---> 23\u001b[0;31m     \u001b[0mresults\u001b[0m\u001b[0;34m,\u001b[0m \u001b[0mpredictions\u001b[0m \u001b[0;34m=\u001b[0m \u001b[0mtrain_arima\u001b[0m\u001b[0;34m(\u001b[0m\u001b[0mmodel_info\u001b[0m\u001b[0;34m)\u001b[0m\u001b[0;34m\u001b[0m\u001b[0;34m\u001b[0m\u001b[0m\n\u001b[0m\u001b[1;32m     24\u001b[0m \u001b[0;34m\u001b[0m\u001b[0m\n\u001b[1;32m     25\u001b[0m \u001b[0;34m\u001b[0m\u001b[0m\n",
      "\u001b[0;32m<ipython-input-33-44cb167e7937>\u001b[0m in \u001b[0;36mtrain_arima\u001b[0;34m(model_info, p, d, q)\u001b[0m\n\u001b[1;32m      5\u001b[0m                             \u001b[0mmodel_info\u001b[0m\u001b[0;34m[\u001b[0m\u001b[0;34m'train'\u001b[0m\u001b[0;34m]\u001b[0m\u001b[0;34m[\u001b[0m\u001b[0;34m'wk_mv_avg'\u001b[0m\u001b[0;34m]\u001b[0m\u001b[0;34m,\u001b[0m\u001b[0;34m\u001b[0m\u001b[0;34m\u001b[0m\u001b[0m\n\u001b[1;32m      6\u001b[0m                             \u001b[0mmodel_info\u001b[0m\u001b[0;34m[\u001b[0m\u001b[0;34m'train'\u001b[0m\u001b[0;34m]\u001b[0m\u001b[0;34m[\u001b[0m\u001b[0;34m'volatility_3_day'\u001b[0m\u001b[0;34m]\u001b[0m\u001b[0;34m,\u001b[0m\u001b[0;34m\u001b[0m\u001b[0;34m\u001b[0m\u001b[0m\n\u001b[0;32m----> 7\u001b[0;31m                             \u001b[0mmodel_info\u001b[0m\u001b[0;34m[\u001b[0m\u001b[0;34m'train'\u001b[0m\u001b[0;34m]\u001b[0m\u001b[0;34m[\u001b[0m\u001b[0;34m'gold_euro'\u001b[0m\u001b[0;34m]\u001b[0m\u001b[0;34m,\u001b[0m\u001b[0;34m\u001b[0m\u001b[0;34m\u001b[0m\u001b[0m\n\u001b[0m\u001b[1;32m      8\u001b[0m                             model_info['train']['gold_usd']])\n\u001b[1;32m      9\u001b[0m \u001b[0;34m\u001b[0m\u001b[0m\n",
      "\u001b[0;32m~/anaconda3/lib/python3.7/site-packages/pandas/core/frame.py\u001b[0m in \u001b[0;36m__getitem__\u001b[0;34m(self, key)\u001b[0m\n\u001b[1;32m   2798\u001b[0m             \u001b[0;32mif\u001b[0m \u001b[0mself\u001b[0m\u001b[0;34m.\u001b[0m\u001b[0mcolumns\u001b[0m\u001b[0;34m.\u001b[0m\u001b[0mnlevels\u001b[0m \u001b[0;34m>\u001b[0m \u001b[0;36m1\u001b[0m\u001b[0;34m:\u001b[0m\u001b[0;34m\u001b[0m\u001b[0;34m\u001b[0m\u001b[0m\n\u001b[1;32m   2799\u001b[0m                 \u001b[0;32mreturn\u001b[0m \u001b[0mself\u001b[0m\u001b[0;34m.\u001b[0m\u001b[0m_getitem_multilevel\u001b[0m\u001b[0;34m(\u001b[0m\u001b[0mkey\u001b[0m\u001b[0;34m)\u001b[0m\u001b[0;34m\u001b[0m\u001b[0;34m\u001b[0m\u001b[0m\n\u001b[0;32m-> 2800\u001b[0;31m             \u001b[0mindexer\u001b[0m \u001b[0;34m=\u001b[0m \u001b[0mself\u001b[0m\u001b[0;34m.\u001b[0m\u001b[0mcolumns\u001b[0m\u001b[0;34m.\u001b[0m\u001b[0mget_loc\u001b[0m\u001b[0;34m(\u001b[0m\u001b[0mkey\u001b[0m\u001b[0;34m)\u001b[0m\u001b[0;34m\u001b[0m\u001b[0;34m\u001b[0m\u001b[0m\n\u001b[0m\u001b[1;32m   2801\u001b[0m             \u001b[0;32mif\u001b[0m \u001b[0mis_integer\u001b[0m\u001b[0;34m(\u001b[0m\u001b[0mindexer\u001b[0m\u001b[0;34m)\u001b[0m\u001b[0;34m:\u001b[0m\u001b[0;34m\u001b[0m\u001b[0;34m\u001b[0m\u001b[0m\n\u001b[1;32m   2802\u001b[0m                 \u001b[0mindexer\u001b[0m \u001b[0;34m=\u001b[0m \u001b[0;34m[\u001b[0m\u001b[0mindexer\u001b[0m\u001b[0;34m]\u001b[0m\u001b[0;34m\u001b[0m\u001b[0;34m\u001b[0m\u001b[0m\n",
      "\u001b[0;32m~/anaconda3/lib/python3.7/site-packages/pandas/core/indexes/base.py\u001b[0m in \u001b[0;36mget_loc\u001b[0;34m(self, key, method, tolerance)\u001b[0m\n\u001b[1;32m   2646\u001b[0m                 \u001b[0;32mreturn\u001b[0m \u001b[0mself\u001b[0m\u001b[0;34m.\u001b[0m\u001b[0m_engine\u001b[0m\u001b[0;34m.\u001b[0m\u001b[0mget_loc\u001b[0m\u001b[0;34m(\u001b[0m\u001b[0mkey\u001b[0m\u001b[0;34m)\u001b[0m\u001b[0;34m\u001b[0m\u001b[0;34m\u001b[0m\u001b[0m\n\u001b[1;32m   2647\u001b[0m             \u001b[0;32mexcept\u001b[0m \u001b[0mKeyError\u001b[0m\u001b[0;34m:\u001b[0m\u001b[0;34m\u001b[0m\u001b[0;34m\u001b[0m\u001b[0m\n\u001b[0;32m-> 2648\u001b[0;31m                 \u001b[0;32mreturn\u001b[0m \u001b[0mself\u001b[0m\u001b[0;34m.\u001b[0m\u001b[0m_engine\u001b[0m\u001b[0;34m.\u001b[0m\u001b[0mget_loc\u001b[0m\u001b[0;34m(\u001b[0m\u001b[0mself\u001b[0m\u001b[0;34m.\u001b[0m\u001b[0m_maybe_cast_indexer\u001b[0m\u001b[0;34m(\u001b[0m\u001b[0mkey\u001b[0m\u001b[0;34m)\u001b[0m\u001b[0;34m)\u001b[0m\u001b[0;34m\u001b[0m\u001b[0;34m\u001b[0m\u001b[0m\n\u001b[0m\u001b[1;32m   2649\u001b[0m         \u001b[0mindexer\u001b[0m \u001b[0;34m=\u001b[0m \u001b[0mself\u001b[0m\u001b[0;34m.\u001b[0m\u001b[0mget_indexer\u001b[0m\u001b[0;34m(\u001b[0m\u001b[0;34m[\u001b[0m\u001b[0mkey\u001b[0m\u001b[0;34m]\u001b[0m\u001b[0;34m,\u001b[0m \u001b[0mmethod\u001b[0m\u001b[0;34m=\u001b[0m\u001b[0mmethod\u001b[0m\u001b[0;34m,\u001b[0m \u001b[0mtolerance\u001b[0m\u001b[0;34m=\u001b[0m\u001b[0mtolerance\u001b[0m\u001b[0;34m)\u001b[0m\u001b[0;34m\u001b[0m\u001b[0;34m\u001b[0m\u001b[0m\n\u001b[1;32m   2650\u001b[0m         \u001b[0;32mif\u001b[0m \u001b[0mindexer\u001b[0m\u001b[0;34m.\u001b[0m\u001b[0mndim\u001b[0m \u001b[0;34m>\u001b[0m \u001b[0;36m1\u001b[0m \u001b[0;32mor\u001b[0m \u001b[0mindexer\u001b[0m\u001b[0;34m.\u001b[0m\u001b[0msize\u001b[0m \u001b[0;34m>\u001b[0m \u001b[0;36m1\u001b[0m\u001b[0;34m:\u001b[0m\u001b[0;34m\u001b[0m\u001b[0;34m\u001b[0m\u001b[0m\n",
      "\u001b[0;32mpandas/_libs/index.pyx\u001b[0m in \u001b[0;36mpandas._libs.index.IndexEngine.get_loc\u001b[0;34m()\u001b[0m\n",
      "\u001b[0;32mpandas/_libs/index.pyx\u001b[0m in \u001b[0;36mpandas._libs.index.IndexEngine.get_loc\u001b[0;34m()\u001b[0m\n",
      "\u001b[0;32mpandas/_libs/hashtable_class_helper.pxi\u001b[0m in \u001b[0;36mpandas._libs.hashtable.PyObjectHashTable.get_item\u001b[0;34m()\u001b[0m\n",
      "\u001b[0;32mpandas/_libs/hashtable_class_helper.pxi\u001b[0m in \u001b[0;36mpandas._libs.hashtable.PyObjectHashTable.get_item\u001b[0;34m()\u001b[0m\n",
      "\u001b[0;31mKeyError\u001b[0m: 'gold_euro'"
     ]
    }
   ],
   "source": [
    "\n",
    "arima_results = []\n",
    "\n",
    "for match in daily_pattern['pattern_end']:\n",
    "    print(match, type(match))\n",
    "    \n",
    "    model_info = {\"train\":None,\"test\":None,\"start\":None,\"end\":None,\"signal\":None}\n",
    "\n",
    "    \n",
    "    results_dict = {'name':None,'pattern':None,'date':None,\n",
    "                   'time_frame':None,'RMSE':None,\n",
    "                   'MSE':None, 'classification':None}\n",
    "    \n",
    "    results_dict['name'] = 'arima-0-1-0' + str(match)\n",
    "    results_dict['strategy'] = 'marubozu'\n",
    "    results_dict['time_frame'] = 'daily'\n",
    "    \n",
    "\n",
    "    model_info = create_train_test_split(match, daily, model_info)\n",
    "\n",
    "    if len(model_info['train']) < 10:\n",
    "        continue\n",
    "\n",
    "    results, predictions = train_arima(model_info)\n",
    "    \n",
    "\n",
    "    outcomes = create_results_outcomes_dataframe(model_info['test'], predictions)\n",
    "    outcomes['ml_correct_call'] = outcomes.apply(ml_decision, axis=1)\n",
    "\n",
    "    results_dict['RMSE'], results_dict['MSE'] = get_results(model_info)\n",
    "    results_dict['classification'] = classify(outcomes)\n",
    "\n",
    "    arima_results.append(results_dict)\n",
    "    "
   ]
  },
  {
   "cell_type": "code",
   "execution_count": null,
   "metadata": {},
   "outputs": [],
   "source": [
    "# Check no errors\n",
    "def check_no_errors(results_list):\n",
    "    errors = 0\n",
    "    for result in arima_results:\n",
    "        res = result['classification']\n",
    "        if res == 'ERROR':\n",
    "            errors+=1\n",
    "    \n",
    "    if errors == 0:\n",
    "        print(\"All patterns recorded correctly\")\n",
    "    elif errors > 0:\n",
    "        print(f\"Warning: there were {errors} errors recorded\")"
   ]
  },
  {
   "cell_type": "code",
   "execution_count": null,
   "metadata": {},
   "outputs": [],
   "source": [
    "check_no_errors(arima_results)"
   ]
  },
  {
   "cell_type": "markdown",
   "metadata": {},
   "source": [
    "---"
   ]
  },
  {
   "cell_type": "markdown",
   "metadata": {},
   "source": [
    "# 4.0 Results"
   ]
  },
  {
   "cell_type": "code",
   "execution_count": null,
   "metadata": {},
   "outputs": [],
   "source": [
    "def create_cm(arima_results):\n",
    "    \n",
    "    res_cm = [[0,0],\n",
    "              [0,0]]\n",
    "    \n",
    "    for result in arima_results:\n",
    "        res = result['classification']\n",
    "        \n",
    "        if res == 'tp':\n",
    "            res_cm[0][0] += 1\n",
    "        elif res == 'fp':\n",
    "            res_cm[0][1] += 1\n",
    "        elif res == 'fn':\n",
    "            res_cm[1][0] += 1\n",
    "        elif res == 'tn':\n",
    "            res_cm[1][1] += 1\n",
    "    \n",
    "    return res_cm"
   ]
  },
  {
   "cell_type": "code",
   "execution_count": null,
   "metadata": {},
   "outputs": [],
   "source": [
    "cm = create_cm(arima_results)"
   ]
  },
  {
   "cell_type": "code",
   "execution_count": null,
   "metadata": {},
   "outputs": [],
   "source": [
    "cm_df = pd.DataFrame(cm, index=['pred_success', 'pred_non_success'], columns=['actual success', 'actual non_success'])\n",
    "cm_df"
   ]
  },
  {
   "cell_type": "code",
   "execution_count": null,
   "metadata": {},
   "outputs": [],
   "source": [
    "def print_metrics(cm):\n",
    "    # Accuracy - how many did the model get right\n",
    "    # Total number of correct predictions / total number of predictions\n",
    "    acc= (cm[0][0]+cm[1][1])/(np.sum(cm))\n",
    "    \n",
    "    # Precision proportion of positive identifications that were actually correct\n",
    "    # True positives/ true positives + false positives)\n",
    "    prec = cm[0][0]/(cm[0][0]+cm[0][1])\n",
    "    \n",
    "    # Recall - proportion of actual positives that were correctly defined\n",
    "    # True positives/ true positives + false negatives\n",
    "    rec = cm[0][0]/(cm[0][0]+cm[1][0])\n",
    "\n",
    "    print(f\"Accuracy:\\t{round(acc,2)}\\nPrecision:\\t{round(prec,2)}\\nRecall:\\t\\t{round(rec,2)}\")\n"
   ]
  },
  {
   "cell_type": "code",
   "execution_count": null,
   "metadata": {
    "scrolled": true
   },
   "outputs": [],
   "source": [
    "# Display the results\n",
    "print_metrics(cm)"
   ]
  },
  {
   "cell_type": "markdown",
   "metadata": {},
   "source": [
    "---"
   ]
  },
  {
   "cell_type": "markdown",
   "metadata": {},
   "source": [
    "# 5.0 Observations"
   ]
  },
  {
   "cell_type": "code",
   "execution_count": null,
   "metadata": {},
   "outputs": [],
   "source": []
  }
 ],
 "metadata": {
  "kernelspec": {
   "display_name": "Python 3",
   "language": "python",
   "name": "python3"
  },
  "language_info": {
   "codemirror_mode": {
    "name": "ipython",
    "version": 3
   },
   "file_extension": ".py",
   "mimetype": "text/x-python",
   "name": "python",
   "nbconvert_exporter": "python",
   "pygments_lexer": "ipython3",
   "version": "3.7.6"
  }
 },
 "nbformat": 4,
 "nbformat_minor": 4
}
